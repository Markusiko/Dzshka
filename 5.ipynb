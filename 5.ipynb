{
 "cells": [
  {
   "cell_type": "code",
   "execution_count": 1,
   "metadata": {},
   "outputs": [],
   "source": [
    "import sys\n",
    "import math\n",
    "import pandas as pd\n",
    "import numpy as np\n",
    "import scipy\n",
    "import matplotlib.pyplot as plt\n",
    "import seaborn\n",
    "from scipy.stats import t, chi2, f, norm, poisson, binom, uniform, multivariate_normal\n",
    "\n",
    "np.set_printoptions(suppress = True)                    # уберем scientific notation\n",
    "\n"
   ]
  },
  {
   "cell_type": "code",
   "execution_count": 2,
   "metadata": {},
   "outputs": [
    {
     "data": {
      "text/plain": [
       "<matplotlib.legend.Legend at 0x11bb3eee0>"
      ]
     },
     "execution_count": 2,
     "metadata": {},
     "output_type": "execute_result"
    },
    {
     "data": {
      "image/png": "[encoded data removed]",
      "text/plain": [
       "<Figure size 432x288 with 1 Axes>"
      ]
     },
     "metadata": {
      "needs_background": "light"
     },
     "output_type": "display_data"
    }
   ],
   "source": [
    "# --------\n",
    "# Часть №1. Выборочные характеристики\n",
    "# --------\n",
    "\n",
    "# Сформируем выборку из Хи-квадрат\n",
    "# распределения с df степенями свободы\n",
    "np.random.seed(123)                                     # для воспроизводимости результатов, полученных с использованием\n",
    "                                                        # выборок, необходима установка случайного зерна\n",
    "n = 100                                                 # переменная, хранящая объем выборки\n",
    "df = 5                                                  # переменная, хранящая число степеней свободы\n",
    "x = chi2.rvs(size = n,                                  # объем выборки\n",
    "             df = df)                                   # число степеней свободы\n",
    "\n",
    "# Рассчитаем основные выборочные характеристики\n",
    "np.mean(x)                                              # выборочное среднее\n",
    "np.var(x)                                               # выборочная дисперсия\n",
    "np.var(x, ddof = 1)                                     # скорректированная выборочная дисперсия\n",
    "np.median(x)                                            # выборочная медиана\n",
    "np.quantile(x, 0.3)                                     # выборочная квантиль уровня 0.3\n",
    "np.mean(x ** 3)                                         # выборочный начальный момент 3-го порядка\n",
    "np.sort(x)                                              # реализация вариационного ряда\n",
    "\n",
    "# Визуализируем, приблизительно, распределение\n",
    "# выборочного среднего при помощи гистограммы\n",
    "    # Сперва получим выборку из\n",
    "    # выборочных средних, используя для\n",
    "    # этого несколько независимых выборок\n",
    "    # равного объема из одного и того\n",
    "    # же распределения\n",
    "m = 1000                                                # количество независимых выборок равного объема\n",
    "                                                        # из одного и того же распределения\n",
    "x_mean = np.empty(m)                                    # вектор, который будет содержать выборку\n",
    "                                                        # из реализаций выборочного среднего\n",
    "for i in range(0, m):\n",
    "    x_new = chi2.rvs(size = n, df = df)\n",
    "    x_mean[i] = np.mean(x_new)\n",
    "x_mean = np.sort(x_mean)                                # для удобства отсортируем реализации выборочных средних\n",
    "    # Воспользуемся гистограммой\n",
    "f_x = norm.pdf(x_mean, loc = df,                        # при помощи ЦПТ находим истинное распределение выборочного\n",
    "               scale = math.sqrt(2 * df / n))           # среднего и считаем по нему значения функции плотности\n",
    "plt.xlabel('x')                                         # название нижней оси графика\n",
    "plt.ylabel('f(x)')                                      # название верхней оси графика\n",
    "plt.plot(x_mean, f_x, '--', markersize = 20,            # график теоретической функции распределения (по ЦПТ)\n",
    "  label = \"PDF\", color = \"limegreen\")\n",
    "seaborn.histplot(x_mean, stat = 'density',              # гистограмма как график выборочной функции плотности\n",
    "                 color = \"palevioletred\",\n",
    "                 label = \"histogram\",\n",
    "                 bins = 15)                             # число столбиков в Гистограмме\n",
    "plt.legend()\n",
    "\n"
   ]
  },
  {
   "cell_type": "code",
   "execution_count": 3,
   "metadata": {},
   "outputs": [
    {
     "data": {
      "text/plain": [
       "array([[ 1.       , -0.4676073],\n",
       "       [-0.4676073,  1.       ]])"
      ]
     },
     "execution_count": 3,
     "metadata": {},
     "output_type": "execute_result"
    }
   ],
   "source": [
    "# --------\n",
    "# Часть №2. Характеристики зависимых выборок\n",
    "# --------\n",
    "\n",
    "# Симулируем выборку из двумерного\n",
    "# нормального распределения\n",
    "    # Зададим параметры распределения X и Y\n",
    "mu_X = 100                                              # E(X)\n",
    "mu_Y = 110                                              # E(Y)\n",
    "var_X = 25                                              # Var(X)\n",
    "var_Y = 36                                              # Var(Y)\n",
    "corr_XY = -0.5                                          # Corr(X, Y)\n",
    "cov_XY = math.sqrt(var_X * var_Y) *  corr_XY            # Cov(X, Y)\n",
    "    # Зададим параметры распределения\n",
    "    # случайного вектора (X, Y)\n",
    "mu = np.array([mu_X, mu_Y])                             # E((X, Y))\n",
    "sigma = np.array([[var_X, cov_XY],                      # Cov((X, Y))\n",
    "                  [cov_XY, var_Y]])\n",
    "    # Симулируем выборку\n",
    "n = 1000\n",
    "s = multivariate_normal.rvs(size = n,                   # объем выборки\n",
    "                             mean = mu,                 # E((X, Y))\n",
    "                             cov = sigma)               # Cov((X, Y))\n",
    "x = s[:, 0]                                             # реализации первой выборки\n",
    "y = s[:, 1]                                             # реализации второй выборки\n",
    "\n",
    "# Рассмотрим выборочные характеристики, описывающие\n",
    "# зависимость между X и Y\n",
    "np.cov(x, y)                                            # выборочная ковариационная матрица\n",
    "np.corrcoef(x, y)                                       # выборочная корреляционная матрица\n",
    "\n"
   ]
  },
  {
   "cell_type": "code",
   "execution_count": 4,
   "metadata": {},
   "outputs": [],
   "source": [
    "# Задания\n",
    "# 1. Визуализируйте для выборки объема 5000 из распределения\n",
    "#    Стьюдента с 10-ю степенями свободы, при помощи Гистограммы,\n",
    "#    распределение:\n",
    "#    1)     Второго начального выборочного момента\n",
    "#    2)     Выборочной дисперсии\n",
    "#    3)     Выборочной медианы\n",
    "#    4)     Третьей порядковой статистики, то есть\n",
    "#           третьего элемента вариационного ряда\n",
    "#    5)     Выборочной квантили уровня 0.8\n",
    "#    6)     Выборочной функции распределения в точке 5\n",
    "\n",
    "# и сразу будем делать второе задание (лаймовым)\n",
    "# 2. Повторите первый пункт, но визуализируя не\n",
    "#    выборочные, а истинные распределения. В некоторых\n",
    "#    пунктах удобно использовать ЦПТ, в других - распределение\n",
    "#    необходимо выводить иными способами."
   ]
  },
  {
   "cell_type": "code",
   "execution_count": 54,
   "metadata": {},
   "outputs": [
    {
     "data": {
      "image/png": "[encoded data removed]",
      "text/plain": [
       "<Figure size 432x288 with 1 Axes>"
      ]
     },
     "metadata": {
      "needs_background": "light"
     },
     "output_type": "display_data"
    }
   ],
   "source": [
    "# 1\n",
    "l = 1000\n",
    "s = t.rvs(size = 5000,                         # объем выборки\n",
    "      df = 10)                              # число степеней свободы\n",
    "\n",
    "s_na2 = np.empty(l)\n",
    "                                                        # из реализаций выборочного среднего\n",
    "for i in range(0, l):\n",
    "    s_new = t.rvs(size = 5000,                         # объем выборки\n",
    "      df = 10) \n",
    "    s_na2[i] = np.mean(s_new ** 2)\n",
    "s_na2 = np.sort(s_na2) # для удобства отсортируем реализации выборочных средних\n",
    "seaborn.histplot(s_na2, stat = 'density',              # гистограмма как график выборочной функции плотности\n",
    "                 color = \"palevioletred\",\n",
    "                 label = \"histogram\",\n",
    "                 bins = 20)    # число столбиков в Гистограмме\n",
    "\n",
    "plt.legend();"
   ]
  },
  {
   "cell_type": "code",
   "execution_count": 6,
   "metadata": {},
   "outputs": [
    {
     "data": {
      "image/png": "[encoded data removed]",
      "text/plain": [
       "<Figure size 432x288 with 1 Axes>"
      ]
     },
     "metadata": {
      "needs_background": "light"
     },
     "output_type": "display_data"
    }
   ],
   "source": [
    "# 2\n",
    "l = 1000\n",
    "\n",
    "s_na2 = np.empty(l)\n",
    "                                                        # из реализаций выборочного среднего\n",
    "for i in range(0, l):\n",
    "    s_new = t.rvs(size = 5000,                         # объем выборки\n",
    "      df = 10) \n",
    "    s_na2[i] = np.var(s_new)\n",
    "s_na2 = np.sort(s_na2) # для удобства отсортируем реализации выборочных средних\n",
    "seaborn.histplot(s_na2, stat = 'density',              # гистограмма как график выборочной функции плотности\n",
    "                 color = \"palevioletred\",\n",
    "                 label = \"histogram\",\n",
    "                 bins = 20)                             # число столбиков в Гистограмме\n",
    "plt.legend();"
   ]
  },
  {
   "cell_type": "code",
   "execution_count": 7,
   "metadata": {},
   "outputs": [
    {
     "data": {
      "image/png": "[encoded data removed]",
      "text/plain": [
       "<Figure size 432x288 with 1 Axes>"
      ]
     },
     "metadata": {
      "needs_background": "light"
     },
     "output_type": "display_data"
    }
   ],
   "source": [
    "# 3\n",
    "l = 1000\n",
    "\n",
    "s_na2 = np.empty(l)\n",
    "                                                        # из реализаций выборочного среднего\n",
    "for i in range(0, l):\n",
    "    s_new = t.rvs(size = 5000,                         # объем выборки\n",
    "      df = 10) \n",
    "    s_na2[i] = np.median(s_new)\n",
    "s_na2 = np.sort(s_na2) # для удобства отсортируем реализации выборочных средних\n",
    "seaborn.histplot(s_na2, stat = 'density',              # гистограмма как график выборочной функции плотности\n",
    "                 color = \"palevioletred\",\n",
    "                 label = \"histogram\",\n",
    "                 bins = 20)                             # число столбиков в Гистограмме\n",
    "plt.legend();"
   ]
  },
  {
   "cell_type": "code",
   "execution_count": 8,
   "metadata": {},
   "outputs": [
    {
     "data": {
      "image/png": "[encoded data removed]",
      "text/plain": [
       "<Figure size 432x288 with 1 Axes>"
      ]
     },
     "metadata": {
      "needs_background": "light"
     },
     "output_type": "display_data"
    }
   ],
   "source": [
    "# 4\n",
    "l = 1000\n",
    "\n",
    "s_na2 = np.empty(l)\n",
    "                                                        # из реализаций выборочного среднего\n",
    "for i in range(0, l):\n",
    "    s_new = t.rvs(size = 5000,                         # объем выборки\n",
    "      df = 10) \n",
    "    s_na2[i] = np.sort(s_new)[2]\n",
    "s_na2 = np.sort(s_na2) # для удобства отсортируем реализации выборочных средних\n",
    "seaborn.histplot(s_na2, stat = 'density',              # гистограмма как график выборочной функции плотности\n",
    "                 color = \"palevioletred\",\n",
    "                 label = \"histogram\",\n",
    "                 bins = 20)                             # число столбиков в Гистограмме\n",
    "plt.legend();"
   ]
  },
  {
   "cell_type": "code",
   "execution_count": 9,
   "metadata": {},
   "outputs": [
    {
     "data": {
      "image/png": "[encoded data removed]",
      "text/plain": [
       "<Figure size 432x288 with 1 Axes>"
      ]
     },
     "metadata": {
      "needs_background": "light"
     },
     "output_type": "display_data"
    }
   ],
   "source": [
    "# 5 \n",
    "l = 1000\n",
    "\n",
    "s_na2 = np.empty(l)\n",
    "                                                        # из реализаций выборочного среднего\n",
    "for i in range(0, l):\n",
    "    s_new = t.rvs(size = 5000,                         # объем выборки\n",
    "      df = 10) \n",
    "    s_na2[i] =np.quantile(s_new, 0.8)\n",
    "s_na2 = np.sort(s_na2) # для удобства отсортируем реализации выборочных средних\n",
    "seaborn.histplot(s_na2, stat = 'density',              # гистограмма как график выборочной функции плотности\n",
    "                 color = \"palevioletred\",\n",
    "                 label = \"histogram\",\n",
    "                 bins = 20)                             # число столбиков в Гистограмме\n",
    "plt.legend();"
   ]
  },
  {
   "cell_type": "code",
   "execution_count": 10,
   "metadata": {},
   "outputs": [
    {
     "data": {
      "image/png": "[encoded data removed]",
      "text/plain": [
       "<Figure size 432x288 with 1 Axes>"
      ]
     },
     "metadata": {
      "needs_background": "light"
     },
     "output_type": "display_data"
    }
   ],
   "source": [
    "# 6\n",
    "l = 1000\n",
    "\n",
    "s_na2 = np.empty(l)\n",
    "                                                        # из реализаций выборочного среднего\n",
    "for i in range(0, l):\n",
    "    s_new = t.rvs(size = 5000,                         # объем выборки\n",
    "      df = 10) \n",
    "    s_na2[i] =np.mean(s_new <= 5)\n",
    "s_na2 = np.sort(s_na2) # для удобства отсортируем реализации выборочных средних\n",
    "seaborn.histplot(s_na2, stat = 'density',              # гистограмма как график выборочной функции плотности\n",
    "                 color = \"palevioletred\",\n",
    "                 label = \"histogram\",\n",
    "                 bins = 20)                             # число столбиков в Гистограмме\n",
    "plt.legend();"
   ]
  },
  {
   "cell_type": "code",
   "execution_count": 11,
   "metadata": {},
   "outputs": [],
   "source": [
    "# 4. Самостоятельно запрограммируйте функции, позволяющие рассчитывать\n",
    "#    1)     Выборочное среднее\n",
    "#    2)     Выборочную дисперсию\n",
    "#    3*)    Выборочную медиану\n",
    "#    4)     Порядковые статистики\n",
    "#    5*)    Выборочную ковариационную матрицу"
   ]
  },
  {
   "cell_type": "code",
   "execution_count": 12,
   "metadata": {},
   "outputs": [
    {
     "data": {
      "text/plain": [
       "0.0035830392144730874"
      ]
     },
     "execution_count": 12,
     "metadata": {},
     "output_type": "execute_result"
    }
   ],
   "source": [
    "# 1\n",
    "r = t.rvs(size = 5000,                         # объем выборки\n",
    "      df = 10) \n",
    "def mean(x):\n",
    "    return np.sum(x)/len(x)\n",
    "mean(r)"
   ]
  },
  {
   "cell_type": "code",
   "execution_count": 16,
   "metadata": {},
   "outputs": [
    {
     "data": {
      "text/plain": [
       "0.003570201044460656"
      ]
     },
     "execution_count": 16,
     "metadata": {},
     "output_type": "execute_result"
    }
   ],
   "source": [
    "# 2\n",
    "def var(x):\n",
    "    return np.sum(x-mean(x) ** 2) / len(x)\n",
    "var(r)"
   ]
  },
  {
   "cell_type": "code",
   "execution_count": 22,
   "metadata": {},
   "outputs": [
    {
     "data": {
      "text/plain": [
       "0.0045464033031222765"
      ]
     },
     "execution_count": 22,
     "metadata": {},
     "output_type": "execute_result"
    }
   ],
   "source": [
    "# 3*)    Выборочную медиану\n",
    "def median(x):\n",
    "    return np.quantile(x, 0.5)\n",
    "median(r)"
   ]
  },
  {
   "cell_type": "code",
   "execution_count": 26,
   "metadata": {},
   "outputs": [
    {
     "data": {
      "text/plain": [
       "-3.0012907735257386"
      ]
     },
     "execution_count": 26,
     "metadata": {},
     "output_type": "execute_result"
    }
   ],
   "source": [
    "# 4)     Порядковые статистики\n",
    "def ps(x, k):\n",
    "    return np.sort(x)[k]\n",
    "ps(r, 30)"
   ]
  },
  {
   "cell_type": "code",
   "execution_count": 47,
   "metadata": {},
   "outputs": [],
   "source": [
    "#    5*)    Выборочную ковариационную матрицу\n",
    "def cov(x, y):\n",
    "    return np.cov(x, y) # ;)"
   ]
  },
  {
   "cell_type": "code",
   "execution_count": null,
   "metadata": {},
   "outputs": [],
   "source": [
    "# 3. Симулируйте три независимых выборки объемом в 5000 наблюдений\n",
    "#    из стандартного равномерного распределения. Получите из этих\n",
    "#    двух выборок две сложив первую со второй, а вторую - с третьей.\n",
    "#    Для получившихся выборок:\n",
    "#    1)     Посчитайте выборочную ковариационную матрицу\n",
    "#    2)     Рассчитайте выборочную корреляционную матрицу\n",
    "#    3*)    При помощи гистограммы визуализируйте распределение\n",
    "#           выборочной корреляции"
   ]
  },
  {
   "cell_type": "code",
   "execution_count": 28,
   "metadata": {},
   "outputs": [
    {
     "data": {
      "text/plain": [
       "array([[0.16829097, 0.08302643],\n",
       "       [0.08302643, 0.17060333]])"
      ]
     },
     "execution_count": 28,
     "metadata": {},
     "output_type": "execute_result"
    }
   ],
   "source": [
    "# 1\n",
    "a = np.random.uniform(size = 5000, # объем выборки\n",
    "                      low = 0,  # наименьшее значение\n",
    "                      high = 1)\n",
    "b = np.random.unform(size = 5000, # объем выборки\n",
    "                      low = 0,  # наименьшее значение\n",
    "                      high = 1)\n",
    "c = np.random.uniform(size = 5000, # объем выборки\n",
    "                      low = 0,  # наименьшее значение\n",
    "                      high = 1)\n",
    "first = a + b\n",
    "second = b + c\n",
    "\n",
    "np.cov(first, second)"
   ]
  },
  {
   "cell_type": "code",
   "execution_count": 38,
   "metadata": {},
   "outputs": [
    {
     "data": {
      "text/plain": [
       "array([[1.        , 0.48871222],\n",
       "       [0.48871222, 1.        ]])"
      ]
     },
     "execution_count": 38,
     "metadata": {},
     "output_type": "execute_result"
    }
   ],
   "source": [
    "# 2 \n",
    "np.corrcoef(first, second)"
   ]
  },
  {
   "cell_type": "code",
   "execution_count": 40,
   "metadata": {},
   "outputs": [
    {
     "data": {
      "image/png": "[encoded data removed]",
      "text/plain": [
       "<Figure size 432x288 with 1 Axes>"
      ]
     },
     "metadata": {
      "needs_background": "light"
     },
     "output_type": "display_data"
    }
   ],
   "source": [
    "# 3\n",
    "s_na = np.empty(1000)\n",
    "for i in range(0, 1000):\n",
    "    a = np.random.uniform(size = 5000, # объем выборки\n",
    "                      low = 0,  # наименьшее значение\n",
    "                      high = 1)\n",
    "    b = np.random.uniform(size = 5000, # объем выборки\n",
    "                      low = 0,  # наименьшее значение\n",
    "                      high = 1)\n",
    "    c = np.random.uniform(size = 5000, # объем выборки\n",
    "                      low = 0,  # наименьшее значение\n",
    "                      high = 1)\n",
    "    first = a + b\n",
    "    second = b + c\n",
    "    s_na2[i] =np.corrcoef(first, second)[0][1]\n",
    "s_na2 = np.sort(s_na2) # для удобства отсортируем реализации выборочных средних\n",
    "seaborn.histplot(s_na2, stat = 'density',              # гистограмма как график выборочной функции плотности\n",
    "                 color = \"palevioletred\",\n",
    "                 label = \"histogram\",\n",
    "                 bins = 20)                             # число столбиков в Гистограмме\n",
    "plt.legend();"
   ]
  },
  {
   "cell_type": "code",
   "execution_count": null,
   "metadata": {},
   "outputs": [],
   "source": [
    "# 5. Симулируйте три независимые выборки: две из стандартного нормального\n",
    "#    распределения и одну из Хи-Квадрат распределения с двумя степенями\n",
    "#    свободы. Сформируйте еще одну выборку сложив квадраты выборок из\n",
    "#    стандартных нормальных распределений. Сравните выборочные характеристики\n",
    "#    получившейся выборки с выборочными характеристиками выборки из Хи-Квадрат\n",
    "#    распределения с двумя степенями свободы. Сделайте выводы о причинах\n",
    "#    налблюдаемого сходства в выборочных характеристиках."
   ]
  },
  {
   "cell_type": "code",
   "execution_count": 44,
   "metadata": {},
   "outputs": [],
   "source": [
    "a = norm.rvs(size=50000)\n",
    "b = norm.rvs(size=50000)\n",
    "c = chi2.rvs(size = 50000, df = 2)\n",
    "d = a ** 2 + b ** 2\n"
   ]
  },
  {
   "cell_type": "code",
   "execution_count": 45,
   "metadata": {},
   "outputs": [
    {
     "name": "stdout",
     "output_type": "stream",
     "text": [
      "E(X): 1.9937435953517104 1.9856775044278014\n",
      "Var: 3.9860499691659945 3.920945124140837\n",
      "Median: 1.3804419773537109 1.3769258469057184\n"
     ]
    }
   ],
   "source": [
    "print('E(X):', np.mean(c), np.mean(d))                                              # выборочное среднее\n",
    "print('Var:', np.var(c), np.var(d))                                              # выборочная дисперсия                                     # скорректированная выборочная дисперсия\n",
    "print('Median:',np.median(c), np.median(d))                                           # выборочная медиана"
   ]
  },
  {
   "cell_type": "markdown",
   "metadata": {},
   "source": [
    "Схожесть наблюдается, потому что хи-квадрат с df=2 это и есть сумма квадратов двух с.н.р св"
   ]
  },
  {
   "cell_type": "code",
   "execution_count": 46,
   "metadata": {},
   "outputs": [],
   "source": [
    "# 2. Повторите первый пункт, но визуализируя не\n",
    "#    выборочные, а истинные распределения. В некоторых\n",
    "#    пунктах удобно использовать ЦПТ, в других - распределение\n",
    "#    необходимо выводить иными способами."
   ]
  },
  {
   "cell_type": "markdown",
   "metadata": {},
   "source": [
    "Не знать(((("
   ]
  },
  {
   "cell_type": "code",
   "execution_count": null,
   "metadata": {},
   "outputs": [],
   "source": []
  },
  {
   "cell_type": "code",
   "execution_count": null,
   "metadata": {},
   "outputs": [],
   "source": []
  },
  {
   "cell_type": "code",
   "execution_count": null,
   "metadata": {},
   "outputs": [],
   "source": []
  },
  {
   "cell_type": "code",
   "execution_count": null,
   "metadata": {},
   "outputs": [],
   "source": []
  },
  {
   "cell_type": "code",
   "execution_count": null,
   "metadata": {},
   "outputs": [],
   "source": []
  },
  {
   "cell_type": "code",
   "execution_count": null,
   "metadata": {},
   "outputs": [],
   "source": []
  },
  {
   "cell_type": "code",
   "execution_count": null,
   "metadata": {},
   "outputs": [],
   "source": []
  }
 ],
 "metadata": {
  "kernelspec": {
   "display_name": "Python 3",
   "language": "python",
   "name": "python3"
  },
  "language_info": {
   "codemirror_mode": {
    "name": "ipython",
    "version": 3
   },
   "file_extension": ".py",
   "mimetype": "text/x-python",
   "name": "python",
   "nbconvert_exporter": "python",
   "pygments_lexer": "ipython3",
   "version": "3.8.3"
  }
 },
 "nbformat": 4,
 "nbformat_minor": 2
}

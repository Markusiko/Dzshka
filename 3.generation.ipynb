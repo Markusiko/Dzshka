{
 "cells": [
  {
   "cell_type": "code",
   "execution_count": 190,
   "metadata": {},
   "outputs": [],
   "source": [
    "import sys\n",
    "import math\n",
    "import pandas as pd\n",
    "import numpy as np\n",
    "import scipy\n",
    "import matplotlib.pyplot as plt\n",
    "from scipy.stats import t, chi2, f, norm, poisson, binom, uniform, expon, geom\n",
    "\n",
    "np.set_printoptions(suppress = True)                      # уберем scientific notation"
   ]
  },
  {
   "cell_type": "markdown",
   "metadata": {},
   "source": [
    "### Часть №1. Генерация выборки из равномерного распределения\n",
    "\n",
    "Два подхода к формированию случайных чисел.\n",
    " 1. Случайный. За основу берется результат некоторого непредсказуемого физического процесса. На данный момент этот подход весьма ресурсозатратен и поэтому применяется относительно редко.\n",
    " 2. Псевдослучайный. За основу берется одно число, полученное случайным образом, например, исходя из времени на внутренних часах компьютера, а затем из него, в соответствии с заранее заданным алгоритмом, генерируются другие случайные числа из того же распределения.\n",
    "Большинство приложений и библиотек предполагают применение пвсевдослучайного подхода. В дальнейшем будем пользоваться лишь им."
   ]
  },
  {
   "cell_type": "code",
   "execution_count": 5,
   "metadata": {},
   "outputs": [
    {
     "data": {
      "text/plain": [
       "0.1919103947268188"
      ]
     },
     "execution_count": 5,
     "metadata": {},
     "output_type": "execute_result"
    }
   ],
   "source": [
    "np.random.rand() # сгенерируем случайное число из стандартного"
   ]
  },
  {
   "cell_type": "code",
   "execution_count": 13,
   "metadata": {},
   "outputs": [],
   "source": [
    "np.random.seed(123) # установим заранее зерно, из которого будет осуществляться"
   ]
  },
  {
   "cell_type": "code",
   "execution_count": 14,
   "metadata": {},
   "outputs": [
    {
     "data": {
      "text/plain": [
       "0.6964691855978616"
      ]
     },
     "execution_count": 14,
     "metadata": {},
     "output_type": "execute_result"
    }
   ],
   "source": [
    "np.random.rand()"
   ]
  },
  {
   "cell_type": "markdown",
   "metadata": {},
   "source": [
    "Для воспроизводимости результатов, полученных с использованием выборок, необходима установка случайного зерна"
   ]
  },
  {
   "cell_type": "code",
   "execution_count": 15,
   "metadata": {},
   "outputs": [
    {
     "data": {
      "text/plain": [
       "array([0.28613933, 0.22685145, 0.55131477, 0.71946897, 0.42310646,\n",
       "       0.9807642 , 0.68482974, 0.4809319 , 0.39211752, 0.34317802,\n",
       "       0.72904971, 0.43857224, 0.0596779 , 0.39804426, 0.73799541,\n",
       "       0.18249173, 0.17545176, 0.53155137, 0.53182759, 0.63440096,\n",
       "       0.84943179, 0.72445532, 0.61102351, 0.72244338, 0.32295891,\n",
       "       0.36178866, 0.22826323, 0.29371405, 0.63097612, 0.09210494,\n",
       "       0.43370117, 0.43086276, 0.4936851 , 0.42583029, 0.31226122,\n",
       "       0.42635131, 0.89338916, 0.94416002, 0.50183668, 0.62395295,\n",
       "       0.1156184 , 0.31728548, 0.41482621, 0.86630916, 0.25045537,\n",
       "       0.48303426, 0.98555979, 0.51948512, 0.61289453, 0.12062867,\n",
       "       0.8263408 , 0.60306013, 0.54506801, 0.34276383, 0.30412079,\n",
       "       0.41702221, 0.68130077, 0.87545684, 0.51042234, 0.66931378,\n",
       "       0.58593655, 0.6249035 , 0.67468905, 0.84234244, 0.08319499,\n",
       "       0.76368284, 0.24366637, 0.19422296, 0.57245696, 0.09571252,\n",
       "       0.88532683, 0.62724897, 0.72341636, 0.01612921, 0.59443188,\n",
       "       0.55678519, 0.15895964, 0.15307052, 0.69552953, 0.31876643,\n",
       "       0.6919703 , 0.55438325, 0.38895057, 0.92513249, 0.84167   ,\n",
       "       0.35739757, 0.04359146, 0.30476807, 0.39818568, 0.70495883,\n",
       "       0.99535848, 0.35591487, 0.76254781, 0.59317692, 0.6917018 ,\n",
       "       0.15112745, 0.39887629, 0.2408559 , 0.34345601, 0.51312815,\n",
       "       0.66662455, 0.10590849, 0.13089495, 0.32198061, 0.66156434,\n",
       "       0.84650623, 0.55325734, 0.85445249, 0.38483781, 0.3167879 ,\n",
       "       0.35426468, 0.17108183, 0.82911263, 0.33867085, 0.55237008,\n",
       "       0.57855147, 0.52153306, 0.00268806, 0.98834542, 0.90534158,\n",
       "       0.20763586, 0.29248941, 0.52001015, 0.90191137, 0.98363088,\n",
       "       0.25754206, 0.56435904, 0.80696868, 0.39437005, 0.73107304,\n",
       "       0.16106901, 0.60069857, 0.86586446, 0.98352161, 0.07936579,\n",
       "       0.42834727, 0.20454286, 0.45063649, 0.54776357, 0.09332671,\n",
       "       0.29686078, 0.92758424, 0.56900373, 0.457412  , 0.75352599,\n",
       "       0.74186215, 0.04857903, 0.7086974 , 0.83924335, 0.16593788,\n",
       "       0.78099794, 0.28653662, 0.30646975, 0.66526147, 0.11139217,\n",
       "       0.66487245, 0.88785679, 0.69631127, 0.44032788, 0.43821438,\n",
       "       0.7650961 , 0.565642  , 0.08490416, 0.58267109, 0.8148437 ,\n",
       "       0.33706638, 0.92757658, 0.750717  , 0.57406383, 0.75164399,\n",
       "       0.07914896, 0.85938908, 0.82150411, 0.90987166, 0.1286312 ,\n",
       "       0.08178009, 0.13841557, 0.39937871, 0.42430686, 0.56221838,\n",
       "       0.12224355, 0.2013995 , 0.81164435, 0.46798757, 0.80793821,\n",
       "       0.00742638, 0.55159273, 0.93193215, 0.58217546, 0.20609573,\n",
       "       0.71775756, 0.37898585, 0.66838395, 0.02931972, 0.63590036,\n",
       "       0.03219793, 0.74478066, 0.472913  , 0.12175436, 0.54263593,\n",
       "       0.06677444, 0.65336487, 0.99608633, 0.76939734, 0.57377411,\n",
       "       0.10263526, 0.69983407, 0.66116787, 0.04909713, 0.7922993 ,\n",
       "       0.51871659, 0.42586769, 0.78818717, 0.41156922, 0.48102628,\n",
       "       0.18162884, 0.3213189 , 0.845533  , 0.18690375, 0.41729106,\n",
       "       0.98903451, 0.23659981, 0.91683233, 0.91839747, 0.09129634,\n",
       "       0.46365272, 0.50221634, 0.31366895, 0.04733954, 0.24168564,\n",
       "       0.09552964, 0.23824991, 0.80779109, 0.89497829, 0.04322289,\n",
       "       0.30194684, 0.9805822 , 0.53950482, 0.62630936, 0.00554541,\n",
       "       0.48490944, 0.98832853, 0.37518553, 0.09703816, 0.46190876,\n",
       "       0.96300447, 0.34183061, 0.79892273, 0.79884633, 0.2082483 ,\n",
       "       0.4433677 , 0.71560128, 0.41051979, 0.19100696, 0.96749431,\n",
       "       0.65075037, 0.86545985, 0.02524236, 0.26690581, 0.5020711 ,\n",
       "       0.06744864, 0.99303326, 0.2364624 , 0.37429218, 0.21401191,\n",
       "       0.10544587, 0.23247979, 0.30061014, 0.63444227, 0.28123478,\n",
       "       0.36227676, 0.00594284, 0.36571913, 0.53388598, 0.16201584,\n",
       "       0.59743311, 0.29315247, 0.63205049, 0.02619661, 0.88759346,\n",
       "       0.01611863, 0.12695803, 0.77716246, 0.04589523, 0.71099869,\n",
       "       0.97104614, 0.87168293, 0.71016165, 0.95850974, 0.42981334,\n",
       "       0.87287891, 0.35595767, 0.92976365, 0.14877766, 0.94002901,\n",
       "       0.8327162 , 0.84605484, 0.12392301, 0.5964869 , 0.01639248,\n",
       "       0.72118437, 0.00773751, 0.08482228, 0.22549841, 0.87512453,\n",
       "       0.36357632, 0.53995994, 0.56810321, 0.22546336, 0.57214677,\n",
       "       0.6609518 , 0.29824539, 0.41862686, 0.45308892, 0.93235066,\n",
       "       0.58749375, 0.94825237, 0.55603475, 0.50056142, 0.00353221,\n",
       "       0.48088904, 0.927455  , 0.19836569, 0.05209113, 0.40677889,\n",
       "       0.37239648, 0.85715306, 0.02661112, 0.92014923, 0.680903  ,\n",
       "       0.90422599, 0.60752907, 0.81195331, 0.33554387, 0.34956623,\n",
       "       0.38987423, 0.75479708, 0.36929117, 0.24221981, 0.93766836,\n",
       "       0.90801108, 0.34879732, 0.63463807, 0.27384221, 0.20611513,\n",
       "       0.33633953, 0.32709989, 0.8822761 , 0.82230381, 0.70962323,\n",
       "       0.95934523, 0.42254335, 0.24503304, 0.11739844, 0.30105336,\n",
       "       0.14526373, 0.0921861 , 0.6029322 , 0.36418745, 0.56457034,\n",
       "       0.19133572, 0.67690586, 0.21550545, 0.27802359, 0.74176042,\n",
       "       0.5597379 , 0.33483641, 0.54298878, 0.6939847 , 0.91213212,\n",
       "       0.58071321, 0.23268638, 0.74669763, 0.77776902, 0.20040131,\n",
       "       0.82057422, 0.46493485, 0.77976666, 0.23747822, 0.33258027,\n",
       "       0.95369712, 0.65781507, 0.77287783, 0.68837434, 0.20430412,\n",
       "       0.47068875, 0.80896387, 0.67503513, 0.00602789, 0.08740774,\n",
       "       0.34679472, 0.94436554, 0.49119048, 0.27017627, 0.36042372,\n",
       "       0.21065263, 0.42120006, 0.21803544, 0.84575251, 0.4562706 ,\n",
       "       0.27980202, 0.93289165, 0.31435135, 0.90971466, 0.04341809,\n",
       "       0.70711506, 0.48388904, 0.44422106, 0.03632334, 0.04068319,\n",
       "       0.33275362, 0.94711954, 0.61765998, 0.36887484, 0.61197704,\n",
       "       0.20613154, 0.16506644, 0.36181727, 0.86335335, 0.50940173,\n",
       "       0.29690152, 0.95025163, 0.81596609, 0.32297394, 0.97209825,\n",
       "       0.9873511 , 0.40866013, 0.6559231 , 0.4056532 , 0.25734811,\n",
       "       0.08265268, 0.26361035, 0.27147985, 0.39863908, 0.18488603,\n",
       "       0.9538184 , 0.10287989, 0.62520853, 0.44169739, 0.42351805,\n",
       "       0.37199178, 0.86831471, 0.28047698, 0.02057616, 0.91809702,\n",
       "       0.86448028, 0.27690179, 0.52348755, 0.1090882 , 0.09342707,\n",
       "       0.83746611, 0.41026572, 0.66171654, 0.94320056, 0.24513059,\n",
       "       0.01315983, 0.02414841, 0.70938569, 0.92455188, 0.46733027,\n",
       "       0.37510915, 0.54286042, 0.85891684, 0.65215387, 0.2329799 ,\n",
       "       0.7745802 , 0.1346135 , 0.16555997, 0.61268228, 0.23878341,\n",
       "       0.70477855, 0.34951853, 0.27742396, 0.99891841, 0.04061612,\n",
       "       0.64582252, 0.03869959, 0.76021026, 0.23008996, 0.08983187,\n",
       "       0.64844971, 0.73260122, 0.67809531, 0.05190095, 0.29430695,\n",
       "       0.45108835, 0.28710329, 0.81051346, 0.13111511, 0.61217936,\n",
       "       0.98821494, 0.90255654, 0.22215706, 0.00008189, 0.98059734,\n",
       "       0.88271298, 0.91947247, 0.41550355, 0.74461546, 0.2128315 ,\n",
       "       0.39230407, 0.85154805, 0.12761222, 0.89386537, 0.49650797,\n",
       "       0.42609566, 0.30564639, 0.91684879, 0.51762346, 0.80402637,\n",
       "       0.85765179, 0.92238235, 0.30338073, 0.33981085, 0.59507388,\n",
       "       0.44132414, 0.93284253, 0.39756405, 0.47777805, 0.61718609,\n",
       "       0.40473949, 0.99247844, 0.09885128, 0.22060332, 0.32265513,\n",
       "       0.14772284, 0.28421923, 0.77924529, 0.522892  , 0.03395364,\n",
       "       0.98262259, 0.61600648, 0.05893948, 0.66116877, 0.37836937,\n",
       "       0.1356733 , 0.56366459, 0.72707995, 0.6711266 , 0.24751315,\n",
       "       0.52486622, 0.53766344, 0.71680336, 0.35986735, 0.7977326 ,\n",
       "       0.62792185, 0.03833161, 0.54647902, 0.8619121 , 0.56757416,\n",
       "       0.17582827, 0.51037637, 0.75694584, 0.1101052 , 0.81709908,\n",
       "       0.16748164, 0.53407649, 0.38574348, 0.24862377, 0.64743251,\n",
       "       0.03739211, 0.76004581, 0.52694064, 0.87577121, 0.52071832,\n",
       "       0.03503317, 0.14360097, 0.79560459, 0.49197605, 0.44187927,\n",
       "       0.31843478, 0.2845492 , 0.96588631, 0.43296933, 0.88400303,\n",
       "       0.64816312, 0.85842765, 0.85244954, 0.95631203, 0.69794224,\n",
       "       0.80539694, 0.7331279 , 0.60522684, 0.71735413, 0.71575041,\n",
       "       0.04090779, 0.51611084, 0.79265136, 0.24296219, 0.46514799,\n",
       "       0.43498571, 0.40278717, 0.12183953, 0.52571154, 0.44624837,\n",
       "       0.66339276, 0.54941306, 0.02754293, 0.03191799, 0.7013598 ,\n",
       "       0.70758112, 0.95993913, 0.87670468, 0.46805967, 0.62590651,\n",
       "       0.45718173, 0.22294624, 0.376677  , 0.10388423, 0.66652712,\n",
       "       0.19203014, 0.47546779, 0.9674366 , 0.03166893, 0.15172995,\n",
       "       0.29857918, 0.94180696, 0.9088418 , 0.16200084, 0.98111777,\n",
       "       0.75074753, 0.53997708, 0.93170288, 0.88060714, 0.39131649,\n",
       "       0.6563432 , 0.64738515, 0.32696819, 0.17939017, 0.46680988,\n",
       "       0.26328104, 0.35506513, 0.95414397, 0.46113787, 0.68489147,\n",
       "       0.33622989, 0.99586108, 0.65876761, 0.19600947, 0.098184  ,\n",
       "       0.94318057, 0.94477783, 0.62132838, 0.0169915 , 0.22553488,\n",
       "       0.80127678, 0.87545983, 0.45398981, 0.36552062, 0.27422501,\n",
       "       0.11697051, 0.11574454, 0.9526027 , 0.80862611, 0.16477936,\n",
       "       0.20705005, 0.65555155, 0.76466422, 0.81031485, 0.16333769,\n",
       "       0.98412829, 0.22780207, 0.58941543, 0.58761576, 0.96736189,\n",
       "       0.65766744, 0.58490427, 0.51877258, 0.76465754, 0.10605526,\n",
       "       0.0020919 , 0.95248887, 0.49865768, 0.32833538, 0.36805326,\n",
       "       0.80384332, 0.38237021, 0.77016917, 0.440462  , 0.84407746,\n",
       "       0.07620406, 0.48112833, 0.46684971, 0.26432798, 0.94361474,\n",
       "       0.90502846, 0.4435963 , 0.09715961, 0.20678315, 0.27149184,\n",
       "       0.48421977, 0.33837711, 0.77413607, 0.47602661, 0.8703705 ,\n",
       "       0.99578175, 0.21983595, 0.61167138, 0.84750231, 0.94523663,\n",
       "       0.29008643, 0.72704274, 0.01501615, 0.87914244, 0.06393855,\n",
       "       0.7333954 , 0.99461039, 0.50118978, 0.20933399, 0.59464358,\n",
       "       0.62414998, 0.66807274, 0.17261174, 0.89871269, 0.62099137,\n",
       "       0.0435687 , 0.68404106, 0.19608405, 0.02734078, 0.55095328,\n",
       "       0.81331364, 0.85994115, 0.10352093, 0.66304279, 0.71007522,\n",
       "       0.29451699, 0.971364  , 0.27868747, 0.06998219, 0.51928036,\n",
       "       0.69431489, 0.24465979, 0.3385822 , 0.56362798, 0.88667817,\n",
       "       0.74732591, 0.20959196, 0.25177707, 0.52388069, 0.76895869,\n",
       "       0.61876178, 0.50132427, 0.59712534, 0.75606003, 0.53707979,\n",
       "       0.89775274, 0.94706749, 0.91535451, 0.75451834, 0.246321  ,\n",
       "       0.38527145, 0.27999995, 0.65766024, 0.32422162, 0.7543916 ,\n",
       "       0.11350908, 0.77536476, 0.58590197, 0.83538869, 0.43087565,\n",
       "       0.62496445, 0.55441213, 0.97567127, 0.75547439, 0.54481325,\n",
       "       0.17403209, 0.90411422, 0.20583778, 0.65004326, 0.93647185,\n",
       "       0.22357963, 0.22592354, 0.85181891, 0.82765503, 0.35170335,\n",
       "       0.26509629, 0.12738847, 0.9879361 , 0.8353431 , 0.8993916 ,\n",
       "       0.51367933, 0.11438483, 0.05258034, 0.3305821 , 0.92033043,\n",
       "       0.94758184, 0.84116387, 0.15867914, 0.41992317, 0.24624292,\n",
       "       0.20534977, 0.68482585, 0.48611167, 0.32490964, 0.10021446,\n",
       "       0.54476337, 0.34702515, 0.39109581, 0.31050874, 0.3871952 ,\n",
       "       0.55585958, 0.01414381, 0.847647  , 0.92191986, 0.55052969,\n",
       "       0.26802112, 0.990239  , 0.38319403, 0.69365539, 0.68995255,\n",
       "       0.43430906, 0.19915816, 0.96657938, 0.06369086, 0.48514939,\n",
       "       0.22073071, 0.29397413, 0.82852732, 0.36726556, 0.08334827,\n",
       "       0.19630901, 0.86037341, 0.97702885, 0.26798216, 0.67540899,\n",
       "       0.081199  , 0.72346559, 0.41643661, 0.91815992, 0.31153617,\n",
       "       0.941467  , 0.50324743, 0.34889292, 0.6470196 , 0.2497462 ,\n",
       "       0.2297636 , 0.19634644, 0.95989956, 0.49291373, 0.75161496,\n",
       "       0.47399188, 0.58754016, 0.58413898, 0.97988631, 0.66843312,\n",
       "       0.23976947, 0.01519766, 0.21868214, 0.45551964, 0.39342034,\n",
       "       0.81232624, 0.78555676, 0.08909597, 0.95201072, 0.52745668,\n",
       "       0.59640396, 0.40505677, 0.64950096, 0.8713263 , 0.67393597,\n",
       "       0.97009854, 0.70112225, 0.82172074, 0.04503958, 0.67269851,\n",
       "       0.65475264, 0.10174605, 0.8423875 , 0.6141724 , 0.09832809,\n",
       "       0.59446712, 0.47841585, 0.23329357, 0.01975609, 0.36556728,\n",
       "       0.61985108, 0.32927913, 0.30725465, 0.75112124, 0.75862465,\n",
       "       0.71876584, 0.10118195, 0.51616596, 0.55779866, 0.74480453,\n",
       "       0.90317772, 0.36903887, 0.42866347, 0.73276749, 0.66263642,\n",
       "       0.5578699 , 0.35013963, 0.19535235, 0.18380737, 0.08158329,\n",
       "       0.08120085, 0.84579822, 0.38367275, 0.06073962, 0.89642567,\n",
       "       0.22327047, 0.26812443, 0.19449784, 0.96750106, 0.11254009,\n",
       "       0.72216324, 0.93208874, 0.6680013 , 0.85872661, 0.2424471 ,\n",
       "       0.67392798, 0.70087134, 0.45833251, 0.87054562, 0.6943861 ,\n",
       "       0.89487779, 0.75320435, 0.52029042, 0.49868822, 0.45372763,\n",
       "       0.02164686, 0.5351414 , 0.42297323, 0.1575336 , 0.1190697 ,\n",
       "       0.44935188, 0.03991305, 0.98657989, 0.37812093, 0.38210919,\n",
       "       0.0511263 , 0.42667233, 0.01574544, 0.03009363, 0.33909923,\n",
       "       0.82096895, 0.45882108, 0.01484058, 0.16322003, 0.73992272,\n",
       "       0.73829374, 0.75452291, 0.35166938, 0.35227695, 0.80207567,\n",
       "       0.39813789, 0.72719101, 0.58112301, 0.36434168, 0.08000652,\n",
       "       0.11612538, 0.88955872, 0.45234051, 0.99400454, 0.36389695,\n",
       "       0.2499543 , 0.35053932, 0.3430861 , 0.63735673, 0.01273756,\n",
       "       0.76326864, 0.41641463, 0.43223919, 0.48111502, 0.44921245,\n",
       "       0.4974709 , 0.34590431, 0.45334614, 0.40465134, 0.51824272,\n",
       "       0.62326908, 0.24104061, 0.50843715, 0.59462192, 0.01694831,\n",
       "       0.52049374, 0.23929325, 0.40453855, 0.82653016, 0.3262356 ,\n",
       "       0.48321692, 0.02474115, 0.30875088, 0.63972109, 0.31516177,\n",
       "       0.20579751, 0.29065568, 0.95437831, 0.08680182, 0.46335776,\n",
       "       0.0583869 , 0.53865824, 0.14603574, 0.63408481, 0.26439746,\n",
       "       0.69091539, 0.34714606, 0.00416849, 0.29489471, 0.08189444])"
      ]
     },
     "execution_count": 15,
     "metadata": {},
     "output_type": "execute_result"
    }
   ],
   "source": [
    "n = 1000\n",
    "u = np.random.uniform(size = n, # объем выборки\n",
    "                      low = 0,  # наименьшее значение\n",
    "                      high = 1) # наибольшее значение\n",
    "u                               # реализация выборки из U~(0,1) объемом n"
   ]
  },
  {
   "cell_type": "markdown",
   "metadata": {},
   "source": [
    " Посмотрим, как работает ЗБЧ"
   ]
  },
  {
   "cell_type": "code",
   "execution_count": 18,
   "metadata": {},
   "outputs": [
    {
     "name": "stdout",
     "output_type": "stream",
     "text": [
      "0.4987584562937045\n",
      "0.346\n",
      "0.33008242030619694\n"
     ]
    }
   ],
   "source": [
    "print(np.mean(u))        # примерно равно E(U) = 0.5\n",
    "print(np.mean(u <= 0.35))  # примерно равно P(U <= 0.35) = 0.35\n",
    "print(np.mean(u ** 2))   # примерно равно E(U ^ 2)"
   ]
  },
  {
   "cell_type": "markdown",
   "metadata": {},
   "source": [
    "Чем больше объем выборки, тем, в силу ЗБЧ, с меньшей вероятностью данные значения будут сильно отличаться от истинных"
   ]
  },
  {
   "cell_type": "markdown",
   "metadata": {},
   "source": [
    "Посмотрим, как с объемом выборки меняется точность аппроксимации E(U):"
   ]
  },
  {
   "cell_type": "code",
   "execution_count": 19,
   "metadata": {},
   "outputs": [],
   "source": [
    "np.random.seed(333333)\n",
    "n_new = 100000                              # объем новой выборки из U~(0,1)\n",
    "u_new = np.random.uniform(size = n_new)     # создадим новую большую выборку\n",
    "step = 10                                   # разобьем эту большую выборку на\n",
    "                                            # подвыборки, первая из которых\n",
    "                                            # имеет объем step, а каждая следующая\n",
    "                                            # на step больше предыдущей\n",
    "m = int(len(u_new) / step)                  # количество таких выборок\n",
    "u_mean = np.zeros(m)                        # здесь будем сохраняться аппроксимацию E(U), полученную\n",
    "                                            # на каждой из подвыборок"
   ]
  },
  {
   "cell_type": "code",
   "execution_count": 24,
   "metadata": {},
   "outputs": [
    {
     "data": {
      "text/plain": [
       "array([0.0299085 , 0.03244446, 0.05984874, ..., 0.000186  , 0.00018075,\n",
       "       0.0001714 ])"
      ]
     },
     "execution_count": 24,
     "metadata": {},
     "output_type": "execute_result"
    }
   ],
   "source": [
    "for i in range(0, m):\n",
    "    u_mean[i] = np.mean(u_new[0:((i + 1) * step - 1)])  # аппроксимируем E(U) на очередной подвыборке\n",
    "dev = abs(u_mean - 0.5) # считаем абсолютные отклонения аппроксимации\n",
    "                        # от истинного значения: вспомним, что E(U) = 0.5\n",
    "dev"
   ]
  },
  {
   "cell_type": "code",
   "execution_count": 25,
   "metadata": {},
   "outputs": [
    {
     "data": {
      "text/plain": [
       "[<matplotlib.lines.Line2D at 0x11c5df970>]"
      ]
     },
     "execution_count": 25,
     "metadata": {},
     "output_type": "execute_result"
    },
    {
     "data": {
      "image/png": "[encoded data removed]",
      "text/plain": [
       "<Figure size 432x288 with 1 Axes>"
      ]
     },
     "metadata": {
      "needs_background": "light"
     },
     "output_type": "display_data"
    }
   ],
   "source": [
    "# Визуализируем результат\n",
    "plt.xlabel('Sample Size / ' + str(step))\n",
    "plt.ylabel('|E(U) - mean(u)|')\n",
    "plt.ylim(ymin = 0, ymax = max(dev))\n",
    "plt.plot(dev, 'ro', markersize = 1)\n",
    "# Вывод: по мере увеличения объемов\n",
    "# подвыборки вероятность отклоения аппроксимации\n",
    "# от истины уменьшается и стремится к нулю.\n",
    "# Примечание: вместо подвыборок можно было бы\n",
    "# использовать новые выборки, но это существенно\n",
    "# увеличило бы вычислительную нагрузку."
   ]
  },
  {
   "cell_type": "markdown",
   "metadata": {},
   "source": [
    "### Часть №2. Генерация выборки из дискретного распределения с конечным носителем"
   ]
  },
  {
   "cell_type": "code",
   "execution_count": 27,
   "metadata": {},
   "outputs": [
    {
     "data": {
      "text/html": [
       "<div>\n",
       "<style scoped>\n",
       "    .dataframe tbody tr th:only-of-type {\n",
       "        vertical-align: middle;\n",
       "    }\n",
       "\n",
       "    .dataframe tbody tr th {\n",
       "        vertical-align: top;\n",
       "    }\n",
       "\n",
       "    .dataframe thead th {\n",
       "        text-align: right;\n",
       "    }\n",
       "</style>\n",
       "<table border=\"1\" class=\"dataframe\">\n",
       "  <thead>\n",
       "    <tr style=\"text-align: right;\">\n",
       "      <th></th>\n",
       "      <th>t</th>\n",
       "      <th>P(Y = t)</th>\n",
       "      <th>P(Y &lt;= t)</th>\n",
       "    </tr>\n",
       "  </thead>\n",
       "  <tbody>\n",
       "    <tr>\n",
       "      <th>0</th>\n",
       "      <td>-3</td>\n",
       "      <td>0.10</td>\n",
       "      <td>0.10</td>\n",
       "    </tr>\n",
       "    <tr>\n",
       "      <th>1</th>\n",
       "      <td>0</td>\n",
       "      <td>0.20</td>\n",
       "      <td>0.30</td>\n",
       "    </tr>\n",
       "    <tr>\n",
       "      <th>2</th>\n",
       "      <td>3</td>\n",
       "      <td>0.30</td>\n",
       "      <td>0.60</td>\n",
       "    </tr>\n",
       "    <tr>\n",
       "      <th>3</th>\n",
       "      <td>5</td>\n",
       "      <td>0.35</td>\n",
       "      <td>0.95</td>\n",
       "    </tr>\n",
       "    <tr>\n",
       "      <th>4</th>\n",
       "      <td>8</td>\n",
       "      <td>0.05</td>\n",
       "      <td>1.00</td>\n",
       "    </tr>\n",
       "  </tbody>\n",
       "</table>\n",
       "</div>"
      ],
      "text/plain": [
       "   t  P(Y = t)  P(Y <= t)\n",
       "0 -3      0.10       0.10\n",
       "1  0      0.20       0.30\n",
       "2  3      0.30       0.60\n",
       "3  5      0.35       0.95\n",
       "4  8      0.05       1.00"
      ]
     },
     "execution_count": 27,
     "metadata": {},
     "output_type": "execute_result"
    }
   ],
   "source": [
    "# Пусть случайная величина Y имеет следующую таблицу распределения:\n",
    "# t         |   -3   |   0   |   3    |   5    |  8\n",
    "# P(Y = t)  |   0.1  |   0.2 |   0.3  |  0.35  | 0.05\n",
    "\n",
    "# Создадим переменные, отражающие некоторые\n",
    "# характеристики данного распределения.\n",
    "# Пусть здесь и далее t принадлежит supp(Y):\n",
    "t_y = np.array([-3, 0, 3, 5, 8])                         # supp(Y)          - носитель\n",
    "p_y = np.array([0.1, 0.2, 0.3, 0.35, 0.05])              # P(Y = t),        - функция вероятности\n",
    "F_y = np.cumsum(p_y)                                     # P(Y <= t) = F(Y) - функция распределения\n",
    "pd.DataFrame(                                      # визуализируем результат\n",
    "    {'t': t_y,\n",
    "     'P(Y = t)': p_y,\n",
    "     'P(Y <= t)': F_y})"
   ]
  },
  {
   "cell_type": "code",
   "execution_count": 32,
   "metadata": {},
   "outputs": [
    {
     "data": {
      "text/plain": [
       "array([0.3 , 0.35, 0.05])"
      ]
     },
     "execution_count": 32,
     "metadata": {},
     "output_type": "execute_result"
    }
   ],
   "source": [
    "# Вспомним, как выбирать элементы вектора\n",
    "# по логическому вектору\n",
    "is_select = t_y > 0 # получаем логический (bool) вектор\n",
    "p_y[is_select] # выбираем те значения из вектора вероятностей,\n",
    "               # которые соответствуют условию, то есть берем\n",
    "               # лишь те элементы вектора 'p_y', для которых соответствующие\n",
    "               # элементы вектора 'is_select' равняются 'True'"
   ]
  },
  {
   "cell_type": "code",
   "execution_count": 33,
   "metadata": {},
   "outputs": [
    {
     "name": "stdout",
     "output_type": "stream",
     "text": [
      "[0.1  0.3  0.05]\n",
      "[0.3  0.35]\n"
     ]
    }
   ],
   "source": [
    "print(p_y[[True, False, True, False, True]]) # еще нескольких скохих примеров\n",
    "print(p_y[(t_y > 0) & (t_y < 6)])"
   ]
  },
  {
   "cell_type": "code",
   "execution_count": 35,
   "metadata": {},
   "outputs": [
    {
     "data": {
      "text/plain": [
       "array([0., 0., 0., 0., 0., 0., 0., 0., 0., 0., 0., 0., 0., 0., 0., 0., 0.,\n",
       "       0., 0., 0., 0., 0., 0., 0., 0., 0., 0., 0., 0., 0., 0., 0., 0., 0.,\n",
       "       0., 0., 0., 0., 0., 0., 0., 0., 0., 0., 0., 0., 0., 0., 0., 0., 0.,\n",
       "       0., 0., 0., 0., 0., 0., 0., 0., 0., 0., 0., 0., 0., 0., 0., 0., 0.,\n",
       "       0., 0., 0., 0., 0., 0., 0., 0., 0., 0., 0., 0., 0., 0., 0., 0., 0.,\n",
       "       0., 0., 0., 0., 0., 0., 0., 0., 0., 0., 0., 0., 0., 0., 0., 0., 0.,\n",
       "       0., 0., 0., 0., 0., 0., 0., 0., 0., 0., 0., 0., 0., 0., 0., 0., 0.,\n",
       "       0., 0., 0., 0., 0., 0., 0., 0., 0., 0., 0., 0., 0., 0., 0., 0., 0.,\n",
       "       0., 0., 0., 0., 0., 0., 0., 0., 0., 0., 0., 0., 0., 0., 0., 0., 0.,\n",
       "       0., 0., 0., 0., 0., 0., 0., 0., 0., 0., 0., 0., 0., 0., 0., 0., 0.,\n",
       "       0., 0., 0., 0., 0., 0., 0., 0., 0., 0., 0., 0., 0., 0., 0., 0., 0.,\n",
       "       0., 0., 0., 0., 0., 0., 0., 0., 0., 0., 0., 0., 0., 0., 0., 0., 0.,\n",
       "       0., 0., 0., 0., 0., 0., 0., 0., 0., 0., 0., 0., 0., 0., 0., 0., 0.,\n",
       "       0., 0., 0., 0., 0., 0., 0., 0., 0., 0., 0., 0., 0., 0., 0., 0., 0.,\n",
       "       0., 0., 0., 0., 0., 0., 0., 0., 0., 0., 0., 0., 0., 0., 0., 0., 0.,\n",
       "       0., 0., 0., 0., 0., 0., 0., 0., 0., 0., 0., 0., 0., 0., 0., 0., 0.,\n",
       "       0., 0., 0., 0., 0., 0., 0., 0., 0., 0., 0., 0., 0., 0., 0., 0., 0.,\n",
       "       0., 0., 0., 0., 0., 0., 0., 0., 0., 0., 0., 0., 0., 0., 0., 0., 0.,\n",
       "       0., 0., 0., 0., 0., 0., 0., 0., 0., 0., 0., 0., 0., 0., 0., 0., 0.,\n",
       "       0., 0., 0., 0., 0., 0., 0., 0., 0., 0., 0., 0., 0., 0., 0., 0., 0.,\n",
       "       0., 0., 0., 0., 0., 0., 0., 0., 0., 0., 0., 0., 0., 0., 0., 0., 0.,\n",
       "       0., 0., 0., 0., 0., 0., 0., 0., 0., 0., 0., 0., 0., 0., 0., 0., 0.,\n",
       "       0., 0., 0., 0., 0., 0., 0., 0., 0., 0., 0., 0., 0., 0., 0., 0., 0.,\n",
       "       0., 0., 0., 0., 0., 0., 0., 0., 0., 0., 0., 0., 0., 0., 0., 0., 0.,\n",
       "       0., 0., 0., 0., 0., 0., 0., 0., 0., 0., 0., 0., 0., 0., 0., 0., 0.,\n",
       "       0., 0., 0., 0., 0., 0., 0., 0., 0., 0., 0., 0., 0., 0., 0., 0., 0.,\n",
       "       0., 0., 0., 0., 0., 0., 0., 0., 0., 0., 0., 0., 0., 0., 0., 0., 0.,\n",
       "       0., 0., 0., 0., 0., 0., 0., 0., 0., 0., 0., 0., 0., 0., 0., 0., 0.,\n",
       "       0., 0., 0., 0., 0., 0., 0., 0., 0., 0., 0., 0., 0., 0., 0., 0., 0.,\n",
       "       0., 0., 0., 0., 0., 0., 0., 0., 0., 0., 0., 0., 0., 0., 0., 0., 0.,\n",
       "       0., 0., 0., 0., 0., 0., 0., 0., 0., 0., 0., 0., 0., 0., 0., 0., 0.,\n",
       "       0., 0., 0., 0., 0., 0., 0., 0., 0., 0., 0., 0., 0., 0., 0., 0., 0.,\n",
       "       0., 0., 0., 0., 0., 0., 0., 0., 0., 0., 0., 0., 0., 0., 0., 0., 0.,\n",
       "       0., 0., 0., 0., 0., 0., 0., 0., 0., 0., 0., 0., 0., 0., 0., 0., 0.,\n",
       "       0., 0., 0., 0., 0., 0., 0., 0., 0., 0., 0., 0., 0., 0., 0., 0., 0.,\n",
       "       0., 0., 0., 0., 0., 0., 0., 0., 0., 0., 0., 0., 0., 0., 0., 0., 0.,\n",
       "       0., 0., 0., 0., 0., 0., 0., 0., 0., 0., 0., 0., 0., 0., 0., 0., 0.,\n",
       "       0., 0., 0., 0., 0., 0., 0., 0., 0., 0., 0., 0., 0., 0., 0., 0., 0.,\n",
       "       0., 0., 0., 0., 0., 0., 0., 0., 0., 0., 0., 0., 0., 0., 0., 0., 0.,\n",
       "       0., 0., 0., 0., 0., 0., 0., 0., 0., 0., 0., 0., 0., 0., 0., 0., 0.,\n",
       "       0., 0., 0., 0., 0., 0., 0., 0., 0., 0., 0., 0., 0., 0., 0., 0., 0.,\n",
       "       0., 0., 0., 0., 0., 0., 0., 0., 0., 0., 0., 0., 0., 0., 0., 0., 0.,\n",
       "       0., 0., 0., 0., 0., 0., 0., 0., 0., 0., 0., 0., 0., 0., 0., 0., 0.,\n",
       "       0., 0., 0., 0., 0., 0., 0., 0., 0., 0., 0., 0., 0., 0., 0., 0., 0.,\n",
       "       0., 0., 0., 0., 0., 0., 0., 0., 0., 0., 0., 0., 0., 0., 0., 0., 0.,\n",
       "       0., 0., 0., 0., 0., 0., 0., 0., 0., 0., 0., 0., 0., 0., 0., 0., 0.,\n",
       "       0., 0., 0., 0., 0., 0., 0., 0., 0., 0., 0., 0., 0., 0., 0., 0., 0.,\n",
       "       0., 0., 0., 0., 0., 0., 0., 0., 0., 0., 0., 0., 0., 0., 0., 0., 0.,\n",
       "       0., 0., 0., 0., 0., 0., 0., 0., 0., 0., 0., 0., 0., 0., 0., 0., 0.,\n",
       "       0., 0., 0., 0., 0., 0., 0., 0., 0., 0., 0., 0., 0., 0., 0., 0., 0.,\n",
       "       0., 0., 0., 0., 0., 0., 0., 0., 0., 0., 0., 0., 0., 0., 0., 0., 0.,\n",
       "       0., 0., 0., 0., 0., 0., 0., 0., 0., 0., 0., 0., 0., 0., 0., 0., 0.,\n",
       "       0., 0., 0., 0., 0., 0., 0., 0., 0., 0., 0., 0., 0., 0., 0., 0., 0.,\n",
       "       0., 0., 0., 0., 0., 0., 0., 0., 0., 0., 0., 0., 0., 0., 0., 0., 0.,\n",
       "       0., 0., 0., 0., 0., 0., 0., 0., 0., 0., 0., 0., 0., 0., 0., 0., 0.,\n",
       "       0., 0., 0., 0., 0., 0., 0., 0., 0., 0., 0., 0., 0., 0., 0., 0., 0.,\n",
       "       0., 0., 0., 0., 0., 0., 0., 0., 0., 0., 0., 0., 0., 0., 0., 0., 0.,\n",
       "       0., 0., 0., 0., 0., 0., 0., 0., 0., 0., 0., 0., 0., 0., 0., 0., 0.,\n",
       "       0., 0., 0., 0., 0., 0., 0., 0., 0., 0., 0., 0., 0., 0.])"
      ]
     },
     "execution_count": 35,
     "metadata": {},
     "output_type": "execute_result"
    }
   ],
   "source": [
    "# Сгенерируем выборку из распредедения такого\n",
    "# же, как у случайной величины Y.\n",
    "y = np.zeros(n) # создадим вектор, в котором будем сохранять\n",
    "y                # реализации выборки"
   ]
  },
  {
   "cell_type": "markdown",
   "metadata": {},
   "source": [
    "Найдем реализации из распределения случайной величины Y используя реализации из стандартного равномерного распределения U~(0,1). При формировании выборки из Y необходимо, чтобы каждое из возможных значений t появлялось в ней с соответствующей вероятностью P(Y = t).\n",
    "Обратим внимание, что:\n",
    "P(Y = -3) = 0.1 = P(U <= 0.1).\n",
    "Следовательно, присваивать в выборке из Y значения -3\n",
    "нужно с такой же вероятностью, как в выборке из U\n",
    "возникают значения меньше 0.1. А значит достаточно в\n",
    "выборке из Y везде поставить -3, где в выборке из U\n",
    "фигурирует число меньше 0.1."
   ]
  },
  {
   "cell_type": "code",
   "execution_count": 36,
   "metadata": {},
   "outputs": [
    {
     "data": {
      "text/plain": [
       "array([ 0.,  0.,  3.,  5.,  3.,  8.,  5.,  3.,  3.,  3.,  5.,  3., -3.,\n",
       "        3.,  5.,  0.,  0.,  3.,  3.,  5.,  5.,  5.,  5.,  5.,  3.,  3.,\n",
       "        0.,  0.,  5., -3.,  3.,  3.,  3.,  3.,  3.,  3.,  5.,  5.,  3.,\n",
       "        5.,  0.,  3.,  3.,  5.,  0.,  3.,  8.,  3.,  5.,  0.,  5.,  5.,\n",
       "        3.,  3.,  3.,  3.,  5.,  5.,  3.,  5.,  3.,  5.,  5.,  5., -3.,\n",
       "        5.,  0.,  0.,  3., -3.,  5.,  5.,  5., -3.,  3.,  3.,  0.,  0.,\n",
       "        5.,  3.,  5.,  3.,  3.,  5.,  5.,  3., -3.,  3.,  3.,  5.,  8.,\n",
       "        3.,  5.,  3.,  5.,  0.,  3.,  0.,  3.,  3.,  5.,  0.,  0.,  3.,\n",
       "        5.,  5.,  3.,  5.,  3.,  3.,  3.,  0.,  5.,  3.,  3.,  3.,  3.,\n",
       "       -3.,  8.,  5.,  0.,  0.,  3.,  5.,  8.,  0.,  3.,  5.,  3.,  5.,\n",
       "        0.,  5.,  5.,  8., -3.,  3.,  0.,  3.,  3., -3.,  0.,  5.,  3.,\n",
       "        3.,  5.,  5., -3.,  5.,  5.,  0.,  5.,  0.,  3.,  5.,  0.,  5.,\n",
       "        5.,  5.,  3.,  3.,  5.,  3., -3.,  3.,  5.,  3.,  5.,  5.,  3.,\n",
       "        5., -3.,  5.,  5.,  5.,  0., -3.,  0.,  3.,  3.,  3.,  0.,  0.,\n",
       "        5.,  3.,  5., -3.,  3.,  5.,  3.,  0.,  5.,  3.,  5., -3.,  5.,\n",
       "       -3.,  5.,  3.,  0.,  3., -3.,  5.,  8.,  5.,  3.,  0.,  5.,  5.,\n",
       "       -3.,  5.,  3.,  3.,  5.,  3.,  3.,  0.,  3.,  5.,  0.,  3.,  8.,\n",
       "        0.,  5.,  5., -3.,  3.,  3.,  3., -3.,  0., -3.,  0.,  5.,  5.,\n",
       "       -3.,  3.,  8.,  3.,  5., -3.,  3.,  8.,  3., -3.,  3.,  8.,  3.,\n",
       "        5.,  5.,  0.,  3.,  5.,  3.,  0.,  8.,  5.,  5., -3.,  0.,  3.,\n",
       "       -3.,  8.,  0.,  3.,  0.,  0.,  0.,  3.,  5.,  0.,  3., -3.,  3.,\n",
       "        3.,  0.,  3.,  0.,  5., -3.,  5., -3.,  0.,  5., -3.,  5.,  8.,\n",
       "        5.,  5.,  8.,  3.,  5.,  3.,  5.,  0.,  5.,  5.,  5.,  0.,  3.,\n",
       "       -3.,  5., -3., -3.,  0.,  5.,  3.,  3.,  3.,  0.,  3.,  5.,  0.,\n",
       "        3.,  3.,  5.,  3.,  5.,  3.,  3., -3.,  3.,  5.,  0., -3.,  3.,\n",
       "        3.,  5., -3.,  5.,  5.,  5.,  5.,  5.,  3.,  3.,  3.,  5.,  3.,\n",
       "        0.,  5.,  5.,  3.,  5.,  0.,  0.,  3.,  3.,  5.,  5.,  5.,  8.,\n",
       "        3.,  0.,  0.,  3.,  0., -3.,  5.,  3.,  3.,  0.,  5.,  0.,  0.,\n",
       "        5.,  3.,  3.,  3.,  5.,  5.,  3.,  0.,  5.,  5.,  0.,  5.,  3.,\n",
       "        5.,  0.,  3.,  8.,  5.,  5.,  5.,  0.,  3.,  5.,  5., -3., -3.,\n",
       "        3.,  5.,  3.,  0.,  3.,  0.,  3.,  0.,  5.,  3.,  0.,  5.,  3.,\n",
       "        5., -3.,  5.,  3.,  3., -3., -3.,  3.,  5.,  5.,  3.,  5.,  0.,\n",
       "        0.,  3.,  5.,  3.,  0.,  8.,  5.,  3.,  8.,  8.,  3.,  5.,  3.,\n",
       "        0., -3.,  0.,  0.,  3.,  0.,  8.,  0.,  5.,  3.,  3.,  3.,  5.,\n",
       "        0., -3.,  5.,  5.,  0.,  3.,  0., -3.,  5.,  3.,  5.,  5.,  0.,\n",
       "       -3., -3.,  5.,  5.,  3.,  3.,  3.,  5.,  5.,  0.,  5.,  0.,  0.,\n",
       "        5.,  0.,  5.,  3.,  0.,  8., -3.,  5., -3.,  5.,  0., -3.,  5.,\n",
       "        5.,  5., -3.,  0.,  3.,  0.,  5.,  0.,  5.,  8.,  5.,  0., -3.,\n",
       "        8.,  5.,  5.,  3.,  5.,  0.,  3.,  5.,  0.,  5.,  3.,  3.,  3.,\n",
       "        5.,  3.,  5.,  5.,  5.,  3.,  3.,  3.,  3.,  5.,  3.,  3.,  5.,\n",
       "        3.,  8., -3.,  0.,  3.,  0.,  0.,  5.,  3., -3.,  8.,  5., -3.,\n",
       "        5.,  3.,  0.,  3.,  5.,  5.,  0.,  3.,  3.,  5.,  3.,  5.,  5.,\n",
       "       -3.,  3.,  5.,  3.,  0.,  3.,  5.,  0.,  5.,  0.,  3.,  3.,  0.,\n",
       "        5., -3.,  5.,  3.,  5.,  3., -3.,  0.,  5.,  3.,  3.,  3.,  0.,\n",
       "        8.,  3.,  5.,  5.,  5.,  5.,  8.,  5.,  5.,  5.,  5.,  5.,  5.,\n",
       "       -3.,  3.,  5.,  0.,  3.,  3.,  3.,  0.,  3.,  3.,  5.,  3., -3.,\n",
       "       -3.,  5.,  5.,  8.,  5.,  3.,  5.,  3.,  0.,  3.,  0.,  5.,  0.,\n",
       "        3.,  8., -3.,  0.,  0.,  5.,  5.,  0.,  8.,  5.,  3.,  5.,  5.,\n",
       "        3.,  5.,  5.,  3.,  0.,  3.,  0.,  3.,  8.,  3.,  5.,  3.,  8.,\n",
       "        5.,  0., -3.,  5.,  5.,  5., -3.,  0.,  5.,  5.,  3.,  3.,  0.,\n",
       "        0.,  0.,  8.,  5.,  0.,  0.,  5.,  5.,  5.,  0.,  8.,  0.,  3.,\n",
       "        3.,  8.,  5.,  3.,  3.,  5.,  0., -3.,  8.,  3.,  3.,  3.,  5.,\n",
       "        3.,  5.,  3.,  5., -3.,  3.,  3.,  0.,  5.,  5.,  3., -3.,  0.,\n",
       "        0.,  3.,  3.,  5.,  3.,  5.,  8.,  0.,  5.,  5.,  5.,  0.,  5.,\n",
       "       -3.,  5., -3.,  5.,  8.,  3.,  0.,  3.,  5.,  5.,  0.,  5.,  5.,\n",
       "       -3.,  5.,  0., -3.,  3.,  5.,  5.,  0.,  5.,  5.,  0.,  8.,  0.,\n",
       "       -3.,  3.,  5.,  0.,  3.,  3.,  5.,  5.,  0.,  0.,  3.,  5.,  5.,\n",
       "        3.,  3.,  5.,  3.,  5.,  5.,  5.,  5.,  0.,  3.,  0.,  5.,  3.,\n",
       "        5.,  0.,  5.,  3.,  5.,  3.,  5.,  3.,  8.,  5.,  3.,  0.,  5.,\n",
       "        0.,  5.,  5.,  0.,  0.,  5.,  5.,  3.,  0.,  0.,  8.,  5.,  5.,\n",
       "        3.,  0., -3.,  3.,  5.,  5.,  5.,  0.,  3.,  0.,  0.,  5.,  3.,\n",
       "        3.,  0.,  3.,  3.,  3.,  3.,  3.,  3., -3.,  5.,  5.,  3.,  0.,\n",
       "        8.,  3.,  5.,  5.,  3.,  0.,  8., -3.,  3.,  0.,  0.,  5.,  3.,\n",
       "       -3.,  0.,  5.,  8.,  0.,  5., -3.,  5.,  3.,  5.,  3.,  5.,  3.,\n",
       "        3.,  5.,  0.,  0.,  0.,  8.,  3.,  5.,  3.,  3.,  3.,  8.,  5.,\n",
       "        0., -3.,  0.,  3.,  3.,  5.,  5., -3.,  8.,  3.,  3.,  3.,  5.,\n",
       "        5.,  5.,  8.,  5.,  5., -3.,  5.,  5.,  0.,  5.,  5., -3.,  3.,\n",
       "        3.,  0., -3.,  3.,  5.,  3.,  3.,  5.,  5.,  5.,  0.,  3.,  3.,\n",
       "        5.,  5.,  3.,  3.,  5.,  5.,  3.,  3.,  0.,  0., -3., -3.,  5.,\n",
       "        3., -3.,  5.,  0.,  0.,  0.,  8.,  0.,  5.,  5.,  5.,  5.,  0.,\n",
       "        5.,  5.,  3.,  5.,  5.,  5.,  5.,  3.,  3.,  3., -3.,  3.,  3.,\n",
       "        0.,  0.,  3., -3.,  8.,  3.,  3., -3.,  3., -3., -3.,  3.,  5.,\n",
       "        3., -3.,  0.,  5.,  5.,  5.,  3.,  3.,  5.,  3.,  5.,  3.,  3.,\n",
       "       -3.,  0.,  5.,  3.,  8.,  3.,  0.,  3.,  3.,  5., -3.,  5.,  3.,\n",
       "        3.,  3.,  3.,  3.,  3.,  3.,  3.,  3.,  5.,  0.,  3.,  3., -3.,\n",
       "        3.,  0.,  3.,  5.,  3.,  3., -3.,  3.,  5.,  3.,  0.,  0.,  8.,\n",
       "       -3.,  3., -3.,  3.,  0.,  5.,  0.,  5.,  3., -3.,  0., -3.])"
      ]
     },
     "execution_count": 36,
     "metadata": {},
     "output_type": "execute_result"
    }
   ],
   "source": [
    "y[u <= F_y[0]] = t_y[0]\n",
    "# Вновь обратим внимание, что:\n",
    "# P(Y = 0) = P(Y <= 0) - P(Y <= -3) = 0.3 - 0.1 = P(0.1 <= U <= 0.3)\n",
    "# Седовательно, присваивать в выборке из Y значения 0\n",
    "# нужно с такой же вероятностью, как в выборке из U\n",
    "# возникают значения между 0.3 и 0.1. А значит достаточно в\n",
    "# выборке из Y везде поставить 0, где в выборке из U\n",
    "# фигурирует число от 0.1 до 0.3.\n",
    "y[(u >= F_y[0]) & (u <= F_y[1])] = t_y[1]\n",
    "# Поступаем по аналогии для остальных значений\n",
    "for i in range(2, len(t_y)):\n",
    "    y[(u >= F_y[i - 1]) & (u <= F_y[i])] = t_y[i]\n",
    "\n",
    "y"
   ]
  },
  {
   "cell_type": "markdown",
   "metadata": {},
   "source": [
    "### Часть №3. Генерация выборки из непрерывного распределения с квантильной функцией"
   ]
  },
  {
   "cell_type": "code",
   "execution_count": 37,
   "metadata": {},
   "outputs": [],
   "source": [
    "# Квантильная функция это функция, обратная функции распределения.\n",
    "# Если для некоторого распределения она существует, то получить\n",
    "# выборку из этого распределения можно при помощи метода обратного\n",
    "# преобразования (inverse transform sampling).\n",
    "\n",
    "# Рассмотрим случайную величину X со\n",
    "# следующей функцией плотности:\n",
    "def f_X(x):                            # создаем функцию \"f_X\" принимающую в качестве аргумента \"x\"\n",
    "    if (x >= 7) & (x <= 10):           # если аргумент принадлежит носителю X, то есть интервалу [7, 10],\n",
    "        value = (1 / 219) * (x ** 2)   # то осуществляем расчет,\n",
    "        return value                   # и возвращаем полученный результат,\n",
    "    return 0                           # а в противном случае возвращаем 0\n",
    "\n",
    "\n"
   ]
  },
  {
   "cell_type": "code",
   "execution_count": 38,
   "metadata": {},
   "outputs": [
    {
     "data": {
      "text/plain": [
       "0"
      ]
     },
     "execution_count": 38,
     "metadata": {},
     "output_type": "execute_result"
    }
   ],
   "source": [
    "# Рассчитаем значение данной функции\n",
    "# плотности в нескольких точках:\n",
    "f_X(8)                                 # осуществим рассчет в точке, принадлежащей носителю X\n",
    "f_X(5)                                 # получим 0, поскольку x < 7  (при x = 5)\n",
    "f_X(12)                                # получим 0, поскольку x > 10 (при x = 12)\n"
   ]
  },
  {
   "cell_type": "code",
   "execution_count": 39,
   "metadata": {},
   "outputs": [],
   "source": [
    "# Теперь запрограммируем функцию распределения\n",
    "# случайной величины X:\n",
    "def F_X(x):\n",
    "    if (x < 7):                         # возвращаем 0, если x < 7\n",
    "        return 0\n",
    "    if (x >= 7) & (x <= 10):            # если аргумент функции распределения принадлежит\n",
    "                                        # носителю x, то осуществляем данный расчет\n",
    "        return (1 / 657) * \\\n",
    "               (x ** 3 - 343)\n",
    "    return 1                            # возвращаем 1, если x > 10\n",
    "\n"
   ]
  },
  {
   "cell_type": "code",
   "execution_count": 40,
   "metadata": {},
   "outputs": [
    {
     "data": {
      "text/plain": [
       "0.5875190258751902"
      ]
     },
     "execution_count": 40,
     "metadata": {},
     "output_type": "execute_result"
    }
   ],
   "source": [
    "# При помощи запрограмированной функции\n",
    "# распределения осуществим следующие\n",
    "# расчеты:\n",
    "F_X(5)                                  # полуем 0, поскольку x < 7\n",
    "F_X(12)                                 # полуем 1, поскольку x > 10\n",
    "F_X(9)                                  # P(X < 9)\n",
    "\n"
   ]
  },
  {
   "cell_type": "code",
   "execution_count": 42,
   "metadata": {},
   "outputs": [
    {
     "name": "stdout",
     "output_type": "stream",
     "text": [
      "8.143755488687901\n",
      "0.2999999999999995\n"
     ]
    }
   ],
   "source": [
    "# Наконец, запрограммируем квантильную\n",
    "# функцию, то есть если на вход подать\n",
    "# значение x, то на выходе функция выдаст\n",
    "# такое число y, что P(X <= y) = x:\n",
    "def q_X(x):\n",
    "        return (657 * x + 343) ** (1 / 3)\n",
    "\n",
    "# Проверим, что квантильная функция\n",
    "# работает корректно:\n",
    "print(q_X(0.3))     # находим квантиль уровня 0.3\n",
    "print(F_X(q_X(0.3))) # получили вновь 0.3, значит все работает верно"
   ]
  },
  {
   "cell_type": "code",
   "execution_count": 44,
   "metadata": {},
   "outputs": [
    {
     "data": {
      "text/plain": [
       "array([8.09772604, 7.89466822, 8.90103007, 9.34347821, 8.53151367,\n",
       "       9.95769487, 9.25576223, 8.70206609, 8.43723647, 8.2839092 ,\n",
       "       9.36745064, 8.57779545, 7.2571606 , 8.45543026, 9.38972387,\n",
       "       7.73561434, 7.70976332, 8.84606208, 8.84683503, 9.12501042,\n",
       "       9.65874243, 9.35597014, 9.06310565, 9.35093379, 8.21887387,\n",
       "       8.34288132, 7.8996258 , 8.1229453 , 9.11599374, 7.38956983,\n",
       "       8.56327257, 8.55478722, 8.7387932 , 8.53970125, 8.18404404,\n",
       "       8.54126559, 9.76084852, 9.87618372, 8.76210763, 9.09744762,\n",
       "       7.48269364, 8.20043901, 8.50652703, 9.69820038, 7.97675112,\n",
       "       8.7081419 , 9.96827539, 8.81216346, 9.06809137, 7.50223953,\n",
       "       9.60422957, 9.04182388, 8.8837294 , 8.28258719, 8.15734021,\n",
       "       8.51316802, 9.24673214, 9.71945345, 8.78653017, 9.21592687,\n",
       "       8.99571943, 9.09996217, 9.22976617, 9.64207151, 7.35366166,\n",
       "       9.45310081, 7.95331564, 7.7783119 , 8.95909096, 7.40401002,\n",
       "       9.74228089, 9.10616084, 9.35337005, 7.07135779, 9.01865163,\n",
       "       8.91612559, 7.64851516, 7.62640474, 9.28303416, 8.20525908,\n",
       "       9.27398008, 8.90950378, 8.42748239, 9.83327591, 9.64048724,\n",
       "       8.32904231, 7.18964298, 8.15946996, 8.45586346, 9.30693571,\n",
       "       9.98982473, 8.32435901, 9.45031834, 9.01527133, 9.27329636,\n",
       "       7.61908142, 8.45797818, 7.94357338, 8.28479629, 8.79419899,\n",
       "       9.20898747, 7.44452024, 7.54197491, 8.21570092, 9.19590149,\n",
       "       9.65186981, 8.90639643, 9.67051408, 8.41478143, 8.19881823,\n",
       "       8.31914048, 7.69362919, 9.61080598, 8.26950022, 8.90394615,\n",
       "       8.97568877, 8.81793527, 7.01199344, 9.97441104, 9.78824571,\n",
       "       7.82656274, 8.11887861, 8.81364391, 9.78039874, 9.96402235,\n",
       "       8.00106827, 8.93694148, 9.55801407, 8.4441605 , 9.37249764,\n",
       "       7.65640367, 9.03549342, 9.69716483, 9.9637813 , 7.33812124,\n",
       "       8.54725313, 7.81548894, 8.61355432, 8.89120314, 7.39446658,\n",
       "       8.13337613, 9.83882573, 8.94965908, 8.63350765, 9.42814327,\n",
       "       9.39931877, 7.21071209, 9.31637839, 9.63476573, 7.6745502 ,\n",
       "       9.49534636, 8.09905266, 8.16506368, 9.20546612, 7.46612669,\n",
       "       9.20446066, 9.74811504, 9.28502041, 8.58301775, 8.57673018,\n",
       "       9.45656304, 8.94045796, 7.36057703, 8.98687348, 9.5768551 ,\n",
       "       8.26435878, 9.8388084 , 9.42121761, 8.96347308, 9.42350426,\n",
       "       7.33723929, 9.68206066, 9.5927325 , 9.79858955, 7.5332491 ,\n",
       "       7.34792708, 7.57081973, 8.45951597, 8.5351239 , 8.93106794,\n",
       "       7.5085178 , 7.8042026 , 9.56920957, 8.6644688 , 9.56033768,\n",
       "       7.03303522, 8.90179832, 9.84865235, 8.98552932, 7.82105256,\n",
       "       9.33918304, 8.39664314, 9.21352867, 7.12866188, 9.12895233,\n",
       "       7.14104405, 9.40654776, 8.6788133 , 7.50661704, 8.87697539,\n",
       "       7.28655064, 9.17461781, 9.9914217 , 9.4670848 , 8.96268332,\n",
       "       7.43156329, 9.29396065, 9.19487462, 7.21289366, 9.52271808,\n",
       "       8.80999553, 8.53981357, 9.5127768 , 8.49665834, 8.70233902,\n",
       "       7.73245507, 8.21355342, 9.64958137, 7.75172775, 8.51398035,\n",
       "       9.97592767, 7.92877439, 9.81444089, 9.81799808, 7.38632547,\n",
       "       8.65180485, 8.76319048, 8.18864431, 7.20548756, 7.94645208,\n",
       "       7.40327937, 7.93451855, 9.55998515, 9.76449996, 7.1880811 ,\n",
       "       8.15017913, 9.95729288, 8.86826499, 9.10367863, 7.02469734,\n",
       "       8.713554  , 9.97437388, 8.38482185, 7.4093021 , 8.64669952,\n",
       "       9.91831434, 8.27960694, 9.53868706, 9.53850316, 7.82875172,\n",
       "       8.59204501, 9.33376571, 8.49347365, 7.76665344, 9.92829967,\n",
       "       9.16781044, 9.69622244, 7.11104694, 8.03297391, 8.76277628,\n",
       "       7.28933046, 9.9847195 , 7.92829566, 8.38203817, 7.84929242,\n",
       "       7.44269171, 7.91439569, 8.14576974, 9.12511906, 8.08131267,\n",
       "       8.3444168 , 7.02646072, 8.35522981, 8.85259094, 7.65993926,\n",
       "       9.0267253 , 8.12108095, 9.11882419, 7.11517728, 9.74750812,\n",
       "       7.07131147, 7.52678674, 9.48602094, 7.19939017, 9.32218138,\n",
       "       9.93618467, 9.7106967 , 9.32007152, 9.90829798, 8.55164572,\n",
       "       9.71347349, 8.32449429, 9.84375383, 7.61020628, 9.86689984,\n",
       "       9.6193423 , 9.65080856, 7.51503601, 9.02418144, 7.07251065,\n",
       "       9.34777942, 7.0344125 , 7.36024601, 7.88991104, 9.71868302,\n",
       "       8.3485022 , 8.86953213, 8.9471962 , 7.88978773, 8.95824454,\n",
       "       9.19431489, 8.13795742, 8.51801414, 8.62078721, 9.84959719,\n",
       "       8.99993165, 9.88536356, 8.9140578 , 8.75846844, 7.01575135,\n",
       "       8.70194215, 9.83853333, 7.79327855, 7.2254748 , 8.48210182,\n",
       "       8.37612499, 9.67683408, 7.11696994, 9.82197638, 9.24571321,\n",
       "       9.78569507, 9.05377924, 9.56994844, 8.25947403, 8.3042462 ,\n",
       "       8.43032956, 9.43127385, 8.36642066, 7.94830423, 9.86158672,\n",
       "       9.79434382, 8.30180363, 9.12563401, 8.05644628, 7.82112202,\n",
       "       8.26202749, 8.23227725, 9.73523656, 9.59463534, 9.31871385,\n",
       "       9.91016136, 8.52981907, 7.95804445, 7.48964956, 8.14723233,\n",
       "       7.59689551, 7.3898953 , 9.04148117, 8.35042203, 8.93752083,\n",
       "       7.76784687, 9.23546155, 7.85459765, 8.07053001, 9.39906659,\n",
       "       8.92425232, 8.25720227, 8.87795592, 9.27910656, 9.80374286,\n",
       "       8.98156135, 7.91511793, 9.41128998, 9.48749692, 7.80061174,\n",
       "       9.59051893, 8.65555436, 9.49235469, 7.93183326, 8.24994913,\n",
       "       9.89755069, 9.18618161, 9.47558174, 9.26481461, 7.81463287,\n",
       "       8.6723414 , 9.5627946 , 9.23065576, 7.02683793, 7.37068317,\n",
       "       8.2954353 , 9.87664515, 8.7316334 , 8.044058  , 8.33858449,\n",
       "       7.8373335 , 8.52577385, 7.86356821, 9.65009762, 8.63015278,\n",
       "       8.07650523, 9.85081826, 8.19087245, 9.79823143, 7.18890837,\n",
       "       9.31238414, 8.71060977, 8.5945758 , 7.15871718, 7.17730027,\n",
       "       8.25050686, 9.88282414, 9.08076525, 8.36511787, 9.06564722,\n",
       "       7.82118076, 7.6713086 , 8.34297133, 9.69131313, 8.78363407,\n",
       "       8.133511  , 9.88984204, 9.57953439, 8.21892259, 9.93851793,\n",
       "       9.97222181, 8.48782436, 9.18126891, 8.47867388, 8.0004047 ,\n",
       "       7.35146473, 8.021774  , 8.04846756, 8.45725193, 7.74436703,\n",
       "       9.89782182, 7.4325332 , 9.10076879, 8.58708709, 8.53275188,\n",
       "       8.37486155, 9.70286791, 8.07877069, 7.09078044, 9.81731542,\n",
       "       9.69394011, 8.06675638, 8.82343666, 7.45706398, 7.39486852,\n",
       "       9.63057107, 8.49270228, 9.19629564, 9.87402902, 7.95838178,\n",
       "       7.058329  , 7.10630599, 9.31811477, 9.83196072, 8.66255092,\n",
       "       8.38458392, 8.87759926, 9.6809573 , 9.171466  , 7.91614384,\n",
       "       9.47973221, 7.55626466, 7.67314477, 9.06752608, 7.93637394,\n",
       "       9.30647988, 8.30409472, 8.06851334, 9.99763075, 7.17701514,\n",
       "       9.15495227, 7.16885744, 9.44458277, 7.9060313 , 7.38044225,\n",
       "       9.16181186, 9.37630595, 9.23851459, 7.22467692, 8.1249127 ,\n",
       "       8.61488787, 8.10094416, 9.56650414, 7.54282244, 9.06618631,\n",
       "       9.97412383, 9.78187559, 7.87813851, 7.00036597, 9.95732633,\n",
       "       9.73624598, 9.82043981, 8.5085765 , 9.40613889, 7.84509434,\n",
       "       8.43781035, 9.66370776, 7.52931479, 9.76194301, 8.74688101,\n",
       "       8.54049807, 8.16235809, 9.81447829, 8.80691009, 9.55095547,\n",
       "       9.67800032, 9.8270432 , 8.15490386, 8.27314946, 9.02037989,\n",
       "       8.5859784 , 9.85070741, 8.45395906, 8.69293555, 9.07950651,\n",
       "       8.47588942, 9.98350057, 7.41652803, 7.87265222, 8.21788887,\n",
       "       7.60621553, 8.09130825, 9.49108733, 8.82176107, 7.1485761 ,\n",
       "       9.96179771, 9.07637172, 7.25408878, 9.19487696, 8.39472778,\n",
       "       7.56032741, 8.9350369 , 9.36253203, 9.22059885, 7.96661158,\n",
       "       8.82731316, 8.86313448, 9.33678654, 8.33683176, 9.5358216 ,\n",
       "       9.10793758, 7.16728902, 8.88764315, 9.68795134, 8.94574863,\n",
       "       7.71115026, 8.78639977, 9.4365613 , 7.46106707, 9.58223746,\n",
       "       7.68028599, 8.85312329, 8.4175816 , 7.97044205, 9.15915717,\n",
       "       7.16328153, 9.444179  , 8.83313951, 9.72018218, 8.81563996,\n",
       "       7.15319949, 7.59058065, 9.53069376, 8.73388933, 8.58762725,\n",
       "       8.20418016, 8.09241185, 9.92472583, 8.56108636, 9.73922541,\n",
       "       9.16106407, 9.67981406, 9.66582137, 9.90339306, 9.28916165,\n",
       "       9.55424475, 9.37761774, 9.04762422, 9.33816997, 9.3341406 ,\n",
       "       7.178255  , 8.80263703, 9.52356824, 7.95087688, 8.65617734,\n",
       "       8.56710715, 8.46993378, 7.50694805, 8.82968831, 8.60058215,\n",
       "       9.20063418, 8.89577032, 7.12099653, 7.13984159, 9.29782733,\n",
       "       9.31356096, 9.91148553, 9.72234539, 8.6646791 , 9.10261398,\n",
       "       8.63283104, 7.88092217, 8.38946519, 7.43651263, 9.20873586,\n",
       "       7.77036644, 8.68623505, 9.92817146, 7.13877148, 7.62135371,\n",
       "       8.13906106, 9.87089768, 9.79623992, 7.65988329, 9.95847574,\n",
       "       9.42129293, 8.86957987, 9.84813468, 9.7313785 , 8.43477147,\n",
       "       9.18236018, 9.15903351, 8.23185162, 7.72424664, 8.66103191,\n",
       "       8.0206531 , 8.32167263, 9.89854955, 8.64444086, 9.25592002,\n",
       "       8.26167574, 9.99092753, 9.18865298, 7.78477316, 7.4138703 ,\n",
       "       9.87398412, 9.87757068, 9.09049744, 7.0751323 , 7.89003936,\n",
       "       9.54434978, 9.71946038, 8.62344113, 8.35460702, 8.05773767,\n",
       "       7.48797853, 7.48318699, 9.89510343, 9.56198565, 7.67024011,\n",
       "       7.82446778, 9.18030352, 9.45550528, 9.56602885, 7.66486984,\n",
       "       9.96511943, 7.89800707, 9.00512441, 9.00026152, 9.92800545,\n",
       "       9.18579847, 8.9929249 , 8.8101535 , 9.45548892, 7.44510019,\n",
       "       7.00933706, 9.89484882, 8.75303011, 8.23626779, 8.36254579,\n",
       "       9.55051598, 8.40714259, 9.4689704 , 8.58341646, 9.64615682,\n",
       "       7.3252399 , 8.70263412, 8.6611482 , 8.0242156 , 9.87495929,\n",
       "       9.78752994, 8.59272311, 7.40978655, 7.82351292, 8.04850807,\n",
       "       8.71156427, 8.26855944, 9.47864974, 8.68785676, 9.70764771,\n",
       "       9.99075349, 7.86993981, 9.06483265, 9.65421087, 9.87860041,\n",
       "       8.11088706, 9.36243908, 7.06647963, 9.72799009, 7.27483439,\n",
       "       9.37828387, 9.98818279, 8.76026197, 7.83262921, 9.01922161,\n",
       "       9.09796894, 9.21272573, 7.69928545, 9.77307003, 9.08960423,\n",
       "       7.18954655, 9.25374566, 7.78504266, 7.12012339, 8.90003073,\n",
       "       9.57320021, 9.68335024, 7.43507363, 9.19972869, 9.31985361,\n",
       "       8.12560947, 9.9368897 , 8.07276157, 7.29975791, 8.81158597,\n",
       "       9.27994631, 7.95675351, 8.26921633, 8.93493647, 9.74539798,\n",
       "       9.41284317, 7.83354997, 7.98129764, 8.82454243, 9.46601286,\n",
       "       9.0836905 , 8.76064573, 9.02589803, 9.43438231, 8.86150705,\n",
       "       9.77086848, 9.88270743, 9.81107976, 9.43058751, 7.96249581,\n",
       "       8.41612238, 8.07716971, 9.18577977, 8.2229656 , 9.43027542,\n",
       "       7.47443422, 9.48164378, 8.99562585, 9.62566328, 8.55482579,\n",
       "       9.10012336, 8.90958346, 9.94643365, 9.43294115, 8.8830224 ,\n",
       "       7.7045292 , 9.78543944, 7.82012894, 9.1659676 , 9.85889156,\n",
       "       7.88315493, 7.89140638, 9.6643429 , 9.6073488 , 8.3110276 ,\n",
       "       8.02682796, 7.52845032, 9.97350996, 9.62555553, 9.77462645,\n",
       "       8.79575948, 7.47786561, 7.22752633, 8.24351467, 9.82238771,\n",
       "       9.8838606 , 9.63929445, 7.64746493, 8.52192505, 7.96222608,\n",
       "       7.81838094, 9.25575229, 8.7170203 , 8.22519337, 7.42195151,\n",
       "       8.88288397, 8.29616858, 8.4340921 , 8.17830994, 8.42206618,\n",
       "       8.91357499, 7.06265173, 9.65455082, 9.82599426, 8.89885945,\n",
       "       8.03675728, 9.97857755, 8.40969439, 9.27826889, 9.26883942,\n",
       "       8.56508767, 7.796135  , 9.92626651, 7.27380928, 8.71424604,\n",
       "       7.87310233, 8.12380845, 9.60941802, 8.36007831, 7.35428237,\n",
       "       7.78585545, 9.68435971, 9.94943796, 8.03662519, 9.23161659,\n",
       "       7.34556934, 9.35349329, 8.51139811, 9.81745835, 8.18167265,\n",
       "       9.87013349, 8.76612996, 8.30210742, 9.1580791 , 7.97430954,\n",
       "       7.90488766, 7.78599071, 9.91139732, 8.73658055, 9.42343267,\n",
       "       8.68194904, 9.00005714, 8.99085207, 9.95575555, 9.21365553,\n",
       "       7.93980097, 7.06727559, 7.86585792, 8.6279441 , 8.44124257,\n",
       "       9.57084012, 9.50640671, 7.37748238, 9.8937792 , 8.83458769,\n",
       "       9.0239584 , 8.47685653, 9.16455378, 9.70986838, 9.22782976,\n",
       "       9.93408225, 9.29722551, 9.59324801, 7.19577302, 9.22464612,\n",
       "       9.17822705, 7.42803558, 9.64217765, 9.07149341, 7.41444437,\n",
       "       9.01874651, 8.69478356, 7.9172399 , 7.08720669, 8.35475343,\n",
       "       9.0865807 , 8.23931345, 8.1676412 , 9.42221491, 9.44068825,\n",
       "       9.34171401, 7.42579592, 8.80279282, 8.91891663, 9.40660685,\n",
       "       9.78329712, 8.36563118, 8.5482009 , 9.37672013, 9.19867706,\n",
       "       8.91911276, 8.30606678, 7.7823978 , 7.7404263 , 7.34712876,\n",
       "       7.34557686, 9.65020513, 8.41117653, 7.26157284, 9.76782334,\n",
       "       7.88206529, 8.03710756, 7.77930676, 9.92831467, 7.47063383,\n",
       "       9.3502321 , 9.8490059 , 9.21254138, 9.68051277, 7.94909208,\n",
       "       9.22780922, 9.29658976, 8.63621139, 9.70805464, 9.2801274 ,\n",
       "       9.76426912, 9.42735078, 8.81443399, 8.7531174 , 8.62266892,\n",
       "       7.09544103, 8.85609781, 8.5311128 , 7.64317287, 7.49616866,\n",
       "       8.60976079, 7.17402469, 9.97052315, 8.39395565, 8.40633375,\n",
       "       7.22142525, 8.54222918, 7.06967662, 7.1319955 , 8.2708719 ,\n",
       "       9.59145869, 8.63764572, 7.06570955, 7.66443122, 9.39450875,\n",
       "       9.39046485, 9.43059875, 8.31091987, 8.31284581, 9.54626998,\n",
       "       8.45571706, 9.36280948, 8.98267373, 8.35090639, 7.34072617,\n",
       "       7.4846761 , 9.7520358 , 8.61858122, 9.98685266, 8.34950955,\n",
       "       7.97502617, 8.30733533, 8.28361584, 9.13277787, 7.0564723 ,\n",
       "       9.45208559, 8.51133164, 8.55890412, 8.70259563, 8.60934885,\n",
       "       8.74963647, 8.29260061, 8.6215451 , 8.4756207 , 8.80865826,\n",
       "       9.09563768, 7.94421439, 8.78089522, 9.01916329, 7.07494337,\n",
       "       8.81500705, 7.93814624, 8.47527684, 9.60467913, 8.22948333,\n",
       "       8.70866938, 7.10887562, 8.17255013, 9.13898166, 8.19351701,\n",
       "       7.8199847 , 8.11278164, 9.8990733 , 7.36823981, 8.6509418 ,\n",
       "       7.25178835, 8.86590696, 7.59982386, 9.12417881, 8.02445192,\n",
       "       9.27129318, 8.29655328, 7.01858123, 8.12686212, 7.34839088])"
      ]
     },
     "execution_count": 44,
     "metadata": {},
     "output_type": "execute_result"
    }
   ],
   "source": [
    "# Сгенерируем выборку из X используя метод\n",
    "# обратного преобразования\n",
    "x = q_X(u)\n",
    "x"
   ]
  },
  {
   "cell_type": "code",
   "execution_count": 45,
   "metadata": {},
   "outputs": [
    {
     "data": {
      "text/plain": [
       "0.246"
      ]
     },
     "execution_count": 45,
     "metadata": {},
     "output_type": "execute_result"
    }
   ],
   "source": [
    "# Сравним истинные значения функции\n",
    "# распределения и рассчитываемые\n",
    "# при помощи ЗБЧ\n",
    "F_X(8)                                     # P(X <= 8)\n",
    "np.mean(x <= 8)                            # приблизительное значение P(X <= 8)\n",
    "\n"
   ]
  },
  {
   "cell_type": "markdown",
   "metadata": {},
   "source": [
    "### Часть №4. Генерация выборок из известных распределений"
   ]
  },
  {
   "cell_type": "code",
   "execution_count": 48,
   "metadata": {},
   "outputs": [
    {
     "data": {
      "text/plain": [
       "True"
      ]
     },
     "execution_count": 48,
     "metadata": {},
     "output_type": "execute_result"
    }
   ],
   "source": [
    "# Выборка из Хи-Квадрат распределения\n",
    "# с 5-ю степенями свободы\n",
    "chi2.rvs(size = 1000,                      # объем выборки\n",
    "         df = 5)                           # число степеней свободы\n",
    "\n",
    "# Выборка из распределения Стьюдента\n",
    "# с 5-ю степенями свободы\n",
    "t.rvs(size = 1000,                         # объем выборки\n",
    "      df = 5)                              # число степеней свободы\n",
    "\n",
    "# Выборка из распределения Фишера\n",
    "# с 5-ю и 10-ю степенями свободы\n",
    "f.rvs(size = 1000,                         # объем выборки\n",
    "      dfn = 5,                             # первое число степеней свободы\n",
    "      dfd = 10)                            # второе число степеней свободы\n",
    "\n",
    "# Выборка из нормального распределения\n",
    "# с математическим ожиданием 5 и\n",
    "# дисперсией 10\n",
    "norm.rvs(size = 1000,                      # объем выборки\n",
    "         loc = 5,                          # первое число степеней свободы\n",
    "         scale = 10)                       # второе число степеней свободы\n",
    "\n",
    "# Выборка из распределения Пуассона\n",
    "# с параметром lambda = 5\n",
    "poisson.rvs(size = 1000,                   # объем выборки\n",
    "            mu = 5)                        # лямбда\n",
    "\n",
    "# Выборка из Биномиального распределения\n",
    "# с параметром 0.6 и 10\n",
    "binom.rvs(size = 1000,                     # объем выборки\n",
    "          n = 10,                          # число независимых испытаний Бернулли\n",
    "          p = 0.6)                         # вероятность успеха в одном испытании\n",
    "\n",
    "2 == 2"
   ]
  },
  {
   "cell_type": "markdown",
   "metadata": {},
   "source": [
    "## Задания"
   ]
  },
  {
   "cell_type": "code",
   "execution_count": null,
   "metadata": {},
   "outputs": [],
   "source": [
    "# 1. Симулируйте выборку объемом в 10000\n",
    "#    наблюдений из распределения:\n",
    "#    1) Хи-Квадрат с 5-ю степенями свободы\n",
    "#    2) Стьюдента с 10-ю степенями свободы\n",
    "#    3) Нормального с математическим ожиданием 10\n",
    "#           и дисперсией 25"
   ]
  },
  {
   "cell_type": "code",
   "execution_count": 173,
   "metadata": {},
   "outputs": [],
   "source": [
    "# 1)\n",
    "v1 = chi2.rvs(size = 10000, df = 5)\n",
    "v2 = t.rvs(size = 10000, df = 10)\n",
    "v3 = norm.rvs(size = 10000,                      \n",
    "         loc = 10,                         \n",
    "         scale = 5)\n"
   ]
  },
  {
   "cell_type": "code",
   "execution_count": 54,
   "metadata": {},
   "outputs": [],
   "source": [
    "# 2. Симулируйте выборку из Хи-Квадрат распределения\n",
    "#    с 10-ю степенями свободы. При помощи ЗБЧ найдите\n",
    "#    аппроксимации:\n",
    "#    1)    E(X)\n",
    "#    2)    E(X ^ 3)\n",
    "#    2)    Var(X)\n",
    "#    3*)   Median(X)\n",
    "#    4)    P(X <= 1.7)\n",
    "#    5*)   квантиль X уровня 0.3\n",
    "#    6)    Var(sin(X))"
   ]
  },
  {
   "cell_type": "code",
   "execution_count": 175,
   "metadata": {},
   "outputs": [
    {
     "name": "stdout",
     "output_type": "stream",
     "text": [
      "E(X) = 9.999423113100777\n",
      "E(X ^ 3) = 1679.7414249270148\n",
      "Var(X) = 19.998239138298853\n",
      "Median(X) = 9.341414352348188\n",
      "P(X <= 1.7) = 0.0018191\n",
      "квантиль X уровня 0.3 = 7.265847872470225\n",
      "Var(sin(X)) = 0.4992573387997966\n"
     ]
    }
   ],
   "source": [
    "chi = chi2.rvs(size = 10000000,                      \n",
    "         df = 10) \n",
    "print('E(X) =', np.mean(chi))\n",
    "print('E(X ^ 3) =', np.mean(chi ** 3))\n",
    "print('Var(X) =', np.var(chi))\n",
    "print('Median(X) =', (sorted(chi))[4999999])\n",
    "print('P(X <= 1.7) =', np.mean(chi <= 1.7))\n",
    "print('квантиль X уровня 0.3 =', (np.quantile(chi, 0.3)))\n",
    "print('Var(sin(X)) =', np.var(np.sin(chi)))"
   ]
  },
  {
   "cell_type": "code",
   "execution_count": null,
   "metadata": {},
   "outputs": [],
   "source": [
    "# 3. Пусть X и Y независимые случайные величины, причем\n",
    "#    X~U(1,5) и Y~chi2(5). При помощи ЗБЧ аппроксимируйте:\n",
    "#    1)    E(X + Y)\n",
    "#    2)    P(X - Y <= 2)\n",
    "#    3)    Var(X / Y)"
   ]
  },
  {
   "cell_type": "code",
   "execution_count": 120,
   "metadata": {},
   "outputs": [],
   "source": [
    "x1 = np.random.uniform(size = 100000, low = 1, high = 5)\n",
    "x2 = chi2.rvs(size = 100000, df = 5)"
   ]
  },
  {
   "cell_type": "code",
   "execution_count": 121,
   "metadata": {},
   "outputs": [
    {
     "name": "stdout",
     "output_type": "stream",
     "text": [
      "E(X + Y) = 7.996185655050194\n"
     ]
    }
   ],
   "source": [
    "# 1\n",
    "print('E(X + Y) =', np.mean(x1 + x2))"
   ]
  },
  {
   "cell_type": "code",
   "execution_count": 125,
   "metadata": {},
   "outputs": [
    {
     "name": "stdout",
     "output_type": "stream",
     "text": [
      "P(X - Y <= 2) = 0.91797\n"
     ]
    }
   ],
   "source": [
    "# 2\n",
    "print('P(X - Y <= 2) =', np.mean(x1 - x2 <= 2))"
   ]
  },
  {
   "cell_type": "code",
   "execution_count": 126,
   "metadata": {},
   "outputs": [
    {
     "name": "stdout",
     "output_type": "stream",
     "text": [
      "Var(X / Y) = 2.0756840670826184\n"
     ]
    }
   ],
   "source": [
    "# 3\n",
    "print('Var(X / Y) =', np.var(x1 / x2))"
   ]
  },
  {
   "cell_type": "code",
   "execution_count": 127,
   "metadata": {},
   "outputs": [],
   "source": [
    "# 4. В предыдущих задачах постройте графики, демонстрирующие,\n",
    "#    что вероятность отклонения аппроксимаций от истинных\n",
    "#    значений снижается по мере увеличения объема выборки.\n",
    "#    В качестве метрики используйте:\n",
    "#    1*)   Абсолютное отклонение\n",
    "#    2*)   Квадрат абсолютного отклонения"
   ]
  },
  {
   "cell_type": "code",
   "execution_count": 143,
   "metadata": {},
   "outputs": [
    {
     "data": {
      "text/plain": [
       "array([2.23778803, 1.85342794, 0.76125045, ..., 0.0147572 , 0.01486619,\n",
       "       0.01478988])"
      ]
     },
     "execution_count": 143,
     "metadata": {},
     "output_type": "execute_result"
    }
   ],
   "source": [
    "# 1\n",
    "# Хи-квадрат с 10 степенями свободы\n",
    "np.random.seed(333333)\n",
    "n_new = 100000                              # объем новой выборки из U~(0,1)\n",
    "chi_new = chi2.rvs(size = n_new,                      # объем выборки\n",
    "         df = 10)  # создадим новую большую выборку\n",
    "step = 10                                   # разобьем эту большую выборку на\n",
    "                                            # подвыборки, первая из которых\n",
    "                                            # имеет объем step, а каждая следующая\n",
    "                                            # на step больше предыдущей\n",
    "m = int(len(chi_new) / step)                # количество таких выборок\n",
    "chi_mean = np.zeros(m)                      # здесь будем сохраняться аппроксимацию E(U), полученную\n",
    "                                            # на каждой из подвыборок\n",
    "for i in range(0, m):\n",
    "    chi_mean[i] = np.mean(chi_new[0:((i + 1) * step - 1)])  # аппроксимируем E(U) на очередной подвыборке\n",
    "dev = abs(chi_mean - 10) # считаем абсолютные отклонения аппроксимации\n",
    "                        # от истинного значения: вспомним, что E(chi) = 10\n",
    "dev_2 = dev **2\n",
    "dev"
   ]
  },
  {
   "cell_type": "code",
   "execution_count": 144,
   "metadata": {},
   "outputs": [
    {
     "data": {
      "text/plain": [
       "[<matplotlib.lines.Line2D at 0x11c39f280>]"
      ]
     },
     "execution_count": 144,
     "metadata": {},
     "output_type": "execute_result"
    },
    {
     "data": {
      "image/png": "[encoded data removed]",
      "text/plain": [
       "<Figure size 432x288 with 1 Axes>"
      ]
     },
     "metadata": {
      "needs_background": "light"
     },
     "output_type": "display_data"
    }
   ],
   "source": [
    "# Визуализируем результат (абсолютное отклонение)\n",
    "plt.xlabel('Sample Size / ' + str(step))\n",
    "plt.ylabel('|E(U) - mean(u)|')\n",
    "plt.ylim(ymin = 0, ymax = max(dev))\n",
    "plt.plot(dev, 'ro', markersize = 1)\n",
    "# Вывод: по мере увеличения объемов\n",
    "# подвыборки вероятность отклоения аппроксимации\n",
    "# от истины уменьшается и стремится к нулю.\n",
    "# Примечание: вместо подвыборок можно было бы\n",
    "# использовать новые выборки, но это существенно\n",
    "# увеличило бы вычислительную нагрузку."
   ]
  },
  {
   "cell_type": "code",
   "execution_count": 145,
   "metadata": {},
   "outputs": [
    {
     "data": {
      "text/plain": [
       "[<matplotlib.lines.Line2D at 0x11c459640>]"
      ]
     },
     "execution_count": 145,
     "metadata": {},
     "output_type": "execute_result"
    },
    {
     "data": {
      "image/png": "[encoded data removed]",
      "text/plain": [
       "<Figure size 432x288 with 1 Axes>"
      ]
     },
     "metadata": {
      "needs_background": "light"
     },
     "output_type": "display_data"
    }
   ],
   "source": [
    "# (квадрат отклонения)\n",
    "plt.xlabel('Sample Size / ' + str(step))\n",
    "plt.ylabel('(E(chi) - mean(chi))^2')\n",
    "plt.ylim(ymin = 0, ymax = max(dev_2))\n",
    "plt.plot(dev_2, 'ro', markersize = 1)"
   ]
  },
  {
   "cell_type": "code",
   "execution_count": 146,
   "metadata": {},
   "outputs": [
    {
     "data": {
      "text/plain": [
       "array([0.30563554, 0.40521755, 0.4383252 , ..., 0.01286705, 0.01301133,\n",
       "       0.01289232])"
      ]
     },
     "execution_count": 146,
     "metadata": {},
     "output_type": "execute_result"
    }
   ],
   "source": [
    "# 3 часть задачи (сумма двух распределений)\n",
    "np.mean(x1 + x2)\n",
    "np.random.seed(333333)\n",
    "n_new = 100000                              \n",
    "p3_new = np.random.uniform(size = n_new, low = 1, high = 5) + chi2.rvs(size = n_new, df = 5)\n",
    "step = 10                                   # разобьем эту большую выборку на\n",
    "                                            # подвыборки, первая из которых\n",
    "                                            # имеет объем step, а каждая следующая\n",
    "                                            # на step больше предыдущей\n",
    "m = int(len(p3_new) / step)                # количество таких выборок\n",
    "p3_mean = np.zeros(m)                      # здесь будем сохраняться аппроксимацию E(U), полученную\n",
    "                                            # на каждой из подвыборок\n",
    "for i in range(0, m):\n",
    "    p3_mean[i] = np.mean(p3_new[0:((i + 1) * step - 1)])  # аппроксимируем E(U) на очередной подвыборке\n",
    "dev = abs(p3_mean - 8) # считаем абсолютные отклонения аппроксимации\n",
    "                        # от истинного значения: вспомним, что E(X + Y) = 8\n",
    "dev_2 = dev **2\n",
    "dev"
   ]
  },
  {
   "cell_type": "code",
   "execution_count": 147,
   "metadata": {},
   "outputs": [
    {
     "data": {
      "text/plain": [
       "[<matplotlib.lines.Line2D at 0x11c60aa00>]"
      ]
     },
     "execution_count": 147,
     "metadata": {},
     "output_type": "execute_result"
    },
    {
     "data": {
      "image/png": "[encoded data removed]",
      "text/plain": [
       "<Figure size 432x288 with 1 Axes>"
      ]
     },
     "metadata": {
      "needs_background": "light"
     },
     "output_type": "display_data"
    }
   ],
   "source": [
    "plt.xlabel('Sample Size / ' + str(step))\n",
    "plt.ylabel('|E(p3) - mean(p3)|')\n",
    "plt.ylim(ymin = 0, ymax = max(dev))\n",
    "plt.plot(dev, 'ro', markersize = 1)"
   ]
  },
  {
   "cell_type": "code",
   "execution_count": 148,
   "metadata": {},
   "outputs": [
    {
     "data": {
      "text/plain": [
       "[<matplotlib.lines.Line2D at 0x11cee9e20>]"
      ]
     },
     "execution_count": 148,
     "metadata": {},
     "output_type": "execute_result"
    },
    {
     "data": {
      "image/png": "[encoded data removed]",
      "text/plain": [
       "<Figure size 432x288 with 1 Axes>"
      ]
     },
     "metadata": {
      "needs_background": "light"
     },
     "output_type": "display_data"
    }
   ],
   "source": [
    "plt.xlabel('Sample Size / ' + str(step))\n",
    "plt.ylabel('(E(p3) - mean(p3))^2')\n",
    "plt.ylim(ymin = 0, ymax = max(dev_2))\n",
    "plt.plot(dev_2, 'ro', markersize = 1)"
   ]
  },
  {
   "cell_type": "markdown",
   "metadata": {},
   "source": [
    "Остальные пункты можно сделать по аналогии. По уже сделанным пунктам можно увидеть, что, действительно с ростом числа наблюдений отклонения становятся все ближе к нулю."
   ]
  },
  {
   "cell_type": "code",
   "execution_count": 149,
   "metadata": {},
   "outputs": [],
   "source": [
    "# 5. Не используя встроенные функции симулируйте выборку из:\n",
    "#    1)    Распределения Бернулли с параметром p = 0.3\n",
    "#    2)    Биномиального распределения с\n",
    "#          параметрами n = 5, p = 0.3 (используйте встроенную квантильную функцию)\n",
    "#    3)    Экспоненциального распределения с параметром lambda = 5\n",
    "#    4)    Нормального распределения с\n",
    "#          параметрами mu = 5, sigma = 25 (используйте встроенную квантильную функцию)\n",
    "#    5*)   Геометрического распределения с\n",
    "#          вероятностью успеха 0.3\n",
    "#    6**)  Распределения Пуассона с математическим\n",
    "#          ожидаем 5\n",
    "#    7**)  Суммы распределений из предыдущих двух пунктов,\n",
    "#          предполагая независимость."
   ]
  },
  {
   "cell_type": "code",
   "execution_count": 169,
   "metadata": {},
   "outputs": [
    {
     "data": {
      "text/plain": [
       "0.3003083"
      ]
     },
     "execution_count": 169,
     "metadata": {},
     "output_type": "execute_result"
    }
   ],
   "source": [
    "# 1 \n",
    "bernulli = np.random.sample(10000000)\n",
    "bernulli = (bernulli <= 0.3) * 1\n",
    "bernulli.mean()"
   ]
  },
  {
   "cell_type": "code",
   "execution_count": 178,
   "metadata": {},
   "outputs": [
    {
     "data": {
      "text/plain": [
       "1.502"
      ]
     },
     "execution_count": 178,
     "metadata": {},
     "output_type": "execute_result"
    }
   ],
   "source": [
    "# 2\n",
    "bi = binom(5, 0.3) # генерируем функцию распределения\n",
    "y_out = bi.ppf(u) # выборка с помощью квантильной функции (bi.ppf -- квантильная функция)\n",
    "y_out.mean() # проверяем, что мат ожидание то самое)"
   ]
  },
  {
   "cell_type": "code",
   "execution_count": 186,
   "metadata": {},
   "outputs": [
    {
     "data": {
      "text/plain": [
       "0.1994398294350168"
      ]
     },
     "execution_count": 186,
     "metadata": {},
     "output_type": "execute_result"
    }
   ],
   "source": [
    "# 3\n",
    "y_exp = expon(scale = 1 / 5).ppf(u) # искомая выборка, но можно было выразить х через функцию распределения, но так быстрее\n",
    "np.mean(y_exp)"
   ]
  },
  {
   "cell_type": "code",
   "execution_count": 189,
   "metadata": {},
   "outputs": [
    {
     "data": {
      "text/plain": [
       "24.889255867167318"
      ]
     },
     "execution_count": 189,
     "metadata": {},
     "output_type": "execute_result"
    }
   ],
   "source": [
    "# 4\n",
    "y_norm = norm(5, 5).ppf(u) # выборка\n",
    "y_norm.var()"
   ]
  },
  {
   "cell_type": "code",
   "execution_count": 193,
   "metadata": {},
   "outputs": [
    {
     "data": {
      "text/plain": [
       "3.336"
      ]
     },
     "execution_count": 193,
     "metadata": {},
     "output_type": "execute_result"
    }
   ],
   "source": [
    "# 5\n",
    "y_geom = geom(0.3).ppf(u)\n",
    "y_geom.mean()"
   ]
  },
  {
   "cell_type": "code",
   "execution_count": 196,
   "metadata": {},
   "outputs": [
    {
     "data": {
      "text/plain": [
       "4.985"
      ]
     },
     "execution_count": 196,
     "metadata": {},
     "output_type": "execute_result"
    }
   ],
   "source": [
    "# 6\n",
    "y_pois = poisson(5).ppf(u)\n",
    "y_pois.mean()"
   ]
  },
  {
   "cell_type": "code",
   "execution_count": 199,
   "metadata": {},
   "outputs": [
    {
     "data": {
      "text/plain": [
       "8.321"
      ]
     },
     "execution_count": 199,
     "metadata": {},
     "output_type": "execute_result"
    }
   ],
   "source": [
    "y = poisson(5).ppf(u) + geom(0.3).ppf(u)\n",
    "y.mean()"
   ]
  }
 ],
 "metadata": {
  "kernelspec": {
   "display_name": "Python 3",
   "language": "python",
   "name": "python3"
  },
  "language_info": {
   "codemirror_mode": {
    "name": "ipython",
    "version": 3
   },
   "file_extension": ".py",
   "mimetype": "text/x-python",
   "name": "python",
   "nbconvert_exporter": "python",
   "pygments_lexer": "ipython3",
   "version": "3.8.3"
  }
 },
 "nbformat": 4,
 "nbformat_minor": 2
}

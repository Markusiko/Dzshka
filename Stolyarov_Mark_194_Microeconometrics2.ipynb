{
 "cells": [
  {
   "cell_type": "markdown",
   "id": "321c9449",
   "metadata": {},
   "source": [
    "# Домашнее задание №2 \n",
    "Выполнил Столяров Марк БЭК194"
   ]
  },
  {
   "cell_type": "markdown",
   "id": "bd25e566",
   "metadata": {},
   "source": [
    "В данной работе вы будете изучать, как различные факторы влияют на зарплату женщин с учетом неслучайного отбора в число занятых. Для этого используется встроенный датафрейм, описание которого дано в файле “Homework1.R”. Для тех, кто не использует R, прикладывается excel файл “Mroz87.xlsx” с соответствующими данными."
   ]
  },
  {
   "cell_type": "code",
   "execution_count": 1,
   "id": "62652f8b",
   "metadata": {},
   "outputs": [],
   "source": [
    "%load_ext rpy2.ipython"
   ]
  },
  {
   "cell_type": "code",
   "execution_count": 2,
   "id": "c4c28960",
   "metadata": {},
   "outputs": [],
   "source": [
    "import pandas as pd\n",
    "import numpy as np"
   ]
  },
  {
   "cell_type": "code",
   "execution_count": 3,
   "id": "6106f9f0",
   "metadata": {},
   "outputs": [
    {
     "name": "stderr",
     "output_type": "stream",
     "text": [
      "R[write to console]: Загрузка требуемого пакета: maxLik\n",
      "\n",
      "R[write to console]: Загрузка требуемого пакета: miscTools\n",
      "\n",
      "R[write to console]: \n",
      "Please cite the 'maxLik' package as:\n",
      "Henningsen, Arne and Toomet, Ott (2011). maxLik: A package for maximum likelihood estimation in R. Computational Statistics 26(3), 443-458. DOI 10.1007/s00180-010-0217-1.\n",
      "\n",
      "If you have questions, suggestions, or comments regarding the 'maxLik' package, please use a forum or 'tracker' at maxLik's R-Forge site:\n",
      "https://r-forge.r-project.org/projects/maxlik/\n",
      "\n",
      "R[write to console]: Загрузка требуемого пакета: mgcv\n",
      "\n",
      "R[write to console]: Загрузка требуемого пакета: nlme\n",
      "\n",
      "R[write to console]: This is mgcv 1.8-40. For overview type 'help(\"mgcv-package\")'.\n",
      "\n",
      "R[write to console]: \n",
      "This is GJRM 0.2-6.\n",
      "For overview type 'help(\"GJRM-package\")'.\n",
      "\n",
      "\n",
      "R[write to console]: Type 'citation(\"pROC\")' for a citation.\n",
      "\n",
      "R[write to console]: \n",
      "Присоединяю пакет: ‘pROC’\n",
      "\n",
      "\n",
      "R[write to console]: Следующие объекты скрыты от ‘package:stats’:\n",
      "\n",
      "    cov, smooth, var\n",
      "\n",
      "\n",
      "R[write to console]: \n",
      "Присоединяю пакет: ‘numDeriv’\n",
      "\n",
      "\n",
      "R[write to console]: Следующий объект скрыт от ‘package:maxLik’:\n",
      "\n",
      "    hessian\n",
      "\n",
      "\n"
     ]
    }
   ],
   "source": [
    "%%R\n",
    "\n",
    "#install.packages(\"ggplot2\", repos='http://cran.us.r-project.org', quiet=TRUE)\n",
    "library(ggplot2)\n",
    "library('sampleSelection')\n",
    "library(\"GJRM\")                             \n",
    "library(\"pbivnorm\")  \n",
    "library(\"pROC\")\n",
    "library(\"DescTools\")\n",
    "library(\"glmx\") \n",
    "library(\"numDeriv\")\n",
    "library(\"margins\")\n",
    "library(\"crch\")                     \n",
    "library(\"hpa\")                           \n",
    "library(\"readxl\")\n",
    "library(\"mvtnorm\")\n"
   ]
  },
  {
   "cell_type": "code",
   "execution_count": 4,
   "id": "ff615e01",
   "metadata": {},
   "outputs": [
    {
     "name": "stdout",
     "output_type": "stream",
     "text": [
      "File: /var/folders/8x/3rynjhnd7016rpmk3k2d0k8c0000gn/T//RtmpzD2YC3/Rtxte5ac7a9593a1\n",
      "Mroz87             package:sampleSelection             R Documentation\n",
      "\n",
      "\n",
      "\n",
      "_\bU._\bS. _\bW_\bo_\bm_\be_\bn'_\bs _\bL_\ba_\bb_\bo_\br _\bF_\bo_\br_\bc_\be _\bP_\ba_\br_\bt_\bi_\bc_\bi_\bp_\ba_\bt_\bi_\bo_\bn\n",
      "\n",
      "\n",
      "\n",
      "_\bD_\be_\bs_\bc_\br_\bi_\bp_\bt_\bi_\bo_\bn:\n",
      "\n",
      "\n",
      "\n",
      "     The ‘Mroz87’ data frame contains data about 753 married women.\n",
      "\n",
      "     These data are collected within the \"Panel Study of Income\n",
      "\n",
      "     Dynamics\" (PSID).  Of the 753 observations, the first 428 are for\n",
      "\n",
      "     women with positive hours worked in 1975, while the remaining 325\n",
      "\n",
      "     observations are for women who did not work for pay in 1975.  A\n",
      "\n",
      "     more complete discussion of the data is found in Mroz (1987),\n",
      "\n",
      "     Appendix 1.\n",
      "\n",
      "\n",
      "\n",
      "_\bU_\bs_\ba_\bg_\be:\n",
      "\n",
      "\n",
      "\n",
      "     data(Mroz87)\n",
      "\n",
      "     \n",
      "\n",
      "_\bF_\bo_\br_\bm_\ba_\bt:\n",
      "\n",
      "\n",
      "\n",
      "     This data frame contains the following columns:\n",
      "\n",
      "\n",
      "\n",
      "     lfp Dummy variable for labor-force participation.\n",
      "\n",
      "\n",
      "\n",
      "     hours Wife's hours of work in 1975.\n",
      "\n",
      "\n",
      "\n",
      "     kids5 Number of children 5 years old or younger.\n",
      "\n",
      "\n",
      "\n",
      "     kids618 Number of children 6 to 18 years old.\n",
      "\n",
      "\n",
      "\n",
      "     age Wife's age.\n",
      "\n",
      "\n",
      "\n",
      "     educ Wife's educational attainment, in years.\n",
      "\n",
      "\n",
      "\n",
      "     wage Wife's average hourly earnings, in 1975 dollars.\n",
      "\n",
      "\n",
      "\n",
      "     repwage Wife's wage reported at the time of the 1976 interview.\n",
      "\n",
      "\n",
      "\n",
      "     hushrs Husband's hours worked in 1975.\n",
      "\n",
      "\n",
      "\n",
      "     husage Husband's age.\n",
      "\n",
      "\n",
      "\n",
      "     huseduc Husband's educational attainment, in years.\n",
      "\n",
      "\n",
      "\n",
      "     huswage Husband's wage, in 1975 dollars.\n",
      "\n",
      "\n",
      "\n",
      "     faminc Family income, in 1975 dollars.\n",
      "\n",
      "\n",
      "\n",
      "     mtr Marginal tax rate facing the wife.\n",
      "\n",
      "\n",
      "\n",
      "     motheduc Wife's mother's educational attainment, in years.\n",
      "\n",
      "\n",
      "\n",
      "     fatheduc Wife's father's educational attainment, in years.\n",
      "\n",
      "\n",
      "\n",
      "     unem Unemployment rate in county of residence, in percentage\n",
      "\n",
      "          points.\n",
      "\n",
      "\n",
      "\n",
      "     city Dummy variable = 1 if live in large city, else 0.\n",
      "\n",
      "\n",
      "\n",
      "     exper Actual years of wife's previous labor market experience.\n",
      "\n",
      "\n",
      "\n",
      "     nwifeinc Non-wife income.\n",
      "\n",
      "\n",
      "\n",
      "     wifecoll Dummy variable for wife's college attendance.\n",
      "\n",
      "\n",
      "\n",
      "     huscoll Dummy variable for husband's college attendance.\n",
      "\n",
      "\n",
      "\n",
      "_\bS_\bo_\bu_\br_\bc_\be:\n",
      "\n",
      "\n",
      "\n",
      "     Mroz, T. A. (1987) The sensitivity of an empirical model of\n",
      "\n",
      "     married women's hours of work to economic and statistical\n",
      "\n",
      "     assumptions.  _Econometrica_ *55*, 765-799.\n",
      "\n",
      "\n",
      "\n",
      "     PSID Staff, The Panel Study of Income Dynamics, Institute for\n",
      "\n",
      "     Social ResearchPanel Study of Income Dynamics, University of\n",
      "\n",
      "     Michigan, <https://psidonline.isr.umich.edu>.\n",
      "\n",
      "\n",
      "\n",
      "_\bE_\bx_\ba_\bm_\bp_\bl_\be_\bs:\n",
      "\n",
      "\n",
      "\n",
      "     ## Wooldridge( 2003 ): example 17.5, page 590\n",
      "\n",
      "     data( Mroz87 )\n",
      "\n",
      "     # Two-step estimation\n",
      "\n",
      "     summary( heckit( lfp ~ nwifeinc + educ + exper + I( exper^2 ) + age +\n",
      "\n",
      "        kids5 + kids618, log( wage ) ~ educ + exper + I( exper^2 ), Mroz87,\n",
      "\n",
      "        method = \"2step\" ) )\n",
      "\n",
      "     \n",
      "\n",
      "---\n"
     ]
    }
   ],
   "source": [
    "%%R\n",
    "help('Mroz87')"
   ]
  },
  {
   "cell_type": "markdown",
   "id": "99f1eef7",
   "metadata": {},
   "source": [
    "## Часть 1. Теория и гипотезы\n",
    "$\\bf{1.1.}$ Выберите независимые переменные для уравнения зарплаты и уравнения занятости. Кратко теоретически обоснуйте выбор каждой из них: не обязательно со ссылками на литературу, достаточно здравого смысла. Укажите и кратко обоснуйте предполагаемые направления эффектов. Уравнение занятости должно включать по крайней мере одну переменную, которой не было в уравнении зарплаты, и одну переменную,\n",
    "которая есть в уравнении зарплаты. Желательно, чтобы общая для двух уравнений переменная была непрерывной, например, возраст, а также не использовать более трех переменных в каждом из уравнений.\n",
    "\n",
    "$\\bf{\\text{Решение:}}$"
   ]
  },
  {
   "cell_type": "markdown",
   "id": "52ea1897",
   "metadata": {},
   "source": [
    "Для уравнения заработной платы возьмем возраст (`age`) и кол-во лет образования (`educ`). С одной стороны, чем старше человек, тем он менее производительный (меньше вынослив, например), что может понижать заработную плату, с другой $-$ возраст может отражать стаж и, соответственно, навыки человека, а чем они выше, тем больше (вероятно) у человека будет заработная плата. Так что эффект неоднозначен. Уровень образования пропорционален человеческому капиталу, поэтому у работников с большим временем обучения (более высоким образованием) заработная плата, скорее всего, должна быть больше, так как такой человек способен выполнять более сложный труд.\n",
    "\n",
    "Для уравнения занятости возьмем так же непрерывную переменную возраста (`age`). Чем старше человек, тем больше у него было времени для получения соответствующих навыков и для нахождения рабочего места (выигрыша конкуренции за рабочее место), что соответствует тому, что влияние возраста на занятость может быть положительным, хотя по достижению определенного возраста люди перестают работать (становятся пенсионерами), поэтому эффект опять же неоднозначен. Вторым регрессором в уравнении отбора будет выступать число детей у человека, которое мы сформируем как `kids = kids5 + kids618`. Чем больше у человека детей, тем больше ему необходимо денег, чтобы прокормить их, а для этого нужно зарабатывать, то есть, работать. Эффект кол-ва детей на уравнение занятости, кажется, должен быть положительным."
   ]
  },
  {
   "cell_type": "code",
   "execution_count": 5,
   "id": "087c6012",
   "metadata": {},
   "outputs": [
    {
     "data": {
      "text/html": [
       "<div>\n",
       "<style scoped>\n",
       "    .dataframe tbody tr th:only-of-type {\n",
       "        vertical-align: middle;\n",
       "    }\n",
       "\n",
       "    .dataframe tbody tr th {\n",
       "        vertical-align: top;\n",
       "    }\n",
       "\n",
       "    .dataframe thead th {\n",
       "        text-align: right;\n",
       "    }\n",
       "</style>\n",
       "<table border=\"1\" class=\"dataframe\">\n",
       "  <thead>\n",
       "    <tr style=\"text-align: right;\">\n",
       "      <th></th>\n",
       "      <th>lfp</th>\n",
       "      <th>hours</th>\n",
       "      <th>kids5</th>\n",
       "      <th>kids618</th>\n",
       "      <th>age</th>\n",
       "      <th>educ</th>\n",
       "      <th>wage</th>\n",
       "      <th>repwage</th>\n",
       "      <th>hushrs</th>\n",
       "      <th>husage</th>\n",
       "      <th>...</th>\n",
       "      <th>mtr</th>\n",
       "      <th>motheduc</th>\n",
       "      <th>fatheduc</th>\n",
       "      <th>unem</th>\n",
       "      <th>city</th>\n",
       "      <th>exper</th>\n",
       "      <th>nwifeinc</th>\n",
       "      <th>wifecoll</th>\n",
       "      <th>huscoll</th>\n",
       "      <th>kids</th>\n",
       "    </tr>\n",
       "  </thead>\n",
       "  <tbody>\n",
       "    <tr>\n",
       "      <th>count</th>\n",
       "      <td>753.000000</td>\n",
       "      <td>753.000000</td>\n",
       "      <td>753.000000</td>\n",
       "      <td>753.000000</td>\n",
       "      <td>753.000000</td>\n",
       "      <td>753.000000</td>\n",
       "      <td>753.000000</td>\n",
       "      <td>753.000000</td>\n",
       "      <td>753.000000</td>\n",
       "      <td>753.000000</td>\n",
       "      <td>...</td>\n",
       "      <td>753.000000</td>\n",
       "      <td>753.000000</td>\n",
       "      <td>753.000000</td>\n",
       "      <td>753.000000</td>\n",
       "      <td>753.000000</td>\n",
       "      <td>753.00000</td>\n",
       "      <td>753.000000</td>\n",
       "      <td>753.000000</td>\n",
       "      <td>753.000000</td>\n",
       "      <td>753.000000</td>\n",
       "    </tr>\n",
       "    <tr>\n",
       "      <th>mean</th>\n",
       "      <td>0.568393</td>\n",
       "      <td>740.576361</td>\n",
       "      <td>0.237716</td>\n",
       "      <td>1.353254</td>\n",
       "      <td>42.537849</td>\n",
       "      <td>12.286853</td>\n",
       "      <td>2.374565</td>\n",
       "      <td>1.849734</td>\n",
       "      <td>2267.270916</td>\n",
       "      <td>45.120850</td>\n",
       "      <td>...</td>\n",
       "      <td>0.678863</td>\n",
       "      <td>9.250996</td>\n",
       "      <td>8.808765</td>\n",
       "      <td>8.623506</td>\n",
       "      <td>0.642762</td>\n",
       "      <td>10.63081</td>\n",
       "      <td>20.128964</td>\n",
       "      <td>0.281541</td>\n",
       "      <td>0.391766</td>\n",
       "      <td>1.590969</td>\n",
       "    </tr>\n",
       "    <tr>\n",
       "      <th>std</th>\n",
       "      <td>0.495630</td>\n",
       "      <td>871.314216</td>\n",
       "      <td>0.523959</td>\n",
       "      <td>1.319874</td>\n",
       "      <td>8.072574</td>\n",
       "      <td>2.280246</td>\n",
       "      <td>3.241829</td>\n",
       "      <td>2.419887</td>\n",
       "      <td>595.566649</td>\n",
       "      <td>8.058793</td>\n",
       "      <td>...</td>\n",
       "      <td>0.083496</td>\n",
       "      <td>3.367468</td>\n",
       "      <td>3.572290</td>\n",
       "      <td>3.114934</td>\n",
       "      <td>0.479504</td>\n",
       "      <td>8.06913</td>\n",
       "      <td>11.634797</td>\n",
       "      <td>0.450049</td>\n",
       "      <td>0.488469</td>\n",
       "      <td>1.460481</td>\n",
       "    </tr>\n",
       "    <tr>\n",
       "      <th>min</th>\n",
       "      <td>0.000000</td>\n",
       "      <td>0.000000</td>\n",
       "      <td>0.000000</td>\n",
       "      <td>0.000000</td>\n",
       "      <td>30.000000</td>\n",
       "      <td>5.000000</td>\n",
       "      <td>0.000000</td>\n",
       "      <td>0.000000</td>\n",
       "      <td>175.000000</td>\n",
       "      <td>30.000000</td>\n",
       "      <td>...</td>\n",
       "      <td>0.441500</td>\n",
       "      <td>0.000000</td>\n",
       "      <td>0.000000</td>\n",
       "      <td>3.000000</td>\n",
       "      <td>0.000000</td>\n",
       "      <td>0.00000</td>\n",
       "      <td>-0.029057</td>\n",
       "      <td>0.000000</td>\n",
       "      <td>0.000000</td>\n",
       "      <td>0.000000</td>\n",
       "    </tr>\n",
       "    <tr>\n",
       "      <th>25%</th>\n",
       "      <td>0.000000</td>\n",
       "      <td>0.000000</td>\n",
       "      <td>0.000000</td>\n",
       "      <td>0.000000</td>\n",
       "      <td>36.000000</td>\n",
       "      <td>12.000000</td>\n",
       "      <td>0.000000</td>\n",
       "      <td>0.000000</td>\n",
       "      <td>1928.000000</td>\n",
       "      <td>38.000000</td>\n",
       "      <td>...</td>\n",
       "      <td>0.621500</td>\n",
       "      <td>7.000000</td>\n",
       "      <td>7.000000</td>\n",
       "      <td>7.500000</td>\n",
       "      <td>0.000000</td>\n",
       "      <td>4.00000</td>\n",
       "      <td>13.025040</td>\n",
       "      <td>0.000000</td>\n",
       "      <td>0.000000</td>\n",
       "      <td>0.000000</td>\n",
       "    </tr>\n",
       "    <tr>\n",
       "      <th>50%</th>\n",
       "      <td>1.000000</td>\n",
       "      <td>288.000000</td>\n",
       "      <td>0.000000</td>\n",
       "      <td>1.000000</td>\n",
       "      <td>43.000000</td>\n",
       "      <td>12.000000</td>\n",
       "      <td>1.625000</td>\n",
       "      <td>0.000000</td>\n",
       "      <td>2164.000000</td>\n",
       "      <td>46.000000</td>\n",
       "      <td>...</td>\n",
       "      <td>0.691500</td>\n",
       "      <td>10.000000</td>\n",
       "      <td>7.000000</td>\n",
       "      <td>7.500000</td>\n",
       "      <td>1.000000</td>\n",
       "      <td>9.00000</td>\n",
       "      <td>17.700001</td>\n",
       "      <td>0.000000</td>\n",
       "      <td>0.000000</td>\n",
       "      <td>1.000000</td>\n",
       "    </tr>\n",
       "    <tr>\n",
       "      <th>75%</th>\n",
       "      <td>1.000000</td>\n",
       "      <td>1516.000000</td>\n",
       "      <td>0.000000</td>\n",
       "      <td>2.000000</td>\n",
       "      <td>49.000000</td>\n",
       "      <td>13.000000</td>\n",
       "      <td>3.787900</td>\n",
       "      <td>3.580000</td>\n",
       "      <td>2553.000000</td>\n",
       "      <td>52.000000</td>\n",
       "      <td>...</td>\n",
       "      <td>0.721500</td>\n",
       "      <td>12.000000</td>\n",
       "      <td>12.000000</td>\n",
       "      <td>11.000000</td>\n",
       "      <td>1.000000</td>\n",
       "      <td>15.00000</td>\n",
       "      <td>24.466000</td>\n",
       "      <td>1.000000</td>\n",
       "      <td>1.000000</td>\n",
       "      <td>3.000000</td>\n",
       "    </tr>\n",
       "    <tr>\n",
       "      <th>max</th>\n",
       "      <td>1.000000</td>\n",
       "      <td>4950.000000</td>\n",
       "      <td>3.000000</td>\n",
       "      <td>8.000000</td>\n",
       "      <td>60.000000</td>\n",
       "      <td>17.000000</td>\n",
       "      <td>25.000000</td>\n",
       "      <td>9.980000</td>\n",
       "      <td>5010.000000</td>\n",
       "      <td>60.000000</td>\n",
       "      <td>...</td>\n",
       "      <td>0.941500</td>\n",
       "      <td>17.000000</td>\n",
       "      <td>17.000000</td>\n",
       "      <td>14.000000</td>\n",
       "      <td>1.000000</td>\n",
       "      <td>45.00000</td>\n",
       "      <td>96.000000</td>\n",
       "      <td>1.000000</td>\n",
       "      <td>1.000000</td>\n",
       "      <td>8.000000</td>\n",
       "    </tr>\n",
       "  </tbody>\n",
       "</table>\n",
       "<p>8 rows × 23 columns</p>\n",
       "</div>"
      ],
      "text/plain": [
       "              lfp        hours       kids5     kids618         age  \\\n",
       "count  753.000000   753.000000  753.000000  753.000000  753.000000   \n",
       "mean     0.568393   740.576361    0.237716    1.353254   42.537849   \n",
       "std      0.495630   871.314216    0.523959    1.319874    8.072574   \n",
       "min      0.000000     0.000000    0.000000    0.000000   30.000000   \n",
       "25%      0.000000     0.000000    0.000000    0.000000   36.000000   \n",
       "50%      1.000000   288.000000    0.000000    1.000000   43.000000   \n",
       "75%      1.000000  1516.000000    0.000000    2.000000   49.000000   \n",
       "max      1.000000  4950.000000    3.000000    8.000000   60.000000   \n",
       "\n",
       "             educ        wage     repwage       hushrs      husage  ...  \\\n",
       "count  753.000000  753.000000  753.000000   753.000000  753.000000  ...   \n",
       "mean    12.286853    2.374565    1.849734  2267.270916   45.120850  ...   \n",
       "std      2.280246    3.241829    2.419887   595.566649    8.058793  ...   \n",
       "min      5.000000    0.000000    0.000000   175.000000   30.000000  ...   \n",
       "25%     12.000000    0.000000    0.000000  1928.000000   38.000000  ...   \n",
       "50%     12.000000    1.625000    0.000000  2164.000000   46.000000  ...   \n",
       "75%     13.000000    3.787900    3.580000  2553.000000   52.000000  ...   \n",
       "max     17.000000   25.000000    9.980000  5010.000000   60.000000  ...   \n",
       "\n",
       "              mtr    motheduc    fatheduc        unem        city      exper  \\\n",
       "count  753.000000  753.000000  753.000000  753.000000  753.000000  753.00000   \n",
       "mean     0.678863    9.250996    8.808765    8.623506    0.642762   10.63081   \n",
       "std      0.083496    3.367468    3.572290    3.114934    0.479504    8.06913   \n",
       "min      0.441500    0.000000    0.000000    3.000000    0.000000    0.00000   \n",
       "25%      0.621500    7.000000    7.000000    7.500000    0.000000    4.00000   \n",
       "50%      0.691500   10.000000    7.000000    7.500000    1.000000    9.00000   \n",
       "75%      0.721500   12.000000   12.000000   11.000000    1.000000   15.00000   \n",
       "max      0.941500   17.000000   17.000000   14.000000    1.000000   45.00000   \n",
       "\n",
       "         nwifeinc    wifecoll     huscoll        kids  \n",
       "count  753.000000  753.000000  753.000000  753.000000  \n",
       "mean    20.128964    0.281541    0.391766    1.590969  \n",
       "std     11.634797    0.450049    0.488469    1.460481  \n",
       "min     -0.029057    0.000000    0.000000    0.000000  \n",
       "25%     13.025040    0.000000    0.000000    0.000000  \n",
       "50%     17.700001    0.000000    0.000000    1.000000  \n",
       "75%     24.466000    1.000000    1.000000    3.000000  \n",
       "max     96.000000    1.000000    1.000000    8.000000  \n",
       "\n",
       "[8 rows x 23 columns]"
      ]
     },
     "execution_count": 5,
     "metadata": {},
     "output_type": "execute_result"
    }
   ],
   "source": [
    "df = pd.read_excel(\"Mroz87.xlsx\")\n",
    "df['kids'] = df['kids5'] + df['kids618']\n",
    "df.describe()"
   ]
  },
  {
   "cell_type": "code",
   "execution_count": 6,
   "id": "61d9e6fd",
   "metadata": {},
   "outputs": [
    {
     "name": "stdout",
     "output_type": "stream",
     "text": [
      "# A tibble: 753 × 23\n",
      "     lfp hours kids5 kids618   age  educ  wage repwage hushrs husage huseduc\n",
      "   <dbl> <dbl> <dbl>   <dbl> <dbl> <dbl> <dbl>   <dbl>  <dbl>  <dbl>   <dbl>\n",
      " 1     1  1610     1       0    32    12  3.35    2.65   2708     34      12\n",
      " 2     1  1656     0       2    30    12  1.39    2.65   2310     30       9\n",
      " 3     1  1980     1       3    35    12  4.55    4.04   3072     40      12\n",
      " 4     1   456     0       3    34    12  1.10    3.25   1920     53      10\n",
      " 5     1  1568     1       2    31    14  4.59    3.6    2000     32      12\n",
      " 6     1  2032     0       0    54    12  4.74    4.7    1040     57      11\n",
      " 7     1  1440     0       2    37    16  8.33    5.95   2670     37      12\n",
      " 8     1  1020     0       0    54    12  7.84    9.98   4120     53       8\n",
      " 9     1  1458     0       2    48    12  2.13    0      1995     52       4\n",
      "10     1  1600     0       2    39    12  4.69    4.15   2100     43      12\n",
      "# … with 743 more rows, and 12 more variables: huswage <dbl>, faminc <dbl>,\n",
      "#   mtr <dbl>, motheduc <dbl>, fatheduc <dbl>, unem <dbl>, city <dbl>,\n",
      "#   exper <dbl>, nwifeinc <dbl>, wifecoll <dbl>, huscoll <dbl>, kids <dbl>\n"
     ]
    }
   ],
   "source": [
    "%%R\n",
    "\n",
    "data <- read_excel(\"Mroz87.xlsx\")\n",
    "data$kids <- data$kids5 + data$kids618\n",
    "data"
   ]
  },
  {
   "cell_type": "markdown",
   "id": "8d44450a",
   "metadata": {},
   "source": [
    "## Часть 2. Модель Тобина\n",
    "$\\bf{2.1.}$ Оцените Тобит модель, предварительно записав максимизируемую функцию правдоподобия. Результат представьте в форме таблицы (можно, например, использовать выдачу из stata, R или python).\n",
    "\n",
    "$\\bf{\\text{Решение:}}$"
   ]
  },
  {
   "cell_type": "markdown",
   "id": "6d20264d",
   "metadata": {},
   "source": [
    "Пусть $X\\; -$ матрица регрессоров (векторы единиц, возраста и числа лет образования индивида), $y\\;-$ наблюдаемая заработная плата (`wage`). Модель Тобина имеет следующий вид (в нашей задаче, где левая граница равна нулю):\n",
    "$$y^*_i = x_i'\\beta + \\varepsilon_i, \\text{ } \\varepsilon_i \\sim \\mathrm{N}(0, \\sigma^2)$$\n",
    "$$\n",
    "y_i = y^*_i \\cdot I(y^*_i > 0)\n",
    "$$\n",
    "где $I(x)\\; -$ индикатор того, что условие $x$ выполняется. То есть, в нашей задаче зарплаты не наблюдаются для тех, кто не работает (у них мы видим значение $y_i=0$)."
   ]
  },
  {
   "cell_type": "markdown",
   "id": "2afcf0b3",
   "metadata": {},
   "source": [
    "Тогда функцию правдоподобия, что мы будем максимизировать для нахождения $\\beta$ и $\\sigma$, можно записать следующим образом:\n",
    "\n",
    "$$\n",
    "L(X, y, \\beta, \\sigma) = \\prod_{y_i > 0}\\frac{1}{\\sigma} \\phi\\left(\\frac{y_i - x'_i \\beta}{\\sigma}\\right) \\prod_{y_i = 0} P(y_i^* < 0) \n",
    "= \\prod_{y_i > 0}\\frac{1}{\\sigma} \\phi\\left(\\frac{y_i-x'_i \\beta}{\\sigma}\\right) \\prod_{y_i = 0} \\Phi(-x'_i \\beta)\n",
    "\\longrightarrow \\max_{\\beta, \\sigma}\n",
    "$$\n",
    "\n",
    "Здесь $\\Phi()$ и $\\phi()$ $-$ соответственно, функции распределения и плотности стандартной нормальной случайной величины."
   ]
  },
  {
   "cell_type": "code",
   "execution_count": 7,
   "id": "88db2b8c",
   "metadata": {},
   "outputs": [
    {
     "name": "stdout",
     "output_type": "stream",
     "text": [
      "\n",
      "Call:\n",
      "crch(formula = wage ~ age + educ, data = data, dist = \"gaussian\", left = 0, \n",
      "    truncated = FALSE)\n",
      "\n",
      "Standardized residuals:\n",
      "    Min      1Q  Median      3Q     Max \n",
      "-0.9096 -0.1116  0.2725  0.6604  5.1755 \n",
      "\n",
      "Coefficients (location model):\n",
      "            Estimate Std. Error z value Pr(>|z|)    \n",
      "(Intercept) -7.02410    1.51982  -4.622 3.81e-06 ***\n",
      "age         -0.01668    0.02344  -0.712    0.477    \n",
      "educ         0.69445    0.08370   8.297  < 2e-16 ***\n",
      "\n",
      "Coefficients (scale model with log link):\n",
      "            Estimate Std. Error z value Pr(>|z|)    \n",
      "(Intercept)  1.54892    0.03726   41.57   <2e-16 ***\n",
      "---\n",
      "Signif. codes:  0 '***' 0.001 '**' 0.01 '*' 0.05 '.' 0.1 ' ' 1 \n",
      "\n",
      "Distribution: gaussian\n",
      "Log-likelihood: -1508 on 4 Df\n",
      "Number of iterations in BFGS optimization: 18 \n"
     ]
    }
   ],
   "source": [
    "%%R\n",
    "\n",
    "model_tb <- crch(wage ~ age + educ,      \n",
    "                 data = data,                                \n",
    "                 left = 0,                          \n",
    "                 truncated = FALSE,                  \n",
    "                 dist = \"gaussian\")   \n",
    "\n",
    "summary(model_tb)  "
   ]
  },
  {
   "cell_type": "markdown",
   "id": "ee2d5bb5",
   "metadata": {},
   "source": [
    "$\\bf{2.2.}$ Опишите преимущества Тобит модели над усеченной регрессией. Объясните, в каких случаях можно использовать усеченную регрессию, но не получится использовать Тобит модель: приведите гипотетический (можно использовать фантазию) пример.\n",
    "\n",
    "$\\bf{\\text{Решение:}}$"
   ]
  },
  {
   "cell_type": "markdown",
   "id": "1ddb5c2d",
   "metadata": {},
   "source": [
    "Тобит модель позволяет учитывать наблюдения, для которых известны регрессоры, но неизвестны значения зависимой переменной (известно, что для некоторых наблюдений таргет принимает граничное значение), усеченная регрессия же использует лишь наблюдения с известными как регрессорами, так и регрессантами. Поэтому оценки Тобит модели являются более эффективными в таком случае (когда целевая переменная может принимать, как непрерывные, так и дискретные граничные значения).\n",
    "\n",
    "Соответственно, использование Тобита не представляется валидным, когда нам доступна лишь усеченная выборка (то есть, нет наблюдений, для которых известны факторы, но неизвестен таргет). Тогда Тобит даст оценки ММП для наблюдений с $y_i > 0$, что будет аналогично обычному МНК и никак не будет учитывать смещение в выборке, поэтому оценки получатся несостоятельными. Пример (усеченная выборка): для исследования зависимости дохода от разных социальных факторов в Москве были опрошены жители беднейших районов города (в результате богатые респонденты в выборку не попали, ни их доход, ни их признаки). \n",
    "\n",
    "\n"
   ]
  },
  {
   "cell_type": "markdown",
   "id": "fa2048cf",
   "metadata": {},
   "source": [
    "$\\bf{2.3.}$ Проинтерпретируйте полученные значения оценок для каждой независимой переменной. Поясните, как полученные результаты соотносятся с высказанными вами ранее предположениями.\n",
    "\n",
    "$\\bf{\\text{Решение:}}$"
   ]
  },
  {
   "cell_type": "markdown",
   "id": "a876f3ec",
   "metadata": {},
   "source": [
    "С увеличением числа лет образования на 1 при прочих равных увеличивает почасовой доход на приблизительно 0.7$, что согласуется с нашими предположениями. Коэффициент при возрасте оказался незначимым, что может говорить о двунаправленном влиянии возраста на доход (такие предположения мы тоже высказывали). Возможно, включение возраста нелинейно изменило бы ситуацию (такой случай будет представлен и проинтерпретирован) ниже."
   ]
  },
  {
   "cell_type": "markdown",
   "id": "07f73963",
   "metadata": {},
   "source": [
    "$\\bf{2.4.}$ Для индивида с произвольными характеристиками укажите (предварительно записав используемые для расчетов формулы):\n",
    "1. $E(y^*)$; \n",
    "2. $E(y)$;\n",
    "3. Вероятности того, что индивид работает.\n",
    "\n",
    "$\\bf{\\text{Решение:}}$"
   ]
  },
  {
   "cell_type": "markdown",
   "id": "89cc6caf",
   "metadata": {},
   "source": [
    "Возьмем произвольного индивида, которому 21 год и который проучился 14 лет. Пусть $x=(1, 21, 14)^T$."
   ]
  },
  {
   "cell_type": "code",
   "execution_count": 8,
   "id": "fcc462b0",
   "metadata": {},
   "outputs": [],
   "source": [
    "%%R\n",
    "\n",
    "Mark <- data.frame(age = 21,\n",
    "                   educ = 14)\n",
    "\n",
    "est_tb <- coef(model_tb)                             \n",
    "coef_tb <- est_tb[-length(est_tb)]                                                                       \n",
    "sigma_tb <- exp(est_tb[length(est_tb)]) "
   ]
  },
  {
   "cell_type": "markdown",
   "id": "7b483e57",
   "metadata": {},
   "source": [
    "1. $E(y^*)$.\n",
    "\n",
    "$$E(y^*) = E(x' \\beta + \\varepsilon) = x' \\beta \\approx 2.35$$\n",
    "\n"
   ]
  },
  {
   "cell_type": "code",
   "execution_count": 9,
   "id": "25f46d61",
   "metadata": {},
   "outputs": [
    {
     "name": "stdout",
     "output_type": "stream",
     "text": [
      "       1 \n",
      "2.347898 \n"
     ]
    }
   ],
   "source": [
    "%%R\n",
    "\n",
    "wage_est <- predict(model_tb,\n",
    "                    newdata = Mark)\n",
    "\n",
    "wage_est"
   ]
  },
  {
   "cell_type": "markdown",
   "id": "3abf9f37",
   "metadata": {},
   "source": [
    "2. $E(y)$.\n",
    "\n",
    "$$\n",
    "E(y) = E(y | y^* > 0) \\cdot P(y^* > 0) + E(0 | y^* < 0)\\cdot P(y^* < 0) = (x'\\beta + \\sigma \\lambda(\\alpha)) \\cdot \\Phi\\left(\\frac{x'\\beta}{\\sigma}\\right)\\approx3.28\n",
    ",\n",
    "$$\n",
    "\n",
    "где $\\lambda(\\alpha) = \\frac{\\phi(\\alpha)}{1 - \\Phi(\\alpha)}\n",
    "= \\frac{\\phi(\\alpha)}{\\Phi(-\\alpha)}$, а $\\alpha=\\frac{0 - x'\\beta}{\\sigma}$."
   ]
  },
  {
   "cell_type": "code",
   "execution_count": 10,
   "id": "158c6f93",
   "metadata": {},
   "outputs": [
    {
     "name": "stdout",
     "output_type": "stream",
     "text": [
      "       1 \n",
      "3.280432 \n"
     ]
    }
   ],
   "source": [
    "%%R\n",
    "\n",
    "prob_work <- pnorm(wage_est / sigma_tb)\n",
    "\n",
    "a <- (0 - wage_est) / sigma_tb\n",
    "lambda <- dnorm(a) / pnorm(-a)\n",
    "epsilon_E <- sigma_tb * lambda\n",
    "\n",
    "wage_cond <- wage_est + epsilon_E\n",
    "wage_est_cens <- prob_work * wage_cond\n",
    "wage_est_cens"
   ]
  },
  {
   "cell_type": "markdown",
   "id": "4cb402fb",
   "metadata": {},
   "source": [
    "3. Вероятность того, что индивид работает.\n",
    "\n",
    "$$\n",
    "P(y^* > 0) = P(x'\\beta + \\varepsilon > 0) = 1 - \\Phi\\left(-\\frac{x'\\beta}{\\sigma}\\right) = \\Phi\\left( \\frac{x'\\beta}{\\sigma}\\right) \\approx 0.69\n",
    "$$"
   ]
  },
  {
   "cell_type": "code",
   "execution_count": 11,
   "id": "0ac3ec89",
   "metadata": {},
   "outputs": [
    {
     "name": "stdout",
     "output_type": "stream",
     "text": [
      "        1 \n",
      "0.6910672 \n"
     ]
    }
   ],
   "source": [
    "%%R\n",
    "\n",
    "prob_est <- pnorm(wage_est / sigma_tb)\n",
    "prob_est"
   ]
  },
  {
   "cell_type": "markdown",
   "id": "72038f4d",
   "metadata": {},
   "source": [
    "$\\bf{2.5.}$ Для индивида с произвольными характеристиками рассчитайте предельный эффект любой переменной (не дамми), входящей линейно (предварительно записав используемые для расчетов формулы) на:\n",
    "1. $E(y^*)$;\n",
    "2. $E(y)$;\n",
    "3. Вероятности того, что индивид работает\n",
    "\n",
    "$\\bf{\\text{Решение:}}$"
   ]
  },
  {
   "cell_type": "markdown",
   "id": "35a7ef50",
   "metadata": {},
   "source": [
    "Найдем предельные эффекты возраста ($x_{s}$) на указанные величины для индивида $i$, характеристики которого указаны в предыдущем пункте:"
   ]
  },
  {
   "cell_type": "markdown",
   "id": "d4da5b98",
   "metadata": {},
   "source": [
    "1. $E(y^*)$.\n",
    "\n",
    "$$\\frac{\\partial E(y^*)}{\\partial x_s} = \\beta_s \\approx -0.017$$"
   ]
  },
  {
   "cell_type": "code",
   "execution_count": 12,
   "id": "7ec58b5a",
   "metadata": {},
   "outputs": [
    {
     "name": "stdout",
     "output_type": "stream",
     "text": [
      "        age \n",
      "-0.01668404 \n"
     ]
    }
   ],
   "source": [
    "%%R\n",
    "\n",
    "coef_tb[2]"
   ]
  },
  {
   "cell_type": "markdown",
   "id": "7bb69640",
   "metadata": {},
   "source": [
    "2. $E(y)$.\n",
    "\n",
    "$$\n",
    "E(y) = \\Phi\\left(\\frac{x'\\beta}{\\sigma}\\right)\\cdot x'\\beta + \\sigma \\phi\\left(\\frac{x'\\beta}{\\sigma} \\right)\n",
    "$$\n",
    "\n",
    "\n",
    "$$\\frac{\\partial E(y)}{\\partial x_s} = \\frac{\\beta_s}{\\sigma}\\cdot \\phi\\left(\\frac{x'\\beta}{\\sigma} \\right)\\cdot x'\\beta + \\beta_s \\Phi\\left(\\frac{x'\\beta}{\\sigma} \\right) + \\sigma\\cdot \\frac{\\partial\\phi\\left(\\frac{x'\\beta}{\\sigma}\\right)}{\\partial x_s}$$\n",
    "\n",
    "Заметим, что \n",
    "$$\n",
    "\\frac{\\partial\\phi\\left(\\frac{x'\\beta}{\\sigma}\\right)}{\\partial x_s} = \\phi\\left(\\frac{x'\\beta}{\\sigma}\\right) \\cdot \\frac{-2\\beta_s \\cdot x'\\beta}{2\\sigma^2}\n",
    "$$\n",
    "\n",
    "Тогда\n",
    "$$\\frac{\\partial E(y)}{\\partial x_s} = \\beta_s \\Phi\\left(\\frac{x'\\beta}{\\sigma} \\right)\\approx-0.0115$$\n"
   ]
  },
  {
   "cell_type": "code",
   "execution_count": 13,
   "id": "613ee2cf",
   "metadata": {},
   "outputs": [
    {
     "name": "stdout",
     "output_type": "stream",
     "text": [
      "        age \n",
      "-0.01152979 \n"
     ]
    }
   ],
   "source": [
    "%%R\n",
    "ME_cens <- coef_tb[2] * prob_est\n",
    "ME_cens"
   ]
  },
  {
   "cell_type": "markdown",
   "id": "55a2e4b5",
   "metadata": {},
   "source": [
    "3. Вероятность того, что индивид работает.\n",
    "\n",
    "$$P(y^* > 0) = \\Phi\\left( \\frac{x'\\beta}{\\sigma}\\right)$$\n",
    "\n",
    "$$\n",
    "\\frac{\\partial P(y^* > 0)}{\\partial x_s} = \\frac{\\beta_s}{\\sigma}\\cdot \\phi\\left(\\frac{x'\\beta}{\\sigma} \\right)\n",
    "\\approx -0.00125\n",
    "$$"
   ]
  },
  {
   "cell_type": "code",
   "execution_count": 14,
   "id": "b9ca620e",
   "metadata": {},
   "outputs": [
    {
     "name": "stdout",
     "output_type": "stream",
     "text": [
      "        age \n",
      "-0.00124877 \n"
     ]
    }
   ],
   "source": [
    "%%R\n",
    "\n",
    "ME_prob <- coef_tb[2] / sigma_tb * dnorm(wage_est / sigma_tb)\n",
    "ME_prob"
   ]
  },
  {
   "cell_type": "markdown",
   "id": "f1f3e3ec",
   "metadata": {},
   "source": [
    "$\\bf{2.6^*.}$ Добавьте в модель нелинейный эффект (например, квадрат). Повторите предыдущий пункт для переменной, имеющей нелинейный эффект.\n",
    "\n",
    "$\\bf{\\text{Решение:}}$"
   ]
  },
  {
   "cell_type": "markdown",
   "id": "3bc6fce1",
   "metadata": {},
   "source": [
    "Добавим в модель возраст в квадрате (по-прежнему для краткости будем обозначать переменную возраста как $x_s$, а кэффициенты при возрасте и возрасте в квадрате как $\\beta_s$ и $\\beta_{s2}, соответственно$)."
   ]
  },
  {
   "cell_type": "code",
   "execution_count": 15,
   "id": "1560aa19",
   "metadata": {},
   "outputs": [
    {
     "name": "stdout",
     "output_type": "stream",
     "text": [
      "\n",
      "Call:\n",
      "crch(formula = wage ~ age + I(age^2) + educ, data = data, dist = \"gaussian\", \n",
      "    left = 0, truncated = FALSE)\n",
      "\n",
      "Standardized residuals:\n",
      "    Min      1Q  Median      3Q     Max \n",
      "-0.9411 -0.1032  0.2445  0.6701  5.1553 \n",
      "\n",
      "Coefficients (location model):\n",
      "              Estimate Std. Error z value Pr(>|z|)    \n",
      "(Intercept) -18.711175   5.562244  -3.364 0.000768 ***\n",
      "age           0.544455   0.257260   2.116 0.034314 *  \n",
      "I(age^2)     -0.006519   0.002978  -2.189 0.028597 *  \n",
      "educ          0.697209   0.083617   8.338  < 2e-16 ***\n",
      "\n",
      "Coefficients (scale model with log link):\n",
      "            Estimate Std. Error z value Pr(>|z|)    \n",
      "(Intercept)  1.54605    0.03725   41.51   <2e-16 ***\n",
      "---\n",
      "Signif. codes:  0 '***' 0.001 '**' 0.01 '*' 0.05 '.' 0.1 ' ' 1 \n",
      "\n",
      "Distribution: gaussian\n",
      "Log-likelihood: -1505 on 5 Df\n",
      "Number of iterations in BFGS optimization: 25 \n"
     ]
    }
   ],
   "source": [
    "%%R\n",
    "\n",
    "model_tb_age2 <- crch(wage ~ age + I(age ^ 2) + educ,      \n",
    "                 data = data,                                \n",
    "                 left = 0,                          \n",
    "                 truncated = FALSE,                  \n",
    "                 dist = \"gaussian\")   \n",
    "\n",
    "summary(model_tb_age2)  "
   ]
  },
  {
   "cell_type": "markdown",
   "id": "93a6c739",
   "metadata": {},
   "source": [
    "Заметим, что теперь коэффициенты при возрасте стали значимыми на 5%-ом уровне. Значимая параболическая зависимость дохода от возраста, при том, парабола с ветвями вниз и вершиной при возрасте равном 45. То есть, сперва по мере взросления, когда человек набирается опыта, его доход с каждым новым годом увеличивается при прочих равных, а после 45, когда он стареет и теряет в своей производительности, его доход с каждым годом уменьшается."
   ]
  },
  {
   "cell_type": "code",
   "execution_count": 16,
   "id": "3e6f114a",
   "metadata": {},
   "outputs": [],
   "source": [
    "%%R\n",
    "\n",
    "est_tb_age2 <- coef(model_tb_age2)                             \n",
    "coef_tb_age2 <- est_tb_age2[-length(est_tb_age2)]                                                                       \n",
    "sigma_tb_age2 <- exp(est_tb_age2[length(est_tb_age2)])"
   ]
  },
  {
   "cell_type": "markdown",
   "id": "9e741f35",
   "metadata": {},
   "source": [
    "Теперь найдем предельные эффекты:\n",
    "\n",
    "1. $E(y^*)$.\n",
    "\n",
    "$$\\frac{\\partial E(y^*)}{\\partial x_s} = \\beta_s + 2 \\beta_{2s}x_s \\approx 0.27$$\n"
   ]
  },
  {
   "cell_type": "code",
   "execution_count": 17,
   "id": "5b3ea0ff",
   "metadata": {},
   "outputs": [
    {
     "name": "stdout",
     "output_type": "stream",
     "text": [
      "        age\n",
      "1 0.2706382\n"
     ]
    }
   ],
   "source": [
    "%%R\n",
    "\n",
    "est_tb_age2[2] + 2 * est_tb_age2[3] * Mark[1]"
   ]
  },
  {
   "cell_type": "markdown",
   "id": "9b0e6905",
   "metadata": {},
   "source": [
    "2. $E(y)$.\n",
    "\n",
    "$$\n",
    "E(y) = \\Phi\\left(\\frac{x'\\beta}{\\sigma}\\right)\\cdot x'\\beta + \\sigma \\phi\\left(\\frac{x'\\beta}{\\sigma} \\right)\n",
    "$$\n",
    "\n",
    "\n",
    "$$\\frac{\\partial E(y)}{\\partial x_s} = \\frac{\\beta_s + 2 \\beta_{2s}x_s}{\\sigma}\\cdot \\phi\\left(\\frac{x'\\beta}{\\sigma} \\right)\\cdot x'\\beta\n",
    "+ (\\beta_s + 2 \\beta_{2s}x_s)\\cdot \\Phi\\left(\\frac{x'\\beta}{\\sigma} \\right) \n",
    "+ \\sigma\\cdot \\frac{\\partial\\phi\\left(\\frac{x'\\beta}{\\sigma}\\right)}{\\partial x_s}$$\n",
    "\n",
    "Заметим, что \n",
    "$$\n",
    "\\frac{\\partial\\phi\\left(\\frac{x'\\beta}{\\sigma}\\right)}{\\partial x_s} = \\phi\\left(\\frac{x'\\beta}{\\sigma}\\right) \\cdot \\frac{-2(\\beta_s + 2 \\beta_{2s}x_s) \\cdot x'\\beta}{2\\sigma^2}\n",
    "$$\n",
    "\n",
    "Тогда\n",
    "$$\\frac{\\partial E(y)}{\\partial x_s} = (\\beta_s + 2 \\beta_{2s}x_s)\\cdot \\Phi\\left(\\frac{x'\\beta}{\\sigma} \\right) \\approx 0.126$$\n",
    "\n"
   ]
  },
  {
   "cell_type": "code",
   "execution_count": 18,
   "id": "35aaa72b",
   "metadata": {},
   "outputs": [
    {
     "name": "stdout",
     "output_type": "stream",
     "text": [
      "        age\n",
      "1 0.1263161\n"
     ]
    }
   ],
   "source": [
    "%%R\n",
    "\n",
    "(est_tb_age2[2] + 2 * est_tb_age2[3] * Mark[1]) * pnorm(predict(model_tb_age2, \n",
    "                     newdata = Mark) / sigma_tb_age2)"
   ]
  },
  {
   "cell_type": "markdown",
   "id": "4f11ad0c",
   "metadata": {},
   "source": [
    "3. Вероятность того, что индивид работает.\n",
    "\n",
    "$$P(y^* > 0) = \\Phi\\left( \\frac{x'\\beta}{\\sigma}\\right)$$\n",
    "\n",
    "$$\n",
    "\\frac{\\partial P(y^* > 0)}{\\partial x_s} = \\frac{\\beta_s + 2 \\beta_{2s}x_s}{\\sigma}\\cdot \\phi\\left(\\frac{x'\\beta}{\\sigma} \\right) \\approx 0.023\n",
    "$$"
   ]
  },
  {
   "cell_type": "code",
   "execution_count": 19,
   "id": "d09d7d02",
   "metadata": {},
   "outputs": [
    {
     "name": "stdout",
     "output_type": "stream",
     "text": [
      "        age\n",
      "1 0.0229269\n"
     ]
    }
   ],
   "source": [
    "%%R\n",
    "\n",
    "(est_tb_age2[2] + 2 * est_tb_age2[3] * Mark[1]) / sigma_tb_age2 * dnorm(predict(model_tb_age2, \n",
    "                     newdata = Mark) / sigma_tb_age2)"
   ]
  },
  {
   "cell_type": "markdown",
   "id": "97c5833c",
   "metadata": {},
   "source": [
    "$\\bf\\text{2.7**.}$ При помощи LR-теста проверьте гипотезу о гомоскедастичности в Тобит модели, предварительно формально записав предполагаемые нулевой гипотезой ограничения на параметры, асимптотическое распределение тестовой статистики (при верной нулевой гипотезе) и максимизируемую в гетероскедастичной Тобит модели функцию правдоподобия. При этом уравнение дисперсии должно включать по крайней мере одну переменную, не входящую в основное уравнение. Укажите негативные последствия, к которым может приводить отсутствие учета гетероскедастичности при условии ее наличия в Тобит модели.\n",
    "\n",
    "$\\bf{\\text{Решение:}}$"
   ]
  },
  {
   "cell_type": "markdown",
   "id": "a374cfa2",
   "metadata": {},
   "source": [
    "Предположим, что в модели Тобита распределена следующим образом (то есть, дисперсия случайной ошибки зависит от возраста и кол-ва детей (гетероскедастичность)):\n",
    "\n",
    "$$\\varepsilon_i \\sim N(0, (\\exp(\\tau_0 + \\tau_1 age_i + \\tau_2 kids_i))^2)$$\n",
    "\n"
   ]
  },
  {
   "cell_type": "markdown",
   "id": "8c7550af",
   "metadata": {},
   "source": [
    "С таким распределением ошибки меняется функция правдоподобия и могут существенно измениться оценки коэффициентов $\\beta$ (ввиду учтенной теперь гетероскедастичности). Это наша полная модель. \n",
    "\n",
    "Проведем LR-тест для проверки гетероскедастичности:\n",
    "\n",
    "$$ H_0: \\tau_2=\\tau_1=0$$\n",
    "\n",
    "Тестовая статистика\n",
    "$$ LR = -2(l_R(\\hat{\\beta}_R) - l_{UR}(\\hat{\\beta}_{UR})) $$\n",
    "\n",
    "имеет распределение $\\chi^2(2)$ при верной нулевой гипотезе, так как у нас есть два ограничения. Ограниченной моделью выступает наша обычная Тобит модель, оцененнная выше.\n",
    "\n",
    "Оценим модель с учетом гетероскедастичности:\n"
   ]
  },
  {
   "cell_type": "code",
   "execution_count": 20,
   "id": "3bd145a7",
   "metadata": {},
   "outputs": [
    {
     "name": "stdout",
     "output_type": "stream",
     "text": [
      "\n",
      "Call:\n",
      "crch(formula = wage ~ age + educ | age + kids, data = data, link.scale = \"log\", \n",
      "    left = 0)\n",
      "\n",
      "Standardized residuals:\n",
      "    Min      1Q  Median      3Q     Max \n",
      "-1.0531 -0.1140  0.2536  0.6602  5.1791 \n",
      "\n",
      "Coefficients (location model):\n",
      "            Estimate Std. Error z value Pr(>|z|)    \n",
      "(Intercept) -6.93970    1.52248  -4.558 5.16e-06 ***\n",
      "age         -0.02463    0.02400  -1.026    0.305    \n",
      "educ         0.71830    0.08438   8.512  < 2e-16 ***\n",
      "\n",
      "Coefficients (scale model with log link):\n",
      "            Estimate Std. Error z value Pr(>|z|)    \n",
      "(Intercept) 1.115962   0.225226   4.955 7.24e-07 ***\n",
      "age         0.008647   0.004851   1.782   0.0747 .  \n",
      "kids        0.042109   0.026181   1.608   0.1078    \n",
      "---\n",
      "Signif. codes:  0 '***' 0.001 '**' 0.01 '*' 0.05 '.' 0.1 ' ' 1 \n",
      "\n",
      "Distribution: gaussian\n",
      "Log-likelihood: -1506 on 6 Df\n",
      "Number of iterations in BFGS optimization: 14 \n"
     ]
    }
   ],
   "source": [
    "%%R\n",
    "\n",
    "model_htobit <- crch(wage ~ age + educ |       \n",
    "                            age + kids,   \n",
    "                     data = data,                                \n",
    "                     left = 0,                          \n",
    "                     link.scale = \"log\")    \n",
    "summary(model_htobit) "
   ]
  },
  {
   "cell_type": "markdown",
   "id": "b4ba10a9",
   "metadata": {},
   "source": [
    "Проведем LR-тест:"
   ]
  },
  {
   "cell_type": "code",
   "execution_count": 21,
   "id": "971b3252",
   "metadata": {},
   "outputs": [
    {
     "name": "stdout",
     "output_type": "stream",
     "text": [
      "[1] 0.121678\n"
     ]
    }
   ],
   "source": [
    "%%R\n",
    "\n",
    "l_ur <- logLik(model_htobit)\n",
    "l_r <- logLik(model_tb)\n",
    "\n",
    "LR_ratio <- 2 * (l_ur - l_r)\n",
    "p.value <- as.numeric(1 - pchisq(LR_ratio, df=2))  \n",
    "p.value"
   ]
  },
  {
   "cell_type": "markdown",
   "id": "f4e388b3",
   "metadata": {},
   "source": [
    "Так как p-value теста достаточно велико $(>0.1)$, у нас нет оснований отвергнуть нулевую гипотезу о гомоскедастичности."
   ]
  },
  {
   "cell_type": "markdown",
   "id": "774d6575",
   "metadata": {},
   "source": [
    "Наличие гетероскедастичности в модели (не учтенной) могло бы привести к несостоятельным и неэффективным оценкам коэффициентов ММП."
   ]
  },
  {
   "cell_type": "markdown",
   "id": "c1d55ace",
   "metadata": {},
   "source": [
    "$\\bf2.8.^{***}$ Для индивида с произвольными характеристиками в Тобит модели с гетероскедастичной случайной ошибкой рассчитайте (предварительно записав соответствующую формулу) предельный эффект переменной (не дамми), входящей и в основное уравнение, и в уравнение дисперсии, на:\n",
    "1. $E(y^*)$;\n",
    "2. $E(y)$;\n",
    "3. Вероятности того, что индивид работает.\n",
    "\n",
    "$\\bf{\\text{Решение:}}$"
   ]
  },
  {
   "cell_type": "markdown",
   "id": "b3407833",
   "metadata": {},
   "source": [
    "Как и в пункте выше будем полагать, что ошибка распределенав следующим образом:\n",
    "$$\\varepsilon_i \\sim N(0, (\\exp(\\tau_0 + \\tau_1 age_i + \\tau_2 kids_i))^2)$$\n",
    "\n",
    "Найдем предельные эффекты по возрасту, который входит как в основное уравнение, так и в уравнение дисперсии:\n",
    "\n",
    "1. $E(y^*)$. Здесь ничего не поменялось:\n",
    "\n",
    "$$\\frac{\\partial E(y^*)}{\\partial x_s} = \\beta_s \\approx -0.02463$$\n",
    "\n"
   ]
  },
  {
   "cell_type": "code",
   "execution_count": 22,
   "id": "3fb03189",
   "metadata": {},
   "outputs": [
    {
     "name": "stdout",
     "output_type": "stream",
     "text": [
      "        age \n",
      "-0.02462506 \n"
     ]
    }
   ],
   "source": [
    "%%R\n",
    "est_tb_h <- coef(model_htobit)                             \n",
    "coef_tb_h <- est_tb_h[-length(est_tb_h)] \n",
    "coef_tb_h[2]"
   ]
  },
  {
   "cell_type": "markdown",
   "id": "4b1d9f30",
   "metadata": {},
   "source": [
    "2. $E(y)$.\n",
    "\n",
    "Пусть $z = (1, age, kids)$. Тогда  $\\sigma(z)=e^{z'\\tau}$. Пусть $age_i=x_s$, $age_i$ есть и в $x_i$, и в $z_i$ (здесь, как везде раньше и после индексация индвида опускается):\n",
    "\n",
    "$$\n",
    "E(y) = \\Phi\\left(\\frac{x'\\beta}{\\sigma(z)}\\right)\\cdot x'\\beta + \\sigma(z) \\phi\\left(\\frac{x'\\beta}{\\sigma(z)} \\right)\n",
    "$$\n",
    "\n",
    "\n",
    "$$\n",
    "\\frac{\\partial\\left( \\frac{x'\\beta}{\\sigma(z)}\\right)}{\\partial x_s} = \\frac{\\beta_s \\sigma(z) - x'\\beta \\cdot\\sigma(z)\\tau_s}{\\sigma(z)^2} = \\frac{\\beta_s-x'\\beta \\cdot\\tau_s}{\\sigma(z)}\n",
    "$$\n",
    "\n",
    "$$\\frac{\\partial E(y)}{\\partial x_s} = \\frac{\\beta_s-x'\\beta \\cdot\\tau_s}{\\sigma(z)}\\cdot \\phi\\left(\\frac{x'\\beta}{\\sigma(z)} \\right)\\cdot x'\\beta + \\beta_s \\Phi\\left(\\frac{x'\\beta}{\\sigma(z)} \\right) + \\sigma(z)\\cdot \\frac{\\partial\\phi\\left(\\frac{x'\\beta}{\\sigma(z)}\\right)}{\\partial x_s}$$\n",
    "\n",
    "Заметим, что \n",
    "$$\n",
    "\\frac{\\partial\\phi\\left(\\frac{x'\\beta}{\\sigma(z)}\\right)}{\\partial x_s} = \\frac{\\partial\\phi\\left(\\frac{x'\\beta}{\\sigma(z)}\\right)}{\\partial \\frac{x'\\beta}{\\sigma(z)}}\\cdot \\frac{\\partial\\frac{x'\\beta}{\\sigma(z)}}{\\partial x_s} = -\\frac{x'\\beta}{\\sigma(z)}\\cdot\\phi\\left(\\frac{x'\\beta}{\\sigma(z)}\\right)\\cdot \\frac{\\beta_s-x'\\beta \\cdot\\tau_s}{\\sigma(z)}$$\n",
    "\n",
    "Тогда\n",
    "$$\\frac{\\partial E(y)}{\\partial x_s} = \\beta_s \\Phi\\left(\\frac{x'\\beta}{\\sigma(z)} \\right)\\approx-0.0187$$"
   ]
  },
  {
   "cell_type": "markdown",
   "id": "e048c8b4",
   "metadata": {},
   "source": [
    "С точки зрения выражения изменения опять же незначительны. Здесь и далее будем все считать для индивида с теми же характеристиками, у которого нет детей."
   ]
  },
  {
   "cell_type": "code",
   "execution_count": 23,
   "id": "9128cb6e",
   "metadata": {},
   "outputs": [
    {
     "name": "stdout",
     "output_type": "stream",
     "text": [
      "        age \n",
      "-0.01874443 \n"
     ]
    }
   ],
   "source": [
    "%%R\n",
    "\n",
    "Mark <- data.frame(age = 21,\n",
    "                   educ = 14, kids=0)\n",
    "wage_pred_h <- predict(model_htobit, newdata=Mark)\n",
    "sigma_Mark <- exp(est_tb_h[4] + est_tb_h[5] * 21 + est_tb_h[6] * 0)\n",
    "\n",
    "est_tb_h[2] * pnorm(wage_pred_h / sigma_Mark)"
   ]
  },
  {
   "cell_type": "markdown",
   "id": "2cdb4a33",
   "metadata": {},
   "source": [
    "3. Вероятность того, что индивид работает.\n",
    "\n",
    "$$P(y^* > 0) = \\Phi\\left( \\frac{x'\\beta}{\\sigma(z)}\\right)$$\n",
    "\n",
    "$$\n",
    "\\frac{\\partial P(y^* > 0)}{\\partial x_s} = \\frac{\\beta_s-x'\\beta \\cdot\\tau_s}{\\sigma(z)}\\cdot \\phi\\left(\\frac{x'\\beta}{\\sigma(z)} \\right)\n",
    "\\approx -0.00399\n",
    "$$"
   ]
  },
  {
   "cell_type": "code",
   "execution_count": 24,
   "id": "88db11f2",
   "metadata": {},
   "outputs": [
    {
     "name": "stdout",
     "output_type": "stream",
     "text": [
      "         age \n",
      "-0.003989467 \n"
     ]
    }
   ],
   "source": [
    "%%R\n",
    "\n",
    "(est_tb_h[2] - wage_pred_h * est_tb_h[5]) / sigma_Mark * dnorm(wage_pred_h / sigma_Mark)"
   ]
  },
  {
   "cell_type": "markdown",
   "id": "3282e6e1",
   "metadata": {},
   "source": [
    "## Часть 3. Модель Хекмана\n",
    "$\\bf\\text{3.1.}$ Оцените модель Хекмана с помощью метода максимального правдоподобия, предварительно записав максимизируемую функцию правдоподобия и указав независимые переменные в уравнении занятости, которое должно иметь по крайней мере одну переменную, не входящую в уравнение зарплаты. Результат представьте в форме таблицы (можно, например, использовать выдачу из stata, R или python).\n",
    "\n",
    "$\\bf{\\text{Решение:}}$"
   ]
  },
  {
   "cell_type": "markdown",
   "id": "909b3f3f",
   "metadata": {},
   "source": [
    "Пусть $X$ $-$ матрица признаков из единиц, возраста и числа лет обучения (1, `age`, `educ`), $y$ $-$ вектор значений наблюдаемой заработной платы `wage`, $W$ $-$ матрица признаков из единиц, числа детей и возраста (1, `kids`, `age`), $z$ $-$ вектор значений занятости `lfp`. \n",
    "\n",
    "Модель Хекмана устроена следующим образом:\n",
    "$$y^*_i = x_i'\\beta + \\varepsilon_i$$\n",
    "$$z_i = I(w_i'\\gamma + u_i > 0) \\; - \\text{уравнение занятости}$$\n",
    "$$\n",
    "y_i = y^*_i \\cdot I(z_i = 1)\\; - \\text{уравнение заработной платы ($y_i=0$ при $z_i = 0$)}\n",
    "$$\n",
    "\n",
    "где вектор ($\\varepsilon_i$, $u_i$) имеет двумерное нормальное распределение, $E(\\varepsilon_i, u_i) = (0, 0)$, $Var(\\varepsilon_i) = \\sigma^2$, $Var(u_i) = 1$, $cov(\\varepsilon_i, u_i) = cov(u_i, \\varepsilon_i) = \\rho\\sigma$.\n",
    "\n"
   ]
  },
  {
   "cell_type": "markdown",
   "id": "805cfcb8",
   "metadata": {},
   "source": [
    "Значит, функция правдоподобия для максимизации выглядит следующим образом:\n",
    "\n",
    "$$\n",
    "L(X, W, y, z, \\sigma, \\rho, \\gamma, \\beta) = \\prod_{z_i=0} P(z_i=0) \\prod_{z_i=1} f(y_i, z_i=1) = \n",
    "$$\n",
    "\n",
    "$$\n",
    "= \\prod_{z_i=0} \\left( 1-\\Phi\\left(w_i'\\gamma\\right)\\right) \\prod_{z_i=1} \\Phi\\left(\n",
    "\\frac{\\sigma w_i'\\gamma + \\rho(y_i - x_i'\\beta)}{\\sigma\\sqrt{1- \\rho^2}}\n",
    "\\right) \\cdot \\left(\n",
    "\\frac{1}{\\sqrt{2\\pi}\\sigma}\\exp\\left(-\\frac{(y_i - x_i'\\beta)^2}{2\\sigma^2}\\right)\n",
    "\\right)\n",
    "\\longrightarrow \\max_{\\beta, \\gamma, \\sigma, \\rho}\n",
    "$$"
   ]
  },
  {
   "cell_type": "code",
   "execution_count": 25,
   "id": "5063868d",
   "metadata": {},
   "outputs": [
    {
     "name": "stdout",
     "output_type": "stream",
     "text": [
      "--------------------------------------------\n",
      "Tobit 2 model (sample selection model)\n",
      "Maximum Likelihood estimation\n",
      "Newton-Raphson maximisation, 4 iterations\n",
      "Return code 8: successive function values within relative tolerance limit (reltol)\n",
      "Log-Likelihood: -1596.995 \n",
      "753 observations (325 censored and 428 observed)\n",
      "8 free parameters (df = 745)\n",
      "Probit selection equation:\n",
      "             Estimate Std. Error t value Pr(>|t|)    \n",
      "(Intercept)  1.501422   0.325667   4.610 4.73e-06 ***\n",
      "kids        -0.142156   0.037187  -3.823 0.000143 ***\n",
      "age         -0.025843   0.006728  -3.841 0.000133 ***\n",
      "Outcome equation:\n",
      "            Estimate Std. Error t value Pr(>|t|)    \n",
      "(Intercept) -2.93917    1.23099  -2.388   0.0172 *  \n",
      "age          0.02210    0.02005   1.102   0.2708    \n",
      "educ         0.49826    0.06584   7.567 1.12e-13 ***\n",
      "   Error terms:\n",
      "      Estimate Std. Error t value Pr(>|t|)    \n",
      "sigma  3.10580    0.10814  28.720   <2e-16 ***\n",
      "rho   -0.05611    0.19492  -0.288    0.774    \n",
      "---\n",
      "Signif. codes:  0 ‘***’ 0.001 ‘**’ 0.01 ‘*’ 0.05 ‘.’ 0.1 ‘ ’ 1\n",
      "--------------------------------------------\n"
     ]
    }
   ],
   "source": [
    "%%R\n",
    "\n",
    "model_mle <- selection(                              \n",
    "  selection = lfp ~ kids + age,                    \n",
    "  outcome = wage ~ age + educ,                  \n",
    "  data = data,                                         \n",
    "  method = \"ml\")                                    \n",
    "summary(model_mle)                                  "
   ]
  },
  {
   "cell_type": "code",
   "execution_count": 26,
   "id": "a813f58b",
   "metadata": {},
   "outputs": [],
   "source": [
    "%%R\n",
    "coef_mle <- coef(model_mle, part = \"outcome\")\n",
    "sigma_mle <- model_mle$estimate[\"sigma\"]  \n",
    "rho_mle <- model_mle$estimate[\"rho\"]   "
   ]
  },
  {
   "cell_type": "markdown",
   "id": "ebaac03d",
   "metadata": {},
   "source": [
    "$\\bf3.2.$ Опишите отличия модели Хекмана от модели Тобина.\n",
    "\n",
    "$\\bf{\\text{Решение:}}$"
   ]
  },
  {
   "cell_type": "markdown",
   "id": "2ae2ab89",
   "metadata": {},
   "source": [
    "Обе модели были описаны нами выше. Модель Хекмана является более сложной относительно модели Тобина: в ней есть отдельно уравнение отбора, отдельно основное уравнение. В модели Тобина такой гибкости нет: за отбор отвечает то же самое, что и за (в нашем случае) заработную плату. Тобит $-$ частный случай Хекита, когда $\\rho=1$, $\\gamma\\sigma=\\beta$, $W=X$."
   ]
  },
  {
   "cell_type": "markdown",
   "id": "14862569",
   "metadata": {},
   "source": [
    "$\\bf3.3.$ Воспользуйтесь методом Хекмана, основанным на двухшаговой процедуре и сравните оценки, с полученными с использованием метода Хекмана, основанном на методе максимального правдоподобия. Опишите относительные преимущества и недостатки обоих методов.\n",
    "\n",
    "$\\bf{\\text{Решение:}}$"
   ]
  },
  {
   "cell_type": "code",
   "execution_count": 27,
   "id": "1660e946",
   "metadata": {},
   "outputs": [
    {
     "name": "stdout",
     "output_type": "stream",
     "text": [
      "--------------------------------------------\n",
      "Tobit 2 model (sample selection model)\n",
      "2-step Heckman / heckit estimation\n",
      "753 observations (325 censored and 428 observed)\n",
      "9 free parameters (df = 745)\n",
      "Probit selection equation:\n",
      "             Estimate Std. Error t value Pr(>|t|)    \n",
      "(Intercept)  1.501177   0.325987   4.605 4.85e-06 ***\n",
      "kids        -0.141963   0.037245  -3.812 0.000149 ***\n",
      "age         -0.025843   0.006732  -3.839 0.000134 ***\n",
      "Outcome equation:\n",
      "            Estimate Std. Error t value Pr(>|t|)    \n",
      "(Intercept) -2.74649    1.33958  -2.050   0.0407 *  \n",
      "age          0.02587    0.02259   1.145   0.2525    \n",
      "educ         0.49643    0.06601   7.521 1.57e-13 ***\n",
      "Multiple R-Squared:0.1197,\tAdjusted R-Squared:0.1135\n",
      "   Error terms:\n",
      "              Estimate Std. Error t value Pr(>|t|)\n",
      "invMillsRatio  -0.6584     1.4431  -0.456    0.648\n",
      "sigma           3.1430         NA      NA       NA\n",
      "rho            -0.2095         NA      NA       NA\n",
      "--------------------------------------------\n"
     ]
    }
   ],
   "source": [
    "%%R\n",
    "\n",
    "model_2st <- selection(                              \n",
    "  selection = lfp ~ kids + age,                    \n",
    "  outcome = wage ~ age + educ,                  \n",
    "  data = data,                                        \n",
    "  method = \"2step\")                                  \n",
    "summary(model_2st)                                   "
   ]
  },
  {
   "cell_type": "code",
   "execution_count": 28,
   "id": "53d8a88d",
   "metadata": {},
   "outputs": [],
   "source": [
    "%%R\n",
    "\n",
    "coef_2st <- coef(model_2st, part = \"outcome\")        \n",
    "coef_2st <- coef_2st[-length(coef_2st)]              \n",
    "rho_2st <- model_2st$rho  "
   ]
  },
  {
   "cell_type": "code",
   "execution_count": 29,
   "id": "5520344d",
   "metadata": {},
   "outputs": [
    {
     "name": "stdout",
     "output_type": "stream",
     "text": [
      "            Heckman.MLE Heckman.2step\n",
      "(Intercept)  -2.9391697   -2.74649310\n",
      "age           0.0220963    0.02586941\n",
      "educ          0.4982631    0.49643489\n"
     ]
    }
   ],
   "source": [
    "%%R\n",
    "\n",
    "data.frame(\"Heckman MLE\" = coef_mle,                 \n",
    "           \"Heckman 2step\" = coef_2st)   "
   ]
  },
  {
   "cell_type": "markdown",
   "id": "32628296",
   "metadata": {},
   "source": [
    "Оценки коэффициентов очень близки друг к другу (как и должно быть)."
   ]
  },
  {
   "cell_type": "code",
   "execution_count": 30,
   "id": "d37bf4a7",
   "metadata": {},
   "outputs": [
    {
     "name": "stdout",
     "output_type": "stream",
     "text": [
      "    Heckman.MLE Heckman.2step\n",
      "rho -0.05611249    -0.2094795\n"
     ]
    }
   ],
   "source": [
    "%%R\n",
    "\n",
    "data.frame(\"Heckman MLE\" = rho_mle,   \n",
    "           \"Heckman 2step\" = rho_2st) "
   ]
  },
  {
   "cell_type": "markdown",
   "id": "037d2995",
   "metadata": {},
   "source": [
    "Оценки $\\rho$ получились не очень похожими, но в обеих моделях они незначимы."
   ]
  },
  {
   "cell_type": "markdown",
   "id": "53124bd5",
   "metadata": {},
   "source": [
    "Оценки ММП подхода (при верности допущения о нормальном распределении ошибок) более эффективны и обладают всеми другими свойствами ММП оценок (состоятельность, асимптотическая нормальность, инвариантность...). Этот подход является сложным с точки зрения вычислений и работает некорректно при нарушении допущения о нормальном распределении случайных ошибок (оценки становятся неэффективными и несостоятельными). Также нет гарантий того, что у максимизируемой функции будет единственный максимум.\n",
    "\n",
    "Оценки двухшаговой процедуры менее эффективны, чем ММП, однако вычислительно их получить гораздо проще. Кроме того, эта процедура оказывается более устойчива к нарушению допущения о нормальном распределении случайных ошибок (однако в таком случае все равно лучше использовать непараметрические/полупараметрические методы, потому что оценки все равно могут быть в таком случае несостоятельными). Также двухшаговый подход требует наличия ограничений исключения (exclusion restrictions), иначе на втором шаге возникнет сильная мультиколлинеарность и оценки будут неэффективными.\n",
    "\n"
   ]
  },
  {
   "cell_type": "markdown",
   "id": "50c5f5b3",
   "metadata": {},
   "source": [
    "$\\bf3.4.$ Проинтерпретируйте значимость и значение оценки корреляции между случайными ошибками в обоих оцененных моделях. Укажите, можно ли было бы обойтись оцениванием обычной МНК модели.\n",
    "\n",
    "$\\bf{\\text{Решение:}}$"
   ]
  },
  {
   "cell_type": "markdown",
   "id": "0f0d55d3",
   "metadata": {},
   "source": [
    "В обеих моделях оценки $\\rho$ получились незначимыми (в модели с ММП p-value у $\\rho$ больше 0.75, в модели с двухшаговой процедурой соответствующее p-value не указано, но можно посмотреть на p-value при обратном отношении Миллса, оно тоже очень большое), поэтому интерпретировать значение оценки корреляции не имеет смысла. Так как у нас нет статистических доказательств того, что $\\rho$ отлично от нуля, то можно было бы обойтись оцениванием обычной МНК модели."
   ]
  },
  {
   "cell_type": "markdown",
   "id": "46e5cc1b",
   "metadata": {},
   "source": [
    "$\\bf3.5.$ В любой из двух оцененных в данном разделе моделей для индивида с произвольными характеристиками рассчитайте (предварительно записав формулу):\n",
    "1. $E(y^*|z = 1)$ и $E(y^*|z = 0)$;\n",
    "2. предельный эффект любой переменной (не дамми), входящей линейно и в основное уравнение, и в уравнение занятости, на $E(y^*| z = 1)$ и $E(y^*| z = 0)$.\n",
    "\n",
    "$\\bf{\\text{Решение:}}$"
   ]
  },
  {
   "cell_type": "markdown",
   "id": "af4aa973",
   "metadata": {},
   "source": [
    "Рассчитаем нужные значения для индивида 21 года, не имеющего детей, который учился 14 лет. Используем модель с ММП."
   ]
  },
  {
   "cell_type": "markdown",
   "id": "0e0f6803",
   "metadata": {},
   "source": [
    "1. $E(y^*|z = 1)$ и $E(y^*|z = 0)$. Используем [Википедию](https://en.wikipedia.org/wiki/Truncated_normal_distribution) для нахождения математического ожидания усеченного нормального распределения:\n",
    "\n",
    "$$\n",
    "E(y_i^*|z_i = 1) = x_i'\\beta + \\rho \\sigma \\cdot \\frac{\\phi\\left(z_i' \\gamma\\right)}{\\Phi\\left(z_i' \\gamma\\right)}\n",
    "\\approx 4.45,\n",
    "$$\n",
    "\n",
    "$$\n",
    "E(y_i^*|z_i = 0) = x_i'\\beta - \\rho \\sigma \\cdot \\frac{\\phi\\left(z_i' \\gamma\\right)}{\\Phi\\left(-z_i' \\gamma\\right)}\n",
    "\\approx 4.76\n",
    "$$"
   ]
  },
  {
   "cell_type": "code",
   "execution_count": 31,
   "id": "1d57c45e",
   "metadata": {},
   "outputs": [
    {
     "name": "stdout",
     "output_type": "stream",
     "text": [
      "       1 \n",
      "4.447706 \n"
     ]
    }
   ],
   "source": [
    "%%R\n",
    "\n",
    "Mark <- data.frame(age = 21,\n",
    "                   educ = 14, \n",
    "                   kids=0)\n",
    "\n",
    "wage_star <- predict(model_mle, \n",
    "                     newdata = Mark, \n",
    "                     part = \"outcome\",                 \n",
    "                     type = \"unconditional\") \n",
    "\n",
    "# оценим линейный индекс\n",
    "work_li <- predict(model_mle, \n",
    "                   newdata = Mark, \n",
    "                   part = \"selection\",                   \n",
    "                   type = \"link\")                      \n",
    "\n",
    "# Оценим E(y*|z) вручную:\n",
    "lambda_est_1 <- dnorm(work_li) / pnorm(work_li)         \n",
    "lambda_est_2 <- dnorm(work_li) / pnorm(-work_li)\n",
    "wage_star + rho_mle * model_mle$estimate[\"sigma\"] * lambda_est_1           # E(y*|z = 1)"
   ]
  },
  {
   "cell_type": "code",
   "execution_count": 32,
   "id": "7750a4f3",
   "metadata": {},
   "outputs": [
    {
     "name": "stdout",
     "output_type": "stream",
     "text": [
      "       1 \n",
      "4.760582 \n"
     ]
    }
   ],
   "source": [
    "%%R\n",
    "wage_star - rho_mle * model_mle$estimate[\"sigma\"] * lambda_est_2           # E(y*|z = 0)"
   ]
  },
  {
   "cell_type": "markdown",
   "id": "edebec1d",
   "metadata": {},
   "source": [
    "Проверка:"
   ]
  },
  {
   "cell_type": "code",
   "execution_count": 33,
   "id": "7ff75f3b",
   "metadata": {},
   "outputs": [
    {
     "name": "stdout",
     "output_type": "stream",
     "text": [
      "E[yo|ys=0] E[yo|ys=1] \n",
      "  4.760582   4.447706 \n"
     ]
    }
   ],
   "source": [
    "%%R\n",
    "\n",
    "predict(model_mle, newdata = Mark, \n",
    "                     part = \"outcome\",               \n",
    "                     type = \"conditional\")"
   ]
  },
  {
   "cell_type": "markdown",
   "id": "bdfa7889",
   "metadata": {},
   "source": [
    "Все верно!"
   ]
  },
  {
   "cell_type": "markdown",
   "id": "26a6615e",
   "metadata": {},
   "source": [
    "2. Предельный эффект любой переменной (не дамми), входящей линейно и в основное уравнение, и в уравнение занятости, на $E(y^*| z = 1)$ и $E(y^*| z = 0)$. Найдем соответствующие предельные эффекты для возраста (обозначим этот фактор за $x_s$):"
   ]
  },
  {
   "cell_type": "markdown",
   "id": "54260917",
   "metadata": {},
   "source": [
    "$$\n",
    "\\frac{\\partial E(y_i^*|z_i = 1)}{\\partial x_s} = \\beta_s + \\rho \\sigma \\cdot \\left( \\frac{\\phi\\left(z_i' \\gamma\\right)}{\\Phi\\left(z_i' \\gamma\\right)}\\right)'_{x_s} = \\beta_s + \\rho \\sigma \\cdot \\frac{\\partial\\lambda_1}{\\partial x_s}\n",
    "$$\n",
    "\n",
    "Из 2.5.2:\n",
    "$$\n",
    "\\frac{\\partial \\phi\\left(z_i' \\gamma\\right)}{\\partial x_s} = -\\gamma_s z'\\gamma \\cdot \\phi\\left(z_i' \\gamma\\right)\n",
    "$$\n",
    "Также\n",
    "$$\n",
    "\\frac{\\partial \\Phi\\left(z_i' \\gamma\\right)}{\\partial x_s} = \\gamma_s \\cdot \\phi\\left(z_i' \\gamma\\right)\n",
    "$$\n",
    "\n",
    "Тогда\n",
    "$$\n",
    "\\frac{\\partial\\lambda_1}{\\partial x_s} = \\frac{-\\gamma_s z'\\gamma \\cdot \\phi\\left(z_i' \\gamma\\right)\\cdot\\Phi\\left(z_i' \\gamma\\right) - \\phi\\left(z_i' \\gamma\\right)\\cdot \\gamma_s \\cdot \\phi\\left(z_i' \\gamma\\right)}\n",
    "{\\Phi\\left(z_i' \\gamma\\right)^2} = - \\gamma_s\\left( z'\\gamma \\cdot \\lambda_1 + \\lambda_1^2 \\right)\n",
    "$$\n",
    "\n",
    "Значит \n",
    "$$\n",
    "\\frac{\\partial E(y_i^*|z_i = 1)}{\\partial x_s} =\n",
    "\\beta_s - \\rho \\sigma \\cdot  \\gamma_s\\left( z'\\gamma \\cdot \\lambda_1 + \\lambda_1^2 \\right) \\approx 0.0204\n",
    "$$"
   ]
  },
  {
   "cell_type": "code",
   "execution_count": 34,
   "id": "97003a61",
   "metadata": {},
   "outputs": [
    {
     "name": "stdout",
     "output_type": "stream",
     "text": [
      "       age \n",
      "0.02037349 \n"
     ]
    }
   ],
   "source": [
    "%%R\n",
    "coef_s_est <- coef(model_mle)[1:3]\n",
    "\n",
    "age_ME1 <- coef_mle[\"age\"] - rho_mle * sigma_mle *\n",
    "                                (work_li * lambda_est_1 +\n",
    "                                 lambda_est_1 ^ 2) *\n",
    "                                coef_s_est[\"age\"]\n",
    "age_ME1"
   ]
  },
  {
   "cell_type": "markdown",
   "id": "9f75a944",
   "metadata": {},
   "source": [
    "Теперь для случая, когда $z_i=0$:\n",
    "$$\n",
    "E(y_i^*|z_i = 0) = x_i'\\beta - \\rho \\sigma \\cdot \\frac{\\phi\\left(z_i' \\gamma\\right)}{\\Phi\\left(-z_i' \\gamma\\right)}\n",
    "$$"
   ]
  },
  {
   "cell_type": "markdown",
   "id": "1e7f49c8",
   "metadata": {},
   "source": [
    "$$\n",
    "\\frac{\\partial E(y_i^*|z_i = 0)}{\\partial x_s} = \\beta_s - \\rho \\sigma \\cdot \\left( \\frac{\\phi\\left(z_i' \\gamma\\right)}{\\Phi\\left(-z_i' \\gamma\\right)}\\right)'_{x_s} = \\beta_s - \\rho \\sigma \\cdot \\frac{\\partial\\lambda_2}{\\partial x_s}\n",
    "$$\n",
    "\n",
    "Из 2.5.2:\n",
    "$$\n",
    "\\frac{\\partial \\phi\\left(z_i' \\gamma\\right)}{\\partial x_s} = -\\gamma_s z'\\gamma \\cdot \\phi\\left(z_i' \\gamma\\right)\n",
    "$$\n",
    "Также\n",
    "$$\n",
    "\\frac{\\partial \\Phi\\left(-z_i' \\gamma\\right)}{\\partial x_s} = -\\gamma_s \\cdot \\phi\\left(-z_i' \\gamma\\right)=\n",
    "-\\gamma_s \\cdot \\phi\\left(z_i' \\gamma\\right)\n",
    "$$\n",
    "\n",
    "Тогда\n",
    "$$\n",
    "\\frac{\\partial\\lambda_2}{\\partial x_s} = \\frac{-\\gamma_s z'\\gamma \\cdot \\phi\\left(z_i' \\gamma\\right)\\cdot\\Phi\\left(-z_i' \\gamma\\right) + \\phi\\left(z_i' \\gamma\\right)\\cdot \\gamma_s \\cdot \\phi\\left(z_i' \\gamma\\right)}\n",
    "{\\Phi\\left(-z_i' \\gamma\\right)^2} = - \\gamma_s\\left( z'\\gamma \\cdot \\lambda_2 - \\lambda_2^2 \\right)\n",
    "$$\n",
    "\n",
    "Значит \n",
    "$$\n",
    "\\frac{\\partial E(y_i^*|z_i = 0)}{\\partial x_s} =\n",
    "\\beta_s + \\rho \\sigma(z) \\cdot  \\gamma_s\\left( z'\\gamma \\cdot \\lambda_2 - \\lambda_2^2 \\right) \\approx 0.0185\n",
    "$$"
   ]
  },
  {
   "cell_type": "code",
   "execution_count": 35,
   "id": "b0461bc8",
   "metadata": {},
   "outputs": [
    {
     "name": "stdout",
     "output_type": "stream",
     "text": [
      "       age \n",
      "0.01851122 \n"
     ]
    }
   ],
   "source": [
    "%%R\n",
    "\n",
    "age_ME2 <- coef_mle[\"age\"] + rho_mle * sigma_mle *\n",
    "                                (work_li * lambda_est_2 -\n",
    "                                 lambda_est_2 ^ 2) *\n",
    "                                coef_s_est[\"age\"]\n",
    "age_ME2"
   ]
  },
  {
   "cell_type": "markdown",
   "id": "9c7e0e4f",
   "metadata": {},
   "source": [
    "## Часть 4. Модель Ньюи.\n",
    "$\\bf4.1.^{*}$ Опишите преимущества и недостатки метода Ньюи по сравнению с методом Хекмана.\n",
    "\n",
    "$\\bf{\\text{Решение:}}$"
   ]
  },
  {
   "cell_type": "markdown",
   "id": "98563e55",
   "metadata": {},
   "source": [
    "Так как метод Ньюи является полупараметрическим, для его использования нет необходомости в допущении о многомерном нормальном распределении случайных ошибок: даже при других распределениях его оценки будут состоятельными (в отличие от метода Хекмана, но, конечно, не факт, что самыми эффективными). Еще одним преимуществом метода является то, что его достаточно просто реализовать.\n",
    "\n",
    "Недостатками подхода является то, что он довольно вычислительно сложен (используется бутстрап и leave-one-out-cross-validation), константа в основном уравнении не идентифицируется, метод (как и двухшаговый Хекман) требует наличия exclusion restriction, а также не позволяет оценить параметры распределения ошибок, из-за чего невозможно получить прогнозы условного математического ожидания целевой переменной для случая, когда $z_i=0$. \n",
    "\n",
    "Основные аргументы взяты [отсюда](https://www.hse.ru/data/xf/127/606/1158/Потанин_диссертация.pdf)."
   ]
  },
  {
   "cell_type": "markdown",
   "id": "38b83a4d",
   "metadata": {},
   "source": [
    "$\\bf4.2.^{***}$ Взяв за основу любую модель бинарного выбора (для простоты можно и параметрическую, например, логит), произвольную сглаживающую функцию и используя leave-one-out кросс-валидацию для подбора степени полинома, оцените модель Ньюи, описав осуществленные для ее построения шаги. Результат представьте в форме таблицы, содержащей оценки и бутстрапированные стандартные ошибки. Сравните оценки модели Ньюи и моделей Хекмана, основанных на двухшаговой процедуре и ММП.\n",
    "\n",
    "$\\bf{\\text{Решение:}}$"
   ]
  },
  {
   "cell_type": "markdown",
   "id": "cf11aa31",
   "metadata": {},
   "source": [
    "1. Используем логит-модель для оценки уравнения участия:"
   ]
  },
  {
   "cell_type": "code",
   "execution_count": 36,
   "id": "70fa5602",
   "metadata": {},
   "outputs": [
    {
     "name": "stdout",
     "output_type": "stream",
     "text": [
      "Optimization terminated successfully.\n",
      "         Current function value: 0.670768\n",
      "         Iterations 5\n"
     ]
    },
    {
     "data": {
      "text/html": [
       "<table class=\"simpletable\">\n",
       "<caption>Logit Regression Results</caption>\n",
       "<tr>\n",
       "  <th>Dep. Variable:</th>         <td>lfp</td>       <th>  No. Observations:  </th>  <td>   753</td>  \n",
       "</tr>\n",
       "<tr>\n",
       "  <th>Model:</th>                <td>Logit</td>      <th>  Df Residuals:      </th>  <td>   750</td>  \n",
       "</tr>\n",
       "<tr>\n",
       "  <th>Method:</th>                <td>MLE</td>       <th>  Df Model:          </th>  <td>     2</td>  \n",
       "</tr>\n",
       "<tr>\n",
       "  <th>Date:</th>            <td>вс, 04 дек 2022</td> <th>  Pseudo R-squ.:     </th>  <td>0.01900</td> \n",
       "</tr>\n",
       "<tr>\n",
       "  <th>Time:</th>               <td>19:25:25</td>     <th>  Log-Likelihood:    </th> <td> -505.09</td> \n",
       "</tr>\n",
       "<tr>\n",
       "  <th>converged:</th>            <td>True</td>       <th>  LL-Null:           </th> <td> -514.87</td> \n",
       "</tr>\n",
       "<tr>\n",
       "  <th>Covariance Type:</th>    <td>nonrobust</td>    <th>  LLR p-value:       </th> <td>5.629e-05</td>\n",
       "</tr>\n",
       "</table>\n",
       "<table class=\"simpletable\">\n",
       "<tr>\n",
       "      <td></td>         <th>coef</th>     <th>std err</th>      <th>z</th>      <th>P>|z|</th>  <th>[0.025</th>    <th>0.975]</th>  \n",
       "</tr>\n",
       "<tr>\n",
       "  <th>Intercept</th> <td>    2.4188</td> <td>    0.533</td> <td>    4.538</td> <td> 0.000</td> <td>    1.374</td> <td>    3.463</td>\n",
       "</tr>\n",
       "<tr>\n",
       "  <th>kids</th>      <td>   -0.2279</td> <td>    0.061</td> <td>   -3.766</td> <td> 0.000</td> <td>   -0.346</td> <td>   -0.109</td>\n",
       "</tr>\n",
       "<tr>\n",
       "  <th>age</th>       <td>   -0.0417</td> <td>    0.011</td> <td>   -3.800</td> <td> 0.000</td> <td>   -0.063</td> <td>   -0.020</td>\n",
       "</tr>\n",
       "</table>"
      ],
      "text/plain": [
       "<class 'statsmodels.iolib.summary.Summary'>\n",
       "\"\"\"\n",
       "                           Logit Regression Results                           \n",
       "==============================================================================\n",
       "Dep. Variable:                    lfp   No. Observations:                  753\n",
       "Model:                          Logit   Df Residuals:                      750\n",
       "Method:                           MLE   Df Model:                            2\n",
       "Date:                 вс, 04 дек 2022   Pseudo R-squ.:                 0.01900\n",
       "Time:                        19:25:25   Log-Likelihood:                -505.09\n",
       "converged:                       True   LL-Null:                       -514.87\n",
       "Covariance Type:            nonrobust   LLR p-value:                 5.629e-05\n",
       "==============================================================================\n",
       "                 coef    std err          z      P>|z|      [0.025      0.975]\n",
       "------------------------------------------------------------------------------\n",
       "Intercept      2.4188      0.533      4.538      0.000       1.374       3.463\n",
       "kids          -0.2279      0.061     -3.766      0.000      -0.346      -0.109\n",
       "age           -0.0417      0.011     -3.800      0.000      -0.063      -0.020\n",
       "==============================================================================\n",
       "\"\"\""
      ]
     },
     "execution_count": 36,
     "metadata": {},
     "output_type": "execute_result"
    }
   ],
   "source": [
    "import statsmodels.formula.api as smf\n",
    "\n",
    "logit = smf.logit(\"lfp ~ kids + age\", data=df).fit()\n",
    "logit.summary()"
   ]
  },
  {
   "cell_type": "markdown",
   "id": "0fcea065",
   "metadata": {},
   "source": [
    "2. Оценим линейный индекс и посчитаем значение сглаживающей функции $f(x)=\\frac{x^2}{e^x}$:"
   ]
  },
  {
   "cell_type": "code",
   "execution_count": 37,
   "id": "5430b28f",
   "metadata": {},
   "outputs": [],
   "source": [
    "s = logit.predict() ** 2 / np.exp(logit.predict())"
   ]
  },
  {
   "cell_type": "markdown",
   "id": "4fe9e161",
   "metadata": {},
   "source": [
    "3. С помощью leave-one-out кросс-валидации и MSE определим лучшую степень полинома.\n",
    "\n",
    "Напишем функцию для подсчета MSE при полиноме k-ой степени:"
   ]
  },
  {
   "cell_type": "code",
   "execution_count": 38,
   "id": "e138a532",
   "metadata": {},
   "outputs": [],
   "source": [
    "from tqdm.auto import tqdm\n",
    "from sklearn.model_selection import LeaveOneOut\n",
    "from sklearn.metrics import mean_squared_error as mse\n",
    "from sklearn.linear_model import LinearRegression\n",
    "\n",
    "def calc_MSE(k, df=df, s=s):\n",
    "    X = df[['age', 'educ']].copy()\n",
    "    y = df['wage']\n",
    "    all_mse = []\n",
    "    \n",
    "    # добавляем колонки степеней в X\n",
    "    for i in range(k):\n",
    "        X[str(i+1)] = s ** (i+1)\n",
    "        \n",
    "    # leave-one-out\n",
    "    loo = LeaveOneOut()\n",
    "    \n",
    "    for train_index, test_index in loo.split(X):\n",
    "        X_train, X_test = X.iloc[train_index], X.iloc[test_index]\n",
    "        y_train, y_test = y.iloc[train_index], y.iloc[test_index]\n",
    "        \n",
    "        linear_reg = LinearRegression().fit(X_train, y_train)\n",
    "        all_mse.append(mse(y_test, linear_reg.predict(X_test)))\n",
    "        \n",
    "    return np.mean(all_mse)\n"
   ]
  },
  {
   "cell_type": "code",
   "execution_count": 39,
   "id": "f741b737",
   "metadata": {},
   "outputs": [
    {
     "data": {
      "application/vnd.jupyter.widget-view+json": {
       "model_id": "66cfaca132464b159a40a95ac7ecab34",
       "version_major": 2,
       "version_minor": 0
      },
      "text/plain": [
       "  0%|          | 0/11 [00:00<?, ?it/s]"
      ]
     },
     "metadata": {},
     "output_type": "display_data"
    }
   ],
   "source": [
    "ks = np.arange(11)\n",
    "\n",
    "MSEs = []\n",
    "for k in tqdm(ks):\n",
    "    MSEs.append(calc_MSE(k))"
   ]
  },
  {
   "cell_type": "code",
   "execution_count": 40,
   "id": "5ebc3d15",
   "metadata": {},
   "outputs": [
    {
     "data": {
      "text/html": [
       "<div>\n",
       "<style scoped>\n",
       "    .dataframe tbody tr th:only-of-type {\n",
       "        vertical-align: middle;\n",
       "    }\n",
       "\n",
       "    .dataframe tbody tr th {\n",
       "        vertical-align: top;\n",
       "    }\n",
       "\n",
       "    .dataframe thead th {\n",
       "        text-align: right;\n",
       "    }\n",
       "</style>\n",
       "<table border=\"1\" class=\"dataframe\">\n",
       "  <thead>\n",
       "    <tr style=\"text-align: right;\">\n",
       "      <th></th>\n",
       "      <th>k</th>\n",
       "      <th>MSE</th>\n",
       "    </tr>\n",
       "  </thead>\n",
       "  <tbody>\n",
       "    <tr>\n",
       "      <th>0</th>\n",
       "      <td>0</td>\n",
       "      <td>9.513720</td>\n",
       "    </tr>\n",
       "    <tr>\n",
       "      <th>1</th>\n",
       "      <td>1</td>\n",
       "      <td>9.456847</td>\n",
       "    </tr>\n",
       "    <tr>\n",
       "      <th>2</th>\n",
       "      <td>2</td>\n",
       "      <td>9.427377</td>\n",
       "    </tr>\n",
       "    <tr>\n",
       "      <th>3</th>\n",
       "      <td>3</td>\n",
       "      <td>9.441177</td>\n",
       "    </tr>\n",
       "    <tr>\n",
       "      <th>4</th>\n",
       "      <td>4</td>\n",
       "      <td>9.469032</td>\n",
       "    </tr>\n",
       "    <tr>\n",
       "      <th>5</th>\n",
       "      <td>5</td>\n",
       "      <td>9.496864</td>\n",
       "    </tr>\n",
       "    <tr>\n",
       "      <th>6</th>\n",
       "      <td>6</td>\n",
       "      <td>9.523703</td>\n",
       "    </tr>\n",
       "    <tr>\n",
       "      <th>7</th>\n",
       "      <td>7</td>\n",
       "      <td>9.561589</td>\n",
       "    </tr>\n",
       "    <tr>\n",
       "      <th>8</th>\n",
       "      <td>8</td>\n",
       "      <td>9.608631</td>\n",
       "    </tr>\n",
       "    <tr>\n",
       "      <th>9</th>\n",
       "      <td>9</td>\n",
       "      <td>9.603718</td>\n",
       "    </tr>\n",
       "    <tr>\n",
       "      <th>10</th>\n",
       "      <td>10</td>\n",
       "      <td>9.699028</td>\n",
       "    </tr>\n",
       "  </tbody>\n",
       "</table>\n",
       "</div>"
      ],
      "text/plain": [
       "     k       MSE\n",
       "0    0  9.513720\n",
       "1    1  9.456847\n",
       "2    2  9.427377\n",
       "3    3  9.441177\n",
       "4    4  9.469032\n",
       "5    5  9.496864\n",
       "6    6  9.523703\n",
       "7    7  9.561589\n",
       "8    8  9.608631\n",
       "9    9  9.603718\n",
       "10  10  9.699028"
      ]
     },
     "execution_count": 40,
     "metadata": {},
     "output_type": "execute_result"
    }
   ],
   "source": [
    "pd.DataFrame(zip(np.arange(11), MSEs), columns=['k', 'MSE'])"
   ]
  },
  {
   "cell_type": "markdown",
   "id": "7b920920",
   "metadata": {},
   "source": [
    "Лучшим k оказалось 2."
   ]
  },
  {
   "cell_type": "code",
   "execution_count": 41,
   "id": "d365741b",
   "metadata": {},
   "outputs": [
    {
     "data": {
      "text/plain": [
       "array([  0.03421941,   0.44118663, -36.70907691, 132.00506969])"
      ]
     },
     "execution_count": 41,
     "metadata": {},
     "output_type": "execute_result"
    }
   ],
   "source": [
    "np.set_printoptions(suppress=True)\n",
    "\n",
    "X = df[['age', 'educ']].copy()\n",
    "y = df['wage']\n",
    "    \n",
    "# добавляем колонки степеней в X\n",
    "for i in range(2):\n",
    "    X[str(i+1)] = s ** (i+1)\n",
    "    \n",
    "linear_reg = LinearRegression().fit(X, y)\n",
    "linear_reg.coef_"
   ]
  },
  {
   "cell_type": "markdown",
   "id": "f0fa7400",
   "metadata": {},
   "source": [
    "Теперь, объединим все шаги в один пайплайн и бутстрапом найдем соответствующие оценки:"
   ]
  },
  {
   "cell_type": "code",
   "execution_count": 42,
   "id": "d76b9cf1",
   "metadata": {},
   "outputs": [],
   "source": [
    "def get_one_iter(df, max_k=10):\n",
    "    ### Бутстрапированная выборка\n",
    "    df_boot = df.sample(n=df.shape[0], replace=True)\n",
    "        \n",
    "    ### Logit\n",
    "    logit = smf.logit(\"lfp ~ kids + age\", data=df_boot).fit(disp=0)\n",
    "    s = logit.predict() ** 2 / np.exp(logit.predict())\n",
    "    \n",
    "    ### LOO\n",
    "    ks = np.arange(max_k + 1)\n",
    "\n",
    "    MSEs = []\n",
    "    for k in ks:\n",
    "        MSEs.append(calc_MSE(k, df=df_boot, s=s))\n",
    "            \n",
    "    best_k = np.argmin(MSEs)\n",
    "        \n",
    "    ### Линейная модель\n",
    "    X = df_boot[['age', 'educ']].copy()\n",
    "    y = df_boot['wage']\n",
    "    \n",
    "    # добавляем колонки степеней в X\n",
    "    for i in range(best_k):\n",
    "        X[str(i+1)] = s ** (i+1)\n",
    "    \n",
    "    linear_reg = LinearRegression().fit(X, y)\n",
    "    return [linear_reg.intercept_] + list(linear_reg.coef_[:2]) + [best_k]\n",
    "      "
   ]
  },
  {
   "cell_type": "code",
   "execution_count": 43,
   "id": "535d1570",
   "metadata": {},
   "outputs": [],
   "source": [
    "def get_results(n_iter, max_k=3):\n",
    "    coefs = []\n",
    "    for i in tqdm(range(n_iter)):\n",
    "        coefs.append(get_one_iter(df, max_k=max_k))\n",
    "    return coefs\n"
   ]
  },
  {
   "cell_type": "code",
   "execution_count": 44,
   "id": "cc50445d",
   "metadata": {},
   "outputs": [
    {
     "data": {
      "application/vnd.jupyter.widget-view+json": {
       "model_id": "4ea85a04d8f140ff968bb8020b8f7de7",
       "version_major": 2,
       "version_minor": 0
      },
      "text/plain": [
       "  0%|          | 0/100 [00:00<?, ?it/s]"
      ]
     },
     "metadata": {},
     "output_type": "display_data"
    }
   ],
   "source": [
    "np.random.seed(999)\n",
    "\n",
    "ests = get_results(100, max_k=5)"
   ]
  },
  {
   "cell_type": "markdown",
   "id": "ddb37da4",
   "metadata": {},
   "source": [
    "Средняя степень полинома на итерациях: "
   ]
  },
  {
   "cell_type": "code",
   "execution_count": 45,
   "id": "2c3639f3",
   "metadata": {},
   "outputs": [
    {
     "data": {
      "text/plain": [
       "2.31"
      ]
     },
     "execution_count": 45,
     "metadata": {},
     "output_type": "execute_result"
    }
   ],
   "source": [
    "np.mean(np.array(ests)[:, -1])"
   ]
  },
  {
   "cell_type": "markdown",
   "id": "c2b78e8b",
   "metadata": {},
   "source": [
    "Результаты получились в сравнении с моделями Хекмана следующими:"
   ]
  },
  {
   "cell_type": "code",
   "execution_count": 46,
   "id": "e7e13f43",
   "metadata": {},
   "outputs": [
    {
     "data": {
      "text/html": [
       "<div>\n",
       "<style scoped>\n",
       "    .dataframe tbody tr th:only-of-type {\n",
       "        vertical-align: middle;\n",
       "    }\n",
       "\n",
       "    .dataframe tbody tr th {\n",
       "        vertical-align: top;\n",
       "    }\n",
       "\n",
       "    .dataframe thead th {\n",
       "        text-align: right;\n",
       "    }\n",
       "</style>\n",
       "<table border=\"1\" class=\"dataframe\">\n",
       "  <thead>\n",
       "    <tr style=\"text-align: right;\">\n",
       "      <th></th>\n",
       "      <th>Beta</th>\n",
       "      <th>Tobit</th>\n",
       "      <th>Tobit s.e.</th>\n",
       "      <th>Heckman 1</th>\n",
       "      <th>Heckman 1 s.e.</th>\n",
       "      <th>Heckman 2</th>\n",
       "      <th>Heckman 2 s.e.</th>\n",
       "      <th>Newey</th>\n",
       "      <th>Newey s.e.</th>\n",
       "    </tr>\n",
       "  </thead>\n",
       "  <tbody>\n",
       "    <tr>\n",
       "      <th>0</th>\n",
       "      <td>intercept</td>\n",
       "      <td>-7.02410</td>\n",
       "      <td>1.51982</td>\n",
       "      <td>-2.939170</td>\n",
       "      <td>1.23099</td>\n",
       "      <td>-2.746493</td>\n",
       "      <td>1.33958</td>\n",
       "      <td>-8.291322</td>\n",
       "      <td>34.846848</td>\n",
       "    </tr>\n",
       "    <tr>\n",
       "      <th>1</th>\n",
       "      <td>age</td>\n",
       "      <td>-0.01668</td>\n",
       "      <td>0.02344</td>\n",
       "      <td>0.022096</td>\n",
       "      <td>0.02005</td>\n",
       "      <td>0.025869</td>\n",
       "      <td>0.02259</td>\n",
       "      <td>0.029476</td>\n",
       "      <td>0.017269</td>\n",
       "    </tr>\n",
       "    <tr>\n",
       "      <th>2</th>\n",
       "      <td>educ</td>\n",
       "      <td>0.69445</td>\n",
       "      <td>0.08370</td>\n",
       "      <td>0.498263</td>\n",
       "      <td>0.06584</td>\n",
       "      <td>0.496435</td>\n",
       "      <td>0.06601</td>\n",
       "      <td>0.437257</td>\n",
       "      <td>0.056971</td>\n",
       "    </tr>\n",
       "  </tbody>\n",
       "</table>\n",
       "</div>"
      ],
      "text/plain": [
       "        Beta    Tobit  Tobit s.e.  Heckman 1  Heckman 1 s.e.  Heckman 2  \\\n",
       "0  intercept -7.02410     1.51982  -2.939170         1.23099  -2.746493   \n",
       "1        age -0.01668     0.02344   0.022096         0.02005   0.025869   \n",
       "2       educ  0.69445     0.08370   0.498263         0.06584   0.496435   \n",
       "\n",
       "   Heckman 2 s.e.     Newey  Newey s.e.  \n",
       "0         1.33958 -8.291322   34.846848  \n",
       "1         0.02259  0.029476    0.017269  \n",
       "2         0.06601  0.437257    0.056971  "
      ]
     },
     "execution_count": 46,
     "metadata": {},
     "output_type": "execute_result"
    }
   ],
   "source": [
    "\n",
    "betas = ['intercept', 'age', 'educ']\n",
    "tobit = [-7.02410, -0.01668,  0.69445]\n",
    "tobit_se = [1.51982, 0.02344, 0.08370]\n",
    "heckman_mle = [-2.9391697, 0.0220963, 0.4982631]\n",
    "mle_se = [1.23099, 0.02005, 0.06584]\n",
    "heckman_2step = [-2.74649310, 0.02586941, 0.49643489]\n",
    "step2_se = [1.33958, 0.02259, 0.06601]\n",
    "\n",
    "newey = np.mean(ests, axis=0)[:-1]\n",
    "newey_se = np.sqrt(np.var(ests, axis=0)[:-1] * len(ests) / (len(ests) - 1))\n",
    "\n",
    "\n",
    "pd.DataFrame(zip(betas, tobit, tobit_se, heckman_mle, \n",
    "                 mle_se, heckman_2step, step2_se,\n",
    "                 newey, newey_se), columns=['Beta', 'Tobit', 'Tobit s.e.', 'Heckman 1', 'Heckman 1 s.e.',\n",
    "                                            'Heckman 2', 'Heckman 2 s.e.', 'Newey', 'Newey s.e.'])"
   ]
  },
  {
   "cell_type": "markdown",
   "id": "e3498db0",
   "metadata": {},
   "source": [
    "В таблице выше под Heckman 1 и 2 обозначены, соответственно, модели Хекмана с ММП и двухшаговой процедурой. После колонки коэффициента для каждой модели следует колонка с его стандартным отклонением. Оценки коэффициентов и стандартных отклонений в методе Ньюи получены с помощью бутстрапа.\n",
    "\n",
    "Оценки как коэффициентов, так и стандартных отклонений получились похожими (несмотря на то, что мы взяли выдуманную из головы сглаживающую функцию). Стоит отметить, что оценка константы при использовании метода Ньюи сильно зависит от степени полинома, ее стандартное отклонение во много раз превосходит аналоги других подходов, что согласуется с теорией: константа в методе Ньюи не оперделяется однозначно."
   ]
  }
 ],
 "metadata": {
  "kernelspec": {
   "display_name": "Python 3 (ipykernel)",
   "language": "python",
   "name": "python3"
  },
  "language_info": {
   "codemirror_mode": {
    "name": "ipython",
    "version": 3
   },
   "file_extension": ".py",
   "mimetype": "text/x-python",
   "name": "python",
   "nbconvert_exporter": "python",
   "pygments_lexer": "ipython3",
   "version": "3.9.12"
  }
 },
 "nbformat": 4,
 "nbformat_minor": 5
}

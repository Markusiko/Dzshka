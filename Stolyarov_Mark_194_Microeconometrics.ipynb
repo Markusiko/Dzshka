{
 "cells": [
  {
   "cell_type": "markdown",
   "id": "be5633a6",
   "metadata": {},
   "source": [
    "# Домашнее задание №1"
   ]
  },
  {
   "cell_type": "markdown",
   "id": "43df81d0",
   "metadata": {},
   "source": [
    "В данной работе вы будете изучать, как различные факторы влияют на вероятность того, что индивид оформит подписку на онлайн кинотеатр. Для этого используйте данные “homework.rds”. Чтобы считать соответствующие данные в R необходимо воспользоваться функцией “readRDS”.\n",
    "Данные содержат информацию о следующих индивидуальных характеристиках:\n",
    "* income — доход\n",
    "* age — возраст\n",
    "* internet — доля свободного времени, проводимого в интернете\n",
    "* series — количество просмотренных за год сериалов\n",
    "* health — субъективная оценка здоровья\n",
    "* male — половая принадлежность\n",
    "* marriage — состоит в официальном браке\n",
    "* residence — место проживания\n",
    "* cat — факт наличия кота\n",
    "* news — субъективная оценка степени, в которой индивид интересуется новостями\n",
    "* sub — факт наличия подписки на онлайн кинотеатр (зависимая переменная)\n",
    "* TV — индивид смотрит телевизор не реже раза в неделю"
   ]
  },
  {
   "cell_type": "code",
   "execution_count": 1,
   "id": "f0a7ca19",
   "metadata": {},
   "outputs": [],
   "source": [
    "# pip install rpy2"
   ]
  },
  {
   "cell_type": "code",
   "execution_count": 2,
   "id": "f18a10b8",
   "metadata": {},
   "outputs": [],
   "source": [
    "import pandas as pd\n",
    "import numpy as np\n",
    "import scipy\n",
    "from tqdm.auto import tqdm\n",
    "import pyreadr\n",
    "\n",
    "import statsmodels.api as sm\n",
    "from statsmodels.api import OLS, Probit, Logit\n",
    "import matplotlib.pyplot as plt\n",
    "\n",
    "import warnings\n",
    "warnings.filterwarnings('ignore')\n",
    "\n",
    "%matplotlib inline\n",
    "%config InlineBackend.figure_format = 'retina'\n",
    "plt.rcParams['figure.figsize'] = 12, 8\n",
    "\n",
    "%load_ext rpy2.ipython"
   ]
  },
  {
   "cell_type": "code",
   "execution_count": 3,
   "id": "32b966a5",
   "metadata": {},
   "outputs": [
    {
     "name": "stderr",
     "output_type": "stream",
     "text": [
      "R[write to console]: Загрузка требуемого пакета: mgcv\n",
      "\n",
      "R[write to console]: Загрузка требуемого пакета: nlme\n",
      "\n",
      "R[write to console]: This is mgcv 1.8-40. For overview type 'help(\"mgcv-package\")'.\n",
      "\n",
      "R[write to console]: \n",
      "This is GJRM 0.2-6.\n",
      "For overview type 'help(\"GJRM-package\")'.\n",
      "\n",
      "\n",
      "R[write to console]: Type 'citation(\"pROC\")' for a citation.\n",
      "\n",
      "R[write to console]: \n",
      "Присоединяю пакет: ‘pROC’\n",
      "\n",
      "\n",
      "R[write to console]: Следующие объекты скрыты от ‘package:stats’:\n",
      "\n",
      "    cov, smooth, var\n",
      "\n",
      "\n"
     ]
    }
   ],
   "source": [
    "%%R\n",
    "\n",
    "#install.packages(\"ggplot2\", repos='http://cran.us.r-project.org', quiet=TRUE)\n",
    "library(ggplot2)\n",
    "library(\"GJRM\")                             \n",
    "library(\"pbivnorm\")  \n",
    "library(\"pROC\")\n",
    "library(\"DescTools\")\n",
    "library(\"glmx\") \n",
    "library(\"numDeriv\")\n",
    "library(\"margins\")"
   ]
  },
  {
   "cell_type": "code",
   "execution_count": 4,
   "id": "e76a7b6c",
   "metadata": {},
   "outputs": [],
   "source": [
    "result = pyreadr.read_r('homework.Rds') \n",
    "df = result[None]  "
   ]
  },
  {
   "cell_type": "code",
   "execution_count": 5,
   "id": "9a7d2dc4",
   "metadata": {},
   "outputs": [
    {
     "data": {
      "text/html": [
       "<div>\n",
       "<style scoped>\n",
       "    .dataframe tbody tr th:only-of-type {\n",
       "        vertical-align: middle;\n",
       "    }\n",
       "\n",
       "    .dataframe tbody tr th {\n",
       "        vertical-align: top;\n",
       "    }\n",
       "\n",
       "    .dataframe thead th {\n",
       "        text-align: right;\n",
       "    }\n",
       "</style>\n",
       "<table border=\"1\" class=\"dataframe\">\n",
       "  <thead>\n",
       "    <tr style=\"text-align: right;\">\n",
       "      <th></th>\n",
       "      <th>income</th>\n",
       "      <th>age</th>\n",
       "      <th>internet</th>\n",
       "      <th>series</th>\n",
       "      <th>health</th>\n",
       "      <th>male</th>\n",
       "      <th>marriage</th>\n",
       "      <th>residence</th>\n",
       "      <th>cat</th>\n",
       "      <th>news</th>\n",
       "      <th>sub</th>\n",
       "      <th>TV</th>\n",
       "    </tr>\n",
       "  </thead>\n",
       "  <tbody>\n",
       "    <tr>\n",
       "      <th>0</th>\n",
       "      <td>6000.0</td>\n",
       "      <td>75.0</td>\n",
       "      <td>0.61</td>\n",
       "      <td>9.0</td>\n",
       "      <td>medium</td>\n",
       "      <td>0</td>\n",
       "      <td>1</td>\n",
       "      <td>City</td>\n",
       "      <td>0</td>\n",
       "      <td>-3.0</td>\n",
       "      <td>0.0</td>\n",
       "      <td>1.0</td>\n",
       "    </tr>\n",
       "    <tr>\n",
       "      <th>1</th>\n",
       "      <td>7000.0</td>\n",
       "      <td>33.0</td>\n",
       "      <td>0.05</td>\n",
       "      <td>5.0</td>\n",
       "      <td>medium</td>\n",
       "      <td>0</td>\n",
       "      <td>1</td>\n",
       "      <td>Capital</td>\n",
       "      <td>0</td>\n",
       "      <td>-5.0</td>\n",
       "      <td>0.0</td>\n",
       "      <td>0.0</td>\n",
       "    </tr>\n",
       "    <tr>\n",
       "      <th>2</th>\n",
       "      <td>37000.0</td>\n",
       "      <td>30.0</td>\n",
       "      <td>0.15</td>\n",
       "      <td>9.0</td>\n",
       "      <td>good</td>\n",
       "      <td>1</td>\n",
       "      <td>0</td>\n",
       "      <td>City</td>\n",
       "      <td>0</td>\n",
       "      <td>2.0</td>\n",
       "      <td>1.0</td>\n",
       "      <td>1.0</td>\n",
       "    </tr>\n",
       "    <tr>\n",
       "      <th>3</th>\n",
       "      <td>18000.0</td>\n",
       "      <td>50.0</td>\n",
       "      <td>0.37</td>\n",
       "      <td>1.0</td>\n",
       "      <td>bad</td>\n",
       "      <td>0</td>\n",
       "      <td>0</td>\n",
       "      <td>Village</td>\n",
       "      <td>1</td>\n",
       "      <td>4.0</td>\n",
       "      <td>0.0</td>\n",
       "      <td>0.0</td>\n",
       "    </tr>\n",
       "    <tr>\n",
       "      <th>4</th>\n",
       "      <td>7000.0</td>\n",
       "      <td>24.0</td>\n",
       "      <td>0.24</td>\n",
       "      <td>7.0</td>\n",
       "      <td>bad</td>\n",
       "      <td>0</td>\n",
       "      <td>0</td>\n",
       "      <td>City</td>\n",
       "      <td>0</td>\n",
       "      <td>-3.0</td>\n",
       "      <td>0.0</td>\n",
       "      <td>0.0</td>\n",
       "    </tr>\n",
       "  </tbody>\n",
       "</table>\n",
       "</div>"
      ],
      "text/plain": [
       "    income   age  internet  series  health  male  marriage residence  cat  \\\n",
       "0   6000.0  75.0      0.61     9.0  medium     0         1      City    0   \n",
       "1   7000.0  33.0      0.05     5.0  medium     0         1   Capital    0   \n",
       "2  37000.0  30.0      0.15     9.0    good     1         0      City    0   \n",
       "3  18000.0  50.0      0.37     1.0     bad     0         0   Village    1   \n",
       "4   7000.0  24.0      0.24     7.0     bad     0         0      City    0   \n",
       "\n",
       "   news  sub   TV  \n",
       "0  -3.0  0.0  1.0  \n",
       "1  -5.0  0.0  0.0  \n",
       "2   2.0  1.0  1.0  \n",
       "3   4.0  0.0  0.0  \n",
       "4  -3.0  0.0  0.0  "
      ]
     },
     "execution_count": 5,
     "metadata": {},
     "output_type": "execute_result"
    }
   ],
   "source": [
    "df.head()"
   ]
  },
  {
   "cell_type": "code",
   "execution_count": 6,
   "id": "f7b69809",
   "metadata": {},
   "outputs": [
    {
     "data": {
      "text/plain": [
       "(5000, 12)"
      ]
     },
     "execution_count": 6,
     "metadata": {},
     "output_type": "execute_result"
    }
   ],
   "source": [
    "df.shape"
   ]
  },
  {
   "cell_type": "markdown",
   "id": "a9573ed7",
   "metadata": {},
   "source": [
    "## Часть 1. Теория и гипотезы"
   ]
  },
  {
   "cell_type": "markdown",
   "id": "3d60a2b1",
   "metadata": {},
   "source": [
    "$\\bf{1.1.}$ Выберите независимые переменные. Кратко теоретически обоснуйте выбор каждой из них: не обязательно со ссылками на литературу, достаточно здравого смысла. Укажите и кратко обоснуйте предполагаемые направления эффектов. При этом вам понадобится как минимум одна непрерывная переменная (например, возраст или доход) и одна дамми переменная (например, половая принадлежность или брак). Не рекомендуется брать больше трех различных независимых переменных, не считая их нелинейных преобразований: квадрат, логарифм, перемножение с целью получения переменной взаимодействия и т.д."
   ]
  },
  {
   "cell_type": "markdown",
   "id": "2c557e54",
   "metadata": {},
   "source": [
    "$\\bf{\\text{Мое решение:}}$ \n",
    "\n",
    "В качестве независимых переменных возьмем возраст (непрерывная), пол (бинарная) и кол-во просмотренных за год сериалов (будем считать ее по аналогии с возрастом непрерывной). \n",
    "\n",
    "Возраст будет входить в мою модель нелинейно: с квадратом, так как вполне возможно, что очень молодые индивиды не будут иметь подписку (не знаю, что это такое; не интересен контент в подписке), с увеличением возраста (подростки, люди 20-40 лет) люди хотят быть на волне, смотреть актуальные сериалы/фильмы, поэтому захотят иметь подписку на сервис. Однако, более старые люди реже пользуются онлайн-сервисами: они либо не знают, что это, либо онлайн-просмотр фильмов им неинтересен. Таким образом, предполагаю, что коэффициент при квадрате возраста будет отрицательным, а пик вероятности иметь подписку будет достигаться где-то при 25 годах (при прочих равных факторах)\n",
    "\n",
    "Мне кажется, что представители женского пола чаще смотрят фильмы/сериалы (возможно, потому что у них на это больше свободного времени), поэтому коэффициент при поле, по моим предположениям, должен быть отрицательным (1 $-$ мужчины).\n",
    "\n",
    "Количество просмотренных сериалов за прошлый год, мне кажется, должно положительно влиять на вероятность человека иметь подписку, так как если человек смотрит много сериалов, то ему выгодно пользоваться онлайн-кинотеатром, где он может находить много предложений для себя, иметь доступ к большому количеству контента. Наоборот, если человек не смотрел ни одного сериала (или очень мало) в прошлом году, то, возможно, сериалы ему неинтересны и тогда зачем ему брать подписку."
   ]
  },
  {
   "cell_type": "markdown",
   "id": "784b434c",
   "metadata": {},
   "source": [
    "$\\bf{1.2.}$ Сформулируйте по крайней мере одну гипотезу о наличии эффекта взаимодействия и еще одну о наличии нелинейного эффекта (например, квадратичного). Теоретически обоснуйте выдвигаемые вами гипотезы. Включите соответствующие переменные в вашу модель. При этом переменная, входящая нелинейно, должна иметь и\n",
    "линейную часть, например, $\\beta_1 X_1 + \\beta_2 X_1^2$."
   ]
  },
  {
   "cell_type": "markdown",
   "id": "ca0d1d38",
   "metadata": {},
   "source": [
    "$\\bf{\\text{Мое решение:}}$ \n",
    "\n",
    "Гипотеза о квадратичном эффекте возраста была описана и обоснована в прошлом пункте.\n",
    "\n",
    "Мне кажется, что количество просмотренных сериалов по-разному влияет на вероятность иметь подписку для мужчин и женщин. Женщины могут быть более \"зависимыми\" и если они просмотрели много сериалов, то они захотят смотреть еще больше. Поэтому коэффициент при переменной взаимодействия (пол, умноженный на кол-во сериалов) будет отрицательным."
   ]
  },
  {
   "cell_type": "code",
   "execution_count": 7,
   "id": "0b15a394",
   "metadata": {},
   "outputs": [],
   "source": [
    "df['age2'] = df['age'] ** 2\n",
    "df['male_series'] = df['male'] * df['series']\n",
    "\n",
    "features = ['age', 'age2', 'male', 'series', 'male_series']\n",
    "formula = 'sub ~ age + age ** 2 + male + series + male * series'"
   ]
  },
  {
   "cell_type": "markdown",
   "id": "f6bb8737",
   "metadata": {},
   "source": [
    "## Часть 2. Линейно-вероятностная модель"
   ]
  },
  {
   "cell_type": "markdown",
   "id": "f7cb5eb0",
   "metadata": {},
   "source": [
    "$\\bf{2.1.}$ Оцените линейно-вероятностную модель, предварительно записав регрессионное уравнение. Укажите оцениваемые параметры и метод получения оценок. Результат представьте в форме таблицы (можно, например, использовать выдачу из stata, R или python).\n"
   ]
  },
  {
   "cell_type": "markdown",
   "id": "11d5fb13",
   "metadata": {},
   "source": [
    "$\\bf{\\text{Мое решение:}}$ \n",
    "\n",
    "Регрессионное уравнение:\n",
    "$$P(y_i=1) = \\beta_0 + \\beta_1 \\cdot Age_i + \\beta_2 \\cdot Age^2_i + \\beta_3 \\cdot Male_i \n",
    "        + \\beta_4 \\cdot Series_i + \\beta_5 \\cdot Male\\_Series_i + \\varepsilon_i$$\n",
    "        \n",
    "Оцениваемые параметры $-$ коэффициенты $\\beta$, способ получения которых $-$ метод наименьших квадратов.\n",
    "        \n",
    "Оценки получаются МНК, мы воспользуемся библиотекой statsmodels:"
   ]
  },
  {
   "cell_type": "code",
   "execution_count": 8,
   "id": "0a4952c7",
   "metadata": {},
   "outputs": [
    {
     "data": {
      "text/html": [
       "<table class=\"simpletable\">\n",
       "<caption>OLS Regression Results</caption>\n",
       "<tr>\n",
       "  <th>Dep. Variable:</th>          <td>sub</td>       <th>  R-squared:         </th> <td>   0.255</td> \n",
       "</tr>\n",
       "<tr>\n",
       "  <th>Model:</th>                  <td>OLS</td>       <th>  Adj. R-squared:    </th> <td>   0.254</td> \n",
       "</tr>\n",
       "<tr>\n",
       "  <th>Method:</th>            <td>Least Squares</td>  <th>  F-statistic:       </th> <td>   341.4</td> \n",
       "</tr>\n",
       "<tr>\n",
       "  <th>Date:</th>             <td>вс, 30 окт 2022</td> <th>  Prob (F-statistic):</th> <td>1.75e-315</td>\n",
       "</tr>\n",
       "<tr>\n",
       "  <th>Time:</th>                <td>22:30:35</td>     <th>  Log-Likelihood:    </th> <td> -2692.2</td> \n",
       "</tr>\n",
       "<tr>\n",
       "  <th>No. Observations:</th>     <td>  5000</td>      <th>  AIC:               </th> <td>   5396.</td> \n",
       "</tr>\n",
       "<tr>\n",
       "  <th>Df Residuals:</th>         <td>  4994</td>      <th>  BIC:               </th> <td>   5436.</td> \n",
       "</tr>\n",
       "<tr>\n",
       "  <th>Df Model:</th>             <td>     5</td>      <th>                     </th>     <td> </td>    \n",
       "</tr>\n",
       "<tr>\n",
       "  <th>Covariance Type:</th>     <td>nonrobust</td>    <th>                     </th>     <td> </td>    \n",
       "</tr>\n",
       "</table>\n",
       "<table class=\"simpletable\">\n",
       "<tr>\n",
       "       <td></td>          <th>coef</th>     <th>std err</th>      <th>t</th>      <th>P>|t|</th>  <th>[0.025</th>    <th>0.975]</th>  \n",
       "</tr>\n",
       "<tr>\n",
       "  <th>const</th>       <td>   -0.0514</td> <td>    0.044</td> <td>   -1.178</td> <td> 0.239</td> <td>   -0.137</td> <td>    0.034</td>\n",
       "</tr>\n",
       "<tr>\n",
       "  <th>age</th>         <td>    0.0036</td> <td>    0.001</td> <td>    2.433</td> <td> 0.015</td> <td>    0.001</td> <td>    0.007</td>\n",
       "</tr>\n",
       "<tr>\n",
       "  <th>age2</th>        <td>-2.426e-05</td> <td> 1.22e-05</td> <td>   -1.991</td> <td> 0.047</td> <td>-4.82e-05</td> <td>-3.68e-07</td>\n",
       "</tr>\n",
       "<tr>\n",
       "  <th>male</th>        <td>    0.4438</td> <td>    0.023</td> <td>   18.998</td> <td> 0.000</td> <td>    0.398</td> <td>    0.490</td>\n",
       "</tr>\n",
       "<tr>\n",
       "  <th>series</th>      <td>    0.0125</td> <td>    0.003</td> <td>    4.476</td> <td> 0.000</td> <td>    0.007</td> <td>    0.018</td>\n",
       "</tr>\n",
       "<tr>\n",
       "  <th>male_series</th> <td>    0.0059</td> <td>    0.004</td> <td>    1.474</td> <td> 0.141</td> <td>   -0.002</td> <td>    0.014</td>\n",
       "</tr>\n",
       "</table>\n",
       "<table class=\"simpletable\">\n",
       "<tr>\n",
       "  <th>Omnibus:</th>       <td>237.619</td> <th>  Durbin-Watson:     </th> <td>   2.019</td>\n",
       "</tr>\n",
       "<tr>\n",
       "  <th>Prob(Omnibus):</th> <td> 0.000</td>  <th>  Jarque-Bera (JB):  </th> <td> 134.751</td>\n",
       "</tr>\n",
       "<tr>\n",
       "  <th>Skew:</th>          <td> 0.250</td>  <th>  Prob(JB):          </th> <td>5.49e-30</td>\n",
       "</tr>\n",
       "<tr>\n",
       "  <th>Kurtosis:</th>      <td> 2.369</td>  <th>  Cond. No.          </th> <td>3.78e+04</td>\n",
       "</tr>\n",
       "</table><br/><br/>Notes:<br/>[1] Standard Errors assume that the covariance matrix of the errors is correctly specified.<br/>[2] The condition number is large, 3.78e+04. This might indicate that there are<br/>strong multicollinearity or other numerical problems."
      ],
      "text/plain": [
       "<class 'statsmodels.iolib.summary.Summary'>\n",
       "\"\"\"\n",
       "                            OLS Regression Results                            \n",
       "==============================================================================\n",
       "Dep. Variable:                    sub   R-squared:                       0.255\n",
       "Model:                            OLS   Adj. R-squared:                  0.254\n",
       "Method:                 Least Squares   F-statistic:                     341.4\n",
       "Date:                 вс, 30 окт 2022   Prob (F-statistic):          1.75e-315\n",
       "Time:                        22:30:35   Log-Likelihood:                -2692.2\n",
       "No. Observations:                5000   AIC:                             5396.\n",
       "Df Residuals:                    4994   BIC:                             5436.\n",
       "Df Model:                           5                                         \n",
       "Covariance Type:            nonrobust                                         \n",
       "===============================================================================\n",
       "                  coef    std err          t      P>|t|      [0.025      0.975]\n",
       "-------------------------------------------------------------------------------\n",
       "const          -0.0514      0.044     -1.178      0.239      -0.137       0.034\n",
       "age             0.0036      0.001      2.433      0.015       0.001       0.007\n",
       "age2        -2.426e-05   1.22e-05     -1.991      0.047   -4.82e-05   -3.68e-07\n",
       "male            0.4438      0.023     18.998      0.000       0.398       0.490\n",
       "series          0.0125      0.003      4.476      0.000       0.007       0.018\n",
       "male_series     0.0059      0.004      1.474      0.141      -0.002       0.014\n",
       "==============================================================================\n",
       "Omnibus:                      237.619   Durbin-Watson:                   2.019\n",
       "Prob(Omnibus):                  0.000   Jarque-Bera (JB):              134.751\n",
       "Skew:                           0.250   Prob(JB):                     5.49e-30\n",
       "Kurtosis:                       2.369   Cond. No.                     3.78e+04\n",
       "==============================================================================\n",
       "\n",
       "Notes:\n",
       "[1] Standard Errors assume that the covariance matrix of the errors is correctly specified.\n",
       "[2] The condition number is large, 3.78e+04. This might indicate that there are\n",
       "strong multicollinearity or other numerical problems.\n",
       "\"\"\""
      ]
     },
     "execution_count": 8,
     "metadata": {},
     "output_type": "execute_result"
    }
   ],
   "source": [
    "ols = OLS(df['sub'], sm.add_constant(df[features])).fit()\n",
    "ols.summary()"
   ]
  },
  {
   "cell_type": "markdown",
   "id": "00f220f7",
   "metadata": {},
   "source": [
    "Так как некоторых функций нет в Питоне, то в некоторых заданиях будем пользоваться R (пример ниже):"
   ]
  },
  {
   "cell_type": "code",
   "execution_count": 9,
   "id": "26f2698a",
   "metadata": {},
   "outputs": [
    {
     "name": "stdout",
     "output_type": "stream",
     "text": [
      "\n",
      "Call:\n",
      "lm(formula = sub ~ age + I(age^2) + male + series + male * series, \n",
      "    data = df_r)\n",
      "\n",
      "Residuals:\n",
      "    Min      1Q  Median      3Q     Max \n",
      "-0.7111 -0.1813 -0.1034  0.3659  0.9737 \n",
      "\n",
      "Coefficients:\n",
      "              Estimate Std. Error t value Pr(>|t|)    \n",
      "(Intercept) -5.137e-02  4.361e-02  -1.178   0.2389    \n",
      "age          3.612e-03  1.485e-03   2.433   0.0150 *  \n",
      "I(age^2)    -2.426e-05  1.219e-05  -1.991   0.0466 *  \n",
      "male         4.438e-01  2.336e-02  18.998  < 2e-16 ***\n",
      "series       1.254e-02  2.800e-03   4.476 7.76e-06 ***\n",
      "male:series  5.889e-03  3.995e-03   1.474   0.1406    \n",
      "---\n",
      "Signif. codes:  0 ‘***’ 0.001 ‘**’ 0.01 ‘*’ 0.05 ‘.’ 0.1 ‘ ’ 1\n",
      "\n",
      "Residual standard error: 0.4148 on 4994 degrees of freedom\n",
      "Multiple R-squared:  0.2547,\tAdjusted R-squared:  0.254 \n",
      "F-statistic: 341.4 on 5 and 4994 DF,  p-value: < 2.2e-16\n",
      "\n"
     ]
    }
   ],
   "source": [
    "%%R\n",
    "\n",
    "df_r <- readRDS('homework.Rds')\n",
    "model.lm <- lm(formula = sub ~ age + I(age ^ 2) +     \n",
    "                                   male + series +\n",
    "                                   male * series,   \n",
    "                    data = df_r)    \n",
    "                                                           \n",
    "summary(model.lm)                               "
   ]
  },
  {
   "cell_type": "markdown",
   "id": "4a19ba15",
   "metadata": {},
   "source": [
    "Заметим, что результаты для обоих подходов получились одинаковые."
   ]
  },
  {
   "cell_type": "markdown",
   "id": "51b177ba",
   "metadata": {},
   "source": [
    "$\\bf{2.2.}$ Перечислите основные недостатки линейно-вероятностной модели. Напишите, можно ли интерпретировать оценки коэффициентов, их значимость (с использованием\n",
    "обычной оценки ковариационной матрицы), коэффициент детерминации и F-статистику? Если да, то приведите интерпретацию, а если нет, то объясните (без непосредственной реализации), почему она в данном случае невозможна и предложите альтернативный способ оценки качества модели."
   ]
  },
  {
   "cell_type": "markdown",
   "id": "a44c6ee1",
   "metadata": {},
   "source": [
    "$\\bf{\\text{Мое решение:}}$ \n",
    "\n"
   ]
  },
  {
   "cell_type": "markdown",
   "id": "97498297",
   "metadata": {},
   "source": [
    "Основными недостатками линейной вероятностной модели является то, что предсказываемая ею вероятность может быть больше 1 или меньше 0 (вопреки логике), гетероскедастичность ошибки и то, что распределение случайного члена не является нормальным.\n",
    " \n",
    "Оценки модели являются несмещенными, однако из-за гетероскедастичности  $R^2$, t и F-статистика невалидны (их нельзя интерпретировать). \n",
    "\n",
    "Качество модели можно оценить, например, с помощью accuracy (округляя вероятность к ближайшему нулю/единице, получая таким образом прогноз). \n",
    "\n",
    "Либо можно избавиться от гетероскедастичности (сделать коррекцию стандартных ошибок оценок или использовать некую функцию, переводящую прогнозы на отрезок от нуля до единицы (но это будет уже другая модель, наподобие пробита)), чтобы все показатели были валидны. "
   ]
  },
  {
   "cell_type": "markdown",
   "id": "78df97f2",
   "metadata": {},
   "source": [
    "$\\bf{2.3.}$ Оцените и проинтерпретируйте, независимо от значимости, предельные эффекты на вероятность подписки каждой из используемых вами независимых переменных, предварительно записав формулы, по которым осуществлялся расчет. Результат представьте в форме таблицы, где для переменных, входящих нелинейно, рассчитан средний предельный эффект. Также, для этих переменных должно быть указано, при каких значениях независимой переменной их предельный эффект является положительным, а при каких — отрицательным."
   ]
  },
  {
   "cell_type": "markdown",
   "id": "d54a511a",
   "metadata": {},
   "source": [
    "$\\bf{\\text{Мое решение:}}$ \n",
    "#### Здесь и везде далее под средним предельным эффектом будем понимать предельный эффект для индивида со средними характеристиками (потому что возможен другой способ с усреднением предельных эффектов для каждого индивида)\n",
    "\n",
    "\n",
    "Все переменные входят в нашу модель нелинейно (возраст в квадрате, две другие переменные участвуют в переменной взаимодействия):\n",
    "$$ \\frac{\\partial \\hat{P}(y_i = 1)}{\\partial Age_i} = \\hat{\\beta}_1 + 2\\hat{\\beta}_2\\cdot Age_i $$\n",
    "$$ \\frac{\\partial \\hat{P}(y_i = 1)}{\\partial Series_i} = \\hat{\\beta}_4 + \\hat{\\beta}_5\\cdot Male_i $$\n",
    "$$ \\frac{\\partial \\hat{P}(y_i = 1)}{\\partial Male_i} = \\hat{P}(y_i=1|Male_i=1) - \\hat{P}(y_i=1|Male_i=0)=\\hat{\\beta}_3+ \\hat{\\beta}_5\\cdot Series_i $$\n",
    "\n",
    "На месте переменных будем использовать соответствующие средние по выборке значения"
   ]
  },
  {
   "cell_type": "code",
   "execution_count": 10,
   "id": "cb84a93a",
   "metadata": {},
   "outputs": [
    {
     "name": "stdout",
     "output_type": "stream",
     "text": [
      "Граничная точка для возраста: 74.44\n",
      "Граничная точка для пола: кол-во просмотренных сериалов за год = -75.37\n"
     ]
    },
    {
     "data": {
      "text/html": [
       "<div>\n",
       "<style scoped>\n",
       "    .dataframe tbody tr th:only-of-type {\n",
       "        vertical-align: middle;\n",
       "    }\n",
       "\n",
       "    .dataframe tbody tr th {\n",
       "        vertical-align: top;\n",
       "    }\n",
       "\n",
       "    .dataframe thead th {\n",
       "        text-align: right;\n",
       "    }\n",
       "</style>\n",
       "<table border=\"1\" class=\"dataframe\">\n",
       "  <thead>\n",
       "    <tr style=\"text-align: right;\">\n",
       "      <th></th>\n",
       "      <th>Feature</th>\n",
       "      <th>Avg ME</th>\n",
       "      <th>ME &gt; 0</th>\n",
       "      <th>ME &lt; 0</th>\n",
       "    </tr>\n",
       "  </thead>\n",
       "  <tbody>\n",
       "    <tr>\n",
       "      <th>0</th>\n",
       "      <td>Age</td>\n",
       "      <td>0.000682</td>\n",
       "      <td>Age &lt; 74.44</td>\n",
       "      <td>Age &gt; 74.44</td>\n",
       "    </tr>\n",
       "    <tr>\n",
       "      <th>1</th>\n",
       "      <td>Series</td>\n",
       "      <td>0.015419</td>\n",
       "      <td>Always</td>\n",
       "      <td>Never</td>\n",
       "    </tr>\n",
       "    <tr>\n",
       "      <th>2</th>\n",
       "      <td>Male</td>\n",
       "      <td>0.473612</td>\n",
       "      <td>Always</td>\n",
       "      <td>Never</td>\n",
       "    </tr>\n",
       "  </tbody>\n",
       "</table>\n",
       "</div>"
      ],
      "text/plain": [
       "  Feature    Avg ME       ME > 0       ME < 0\n",
       "0     Age  0.000682  Age < 74.44  Age > 74.44\n",
       "1  Series  0.015419       Always        Never\n",
       "2    Male  0.473612       Always        Never"
      ]
     },
     "execution_count": 10,
     "metadata": {},
     "output_type": "execute_result"
    }
   ],
   "source": [
    "beta = ols.params\n",
    "\n",
    "age_thr = np.round(-beta[1] / (2 * beta[2]), 2)\n",
    "print('Граничная точка для возраста:', age_thr)\n",
    "\n",
    "male_thr = np.round(-beta[3] / (beta[5]), 2)\n",
    "print('Граничная точка для пола: кол-во просмотренных сериалов за год =', male_thr)\n",
    "\n",
    "all_info = []\n",
    "all_info.append(['Age', beta[1] + 2 * beta[2] * df.age.mean(), \n",
    "                 f'Age < {np.round(age_thr, 2)}', # beta2 < 0\n",
    "                 f'Age > {np.round(age_thr, 2)}'])\n",
    "all_info.append(['Series', beta[4] + beta[5] * df.male.mean(), \n",
    "                 'Always', 'Never'])\n",
    "all_info.append(['Male', beta[3] + beta[5] * df.series.mean(), \n",
    "                 'Always', 'Never'])\n",
    "\n",
    "me_df = pd.DataFrame(all_info, columns=['Feature', 'Avg ME', 'ME > 0', 'ME < 0'])\n",
    "me_df"
   ]
  },
  {
   "cell_type": "markdown",
   "id": "ce0a9ff3",
   "metadata": {},
   "source": [
    "Все средние предельные эффекты получились больше нуля.\n",
    "\n",
    "Средний предельный эффект от возраста становится меньше нуля лишь при возрасте больше приблизительно 74 лет.\n",
    "\n",
    "\n",
    "Для кол-ва просмотренных сериалов средний предельный предельный эффект больше нуля при любом поле, предельный эффект от пола, можно сказать, также больше нуля при любом значении кол-ва сериалов, поскольку кол-во сериалов не может быть отрицательным, а граничная точка $-$ -75.37\n",
    "\n",
    "Для индивида со средними значениями признаков вероятность подписки увеличивается на 1) 0.0007 при увеличении возраста на 1, 2) 0.015 при увеличении кол-ва просмотренных сериалов на 1, 3) 0.47 если индивид был бы мужчиной по сравнению со случаем, когда индивид женщина"
   ]
  },
  {
   "cell_type": "markdown",
   "id": "6847eebd",
   "metadata": {},
   "source": [
    "$\\bf{2.4.^{**}}$ Протестируйте гипотезы о значимости коэффициентов используя состоятельную (скорректированную на гетероскедастичность) оценку асимптотической ковариационной матрицы. Результат представьте в форме таблицы, предварительно выписав используемую для расчетов формулу.\n"
   ]
  },
  {
   "cell_type": "markdown",
   "id": "cae523e7",
   "metadata": {},
   "source": [
    "$\\bf{\\text{Мое решение:}}$ "
   ]
  },
  {
   "cell_type": "markdown",
   "id": "2d5a0cc0",
   "metadata": {},
   "source": [
    " Используем коррекцию по формуле Уайта:\n",
    " \n",
    " $$\n",
    " Var(\\hat{\\beta} | X) = (X'X)^{-1} X' \\hat{\\Sigma} X (X'X)^{-1} \n",
    " $$\n",
    " где $\\hat{\\Sigma} = diag(\\hat{\\epsilon}_1^2, \\hat{\\epsilon}_2^2,..., \\hat{\\epsilon}_n^2)$, $\\hat{\\epsilon}_i = y - \\hat{y}$"
   ]
  },
  {
   "cell_type": "code",
   "execution_count": 11,
   "id": "f8779b45",
   "metadata": {},
   "outputs": [
    {
     "data": {
      "text/plain": [
       "array([4.29738356e-02, 1.50750239e-03, 1.23656133e-05, 2.27493099e-02,\n",
       "       2.14176109e-03, 3.95989585e-03])"
      ]
     },
     "execution_count": 11,
     "metadata": {},
     "output_type": "execute_result"
    }
   ],
   "source": [
    "X = sm.add_constant(df[features])\n",
    "E = np.eye(X.shape[0]) * np.array((df['sub'] - ols.predict(X)) ** 2)\n",
    "XX_inv = np.linalg.inv(X.T @ X)\n",
    "var_white = XX_inv @ X.T @ E @ X @ XX_inv\n",
    "\n",
    "np.sqrt(np.array(var_white).diagonal()) # стандартные ошибки коэффициентов по формуле Уайта "
   ]
  },
  {
   "cell_type": "markdown",
   "id": "ee585182",
   "metadata": {},
   "source": [
    "Воспользуемся готовой реализацией из statsmodels для проверки значимости коэффициентов:"
   ]
  },
  {
   "cell_type": "code",
   "execution_count": 12,
   "id": "f33d8c0a",
   "metadata": {},
   "outputs": [
    {
     "data": {
      "text/html": [
       "<table class=\"simpletable\">\n",
       "<caption>OLS Regression Results</caption>\n",
       "<tr>\n",
       "  <th>Dep. Variable:</th>          <td>sub</td>       <th>  R-squared:         </th> <td>   0.255</td>\n",
       "</tr>\n",
       "<tr>\n",
       "  <th>Model:</th>                  <td>OLS</td>       <th>  Adj. R-squared:    </th> <td>   0.254</td>\n",
       "</tr>\n",
       "<tr>\n",
       "  <th>Method:</th>            <td>Least Squares</td>  <th>  F-statistic:       </th> <td>   363.5</td>\n",
       "</tr>\n",
       "<tr>\n",
       "  <th>Date:</th>             <td>вс, 30 окт 2022</td> <th>  Prob (F-statistic):</th>  <td>  0.00</td> \n",
       "</tr>\n",
       "<tr>\n",
       "  <th>Time:</th>                <td>22:30:35</td>     <th>  Log-Likelihood:    </th> <td> -2692.2</td>\n",
       "</tr>\n",
       "<tr>\n",
       "  <th>No. Observations:</th>     <td>  5000</td>      <th>  AIC:               </th> <td>   5396.</td>\n",
       "</tr>\n",
       "<tr>\n",
       "  <th>Df Residuals:</th>         <td>  4994</td>      <th>  BIC:               </th> <td>   5436.</td>\n",
       "</tr>\n",
       "<tr>\n",
       "  <th>Df Model:</th>             <td>     5</td>      <th>                     </th>     <td> </td>   \n",
       "</tr>\n",
       "<tr>\n",
       "  <th>Covariance Type:</th>        <td>HC0</td>       <th>                     </th>     <td> </td>   \n",
       "</tr>\n",
       "</table>\n",
       "<table class=\"simpletable\">\n",
       "<tr>\n",
       "       <td></td>          <th>coef</th>     <th>std err</th>      <th>z</th>      <th>P>|z|</th>  <th>[0.025</th>    <th>0.975]</th>  \n",
       "</tr>\n",
       "<tr>\n",
       "  <th>const</th>       <td>   -0.0514</td> <td>    0.043</td> <td>   -1.195</td> <td> 0.232</td> <td>   -0.136</td> <td>    0.033</td>\n",
       "</tr>\n",
       "<tr>\n",
       "  <th>age</th>         <td>    0.0036</td> <td>    0.002</td> <td>    2.396</td> <td> 0.017</td> <td>    0.001</td> <td>    0.007</td>\n",
       "</tr>\n",
       "<tr>\n",
       "  <th>age2</th>        <td>-2.426e-05</td> <td> 1.24e-05</td> <td>   -1.962</td> <td> 0.050</td> <td>-4.85e-05</td> <td>-2.46e-08</td>\n",
       "</tr>\n",
       "<tr>\n",
       "  <th>male</th>        <td>    0.4438</td> <td>    0.023</td> <td>   19.510</td> <td> 0.000</td> <td>    0.399</td> <td>    0.488</td>\n",
       "</tr>\n",
       "<tr>\n",
       "  <th>series</th>      <td>    0.0125</td> <td>    0.002</td> <td>    5.853</td> <td> 0.000</td> <td>    0.008</td> <td>    0.017</td>\n",
       "</tr>\n",
       "<tr>\n",
       "  <th>male_series</th> <td>    0.0059</td> <td>    0.004</td> <td>    1.487</td> <td> 0.137</td> <td>   -0.002</td> <td>    0.014</td>\n",
       "</tr>\n",
       "</table>\n",
       "<table class=\"simpletable\">\n",
       "<tr>\n",
       "  <th>Omnibus:</th>       <td>237.619</td> <th>  Durbin-Watson:     </th> <td>   2.019</td>\n",
       "</tr>\n",
       "<tr>\n",
       "  <th>Prob(Omnibus):</th> <td> 0.000</td>  <th>  Jarque-Bera (JB):  </th> <td> 134.751</td>\n",
       "</tr>\n",
       "<tr>\n",
       "  <th>Skew:</th>          <td> 0.250</td>  <th>  Prob(JB):          </th> <td>5.49e-30</td>\n",
       "</tr>\n",
       "<tr>\n",
       "  <th>Kurtosis:</th>      <td> 2.369</td>  <th>  Cond. No.          </th> <td>3.78e+04</td>\n",
       "</tr>\n",
       "</table><br/><br/>Notes:<br/>[1] Standard Errors are heteroscedasticity robust (HC0)<br/>[2] The condition number is large, 3.78e+04. This might indicate that there are<br/>strong multicollinearity or other numerical problems."
      ],
      "text/plain": [
       "<class 'statsmodels.iolib.summary.Summary'>\n",
       "\"\"\"\n",
       "                            OLS Regression Results                            \n",
       "==============================================================================\n",
       "Dep. Variable:                    sub   R-squared:                       0.255\n",
       "Model:                            OLS   Adj. R-squared:                  0.254\n",
       "Method:                 Least Squares   F-statistic:                     363.5\n",
       "Date:                 вс, 30 окт 2022   Prob (F-statistic):               0.00\n",
       "Time:                        22:30:35   Log-Likelihood:                -2692.2\n",
       "No. Observations:                5000   AIC:                             5396.\n",
       "Df Residuals:                    4994   BIC:                             5436.\n",
       "Df Model:                           5                                         \n",
       "Covariance Type:                  HC0                                         \n",
       "===============================================================================\n",
       "                  coef    std err          z      P>|z|      [0.025      0.975]\n",
       "-------------------------------------------------------------------------------\n",
       "const          -0.0514      0.043     -1.195      0.232      -0.136       0.033\n",
       "age             0.0036      0.002      2.396      0.017       0.001       0.007\n",
       "age2        -2.426e-05   1.24e-05     -1.962      0.050   -4.85e-05   -2.46e-08\n",
       "male            0.4438      0.023     19.510      0.000       0.399       0.488\n",
       "series          0.0125      0.002      5.853      0.000       0.008       0.017\n",
       "male_series     0.0059      0.004      1.487      0.137      -0.002       0.014\n",
       "==============================================================================\n",
       "Omnibus:                      237.619   Durbin-Watson:                   2.019\n",
       "Prob(Omnibus):                  0.000   Jarque-Bera (JB):              134.751\n",
       "Skew:                           0.250   Prob(JB):                     5.49e-30\n",
       "Kurtosis:                       2.369   Cond. No.                     3.78e+04\n",
       "==============================================================================\n",
       "\n",
       "Notes:\n",
       "[1] Standard Errors are heteroscedasticity robust (HC0)\n",
       "[2] The condition number is large, 3.78e+04. This might indicate that there are\n",
       "strong multicollinearity or other numerical problems.\n",
       "\"\"\""
      ]
     },
     "execution_count": 12,
     "metadata": {},
     "output_type": "execute_result"
    }
   ],
   "source": [
    "# HC0 - использование состоятельной оценки асимптотической ковариационной матрицы\n",
    "ols_robust = OLS(df['sub'], sm.add_constant(df[features])).fit(cov_type='HC0')  \n",
    "\n",
    "ols_robust.summary()"
   ]
  },
  {
   "cell_type": "markdown",
   "id": "25fd1d0f",
   "metadata": {},
   "source": [
    "Как мы видим, оценки стандартных ошибок коэффициентов изменились по сравнению с первым пунктом. Библиотечные значения оценок стандартных отклонений совпадают с нашими расчетными (что подтверждает, что мы все сделали верно).\n",
    "\n",
    "Исходя из p-value: коэффициенты при поле, кол-ве сериалов оказались значимыми на любом принятом уровне значимости, \n",
    "оба коэффициента при возрасте и его квадрате оказались значимимы на 5% уровне, интресепт и коэффициент при переменной взаимодействия оказались незначимыми даже на 10%-ом уровне."
   ]
  },
  {
   "cell_type": "markdown",
   "id": "14134a6c",
   "metadata": {},
   "source": [
    "## Часть 3. Пробит модель"
   ]
  },
  {
   "cell_type": "markdown",
   "id": "d7cb262b",
   "metadata": {},
   "source": [
    "$\\bf{3.1.}$ Оцените пробит модель, предварительно записав максимизируемую функцию правдоподобия (поясните все используемые обозначения), указав оцениваемые параметры и метод получения оценок, а также их основные свойства. Результат представьте в форме таблицы (можно, например, использовать выдачу из stata, R или python)."
   ]
  },
  {
   "cell_type": "markdown",
   "id": "b7d6d6aa",
   "metadata": {},
   "source": [
    "$\\bf{\\text{Мое решение:}}$ "
   ]
  },
  {
   "cell_type": "markdown",
   "id": "2c0f16d1",
   "metadata": {},
   "source": [
    "$$ y_i = [z_i^* > 0], \\text{ где }z_i^* = x_i'\\beta + \\varepsilon_i, \\text{ а [A] $-$ функция-индикатор (0, если условие A выполнено, 0 $-$ иначе)}$$\n",
    "\n",
    "Особенностью модели является то, что $\\varepsilon_i \\sim \\mathcal{N(0, 1)}$. Тогда логарифмическую функцию правдоподобия можно записать следующим образом:\n",
    "\n",
    "$$ l(\\beta) = \\sum_{i=1}^{n} \\left( y_i\\ln(\\Phi(x_i'\\beta)) + (1-y_i) \\ln(1-\\Phi(x_i'\\beta)) \\right) \\longrightarrow \\max_{\\beta},$$\n",
    "где $\\Phi(z)= \\int_{-\\infty}^z{\\frac{1}{\\sqrt{2\\pi}} e^{-\\frac{x^2}{2}}dx}$ $-$ функция распределения стандартной нормальной случайной величины в точке $z$"
   ]
  },
  {
   "cell_type": "markdown",
   "id": "89f15f14",
   "metadata": {},
   "source": [
    "Оцениваемые параметры $-$ коэффициенты $\\beta$, соответствующие всем используемым нами переменным (включая константу и нелинейные переменные). \n",
    "\n",
    "Оценки получаются с помощью метода максимального правдоподобия (численными методами). Основные свойства оценок:\n",
    "инвариантность, состоятельность, асимптотическая нормальность, асимптотическая эффективность.\n",
    "\n",
    "Оценим коэффициенты с помощью функции Probit из statsmodels:"
   ]
  },
  {
   "cell_type": "code",
   "execution_count": 13,
   "id": "17e481b3",
   "metadata": {},
   "outputs": [
    {
     "name": "stdout",
     "output_type": "stream",
     "text": [
      "Optimization terminated successfully.\n",
      "         Current function value: 0.517513\n",
      "         Iterations 6\n"
     ]
    },
    {
     "data": {
      "text/html": [
       "<table class=\"simpletable\">\n",
       "<caption>Probit Regression Results</caption>\n",
       "<tr>\n",
       "  <th>Dep. Variable:</th>         <td>sub</td>       <th>  No. Observations:  </th>   <td>  5000</td>  \n",
       "</tr>\n",
       "<tr>\n",
       "  <th>Model:</th>               <td>Probit</td>      <th>  Df Residuals:      </th>   <td>  4994</td>  \n",
       "</tr>\n",
       "<tr>\n",
       "  <th>Method:</th>                <td>MLE</td>       <th>  Df Model:          </th>   <td>     5</td>  \n",
       "</tr>\n",
       "<tr>\n",
       "  <th>Date:</th>            <td>вс, 30 окт 2022</td> <th>  Pseudo R-squ.:     </th>   <td>0.2085</td>  \n",
       "</tr>\n",
       "<tr>\n",
       "  <th>Time:</th>               <td>22:30:35</td>     <th>  Log-Likelihood:    </th>  <td> -2587.6</td> \n",
       "</tr>\n",
       "<tr>\n",
       "  <th>converged:</th>            <td>True</td>       <th>  LL-Null:           </th>  <td> -3269.4</td> \n",
       "</tr>\n",
       "<tr>\n",
       "  <th>Covariance Type:</th>    <td>nonrobust</td>    <th>  LLR p-value:       </th> <td>1.039e-292</td>\n",
       "</tr>\n",
       "</table>\n",
       "<table class=\"simpletable\">\n",
       "<tr>\n",
       "       <td></td>          <th>coef</th>     <th>std err</th>      <th>z</th>      <th>P>|z|</th>  <th>[0.025</th>    <th>0.975]</th>  \n",
       "</tr>\n",
       "<tr>\n",
       "  <th>const</th>       <td>   -1.8337</td> <td>    0.155</td> <td>  -11.828</td> <td> 0.000</td> <td>   -2.138</td> <td>   -1.530</td>\n",
       "</tr>\n",
       "<tr>\n",
       "  <th>age</th>         <td>    0.0112</td> <td>    0.005</td> <td>    2.212</td> <td> 0.027</td> <td>    0.001</td> <td>    0.021</td>\n",
       "</tr>\n",
       "<tr>\n",
       "  <th>age2</th>        <td>-7.422e-05</td> <td> 4.15e-05</td> <td>   -1.788</td> <td> 0.074</td> <td>   -0.000</td> <td> 7.14e-06</td>\n",
       "</tr>\n",
       "<tr>\n",
       "  <th>male</th>        <td>    1.4862</td> <td>    0.086</td> <td>   17.316</td> <td> 0.000</td> <td>    1.318</td> <td>    1.654</td>\n",
       "</tr>\n",
       "<tr>\n",
       "  <th>series</th>      <td>    0.0623</td> <td>    0.011</td> <td>    5.595</td> <td> 0.000</td> <td>    0.040</td> <td>    0.084</td>\n",
       "</tr>\n",
       "<tr>\n",
       "  <th>male_series</th> <td>   -0.0142</td> <td>    0.014</td> <td>   -0.998</td> <td> 0.318</td> <td>   -0.042</td> <td>    0.014</td>\n",
       "</tr>\n",
       "</table>"
      ],
      "text/plain": [
       "<class 'statsmodels.iolib.summary.Summary'>\n",
       "\"\"\"\n",
       "                          Probit Regression Results                           \n",
       "==============================================================================\n",
       "Dep. Variable:                    sub   No. Observations:                 5000\n",
       "Model:                         Probit   Df Residuals:                     4994\n",
       "Method:                           MLE   Df Model:                            5\n",
       "Date:                 вс, 30 окт 2022   Pseudo R-squ.:                  0.2085\n",
       "Time:                        22:30:35   Log-Likelihood:                -2587.6\n",
       "converged:                       True   LL-Null:                       -3269.4\n",
       "Covariance Type:            nonrobust   LLR p-value:                1.039e-292\n",
       "===============================================================================\n",
       "                  coef    std err          z      P>|z|      [0.025      0.975]\n",
       "-------------------------------------------------------------------------------\n",
       "const          -1.8337      0.155    -11.828      0.000      -2.138      -1.530\n",
       "age             0.0112      0.005      2.212      0.027       0.001       0.021\n",
       "age2        -7.422e-05   4.15e-05     -1.788      0.074      -0.000    7.14e-06\n",
       "male            1.4862      0.086     17.316      0.000       1.318       1.654\n",
       "series          0.0623      0.011      5.595      0.000       0.040       0.084\n",
       "male_series    -0.0142      0.014     -0.998      0.318      -0.042       0.014\n",
       "===============================================================================\n",
       "\"\"\""
      ]
     },
     "execution_count": 13,
     "metadata": {},
     "output_type": "execute_result"
    }
   ],
   "source": [
    "probit = Probit(df['sub'], sm.add_constant(df[features])).fit()\n",
    "probit.summary()"
   ]
  },
  {
   "cell_type": "markdown",
   "id": "e8306be9",
   "metadata": {},
   "source": [
    "Или функции glm из R:"
   ]
  },
  {
   "cell_type": "code",
   "execution_count": 14,
   "id": "c711d451",
   "metadata": {},
   "outputs": [
    {
     "name": "stdout",
     "output_type": "stream",
     "text": [
      "\n",
      "Call:\n",
      "glm(formula = sub ~ age + I(age^2) + male + series + male * series, \n",
      "    family = binomial(link = \"probit\"), data = df_r)\n",
      "\n",
      "Deviance Residuals: \n",
      "    Min       1Q   Median       3Q      Max  \n",
      "-1.5759  -0.6299  -0.4559   0.9532   2.3858  \n",
      "\n",
      "Coefficients:\n",
      "              Estimate Std. Error z value Pr(>|z|)    \n",
      "(Intercept) -1.834e+00  1.562e-01 -11.742  < 2e-16 ***\n",
      "age          1.121e-02  5.085e-03   2.204   0.0276 *  \n",
      "I(age^2)    -7.422e-05  4.164e-05  -1.783   0.0746 .  \n",
      "male         1.486e+00  8.535e-02  17.414  < 2e-16 ***\n",
      "series       6.229e-02  1.103e-02   5.650 1.61e-08 ***\n",
      "male:series -1.415e-02  1.410e-02  -1.004   0.3153    \n",
      "---\n",
      "Signif. codes:  0 ‘***’ 0.001 ‘**’ 0.01 ‘*’ 0.05 ‘.’ 0.1 ‘ ’ 1\n",
      "\n",
      "(Dispersion parameter for binomial family taken to be 1)\n",
      "\n",
      "    Null deviance: 6538.8  on 4999  degrees of freedom\n",
      "Residual deviance: 5175.1  on 4994  degrees of freedom\n",
      "AIC: 5187.1\n",
      "\n",
      "Number of Fisher Scoring iterations: 5\n",
      "\n"
     ]
    }
   ],
   "source": [
    "%%R\n",
    "\n",
    "model.probit <- glm(formula = sub ~ age + I(age ^ 2) +     \n",
    "                                   male + series +\n",
    "                                   male * series,   \n",
    "                    data = df_r, family = binomial(link = \"probit\"))    \n",
    "                                                           \n",
    "summary(model.probit)  "
   ]
  },
  {
   "cell_type": "markdown",
   "id": "15d5c05f",
   "metadata": {},
   "source": [
    "Оценки очень близки (различия можно объяснить оптимизаторами)"
   ]
  },
  {
   "cell_type": "markdown",
   "id": "6c7c8493",
   "metadata": {},
   "source": [
    "$\\bf{3.2.}$ Проинтерпретируйте оценки коэффициентов для каждой независимой переменной. Поясните, как полученные результаты соотносятся с высказанными вами ранее предположениями."
   ]
  },
  {
   "cell_type": "markdown",
   "id": "21a1fc79",
   "metadata": {},
   "source": [
    "$\\bf{\\text{Мое решение:}}$ "
   ]
  },
  {
   "cell_type": "markdown",
   "id": "5991e81c",
   "metadata": {},
   "source": [
    "Как и ожидалось, коэффициент при квадрате возраста оказался отрицательным и значимым на 10% уровне, что подтверждает, что нелинейную часть нужно включать. \n",
    "\n",
    "Однако, максимальная вероятность подписки достигается при приблизительно 75 годам при прочих равных. Коэффициент при переменной взаимодействия оказался незначимым, из чего следует, что эффект кол-ва просмотренных сериалов на вероятность подписки не различается для мужчин и женщин. Поэтому можно интерпретировать оценки при series и male не учитывая то, что есть переменная взаимодействия.\n",
    "\n",
    "Вопреки моим ожиданиям, коэффициент при поле оказался сильно значимым и положительным, что означает, что при прочих равных вероятность иметь подписку у мужчины будет больше, нежели чем у женщины.\n",
    "\n",
    "Аналогично, кол-во просмотренных сериалов также имеет значимый положительный эффект на вероятность подписки: чем больше сериалов человек смотрит (при прочих равных), тем вероятность больше."
   ]
  },
  {
   "cell_type": "code",
   "execution_count": 15,
   "id": "d6be83a6",
   "metadata": {},
   "outputs": [
    {
     "data": {
      "text/plain": [
       "75.5187281056319"
      ]
     },
     "execution_count": 15,
     "metadata": {},
     "output_type": "execute_result"
    }
   ],
   "source": [
    "# расчет вершины параболы по возрасту\n",
    "-1.121e-02 / (2 * -7.422e-05)"
   ]
  },
  {
   "cell_type": "markdown",
   "id": "a6e6f831",
   "metadata": {},
   "source": [
    "$\\bf{3.3.}$ Оцените вероятность наличия подписки для индивида с произвольными (например, вашими) характеристиками. Запишите формулу, по которой осуществлялся расчет (подставьте в нее полученные реализации оценок)."
   ]
  },
  {
   "cell_type": "markdown",
   "id": "426565ba",
   "metadata": {},
   "source": [
    "$\\bf{\\text{Мое решение:}}$ "
   ]
  },
  {
   "cell_type": "markdown",
   "id": "cfb5a5a1",
   "metadata": {},
   "source": [
    "Возьмем следующие признаки для произвольного индивида (их будем использовать и в других пунктах):\n",
    "\n",
    "|Переменная|Age|Male|Series|Age$^2$|Male $\\cdot$ Series|\n",
    "|--|---|----|------|-|-|\n",
    "|Значение|21|1|4|441|4|\n"
   ]
  },
  {
   "cell_type": "markdown",
   "id": "629576ec",
   "metadata": {},
   "source": [
    "Тогда формула, по которой осуществляется расчет прогноза будет следующей:\n",
    "\n",
    "$$\\hat{P}(Sub_{Mark} = 1) = \\Phi(\\hat{\\beta}_0 + \\hat{\\beta}_1 \\cdot Age_{Mark} + \\hat{\\beta}_2 \\cdot Age^2_{Mark} + \\hat{\\beta}_3 \\cdot Male_{Mark}\n",
    "        + \\hat{\\beta}_4 \\cdot Series_{Mark} + \\hat{\\beta}_5 \\cdot Male\\_Series_{Mark})=$$\n",
    "        \n",
    "$$ =\\Phi(\\hat{\\beta}_0 + \\hat{\\beta}_1 \\cdot 21 + \\hat{\\beta}_2 \\cdot 21^2 + \\hat{\\beta}_3 \n",
    "        + \\hat{\\beta}_4 \\cdot 4 + \\hat{\\beta}_5 \\cdot 4)$$\n",
    "        \n",
    "Коэффициенты $\\hat{\\beta}$ можно найти в таблице выше (их перенос не имеет смысла, учитывая, что они содержат много знаков после запятой, а сам расчет осущвествляется ниже):\n",
    "        "
   ]
  },
  {
   "cell_type": "code",
   "execution_count": 16,
   "id": "ab858f06",
   "metadata": {},
   "outputs": [
    {
     "data": {
      "text/plain": [
       "0.5190206446237563"
      ]
     },
     "execution_count": 16,
     "metadata": {},
     "output_type": "execute_result"
    }
   ],
   "source": [
    "# можно посчитать через модель\n",
    "\n",
    "my_age = 21\n",
    "my_male = 1\n",
    "my_series = 4\n",
    "my_male_series = my_male * my_series\n",
    "\n",
    "probit.predict([1, my_age, my_age ** 2, my_male, my_series, my_male_series])[0]"
   ]
  },
  {
   "cell_type": "code",
   "execution_count": 17,
   "id": "7a427209",
   "metadata": {},
   "outputs": [
    {
     "data": {
      "text/plain": [
       "0.5190206446237563"
      ]
     },
     "execution_count": 17,
     "metadata": {},
     "output_type": "execute_result"
    }
   ],
   "source": [
    "# а можно руками\n",
    "from scipy.stats import norm\n",
    "\n",
    "my_li = probit.params.values @ np.array([1, my_age, my_age ** 2, my_male, my_series, my_male_series])\n",
    "norm().cdf(my_li)"
   ]
  },
  {
   "cell_type": "markdown",
   "id": "2c528a26",
   "metadata": {},
   "source": [
    "Таким образом,\n",
    "$$\\hat{P}(Sub_{Mark} = 1) = 0.52$$\n"
   ]
  },
  {
   "cell_type": "markdown",
   "id": "383c4a83",
   "metadata": {},
   "source": [
    "$\\bf{3.4.}$ Для произвольных непрерывной и бинарной независимых переменных оцените средний предельный эффект на вероятность наличия подписки, предварительно записав формулы (с подставленными реализациями оценок), по которым осуществлялся расчет. Результат представьте в форме таблицы."
   ]
  },
  {
   "cell_type": "markdown",
   "id": "f4243161",
   "metadata": {},
   "source": [
    "$\\bf{\\text{Мое решение:}}$ \n",
    "\n",
    "Опять же подставлять полученные оценки в формулу не будем, так как это сделает формулу нечитабельной.\n",
    "\n",
    "\n",
    "Возьмем возраст в качестве непрерывной и пол в качестве бинарной. Тогда\n",
    "\n",
    "$$ \\frac{\\partial \\hat{P}(y_i = 1)}{\\partial Age_i} = f(x'\\hat{\\beta})\\left(\\hat{\\beta}_1 + 2\\hat{\\beta}_2\\cdot Age_i \\right)$$\n",
    "$$ \\frac{\\partial \\hat{P}(y_i = 1)}{\\partial Male_i} = \\hat{P}(y_i=1|Male_i=1) - \\hat{P}(y_i=1|Male_i=0), $$\n",
    "\n",
    "где $f(x)=\\frac{1}{\\sqrt{2\\pi}} e^{-\\frac{x^2}{2}}$ $-$ функция плотности стандартно нормальной случайной величины, $x$ $-$ средние показатели по признакам в выборке, $\\hat{\\beta}$ $-$ оцененные коэффициенты (см. 3.1.) "
   ]
  },
  {
   "cell_type": "code",
   "execution_count": 18,
   "id": "f1b51bc2",
   "metadata": {},
   "outputs": [
    {
     "data": {
      "text/html": [
       "<div>\n",
       "<style scoped>\n",
       "    .dataframe tbody tr th:only-of-type {\n",
       "        vertical-align: middle;\n",
       "    }\n",
       "\n",
       "    .dataframe tbody tr th {\n",
       "        vertical-align: top;\n",
       "    }\n",
       "\n",
       "    .dataframe thead th {\n",
       "        text-align: right;\n",
       "    }\n",
       "</style>\n",
       "<table border=\"1\" class=\"dataframe\">\n",
       "  <thead>\n",
       "    <tr style=\"text-align: right;\">\n",
       "      <th></th>\n",
       "      <th>Variable</th>\n",
       "      <th>Avg ME</th>\n",
       "    </tr>\n",
       "  </thead>\n",
       "  <tbody>\n",
       "    <tr>\n",
       "      <th>0</th>\n",
       "      <td>Age</td>\n",
       "      <td>0.000805</td>\n",
       "    </tr>\n",
       "    <tr>\n",
       "      <th>1</th>\n",
       "      <td>Male</td>\n",
       "      <td>0.478945</td>\n",
       "    </tr>\n",
       "  </tbody>\n",
       "</table>\n",
       "</div>"
      ],
      "text/plain": [
       "  Variable    Avg ME\n",
       "0      Age  0.000805\n",
       "1     Male  0.478945"
      ]
     },
     "execution_count": 18,
     "metadata": {},
     "output_type": "execute_result"
    }
   ],
   "source": [
    "mean_params = np.mean(sm.add_constant(df[features]), axis=0)\n",
    "mean_xb = mean_params.T @ probit.params.values\n",
    "\n",
    "# age\n",
    "marg_eff_age = scipy.stats.norm.pdf(mean_xb) * (probit.params.values[1] +\n",
    "                                           2 * probit.params.values[2] * mean_params['age'])\n",
    "\n",
    "# male\n",
    "male1_params = mean_params.copy()\n",
    "male1_params['male'] = 1\n",
    "male1_params['male_series'] = male1_params['series']\n",
    "xb_male1 = male1_params.T @ probit.params.values\n",
    "\n",
    "male0_params = mean_params.copy()\n",
    "male0_params['male'] = 0\n",
    "male0_params['male_series'] = 0\n",
    "xb_male0 = male0_params.T @ probit.params.values\n",
    "\n",
    "marg_eff_male = scipy.stats.norm.cdf(xb_male1) - scipy.stats.norm.cdf(xb_male0)\n",
    "\n",
    "pd.DataFrame(zip(['Age', 'Male'], [marg_eff_age, marg_eff_male]), columns=['Variable', 'Avg ME'])"
   ]
  },
  {
   "cell_type": "markdown",
   "id": "197b818d",
   "metadata": {},
   "source": [
    "$\\bf{3.5.}$ Посчитайте долю верных предсказаний и сопоставьте её с результатом наивного прогноза и линейно-вероятностной модели. Сделайте вывод о предсказательной силе пробит модели."
   ]
  },
  {
   "cell_type": "markdown",
   "id": "9f5c8de8",
   "metadata": {},
   "source": [
    "$\\bf{\\text{Мое решение:}}$ "
   ]
  },
  {
   "cell_type": "markdown",
   "id": "f54e2c82",
   "metadata": {},
   "source": [
    "Используем порог в 0.5 для получения прогноза моделей:"
   ]
  },
  {
   "cell_type": "code",
   "execution_count": 19,
   "id": "1685c759",
   "metadata": {},
   "outputs": [
    {
     "name": "stdout",
     "output_type": "stream",
     "text": [
      "Accuracy Naive = 0.6392\n",
      "Accuracy OLS = 0.7434\n",
      "Accuracy Probit = 0.7438\n"
     ]
    }
   ],
   "source": [
    "from sklearn.metrics import accuracy_score\n",
    "\n",
    "naive_preds = np.ones(df.shape[0]) * (df['sub'].mean() >= 0.5)\n",
    "print('Accuracy Naive =', accuracy_score(df['sub'], naive_preds))\n",
    "\n",
    "ols_preds = ols.predict(sm.add_constant(df[features])) >= 0.5\n",
    "print('Accuracy OLS =', accuracy_score(df['sub'], ols_preds))\n",
    "\n",
    "probit_preds = probit.predict(sm.add_constant(df[features])) >= 0.5\n",
    "print('Accuracy Probit =', accuracy_score(df['sub'], probit_preds))"
   ]
  },
  {
   "cell_type": "markdown",
   "id": "d48dae73",
   "metadata": {},
   "source": [
    "Пробит показал наибольшую предсказательную силу и значительно превзошел по метрике наивный прогноз. Однако линейно вероятностная модель проигрывает ему не так сильно: разница в качестве составляет всего пару десятитысячных"
   ]
  },
  {
   "cell_type": "markdown",
   "id": "26dfa5a4",
   "metadata": {},
   "source": [
    "$\\bf{3.6.}$ На уровне значимости 5% проверьте гипотезу о том, что предельный эффект на вероятность наличия подписки по произвольной (на ваш выбор) независимой переменной является значимым для индивида с произвольными характеристиками."
   ]
  },
  {
   "cell_type": "markdown",
   "id": "e08dfe0c",
   "metadata": {},
   "source": [
    "$\\bf{\\text{Мое решение:}}$ \n",
    "\n",
    " $$ H_0: \\frac{\\partial \\hat{P}(Sub_{Mark} = 1| X_{Mark})}{\\partial Age} = 0$$\n",
    " \n",
    " Проверим эту гипотезу с помощью бутстрапированного доверительного интервала:"
   ]
  },
  {
   "cell_type": "code",
   "execution_count": 20,
   "id": "5a74569e",
   "metadata": {},
   "outputs": [],
   "source": [
    "def get_bootstrap_ci(estimates):\n",
    "    '''\n",
    "    Возвращает бутстрапированные доверительные интервалы на уровне 10, 5 и 1%\n",
    "    '''\n",
    "    \n",
    "    print('10% CI:', [np.quantile(estimates, 0.05), np.quantile(estimates, 0.95)])\n",
    "    print('5% CI:', [np.quantile(estimates, 0.025), np.quantile(estimates, 0.975)])\n",
    "    print('1% CI:', [np.quantile(estimates, 0.005), np.quantile(estimates, 0.995)])"
   ]
  },
  {
   "cell_type": "code",
   "execution_count": 21,
   "id": "d5fea243",
   "metadata": {},
   "outputs": [
    {
     "data": {
      "application/vnd.jupyter.widget-view+json": {
       "model_id": "091c199730ab4819bf21d9d2a93ef2ae",
       "version_major": 2,
       "version_minor": 0
      },
      "text/plain": [
       "  0%|          | 0/1000 [00:00<?, ?it/s]"
      ]
     },
     "metadata": {},
     "output_type": "display_data"
    },
    {
     "name": "stdout",
     "output_type": "stream",
     "text": [
      "10% CI: [0.0010367079688759057, 0.005464585380128608]\n",
      "5% CI: [0.0006335354712118219, 0.005847977701614212]\n",
      "1% CI: [-1.4520722161262622e-05, 0.006566145916984188]\n"
     ]
    }
   ],
   "source": [
    "np.random.seed(999)\n",
    "\n",
    "my_params = np.array([1, my_age, my_age ** 2, my_male, my_series, my_male_series])\n",
    "\n",
    "all_mes = []\n",
    "\n",
    "for i in tqdm(range(1000)): # 1000 раз\n",
    "    df_subsample = df.sample(df.shape[0], replace=True) # бутстрапированная выборка\n",
    "    probit = Probit(df_subsample['sub'], sm.add_constant(df_subsample[features])).fit(disp=0)\n",
    "    my_xb = my_params.T @ probit.params.values # линейный индекс для произвольного индивида\n",
    "    \n",
    "    me_age = scipy.stats.norm.pdf(my_xb) * (probit.params.values[1] +\n",
    "                                           2 * probit.params.values[2] * my_params[1])\n",
    "\n",
    "    all_mes.append(me_age)\n",
    "\n",
    "get_bootstrap_ci(all_mes)"
   ]
  },
  {
   "cell_type": "markdown",
   "id": "1b91d740",
   "metadata": {},
   "source": [
    "Гипотеза о нулевом предельном эффекте по возрасту для нашего произвольного индивида\n",
    "отвергается на уровне значимости в 5% (0 не  попадает в доверительный интервал), но не отвергается на уровне 1%"
   ]
  },
  {
   "cell_type": "markdown",
   "id": "752c3d7d",
   "metadata": {},
   "source": [
    "$\\bf{3.7.^*}$ Повторите предыдущий пункт для переменной, имеющей взаимодействие.\n"
   ]
  },
  {
   "cell_type": "markdown",
   "id": "59062e25",
   "metadata": {},
   "source": [
    "$\\bf{\\text{Мое решение:}}$\n",
    "\n",
    "Сделаем то же самое (бутстрап), что и в предыдущем пункте, только теперь для переменной Series (считаем ее непрерывной).\n",
    "Ее предельный эффект можно записать как:\n",
    "\n",
    "$$ \\frac{\\partial \\hat{P}(Sub_{Mark} = 1)}{\\partial Series_{Mark}} = f(x_i' \\beta)(\\hat{\\beta}_4 + \\hat{\\beta}_5\\cdot Male_{Mark}) $$\n",
    "\n",
    "Нулевая гипотеза аналогична той, что в предыдущем пункте (вместо $Age$ теперь $Series$), также проверим ее с помощью бутстрапрированного доверительного интервала:"
   ]
  },
  {
   "cell_type": "code",
   "execution_count": 22,
   "id": "79fb9b7b",
   "metadata": {},
   "outputs": [
    {
     "data": {
      "application/vnd.jupyter.widget-view+json": {
       "model_id": "c52ced31916a403881df79f4b6b74153",
       "version_major": 2,
       "version_minor": 0
      },
      "text/plain": [
       "  0%|          | 0/1000 [00:00<?, ?it/s]"
      ]
     },
     "metadata": {},
     "output_type": "display_data"
    },
    {
     "name": "stdout",
     "output_type": "stream",
     "text": [
      "10% CI: [0.013290863585412661, 0.02514472172932575]\n",
      "5% CI: [0.012640287857674974, 0.025879743336266345]\n",
      "1% CI: [0.011072296864573913, 0.027926445081411455]\n"
     ]
    }
   ],
   "source": [
    "np.random.seed(999)\n",
    "\n",
    "all_mes = []\n",
    "\n",
    "for i in tqdm(range(1000)):\n",
    "    df_subsample = df.sample(df.shape[0], replace=True)\n",
    "    probit = Probit(df_subsample['sub'], sm.add_constant(df_subsample[features])).fit(disp=0)\n",
    "    my_xb = my_params.T @ probit.params.values\n",
    "    \n",
    "    me_age = scipy.stats.norm.pdf(my_xb) * (probit.params.values[4] +\n",
    "                                           probit.params.values[5] * my_params[3])\n",
    "\n",
    "    all_mes.append(me_age)\n",
    "    \n",
    "get_bootstrap_ci(all_mes)"
   ]
  },
  {
   "cell_type": "markdown",
   "id": "a7d89041",
   "metadata": {},
   "source": [
    "Гипотеза о нулевом предельном эффекте кол-ва просмотренных сериалов отвергается на всех принятых уровнях значимости"
   ]
  },
  {
   "cell_type": "markdown",
   "id": "bb031457",
   "metadata": {},
   "source": [
    "$\\bf{3.8.^{**}}$ Воспользуйтесь дельта-методом для того, чтобы вручную рассчитать асимптотическую дисперсию предельного эффекта любой непрерывной переменной, входящей нелинейно. Запишите использовавшееся вами выражение, подставив в него численные значения оценок пробит модели."
   ]
  },
  {
   "cell_type": "markdown",
   "id": "055233e4",
   "metadata": {},
   "source": [
    "$\\bf{\\text{Мое решение:}}$ \n",
    "\n",
    "При использовании дельта-метода асимптотическая дисперсия равна:\n",
    "\n",
    "$$\n",
    "AsVar(ME(\\beta)) = \\nabla ME(\\beta)^T\\cdot  \\Sigma \\cdot \\nabla ME(\\beta),\n",
    "$$\n",
    "\n",
    "где $\\Sigma$ $-$ ковариационная матрица коэффициентов $\\beta$. В нашем случае, возьмем возраст как непрерывную переменную, входящую нелинейно, $\\beta = (\\beta_1, \\, \\beta_2)$. Будем считать соответствующую дисперсию педельного эффекта возраста для все того же произвольного индивида:"
   ]
  },
  {
   "cell_type": "code",
   "execution_count": 23,
   "id": "e7dc8b70",
   "metadata": {},
   "outputs": [
    {
     "name": "stdout",
     "output_type": "stream",
     "text": [
      "              (Intercept)           age      I(age^2)          male\n",
      "(Intercept)  2.438473e-02 -6.965774e-04  5.399796e-06 -4.681121e-03\n",
      "age         -6.965774e-04  2.585821e-05 -2.085676e-07 -1.080299e-06\n",
      "I(age^2)     5.399796e-06 -2.085676e-07  1.733572e-09  1.391259e-08\n",
      "male        -4.681121e-03 -1.080299e-06  1.391259e-08  7.284139e-03\n",
      "series      -6.693359e-04  4.356737e-08 -3.577021e-10  6.681866e-04\n",
      "male:series  6.217069e-04  1.750668e-06 -1.427961e-08 -1.053982e-03\n",
      "                   series   male:series\n",
      "(Intercept) -6.693359e-04  6.217069e-04\n",
      "age          4.356737e-08  1.750668e-06\n",
      "I(age^2)    -3.577021e-10 -1.427961e-08\n",
      "male         6.681866e-04 -1.053982e-03\n",
      "series       1.215710e-04 -1.215680e-04\n",
      "male:series -1.215680e-04  1.986962e-04\n"
     ]
    }
   ],
   "source": [
    "%%R\n",
    "\n",
    "other_coefs = c(model.probit$coefficients['(Intercept)'], model.probit$coefficients['male'], \n",
    "  model.probit$coefficients['series'],model.probit$coefficients['male:series']\n",
    "  )\n",
    "\n",
    "ind_character <- c(1, 21, 441, 1, 4, 4)\n",
    "\n",
    "ME <- function(x, other_betas=other_coefs, character=ind_character)          \n",
    "{\n",
    "  beta1 <- x[1]                                  \n",
    "  beta2 <- x[2] \n",
    "\n",
    "  beta0 <- other_coefs[1]\n",
    "  beta3 <- other_coefs[2]\n",
    "  beta4 <- other_coefs[3]\n",
    "  beta5 <- other_coefs[4]\n",
    "    \n",
    "  li <- beta0 * character[1] + beta1 * character[2] + beta2 * character[3] + beta3 * character[4]\n",
    "    + beta4 * character[5] + beta5 * character[6]\n",
    "  \n",
    "  value <-  dnorm(li) * (beta1 + 2 * beta2 * character[2])          \n",
    "  \n",
    "  return(value)                                 \n",
    "}\n",
    "\n",
    "\n",
    "ME_grad_est <- grad(func = ME,                    \n",
    "                   x = c(model.probit$coefficients['age'], model.probit$coefficients['I(age^2)']))\n",
    "\n",
    "Sigma <- vcov(model.probit)\n",
    "Sigma"
   ]
  },
  {
   "cell_type": "code",
   "execution_count": 24,
   "id": "a4efab6f",
   "metadata": {},
   "outputs": [
    {
     "name": "stdout",
     "output_type": "stream",
     "text": [
      "             [,1]\n",
      "[1,] 1.887099e-06\n"
     ]
    }
   ],
   "source": [
    "%%R\n",
    "\n",
    "needed_Sigma = matrix(c(2.585821e-05, -2.085676e-07, -2.085676e-07, 1.733572e-09), ncol=2)\n",
    "t(ME_grad_est) %*% needed_Sigma %*% ME_grad_est"
   ]
  },
  {
   "cell_type": "markdown",
   "id": "c0d47eb6",
   "metadata": {},
   "source": [
    "Асимптотическая дисперсия, таким образом, равна 1.887099e-06"
   ]
  },
  {
   "cell_type": "markdown",
   "id": "83b2d16a",
   "metadata": {},
   "source": [
    "## Часть 4. Тестирование корректности спецификации пробит модели"
   ]
  },
  {
   "cell_type": "markdown",
   "id": "d8e5f05b",
   "metadata": {},
   "source": [
    "$\\bf{4.1.}$ При помощи LM-теста проверьте гипотезу о соблюдении допущения о нормальном распределении случайных ошибок в пробит модели. Укажите, к каким негативным последствиям может привести нарушение данного допущения."
   ]
  },
  {
   "cell_type": "markdown",
   "id": "226e25d9",
   "metadata": {},
   "source": [
    "$\\bf{\\text{Мое решение:}}$ "
   ]
  },
  {
   "cell_type": "markdown",
   "id": "42ff1314",
   "metadata": {},
   "source": [
    "Как на семинаре, предположим, что случайные ошибки в полной модели имеют распределение Пирсона, тогда \n",
    "\n",
    "$$\n",
    "P(y=1) = \\Phi(x'\\beta+\\theta_1 \\cdot(x'\\beta)^2 + \\theta_2 \\cdot(x'\\beta)^3)\n",
    "$$\n",
    "\n",
    "В ограниченной модели в нашем случае ошибки распределены нормально, то есть $\\theta_1=\\theta_2=0$ (два ограничения). Это и есть нулевая гипотеза, которую мы будем проверять c помощью LM теста.\n",
    "\n",
    "$$LM = \\left[ \\frac{\\partial l_{UR}}{\\partial{\\beta}} \\Big|_{\\beta=\\hat{\\beta}_R}\\right]^T I^{-1}(\\hat{\\beta}_R) \\left[ \\frac{\\partial l_{UR}}{\\partial{\\beta}} \\Big|_{\\beta=\\hat{\\beta}_R}\\right],$$\n",
    "\n",
    "где $\\hat{\\beta}_R$ $-$ вектор оцененных коэффициентов обычной пробит модели с $\\theta_1=\\theta_2=0$.\n",
    "\n",
    "При верной нулевой гипотезе $LM \\sim \\chi^2(2)$\n",
    "\n",
    "Если окажется, что случайные ошибки распределены не нормально, это будет означать неверную спецификацию пробит-модели, поэтому ее оценки, статистики и прогнозы будут некорректны (так как максимизируется неверная функция правдоподобия для их нахождения)"
   ]
  },
  {
   "cell_type": "markdown",
   "id": "6182645e",
   "metadata": {},
   "source": [
    "Воспользуемся функцией с семинара, чтобы посчитать p-value для тестовой статистики:"
   ]
  },
  {
   "cell_type": "code",
   "execution_count": 25,
   "id": "99aaeead",
   "metadata": {},
   "outputs": [
    {
     "name": "stdout",
     "output_type": "stream",
     "text": [
      "          [,1]\n",
      "[1,] 0.3027542\n"
     ]
    }
   ],
   "source": [
    "%%R\n",
    "\n",
    "model.probit <- glm(formula = sub ~ age + I(age ^ 2) +     \n",
    "                                   male + series +\n",
    "                                   I(male * series),   \n",
    "                    data = df_r, family = binomial(link = \"probit\"))\n",
    "\n",
    "ProbitLnLExtended <- function(par,                         \n",
    "                              y,                           \n",
    "                              X,                           \n",
    "                              is_aggregate = TRUE)         \n",
    "                                                            \n",
    "{\n",
    "  beta <- matrix(par[-c(1, 2)], ncol = 1)                  \n",
    "  theta <- matrix(par[c(1, 2)], ncol = 1)                                                                        \n",
    "  y_li <- X %*% beta                                       \n",
    "  y_est <- y_li + theta[1] * y_li ^ 2 +                    \n",
    "           theta[2] * y_li ^ 3                             \n",
    "  \n",
    "  n_obs <- nrow(X)                                         \n",
    "  \n",
    "  L_vec <- matrix(NA, nrow = n_obs,                        \n",
    "                  ncol = 1)                                \n",
    "  \n",
    "  is_y_0 <- (y == 0)                                       \n",
    "  is_y_1 <- (y == 1)                                       \n",
    "  \n",
    "  L_vec[is_y_1] <- pnorm(y_est[is_y_1])                    \n",
    "  L_vec[is_y_0] <- 1 - pnorm(y_est[is_y_0])                \n",
    "  \n",
    "  lnL_vec <- log(L_vec)                                    \n",
    "  \n",
    "  if(!is_aggregate)                                        \n",
    "  {                                                        \n",
    "    return(lnL_vec)\n",
    "  }\n",
    "  \n",
    "  lnL <- sum(lnL_vec)                                      \n",
    "  \n",
    "  return(lnL)\n",
    "}\n",
    "\n",
    "beta.est <- coef(model.probit)   \n",
    "\n",
    "beta.R <- c(0, 0, beta.est)                                \n",
    "names(beta.R)[c(1, 2)] <- c(\"theta1\", \"theta2\")            \n",
    "                    \n",
    "X.mat <- as.matrix(model.frame(model.probit))              \n",
    "X.mat[, 1] <- 1 \n",
    "\n",
    "colnames(X.mat)[1] <- \"Intercept\"                          \n",
    "lnL.R <- ProbitLnLExtended(beta.R, df_r$sub, X.mat)           \n",
    "                                                           \n",
    "lnL.R.grad <- grad(func = ProbitLnLExtended,               \n",
    "                   x = beta.R,                             \n",
    "                   y = df_r$sub, \n",
    "                   X = X.mat)\n",
    "lnL.R.grad <- matrix(lnL.R.grad, ncol = 1)                 \n",
    "lnL.R.Jac <- jacobian(func = ProbitLnLExtended,            \n",
    "                      x = beta.R,                          \n",
    "                      y = df_r$sub, \n",
    "                      X = X.mat,\n",
    "                      is_aggregate = FALSE)\n",
    "# Реализуем тест\n",
    "LM.value.1 <- t(lnL.R.grad) %*% solve(t(lnL.R.Jac) %*% lnL.R.Jac) %*% lnL.R.grad\n",
    "p.value <- 1 - pchisq(LM.value.1, df = 2)                \n",
    "p.value                                        "
   ]
  },
  {
   "cell_type": "markdown",
   "id": "f7e2baef",
   "metadata": {},
   "source": [
    "Так как p-value большой, нет основания отказываться от допущения о нормальном распределении случайной ошибки (нулевая гипотеза не отвергается)."
   ]
  },
  {
   "cell_type": "markdown",
   "id": "2c3b0626",
   "metadata": {},
   "source": [
    "$\\bf{4.2.}$ Предположите, какие переменные могут влиять на дисперсию случайной ошибки. При этом по крайней мере одна переменная должна входить и в линейный индекс основного уравнения, и в линейный индекс уравнения дисперсии. При помощи LR теста проверьте гипотезу о гомоскедастичности случайных ошибок. Запишите, к каким негативным последствиям может привести нарушение данного допущения. Объясните преимущество LM теста над LR тестом в данном случае."
   ]
  },
  {
   "cell_type": "markdown",
   "id": "ca58f3d7",
   "metadata": {},
   "source": [
    "$\\bf{\\text{Мое решение:}}$ "
   ]
  },
  {
   "cell_type": "markdown",
   "id": "2f760927",
   "metadata": {},
   "source": [
    "Предполагаю, что наличие кота и возраст могут влиять на дисперсию случайной ошибки:\n",
    "$$y^*_i = x_i' \\beta + \\varepsilon_i,\\text{ где } \\varepsilon_i \\sim N(0, (h(\\tau_1 Cat_i + \\tau_2 Age_i))^2)$$\n",
    "\n",
    "Преимущество LM теста над LR заключается в том, что он позволяет тестировать гомоскедастичность не только против какой-то конкретной функции зависимости дисперсии случайной ошибки, а против очень широкого класса альтернатив, которые задаются функцией $h(x)$ (требований, предъявляемых к функции, всего два: производная в нуле должна быть не равна нулю, а само значение в нуле $-$ 1). Проверяя гипотезы при какой-то конкретной функции, мы проверим ее и для всех функций из класса $h$ (LR проверяет лишь для указанной зависимости).\n",
    "Мы возьмем $h(x) = e^x$. \n",
    "\n",
    "Гетероскедастичность делает стандартные ошибки коэффициентов, z-статистики (а также $R^2$) невалидными.\n",
    "\n",
    "Нулевая гипотеза в нашем случае состоит в гомоскедастичности случайных ошибок, то есть, что $\\tau_2=\\tau_1=0$ (два ограничения)\n",
    "Тестовая LM статистика аналогична той, что была в предыдущем пункте:\n",
    "\n",
    "$$LM = \\left[ \\frac{\\partial l_{UR}}{\\partial{\\beta}} \\Big|_{\\beta=\\hat{\\beta}_R}\\right]^T I^{-1}(\\hat{\\beta}_R) \\left[ \\frac{\\partial l_{UR}}{\\partial{\\beta}} \\Big|_{\\beta=\\hat{\\beta}_R}\\right],$$\n",
    "\n",
    "где $\\hat{\\beta}_R$ $-$ вектор оцененных коэффициентов обычной пробит модели с $\\tau_1=\\tau_2=0$.\n",
    "\n",
    "При верной нулевой гипотезе $LM \\sim \\chi^2(2)$.\n",
    "\n",
    "\n",
    "\n"
   ]
  },
  {
   "cell_type": "markdown",
   "id": "2e8bd9a8",
   "metadata": {},
   "source": [
    "С помощью кода семинара найдем p-value тестовой статистики:"
   ]
  },
  {
   "cell_type": "code",
   "execution_count": 26,
   "id": "ca630863",
   "metadata": {},
   "outputs": [
    {
     "name": "stdout",
     "output_type": "stream",
     "text": [
      "          [,1]\n",
      "[1,] 0.2954228\n"
     ]
    }
   ],
   "source": [
    "%%R\n",
    "\n",
    "model.hetprobit <- hetglm(sub ~ age + I(age ^ 2) +     \n",
    "                                   male + series +\n",
    "                                   I(male * series)|\n",
    "                                   cat + age,   \n",
    "                    data = df_r, family = binomial(link = \"probit\"))\n",
    "beta.est <- model.hetprobit$coefficients$mean\n",
    "tau.est <- model.hetprobit$coefficients$scale\n",
    "                          \n",
    "HetprobitLnL <- function(x,                                # коэффициенты\n",
    "                         y,                                # зависимая переменная\n",
    "                         X,                                # регрессоры основного уравнения\n",
    "                         W,                                # регрессоры уравнения дисперсии\n",
    "                         scale_fn = exp,                   # функция уравнения дисперсии h()\n",
    "                         is_aggregate = TRUE)              # возвращаем функцию правдоподобия (TRUE)   \n",
    "  # или отдельные вклады (FALSE)          \n",
    "{\n",
    "  m_X <- ncol(X)\n",
    "  m_W <- ncol(W)\n",
    "  \n",
    "  beta <- matrix(x[1:m_X], ncol = 1)                       # вектор beta коэффициентов и\n",
    "  tau <- matrix(x[(m_X + 1):(m_X + m_W)], ncol = 1)        # вектор дополнительных параметров  \n",
    "                                                           # переводим в матрицу с одним столбцом\n",
    "  \n",
    "  y_li_mean <- X %*% beta                                  # оценка линейного индекса\n",
    "  y_li_scale <- W %*% tau                                  # латентной переменной\n",
    "  y_li_scale_fn <- scale_fn(y_li_scale)\n",
    "  \n",
    "  n_obs <- nrow(X)                                         # количество наблюдений\n",
    "  \n",
    "  L_vec <- matrix(NA, nrow = n_obs,                        # вектор столбец вкладов наблюдений\n",
    "                  ncol = 1)                                # в функцию правдоподобия\n",
    "  \n",
    "  is_y_0 <- (y == 0)                                       # вектор условий y = 0\n",
    "  is_y_1 <- (y == 1)                                       # вектор условий y = 1\n",
    "  \n",
    "  L_vec[is_y_1] <- pnorm(y_li_mean[is_y_1], \n",
    "                         sd = y_li_scale_fn[is_y_1])       # вклад наблюдений для которых yi = 1\n",
    "  L_vec[is_y_0] <- 1 - pnorm(y_li_mean[is_y_0],\n",
    "                             sd = y_li_scale_fn[is_y_0])   # вклад наблюдений для которых yi = 0\n",
    "  \n",
    "  lnL_vec <- log(L_vec)                                    # логарифмы вкладов\n",
    "  \n",
    "  if(!is_aggregate)                                        # возвращаем вклады\n",
    "  {                                                        # при необходимости\n",
    "    return(lnL_vec)\n",
    "  }\n",
    "  \n",
    "  lnL <- sum(lnL_vec)                                      # логарифм функции правдоподобия\n",
    "  \n",
    "  return(lnL)\n",
    "}\n",
    "\n",
    "# Достанем данные\n",
    "df.hetprobit <- model.frame(model.hetprobit)               # все регрессоры\n",
    "X.mat <- cbind(1, as.matrix(df.hetprobit[                  # регрессоры основного\n",
    "  names(df.hetprobit) %in% names(beta.est)]))              # уравнения\n",
    "\n",
    "W.mat <- as.matrix(df.hetprobit[                           # регрессоры уравнения\n",
    "  names(df.hetprobit) %in% names(tau.est)])                # дисперсии\n",
    "head(W.mat , 5)\n",
    "y.vec <- df.hetprobit[, 1]                                 # зависимая переменная\n",
    "\n",
    "## Достанем оценки ограниченной модели\n",
    "x.est.R <- c(model.probit$coefficients, \n",
    "             rep(0, ncol(W.mat)))\n",
    "n.R <- length(x.est.R)                                     # добавим имена\n",
    "names(x.est.R)[(n.R - 1):n.R] <- paste(colnames(W.mat),    # для красоты\n",
    "                                       \"sigma\")\n",
    "\n",
    "# Рассчитаем правдоподобие полной модели в точке,\n",
    "# определяемой оценками, полученными по ограниченной\n",
    "# модели\n",
    "lnL.R <- HetprobitLnL(x.est.R, \n",
    "                      y = y.vec,\n",
    "                      X.mat, W.mat, exp)\n",
    "lnL.R.grad <- grad(func = HetprobitLnL,                    # считаем градиент данной функции\n",
    "                   x = x.est.R,                            # численным методом\n",
    "                   y = y.vec, \n",
    "                   X = X.mat, W = W.mat,\n",
    "                   scale_fn = exp)                         \n",
    "                                                                                               \n",
    "lnL.R.grad <- matrix(lnL.R.grad, ncol = 1)                 \n",
    "lnL.R.Jac <- jacobian(func = HetprobitLnL,                 \n",
    "                      x = x.est.R,                        \n",
    "                      y = y.vec,                          \n",
    "                      X = X.mat, W = W.mat,               \n",
    "                      scale_fn = exp,                     \n",
    "                      is_aggregate = FALSE,\n",
    "                      method.args = list(r = 8))\n",
    "\n",
    "# Реализуем тест\n",
    "LM.value <- t(lnL.R.grad) %*%                             \n",
    "  solve(t(lnL.R.Jac) %*% lnL.R.Jac) %*%                    \n",
    "  lnL.R.grad\n",
    "p.value <- 1 - pchisq(LM.value, df = ncol(W.mat))  \n",
    "p.value"
   ]
  },
  {
   "cell_type": "markdown",
   "id": "23a30f05",
   "metadata": {},
   "source": [
    "Так как p-value большой, нет основания отказываться от допущения о гомоскедастичности случайных ошибок (нулевая гипотеза не отвергается)."
   ]
  },
  {
   "cell_type": "markdown",
   "id": "8a4cd5b7",
   "metadata": {},
   "source": [
    "Только сейчас заметил, что в работе требуется другой тест ($LR$):\n",
    "\n",
    "$$ H_0: \\tau_2=\\tau_1=0$$\n",
    "\n",
    "Тестовая статистика\n",
    "$$ LR = -2(l_R(\\hat{\\beta}_R) - l_{UR}(\\hat{\\beta}_{UR})) $$\n",
    "\n",
    "имеет распределение $\\chi^2(2)$ при верной нулевой гипотезе. Зависимость дисперсии от факторов будем предполагать, как выше. Ограниченной моделью также будет наша обычная пробит-модель (с предположением о гомоскедастичности)\n"
   ]
  },
  {
   "cell_type": "code",
   "execution_count": 27,
   "id": "c8d0e401",
   "metadata": {},
   "outputs": [
    {
     "name": "stdout",
     "output_type": "stream",
     "text": [
      "[1] 0.2885554\n"
     ]
    }
   ],
   "source": [
    "%%R\n",
    "model.hetprobit <- hetglm(sub ~ age + I(age ^ 2) +     \n",
    "                                   male + series +\n",
    "                                   I(male * series)|\n",
    "                                   cat + age,   \n",
    "                    data = df_r, family = binomial(link = \"probit\"), link.scale='log')\n",
    "\n",
    "\n",
    "l_UR = logLik(model.hetprobit)\n",
    "l_R = logLik(model.probit)\n",
    "\n",
    "LR_ratio <- -2 * (l_R - l_UR)\n",
    "p.value <- as.numeric(1 - pchisq(LR_ratio, df=2))  \n",
    "p.value"
   ]
  },
  {
   "cell_type": "markdown",
   "id": "5f3066a8",
   "metadata": {},
   "source": [
    "Аналогично, нет основания отказываться от допущения о гомоскедастичности и отвергать нулевую гипотезу на любом принятом уровне значимости. $p-value$ вышло очень близким к LM-тесту, потому что эти тесты асимптотически эквивалентны."
   ]
  },
  {
   "cell_type": "markdown",
   "id": "458b2ed5",
   "metadata": {},
   "source": [
    "$\\bf{4.3.}$ Для модели с гетероскедастичной случайной ошибкой рассчитайте предельный эффект на вероятность подписки и на дисперсию случайной ошибки по переменной, входящей и в основное уравнение, и уравнение дисперсии. Предварительно запишите формулы, по которым осуществляется расчет.\n"
   ]
  },
  {
   "cell_type": "markdown",
   "id": "f9b37dd8",
   "metadata": {},
   "source": [
    "$\\bf{\\text{Мое решение:}}$ \n",
    "\n",
    "Будем считать предельный эффект для (так как не сказано, для кого) все того же произвольного индивида, параметры которого указаны в 3.3. Также будем думать, что у индивида нет кота ($Cat = 0$)."
   ]
  },
  {
   "cell_type": "markdown",
   "id": "527e46a0",
   "metadata": {},
   "source": [
    "Пусть у нашего произвольного индивида оцененный линейный индекс равен $\\ell$, а оценка стандартного отклонения случайной ошибки равна $\\sigma = \\exp(\\tau_1 \\cdot Cat + \\tau_2 \\cdot Age)$. Тогда\n",
    "$$\n",
    "z = \\frac{\\ell}{\\sigma} \\sim \\mathcal{N}(0, 1)\n",
    "$$\n",
    "Значит вероятность наличия подписки у этого индивида:\n",
    "\n",
    "$$\n",
    "P(Sub=1)=\\Phi(z)\n",
    "$$\n",
    "Заметим, что $\\frac{\\partial \\ell}{\\partial Age} = \\beta_1 + 2\\beta_2 Age$, а $\\frac{\\partial \\sigma}{\\partial Age} = \\sigma \\tau_2$. Тогда \n",
    "$$\n",
    "\\frac{\\partial P(Sub=1)}{\\partial Age} = f(z) \\cdot\\left( \\frac{(\\beta_1 + 2\\beta_2 Age)\\sigma - \\sigma \\tau_2 \\ell }{\\sigma^2}\\right) = f(z) \\cdot\\left( \\frac{\\beta_1 + 2\\beta_2 Age -  \\tau_2 \\ell }{\\sigma}\\right),\n",
    "$$\n",
    "где $f(x) -$ функция плотности стандартного нормального распределения.\n",
    "\n",
    "Предельный эффект на дисперсию случайной ошибки по переменной $Age$ для нашего индивида будет равен \n",
    "$$\n",
    "\\frac{\\partial e^{2(\\tau_1 \\cdot Cat + \\tau_2 \\cdot Age)}}{\\partial Age} = e^{2(\\tau_1 \\cdot Cat + \\tau_2 \\cdot Age)} \\cdot 2\\tau_2\n",
    "$$\n",
    "Посчитаем:"
   ]
  },
  {
   "cell_type": "code",
   "execution_count": 28,
   "id": "47c94c67",
   "metadata": {},
   "outputs": [
    {
     "name": "stdout",
     "output_type": "stream",
     "text": [
      "          1 \n",
      "0.003410368 \n"
     ]
    }
   ],
   "source": [
    "%%R\n",
    "\n",
    "Mark <- data.frame(age = 21,                             # характеристики произвольного индивида\n",
    "                    male = 1,\n",
    "                    series = 4,\n",
    "                    cat = 0)\n",
    "\n",
    "prob.Mark <- predict(model.hetprobit, newdata = Mark,    \n",
    "                      type = \"response\")                   \n",
    "li.Mark.adj <- predict(model.hetprobit, newdata = Mark,  \n",
    "                        type = \"link\")                     \n",
    "                                                           \n",
    "sigma.Mark <- predict(model.hetprobit, newdata = Mark,   \n",
    "                       type = \"scale\")                     \n",
    "                                                           \n",
    "li.Mark <- li.Mark.adj * sigma.Mark                     \n",
    "                                                           \n",
    "  \n",
    "ME.pay.1 <- dnorm(li.Mark) * \n",
    "  (beta.est[\"age\"] + 2 * beta.est[\"I(age^2)\"] * Mark$age - \n",
    "   li.Mark * tau.est[\"age\"]) / sigma.Mark  \n",
    "\n",
    "ME.pay.1"
   ]
  },
  {
   "cell_type": "markdown",
   "id": "13a953ae",
   "metadata": {},
   "source": [
    "На всякий случай проверим себя численно:"
   ]
  },
  {
   "cell_type": "code",
   "execution_count": 29,
   "id": "aed59eb8",
   "metadata": {},
   "outputs": [
    {
     "name": "stdout",
     "output_type": "stream",
     "text": [
      "          1 \n",
      "0.003410305 \n"
     ]
    }
   ],
   "source": [
    "%%R\n",
    "\n",
    "delta <- 1e-6                                       # приращение                                                 \n",
    "Mark.delta <- Mark\n",
    "Mark.delta$age <- Mark$age + delta \n",
    "          \n",
    "prob.Mark.delta <- predict(model.hetprobit, \n",
    "                            newdata = Mark.delta,\n",
    "                            type = \"response\")\n",
    "ME.pay.2 <- (prob.Mark.delta - prob.Mark) / delta\n",
    "\n",
    "ME.pay.2"
   ]
  },
  {
   "cell_type": "markdown",
   "id": "5d15535b",
   "metadata": {},
   "source": [
    "Все верно! Предельный эффект по возрасту для произвольного индивида равен 0.0034"
   ]
  },
  {
   "cell_type": "markdown",
   "id": "7f9e3b66",
   "metadata": {},
   "source": [
    "Предельный эффект для дисперсии:\n"
   ]
  },
  {
   "cell_type": "code",
   "execution_count": 30,
   "id": "368540da",
   "metadata": {},
   "outputs": [
    {
     "name": "stdout",
     "output_type": "stream",
     "text": [
      "         age \n",
      "-0.002199354 \n"
     ]
    }
   ],
   "source": [
    "%%R\n",
    "\n",
    "exp(2 * (tau.est[\"age\"] * Mark$age + tau.est[\"cat\"] * Mark$cat)) * 2 * tau.est[\"age\"]"
   ]
  },
  {
   "cell_type": "markdown",
   "id": "ca0766a0",
   "metadata": {},
   "source": [
    "Предельный эффект на дисперсию случайной ошибки по возрасту равен -0.0022"
   ]
  },
  {
   "cell_type": "markdown",
   "id": "0485f498",
   "metadata": {},
   "source": [
    "$\\bf{4.4.}$ Для переменной, входящей в линейный индекс нелинейно, при помощи LR теста проверьте гипотезы о том, что:\n",
    "1. Коэффициент при линейной части равняется нулю\n",
    "2. Оба коэффициента равняются нулю\n",
    "3. Коэффициент при линейной части совпадает по знаку и в k раз больше (по модулю), чем при нелинейной, где k $\\ne$ 0 можно выбрать произвольным, указав выбранное значение.\n",
    "4.Коэффициент при линейной части совпадает по знаку и в k раз больше, чем при нелинейной, а коэффициент при произвольной бинарной переменной равняется t, где t $\\ne$ 0 можно выбрать произвольным, указав выбранное значение."
   ]
  },
  {
   "cell_type": "markdown",
   "id": "d25c8d8b",
   "metadata": {},
   "source": [
    "$\\bf{\\text{Мое решение:}}$ "
   ]
  },
  {
   "cell_type": "markdown",
   "id": "887341ce",
   "metadata": {},
   "source": [
    "В качестве переменной, входящей нелинейно, возьмем возраст (у нас нет других), в качестве бинарной возьмем добавленную только в четвертый пункт переменную TV"
   ]
  },
  {
   "cell_type": "markdown",
   "id": "01434450",
   "metadata": {},
   "source": [
    "1. Коэффициент при линейной части равняется нулю\n",
    "\n",
    "$$ H_0: \\beta_1 = 0 \\text{ (одно ограничение)}$$\n",
    "\n",
    "Тестовая статистика\n",
    "$$ LR = -2(l_R(\\hat{\\beta}_R) - l_{UR}(\\hat{\\beta}_{UR})) $$\n",
    "\n",
    "имеет распределение $\\chi^2(1)$ при верной нулевой гипотезе"
   ]
  },
  {
   "cell_type": "code",
   "execution_count": 31,
   "id": "3559f8cb",
   "metadata": {},
   "outputs": [
    {
     "name": "stdout",
     "output_type": "stream",
     "text": [
      "[1] 0.0267799\n"
     ]
    }
   ],
   "source": [
    "%%R\n",
    "\n",
    "model.probit_restr <- glm(formula = sub ~ I(age ^ 2) +     \n",
    "                                   male + series +\n",
    "                                   male * series,   \n",
    "                    data = df_r, family = binomial(link = \"probit\"))    \n",
    "\n",
    "LR_ratio <- -2 * (logLik(model.probit_restr) - logLik(model.probit))\n",
    "p.value <- as.numeric(1 - pchisq(LR_ratio, df=1))  \n",
    "p.value"
   ]
  },
  {
   "cell_type": "markdown",
   "id": "51a8de50",
   "metadata": {},
   "source": [
    "Нулевая гипотеза о нулевом коэффициента при линейной части возраста отвергается на 5% уровне значимости"
   ]
  },
  {
   "cell_type": "markdown",
   "id": "f8e8e192",
   "metadata": {},
   "source": [
    "2. Оба коэффициента равняются нулю\n",
    "\n",
    "$$ H_0: \\beta_1 = 0, \\, \\beta_2 = 0 \\text{ (два ограничения)}$$\n",
    "\n",
    "Тестовая статистика\n",
    "$$ LR = -2(l_R(\\hat{\\beta}_R) - l_{UR}(\\hat{\\beta}_{UR})) $$\n",
    "\n",
    "имеет распределение $\\chi^2(2)$ при верной нулевой гипотезе"
   ]
  },
  {
   "cell_type": "code",
   "execution_count": 32,
   "id": "55057ff9",
   "metadata": {},
   "outputs": [
    {
     "name": "stdout",
     "output_type": "stream",
     "text": [
      "[1] 0.006340998\n"
     ]
    }
   ],
   "source": [
    "%%R\n",
    "\n",
    "model.probit_restr <- glm(formula = sub ~ male + series + male * series,   \n",
    "                    data = df_r, family = binomial(link = \"probit\"))    \n",
    "\n",
    "LR_ratio <- -2 * (logLik(model.probit_restr) - logLik(model.probit))\n",
    "\n",
    "p.value <- as.numeric(1 - pchisq(LR_ratio, df=2))  \n",
    "p.value"
   ]
  },
  {
   "cell_type": "markdown",
   "id": "f16468c3",
   "metadata": {},
   "source": [
    "Нулевая гипотеза о нулевых коэффициентах при возрасте отвергается на любом принятом уровне значимости"
   ]
  },
  {
   "cell_type": "markdown",
   "id": "4c4b6135",
   "metadata": {},
   "source": [
    "3. Коэффициент при линейной части совпадает по знаку и в k раз больше (по модулю), чем при нелинейной, где k $\\ne$ 0 можно выбрать произвольным, указав выбранное значение.\n",
    "\n",
    "Возьмем $k=2$.\n",
    "\n",
    "$$ H_0: \\beta_1 = 2\\beta_2 \\text{ (одно ограничение)}$$\n",
    "\n",
    "Тестовая статистика\n",
    "$$ LR = -2(l_R(\\hat{\\beta}_R) - l_{UR}(\\hat{\\beta}_{UR})) $$\n",
    "\n",
    "имеет распределение $\\chi^2(1)$ при верной нулевой гипотезе"
   ]
  },
  {
   "cell_type": "code",
   "execution_count": 33,
   "id": "38b397d5",
   "metadata": {},
   "outputs": [
    {
     "name": "stdout",
     "output_type": "stream",
     "text": [
      "[1] 0.02721842\n"
     ]
    }
   ],
   "source": [
    "%%R\n",
    "\n",
    "k <- 2\n",
    "\n",
    "model.probit_restr <- glm(formula = sub ~ I(age^2 + k * age) + male + series + male * series,   \n",
    "                    data = df_r, family = binomial(link = \"probit\"))    \n",
    "\n",
    "LR_ratio <- -2 * (logLik(model.probit_restr) - logLik(model.probit))\n",
    "p.value <- as.numeric(1 - pchisq(LR_ratio, df=1))  \n",
    "p.value"
   ]
  },
  {
   "cell_type": "markdown",
   "id": "608f9ae3",
   "metadata": {},
   "source": [
    "Нулевая гипотеза отвергается на 5% уровне значимости"
   ]
  },
  {
   "cell_type": "markdown",
   "id": "ff00c5c7",
   "metadata": {},
   "source": [
    "4.Коэффициент при линейной части совпадает по знаку и в k раз больше, чем при нелинейной, а коэффициент при произвольной бинарной переменной равняется t, где t $\\ne$ 0 можно выбрать произвольным, указав выбранное значение.\n"
   ]
  },
  {
   "cell_type": "markdown",
   "id": "eeb997ec",
   "metadata": {},
   "source": [
    "Возьмем $k=10$, $t=-1$.\n",
    "\n",
    "$$ H_0: \\beta_1 = 10\\beta_2, \\, \\beta_3 = -1 \\text{ (два ограничения)}$$\n",
    "\n",
    "Тестовая статистика\n",
    "$$ LR = -2(l_R(\\hat{\\beta}_R) - l_{UR}(\\hat{\\beta}_{UR})) $$\n",
    "\n",
    "имеет распределение $\\chi^2(2)$ при верной нулевой гипотезе"
   ]
  },
  {
   "cell_type": "code",
   "execution_count": 34,
   "id": "4298cb7f",
   "metadata": {},
   "outputs": [
    {
     "name": "stdout",
     "output_type": "stream",
     "text": [
      "[1] 0.09194271\n"
     ]
    }
   ],
   "source": [
    "%%R\n",
    "\n",
    "k <- 10\n",
    "t <- -1\n",
    "\n",
    "model.probit_restr <- glm(formula = sub ~ I(age^2 + k * age) + series + male * series,   \n",
    "                    data = df_r, offset= I(male * t), family = binomial(link = \"probit\"))    \n",
    "\n",
    "\n",
    "LR_ratio <- -2 * (logLik(model.probit_restr) - logLik(model.probit))\n",
    "p.value <- as.numeric(1 - pchisq(LR_ratio, df=2))  \n",
    "p.value"
   ]
  },
  {
   "cell_type": "markdown",
   "id": "268a3b39",
   "metadata": {},
   "source": [
    "Нулевая гипотеза отвергается на 10% уровне значимости"
   ]
  },
  {
   "cell_type": "markdown",
   "id": "f20e2562",
   "metadata": {},
   "source": [
    "$\\bf{4.5.}$ При помощи LR теста проверьте, можно ли оценивать совместную модель для мужчин и для женщин, либо стоит оценить две различные модели."
   ]
  },
  {
   "cell_type": "markdown",
   "id": "34488bef",
   "metadata": {},
   "source": [
    "$\\bf{\\text{Мое решение:}}$ \n",
    "\n",
    "В нашей модели уже есть бинарная переменная пола, которая входит как сама по себе, так и в переменную взаимодействия. Поэтому мы будто уже немного учитывали две различные модели для мужчин и женщин (как минимум при интерсепте и при series, которая есть сама по себе и во взаимодействии с male. Две различные модели являются полной моделью, а модель пробита, которую мы оценивали выше, является ограничением на коэффициенты при параметрах $Age, \\,Age^2$ (будто мы зануляем коэффициенты при переменных $Age \\cdot Male, \\,Age^2\\cdot Male$ в длинной модели):\n",
    "\n",
    "$$ H_0: \\beta_{1Male} = \\beta_{1Female}, \\beta_{2Male} = \\beta_{2Female} \\text{ (два ограничения)}$$\n",
    "\n",
    "Тестовая статистика\n",
    "$$ LR = -2(l_R(\\hat{\\beta}_R) - l_{UR}(\\hat{\\beta}_{UR})) $$\n",
    "\n",
    "имеет распределение $\\chi^2(2)$ при верной нулевой гипотезе"
   ]
  },
  {
   "cell_type": "code",
   "execution_count": 35,
   "id": "9184abd2",
   "metadata": {},
   "outputs": [
    {
     "name": "stdout",
     "output_type": "stream",
     "text": [
      "[1] 0.01366722\n"
     ]
    }
   ],
   "source": [
    "%%R\n",
    "\n",
    "male_df <- df_r[df_r$male == 1,]\n",
    "not_male_df <- df_r[df_r$male != 1,]\n",
    "\n",
    "model.probit_male <- glm(formula = sub ~ age + I(age ^ 2) + series,   \n",
    "                    data = male_df, family = binomial(link = \"probit\"))    \n",
    "\n",
    "model.probit_female <- glm(formula = sub ~ age + I(age ^ 2) + series,   \n",
    "                    data = not_male_df, family = binomial(link = \"probit\"))\n",
    "\n",
    "lnL_unr <- logLik(model.probit_male) + logLik(model.probit_female)\n",
    "\n",
    "LR_ratio <- -2 * (logLik(model.probit) - lnL_unr)\n",
    "p.value <- as.numeric(1 - pchisq(LR_ratio, df = 2))  \n",
    "print(p.value)"
   ]
  },
  {
   "cell_type": "markdown",
   "id": "02b7d843",
   "metadata": {},
   "source": [
    "Нулевая гипотеза отвергается на 5% уровне значимости. Значит, стоит оценивать две различные модели (если нам важен 1% уровень значимости, то можно оценивать и нашу модель)"
   ]
  },
  {
   "cell_type": "markdown",
   "id": "e378e792",
   "metadata": {},
   "source": [
    "$\\bf{4.6.^*}$ При помощи LR теста проверьте, можно ли оценивать совместную модель для людей, проживающих в населенных пунктах различного типа (рассмотрите все три возможных типа населенного пункта)."
   ]
  },
  {
   "cell_type": "markdown",
   "id": "d31d37a7",
   "metadata": {},
   "source": [
    "$\\bf{\\text{Мое решение:}}$ \n",
    "\n",
    "Аналогично предыдущему пункту (только теперь дамми-переменной условия нет в модели), наша пробит модель является ограниченной моделью, в ней мы накладываем условие на параметры, что любой фактор модели имеет одинаковый для любого типа населенного пункта коэффициент. Всего у нас 6 параметров в ограниченной модели, типов населенных пунктов у нас 3, значит, в нулевой гипотезе будет 12 ограничений, по два на каждый вид параметров:\n",
    "\n",
    "$$ H_0: \\beta_{iCapital} = \\beta_{iCity} = \\beta_{iVillage} \\forall i\\in[0, 5] \\text{ (12 ограничений)}$$\n",
    "\n",
    "Тестовая статистика\n",
    "$$ LR = -2(l_R(\\hat{\\beta}_R) - l_{UR}(\\hat{\\beta}_{UR})) $$\n",
    "\n",
    "имеет распределение $\\chi^2(12)$ при верной нулевой гипотезе.\n",
    "\n",
    "Посчитаем p-value для тестовой статистики:"
   ]
  },
  {
   "cell_type": "code",
   "execution_count": 36,
   "id": "b7f1230f",
   "metadata": {},
   "outputs": [
    {
     "name": "stdout",
     "output_type": "stream",
     "text": [
      "[1] 0\n"
     ]
    }
   ],
   "source": [
    "%%R\n",
    "\n",
    "city_df <- df_r[df_r$residence == 'City',]\n",
    "capital_df <- df_r[df_r$residence == 'Capital',]\n",
    "village_df <- df_r[df_r$residence == 'Village',]\n",
    "\n",
    "model.probit_city <- glm(formula = sub ~ age + I(age ^ 2) +     \n",
    "                                   male + series +\n",
    "                                   male * series,   \n",
    "                    data = city_df, family = binomial(link = \"probit\"))    \n",
    "\n",
    "model.probit_capital <- glm(formula = sub ~ age + I(age ^ 2) +     \n",
    "                                   male + series +\n",
    "                                   male * series,   \n",
    "                                   data = capital_df, family = binomial(link = \"probit\"))\n",
    "\n",
    "model.probit_village <- glm(formula = sub ~ age + I(age ^ 2) +     \n",
    "                                   male + series +\n",
    "                                   male * series,   \n",
    "                                   data = village_df, family = binomial(link = \"probit\"))\n",
    "\n",
    "lnL_unr <- logLik(model.probit_city) + logLik(model.probit_capital) + logLik(model.probit_village)\n",
    "\n",
    "LR_ratio <- -2 * (logLik(model.probit) - lnL_unr)\n",
    "p.value <- as.numeric(1 - pchisq(LR_ratio, df=12))  \n",
    "print(p.value)"
   ]
  },
  {
   "cell_type": "markdown",
   "id": "22343c68",
   "metadata": {},
   "source": [
    "При любом разумном уровне значимости нулевая гипотеза отвергается, значит, совместную модель оценивать нельзя."
   ]
  },
  {
   "cell_type": "markdown",
   "id": "6e52f235",
   "metadata": {},
   "source": [
    "$\\bf{4.7.^{**}}$ Для индивида с произвольными характеристиками оцените асимптотическую дисперсию предельного эффекта любой непрерывной переменной, входящей сразу в оба уравнения, на вероятность подписки. Запишите использовавшуюся вами формулу."
   ]
  },
  {
   "cell_type": "markdown",
   "id": "df2f72bf",
   "metadata": {},
   "source": [
    "$\\bf{\\text{Мое решение:}}$ "
   ]
  },
  {
   "cell_type": "code",
   "execution_count": 37,
   "id": "446697e7",
   "metadata": {},
   "outputs": [],
   "source": [
    "# задание непонятно"
   ]
  },
  {
   "cell_type": "markdown",
   "id": "809dc1fc",
   "metadata": {},
   "source": [
    "## Часть 5. Логит модель"
   ]
  },
  {
   "cell_type": "markdown",
   "id": "b7e034ee",
   "metadata": {},
   "source": [
    "$\\bf{5.1.}$ Оцените логит модель, предварительно записав максимизируемую функцию правдоподобия и указав, чем логит модель отличается от пробит модели. Результат представьте в форме таблицы (можно, например, использовать выдачу из stata, R или python)."
   ]
  },
  {
   "cell_type": "markdown",
   "id": "14c5da0e",
   "metadata": {},
   "source": [
    "$\\bf{\\text{Мое решение:}}$ "
   ]
  },
  {
   "cell_type": "markdown",
   "id": "5831014f",
   "metadata": {},
   "source": [
    "$$ y_i = [z_i^* > 0], \\text{ где }z_i^* = x_i'\\beta + \\varepsilon_i, \\text{ а [A] $-$ функция-индикатор (0, если условие A выполнено, 0 $-$ иначе)}$$\n",
    "\n",
    "Особенностью модели является то, что $\\varepsilon_i \\sim \\mathcal{L(0, 1)}$, из логистического распределения (в этом отличие от пробита). Тогда логарифмическую функцию правдоподобия можно записать следующим образом:\n",
    "\n",
    "$$ l(\\beta) = \\sum_{i=1}^{n} \\left( y_i\\ln(\\Lambda(x_i'\\beta)) + (1-y_i) \\ln(1-\\Lambda(x_i'\\beta)) \\right) \\longrightarrow \\max_{\\beta},$$\n",
    "\n",
    "где $\\Lambda(z) = \\frac{1}{1+e^{-z}}$\n",
    "Оцениваемые параметры $-$ коэффициенты $\\beta$, соответствующие всем используемым нами переменным (включая константу и нелинейные переменные). \n",
    "\n",
    "Оценим коэффициенты с помощью функции Logit из statsmodels и glm:"
   ]
  },
  {
   "cell_type": "code",
   "execution_count": 38,
   "id": "f6d8436b",
   "metadata": {},
   "outputs": [
    {
     "name": "stdout",
     "output_type": "stream",
     "text": [
      "Optimization terminated successfully.\n",
      "         Current function value: 0.517429\n",
      "         Iterations 6\n"
     ]
    },
    {
     "data": {
      "text/html": [
       "<table class=\"simpletable\">\n",
       "<caption>Logit Regression Results</caption>\n",
       "<tr>\n",
       "  <th>Dep. Variable:</th>         <td>sub</td>       <th>  No. Observations:  </th>   <td>  5000</td>  \n",
       "</tr>\n",
       "<tr>\n",
       "  <th>Model:</th>                <td>Logit</td>      <th>  Df Residuals:      </th>   <td>  4994</td>  \n",
       "</tr>\n",
       "<tr>\n",
       "  <th>Method:</th>                <td>MLE</td>       <th>  Df Model:          </th>   <td>     5</td>  \n",
       "</tr>\n",
       "<tr>\n",
       "  <th>Date:</th>            <td>вс, 30 окт 2022</td> <th>  Pseudo R-squ.:     </th>   <td>0.2087</td>  \n",
       "</tr>\n",
       "<tr>\n",
       "  <th>Time:</th>               <td>22:30:59</td>     <th>  Log-Likelihood:    </th>  <td> -2587.1</td> \n",
       "</tr>\n",
       "<tr>\n",
       "  <th>converged:</th>            <td>True</td>       <th>  LL-Null:           </th>  <td> -3269.4</td> \n",
       "</tr>\n",
       "<tr>\n",
       "  <th>Covariance Type:</th>    <td>nonrobust</td>    <th>  LLR p-value:       </th> <td>6.846e-293</td>\n",
       "</tr>\n",
       "</table>\n",
       "<table class=\"simpletable\">\n",
       "<tr>\n",
       "       <td></td>          <th>coef</th>     <th>std err</th>      <th>z</th>      <th>P>|z|</th>  <th>[0.025</th>    <th>0.975]</th>  \n",
       "</tr>\n",
       "<tr>\n",
       "  <th>const</th>       <td>   -3.2229</td> <td>    0.274</td> <td>  -11.752</td> <td> 0.000</td> <td>   -3.760</td> <td>   -2.685</td>\n",
       "</tr>\n",
       "<tr>\n",
       "  <th>age</th>         <td>    0.0212</td> <td>    0.009</td> <td>    2.451</td> <td> 0.014</td> <td>    0.004</td> <td>    0.038</td>\n",
       "</tr>\n",
       "<tr>\n",
       "  <th>age2</th>        <td>   -0.0001</td> <td> 7.08e-05</td> <td>   -2.013</td> <td> 0.044</td> <td>   -0.000</td> <td>-3.75e-06</td>\n",
       "</tr>\n",
       "<tr>\n",
       "  <th>male</th>        <td>    2.5656</td> <td>    0.157</td> <td>   16.375</td> <td> 0.000</td> <td>    2.259</td> <td>    2.873</td>\n",
       "</tr>\n",
       "<tr>\n",
       "  <th>series</th>      <td>    0.1148</td> <td>    0.021</td> <td>    5.514</td> <td> 0.000</td> <td>    0.074</td> <td>    0.156</td>\n",
       "</tr>\n",
       "<tr>\n",
       "  <th>male_series</th> <td>   -0.0367</td> <td>    0.025</td> <td>   -1.455</td> <td> 0.146</td> <td>   -0.086</td> <td>    0.013</td>\n",
       "</tr>\n",
       "</table>"
      ],
      "text/plain": [
       "<class 'statsmodels.iolib.summary.Summary'>\n",
       "\"\"\"\n",
       "                           Logit Regression Results                           \n",
       "==============================================================================\n",
       "Dep. Variable:                    sub   No. Observations:                 5000\n",
       "Model:                          Logit   Df Residuals:                     4994\n",
       "Method:                           MLE   Df Model:                            5\n",
       "Date:                 вс, 30 окт 2022   Pseudo R-squ.:                  0.2087\n",
       "Time:                        22:30:59   Log-Likelihood:                -2587.1\n",
       "converged:                       True   LL-Null:                       -3269.4\n",
       "Covariance Type:            nonrobust   LLR p-value:                6.846e-293\n",
       "===============================================================================\n",
       "                  coef    std err          z      P>|z|      [0.025      0.975]\n",
       "-------------------------------------------------------------------------------\n",
       "const          -3.2229      0.274    -11.752      0.000      -3.760      -2.685\n",
       "age             0.0212      0.009      2.451      0.014       0.004       0.038\n",
       "age2           -0.0001   7.08e-05     -2.013      0.044      -0.000   -3.75e-06\n",
       "male            2.5656      0.157     16.375      0.000       2.259       2.873\n",
       "series          0.1148      0.021      5.514      0.000       0.074       0.156\n",
       "male_series    -0.0367      0.025     -1.455      0.146      -0.086       0.013\n",
       "===============================================================================\n",
       "\"\"\""
      ]
     },
     "execution_count": 38,
     "metadata": {},
     "output_type": "execute_result"
    }
   ],
   "source": [
    "logit = Logit(df['sub'], sm.add_constant(df[features])).fit()\n",
    "logit.summary()"
   ]
  },
  {
   "cell_type": "code",
   "execution_count": 39,
   "id": "aa8d2153",
   "metadata": {},
   "outputs": [
    {
     "name": "stdout",
     "output_type": "stream",
     "text": [
      "\n",
      "Call:\n",
      "glm(formula = sub ~ age + I(age^2) + male + series + male * series, \n",
      "    family = binomial(link = \"logit\"), data = df_r)\n",
      "\n",
      "Deviance Residuals: \n",
      "    Min       1Q   Median       3Q      Max  \n",
      "-1.5807  -0.6283  -0.4563   0.9533   2.3629  \n",
      "\n",
      "Coefficients:\n",
      "              Estimate Std. Error z value Pr(>|z|)    \n",
      "(Intercept) -3.223e+00  2.742e-01 -11.753  < 2e-16 ***\n",
      "age          2.119e-02  8.644e-03   2.451   0.0142 *  \n",
      "I(age^2)    -1.425e-04  7.077e-05  -2.013   0.0441 *  \n",
      "male         2.566e+00  1.567e-01  16.377  < 2e-16 ***\n",
      "series       1.148e-01  2.082e-02   5.515  3.5e-08 ***\n",
      "male:series -3.670e-02  2.522e-02  -1.455   0.1455    \n",
      "---\n",
      "Signif. codes:  0 ‘***’ 0.001 ‘**’ 0.01 ‘*’ 0.05 ‘.’ 0.1 ‘ ’ 1\n",
      "\n",
      "(Dispersion parameter for binomial family taken to be 1)\n",
      "\n",
      "    Null deviance: 6538.8  on 4999  degrees of freedom\n",
      "Residual deviance: 5174.3  on 4994  degrees of freedom\n",
      "AIC: 5186.3\n",
      "\n",
      "Number of Fisher Scoring iterations: 4\n",
      "\n"
     ]
    }
   ],
   "source": [
    "%%R\n",
    "\n",
    "model.logit <- glm(formula = sub ~ age + I(age ^ 2) +     \n",
    "                                   male + series +\n",
    "                                   male * series,   \n",
    "                    data = df_r, family = binomial(link = \"logit\"))    \n",
    "                                                           \n",
    "summary(model.logit)  "
   ]
  },
  {
   "cell_type": "markdown",
   "id": "795a97e6",
   "metadata": {},
   "source": [
    "$\\bf{5.2.}$ Проинтерпретируйте значения оценок изменений в отношениях шансов по каждой независимой переменной, входящей линейно."
   ]
  },
  {
   "cell_type": "markdown",
   "id": "fefa8b35",
   "metadata": {},
   "source": [
    "$\\bf{\\text{Мое решение:}}$ \n",
    "\n",
    "Так как в моей версии модели все переменные входят нелинейно, то для этого пункта добавим независимую переменную income, которая будет входить в модель линейно:"
   ]
  },
  {
   "cell_type": "code",
   "execution_count": 40,
   "id": "e6a37ad8",
   "metadata": {},
   "outputs": [
    {
     "name": "stdout",
     "output_type": "stream",
     "text": [
      "\n",
      "Call:\n",
      "glm(formula = sub ~ age + I(age^2) + male + series + male * series + \n",
      "    income, family = binomial(link = \"logit\"), data = df_r)\n",
      "\n",
      "Deviance Residuals: \n",
      "    Min       1Q   Median       3Q      Max  \n",
      "-2.0976  -0.6275  -0.4380   0.9424   2.4668  \n",
      "\n",
      "Coefficients:\n",
      "              Estimate Std. Error z value Pr(>|z|)    \n",
      "(Intercept) -3.688e+00  2.824e-01 -13.057  < 2e-16 ***\n",
      "age          2.110e-02  8.740e-03   2.415   0.0158 *  \n",
      "I(age^2)    -1.424e-04  7.160e-05  -1.989   0.0467 *  \n",
      "male         2.606e+00  1.585e-01  16.443  < 2e-16 ***\n",
      "series       1.130e-01  2.105e-02   5.369 7.93e-08 ***\n",
      "income       1.553e-05  1.597e-06   9.723  < 2e-16 ***\n",
      "male:series -3.455e-02  2.549e-02  -1.355   0.1753    \n",
      "---\n",
      "Signif. codes:  0 ‘***’ 0.001 ‘**’ 0.01 ‘*’ 0.05 ‘.’ 0.1 ‘ ’ 1\n",
      "\n",
      "(Dispersion parameter for binomial family taken to be 1)\n",
      "\n",
      "    Null deviance: 6538.8  on 4999  degrees of freedom\n",
      "Residual deviance: 5073.0  on 4993  degrees of freedom\n",
      "AIC: 5087\n",
      "\n",
      "Number of Fisher Scoring iterations: 5\n",
      "\n"
     ]
    }
   ],
   "source": [
    "%%R\n",
    "\n",
    "model.logit_aux <- glm(formula = sub ~ age + I(age ^ 2) +     \n",
    "                                   male + series +\n",
    "                                   male * series + income,   \n",
    "                    data = df_r, family = binomial(link = \"logit\"))    \n",
    "                                                           \n",
    "summary(model.logit_aux)"
   ]
  },
  {
   "cell_type": "markdown",
   "id": "12955e29",
   "metadata": {},
   "source": [
    "Коэффициент при income оказался равным 0,0000155. \n",
    "\n",
    "Отношение шансов считается следующим образом:\n",
    "\n",
    "$$OR = \\frac{p}{1-p} = \\exp{(x'\\beta)} $$\n",
    "\n",
    "Тогда изменение в отношения шансов при увеличении фактора $x^*$, входящего линейно, на единицу равно ($\\bar{x}$ $-$ вектор из всех других факторов, значения которых не изменились):\n",
    "\n",
    "$$\\frac{OR_{new}}{OR_{old}} = \\frac{\\exp(\\bar{x}\\bar{\\beta} + (x^* + 1)\\beta^*)}{\\exp(\\bar{x}\\bar{\\beta} + x^*\\beta^*)} = \\exp{\\beta^*}$$"
   ]
  },
  {
   "cell_type": "markdown",
   "id": "21d41ce0",
   "metadata": {},
   "source": [
    "Тогда изменение отношение шансов при увеличении дохода на единицу будет равно:"
   ]
  },
  {
   "cell_type": "code",
   "execution_count": 41,
   "id": "3b9cb9b0",
   "metadata": {},
   "outputs": [
    {
     "name": "stdout",
     "output_type": "stream",
     "text": [
      "  income \n",
      "1.000016 \n"
     ]
    }
   ],
   "source": [
    "%%R\n",
    "\n",
    "exp(model.logit_aux$coefficients[6])"
   ]
  },
  {
   "cell_type": "markdown",
   "id": "9ac5a415",
   "metadata": {},
   "source": [
    "То есть, при увеличении дохода на 1 отношение шансов (насколько вероятность того, что индвид имеет подписку, превосходит вероятность того, что у индивда нет подписки) увеличится на 0,0016%"
   ]
  },
  {
   "cell_type": "markdown",
   "id": "3711d48a",
   "metadata": {},
   "source": [
    "\n",
    "$\\bf{5.3.^*}$ Запишите выражения для расчета изменений в отношениях шансов по каждой независимой переменной, входящей нелинейно. Рассчитайте соответствующие предельные эффекты для индивида с произвольными характеристиками. Результаты расчетов представьте в форме таблицы."
   ]
  },
  {
   "cell_type": "markdown",
   "id": "934f949a",
   "metadata": {},
   "source": [
    "$\\bf{\\text{Мое решение:}}$\n",
    "\n",
    "Думаю, здесь подразумевалось рассчитать соответствующие изменения в отношениях шансов (а не предельных эффектов). Сделаем это для все того же произвольного индивида (с поправкой, что теперь его male=0), во всех переменных будем использовать шаг 1:"
   ]
  },
  {
   "cell_type": "code",
   "execution_count": 42,
   "id": "29d81d67",
   "metadata": {},
   "outputs": [
    {
     "data": {
      "text/plain": [
       "array([  1,  21, 441,   0,   4,   0])"
      ]
     },
     "execution_count": 42,
     "metadata": {},
     "output_type": "execute_result"
    }
   ],
   "source": [
    "new_params = my_params.copy()\n",
    "new_params[[3, 5]] = 0 # вместе с полом обнулится и переменная взаимодействия\n",
    "new_params"
   ]
  },
  {
   "cell_type": "markdown",
   "id": "60c76b02",
   "metadata": {},
   "source": [
    "Тогда при увеличении возраста на 1:\n",
    "\n",
    "$$\n",
    "\\frac{OR_{new}}{OR_{old}} = \\exp(\\beta_1 + \\beta_2 (2Age + 1))\n",
    "$$\n",
    "\n",
    "При изменении пола с женского на мужской 🧐:\n",
    "$$\n",
    "\\frac{OR_{new}}{OR_{old}} = \\exp(\\beta_3 + \\beta_5 Series)\n",
    "$$\n",
    "\n",
    "При увеличении кол-ва просмотренных сериалов на 1:\n",
    "$$\n",
    "\\frac{OR_{new}}{OR_{old}} = \\exp(\\beta_4) \\text{ (переменная взаимодействия равна 0 при male=0)}\n",
    "$$"
   ]
  },
  {
   "cell_type": "code",
   "execution_count": 43,
   "id": "da3fc057",
   "metadata": {},
   "outputs": [
    {
     "data": {
      "text/html": [
       "<div>\n",
       "<style scoped>\n",
       "    .dataframe tbody tr th:only-of-type {\n",
       "        vertical-align: middle;\n",
       "    }\n",
       "\n",
       "    .dataframe tbody tr th {\n",
       "        vertical-align: top;\n",
       "    }\n",
       "\n",
       "    .dataframe thead th {\n",
       "        text-align: right;\n",
       "    }\n",
       "</style>\n",
       "<table border=\"1\" class=\"dataframe\">\n",
       "  <thead>\n",
       "    <tr style=\"text-align: right;\">\n",
       "      <th></th>\n",
       "      <th>Variable</th>\n",
       "      <th>OR change</th>\n",
       "    </tr>\n",
       "  </thead>\n",
       "  <tbody>\n",
       "    <tr>\n",
       "      <th>0</th>\n",
       "      <td>Age</td>\n",
       "      <td>1.015176</td>\n",
       "    </tr>\n",
       "    <tr>\n",
       "      <th>1</th>\n",
       "      <td>Male</td>\n",
       "      <td>11.232255</td>\n",
       "    </tr>\n",
       "    <tr>\n",
       "      <th>2</th>\n",
       "      <td>Series</td>\n",
       "      <td>1.121660</td>\n",
       "    </tr>\n",
       "  </tbody>\n",
       "</table>\n",
       "</div>"
      ],
      "text/plain": [
       "  Variable  OR change\n",
       "0      Age   1.015176\n",
       "1     Male  11.232255\n",
       "2   Series   1.121660"
      ]
     },
     "execution_count": 43,
     "metadata": {},
     "output_type": "execute_result"
    }
   ],
   "source": [
    "betas = logit.params\n",
    "\n",
    "pd.DataFrame(zip(['Age', 'Male', 'Series'], [np.exp(betas[1] + betas[2] * (2 * new_params[1] + 1)),\n",
    "                                             np.exp(betas[3] + betas[5] * new_params[4]),\n",
    "                                             np.exp(betas[4])]), columns=['Variable', 'OR change'])"
   ]
  },
  {
   "cell_type": "markdown",
   "id": "a7050ab5",
   "metadata": {},
   "source": [
    "При увеличении возраста на 1 для произвольного индивида изменение в отношении шансов увеличивается на 1,5%.\n",
    "\n",
    "При увеличении кол-ва просмотренных за прошлый год сериалов на 1 для произвольного индивида изменение в отношении шансов увеличивается на 12%.\n",
    "\n",
    "У индивида-мужчины отношение шансов на 1023% больше, чем у индивида-женщины с прочими аналогичными произвольному индивиду характеристиками."
   ]
  },
  {
   "cell_type": "markdown",
   "id": "91c6b3bb",
   "metadata": {},
   "source": [
    "$\\bf{5.4.^{**}}$ Для произвольной независимой переменной, входящей нелинейно, проверьте гипотезу о том, что при её изменении на единицу отношение шансов возрастет на 10%.\n"
   ]
  },
  {
   "cell_type": "markdown",
   "id": "00e0cf6e",
   "metadata": {},
   "source": [
    "$\\bf{\\text{Мое решение:}}$ "
   ]
  },
  {
   "cell_type": "markdown",
   "id": "72b9ca1d",
   "metadata": {},
   "source": [
    "Здесь, как и в других непонятных ситуациях, будем использовать бутстрап."
   ]
  },
  {
   "cell_type": "code",
   "execution_count": 44,
   "id": "e2c85668",
   "metadata": {},
   "outputs": [
    {
     "data": {
      "application/vnd.jupyter.widget-view+json": {
       "model_id": "e9934d9ad990428d9e351a83c2826e24",
       "version_major": 2,
       "version_minor": 0
      },
      "text/plain": [
       "  0%|          | 0/1000 [00:00<?, ?it/s]"
      ]
     },
     "metadata": {},
     "output_type": "display_data"
    },
    {
     "data": {
      "text/plain": [
       "1.0153047401566277"
      ]
     },
     "execution_count": 44,
     "metadata": {},
     "output_type": "execute_result"
    }
   ],
   "source": [
    "np.random.seed(999)\n",
    "\n",
    "all_estimates = []\n",
    "\n",
    "for i in tqdm(range(1000)):\n",
    "    df_subsample = df.sample(df.shape[0], replace=True)\n",
    "    betas = Logit(df_subsample['sub'], sm.add_constant(df_subsample[features])).fit(disp=0).params\n",
    "    all_estimates.append(np.exp(betas[1] + betas[2] * (2 * new_params[1] + 1)))\n",
    "\n",
    "np.mean(all_estimates)"
   ]
  },
  {
   "cell_type": "markdown",
   "id": "2a8f8b2f",
   "metadata": {},
   "source": [
    "Так как мы хотим проверить, что изменение шансов возрастет на 10% при увеличении возраста на 1, то есть, \n",
    "\n",
    "$$\n",
    "H_0: \\frac{OR_{new}}{OR_{old}} = 1,1\n",
    "$$\n",
    "\n",
    "Проверим гипотезу с помощью бутстрапированного доверительного интервала"
   ]
  },
  {
   "cell_type": "code",
   "execution_count": 45,
   "id": "1084c468",
   "metadata": {},
   "outputs": [
    {
     "data": {
      "image/png": "[encoded data removed]",
      "text/plain": [
       "<Figure size 864x576 with 1 Axes>"
      ]
     },
     "metadata": {
      "image/png": {
       "height": 495,
       "width": 710
      },
      "needs_background": "light"
     },
     "output_type": "display_data"
    }
   ],
   "source": [
    "plt.title('Распределение бутстраповских оценок изменения отношения шансов')\n",
    "plt.hist(all_estimates)\n",
    "plt.xlabel('$\\Delta$');"
   ]
  },
  {
   "cell_type": "code",
   "execution_count": 46,
   "id": "51814f60",
   "metadata": {},
   "outputs": [
    {
     "name": "stdout",
     "output_type": "stream",
     "text": [
      "10% CI: [1.0060358467475046, 1.024513045473206]\n",
      "5% CI: [1.0040203266960577, 1.0264552529662072]\n",
      "1% CI: [1.0012112884889366, 1.0301274139810308]\n"
     ]
    }
   ],
   "source": [
    "get_bootstrap_ci(all_estimates)"
   ]
  },
  {
   "cell_type": "markdown",
   "id": "5feb89e9",
   "metadata": {},
   "source": [
    "Нулевая гипотеза отвергается на всех принятых уровнях значимости, так как 1,1 не попадает ни в один из интервалов выше"
   ]
  },
  {
   "cell_type": "markdown",
   "id": "39400a85",
   "metadata": {},
   "source": [
    "## Часть 6. Система бинарных уравнений"
   ]
  },
  {
   "cell_type": "markdown",
   "id": "f13ff1fb",
   "metadata": {},
   "source": [
    "$\\bf{6.1.}$ Оцените систему бинарных уравнений, одно из которых описывает вероятность подписки, а второе — вероятность того, что индивид смотрит телевизор не реже раза в неделю. При этом оба уравнения должны иметь по крайней мере одну общую и одну различающуюся независимую переменную. При необходимости спецификация уравнения подписки может отличаться от той, что использовалась в предыдущих разделах."
   ]
  },
  {
   "cell_type": "markdown",
   "id": "957253db",
   "metadata": {},
   "source": [
    "$\\bf{\\text{Мое решение:}}$ \n",
    "\n",
    "Уравнение подписки оставим без изменений, во втором уравнении (с просмотром ТВ) будем использовать возраст (age), наличие брака (marriage) и долю свободного времени, проводимого в интернете (internet). Оценим:"
   ]
  },
  {
   "cell_type": "code",
   "execution_count": 47,
   "id": "01450c76",
   "metadata": {},
   "outputs": [
    {
     "name": "stdout",
     "output_type": "stream",
     "text": [
      "\n",
      "COPULA:   Gaussian\n",
      "MARGIN 1: Bernoulli\n",
      "MARGIN 2: Bernoulli\n",
      "\n",
      "EQUATION 1\n",
      "Link function for mu.1: probit \n",
      "Formula: sub ~ age + I(age^2) + male + series + male * series\n",
      "\n",
      "Parametric coefficients:\n",
      "              Estimate Std. Error z value Pr(>|z|)    \n",
      "(Intercept) -1.998e+00  1.485e-01 -13.457   <2e-16 ***\n",
      "age          1.154e-02  4.834e-03   2.386   0.0170 *  \n",
      "I(age^2)    -7.832e-05  3.956e-05  -1.980   0.0477 *  \n",
      "male         1.459e+00  8.202e-02  17.785   <2e-16 ***\n",
      "series       9.493e-02  1.076e-02   8.825   <2e-16 ***\n",
      "male:series -1.010e-02  1.350e-02  -0.748   0.4544    \n",
      "---\n",
      "Signif. codes:  0 ‘***’ 0.001 ‘**’ 0.01 ‘*’ 0.05 ‘.’ 0.1 ‘ ’ 1\n",
      "\n",
      "\n",
      "EQUATION 2\n",
      "Link function for mu.2: probit \n",
      "Formula: TV ~ age + marriage + internet\n",
      "\n",
      "Parametric coefficients:\n",
      "             Estimate Std. Error z value Pr(>|z|)    \n",
      "(Intercept) -0.084428   0.066016  -1.279    0.201    \n",
      "age          0.015312   0.000846  18.101   <2e-16 ***\n",
      "marriage     0.027823   0.039633   0.702    0.483    \n",
      "internet    -1.056018   0.074838 -14.111   <2e-16 ***\n",
      "---\n",
      "Signif. codes:  0 ‘***’ 0.001 ‘**’ 0.01 ‘*’ 0.05 ‘.’ 0.1 ‘ ’ 1\n",
      "\n",
      "\n",
      "n = 5000  theta = -0.516(-0.558,-0.465)  tau = -0.345(-0.377,-0.308)\n",
      "total edf = 11\n",
      "\n"
     ]
    }
   ],
   "source": [
    "%%R\n",
    "\n",
    "sub_formula <- sub ~ age + I(age ^ 2) +     \n",
    "                            male + series +\n",
    "                            male * series\n",
    "tv_formula <- TV ~ age + marriage + internet                 \n",
    "model_bp <- gjrm(formula = list(sub_formula,        \n",
    "                                tv_formula),        \n",
    "                 data = df_r,\n",
    "                 Model = \"B\",                           \n",
    "                                                        \n",
    "                 margins = c(\"probit\", \"probit\"),       \n",
    "                                                        \n",
    "                 BivD = \"N\")                            \n",
    "\n",
    "summary(model_bp) "
   ]
  },
  {
   "cell_type": "markdown",
   "id": "4addd437",
   "metadata": {},
   "source": [
    "$\\bf{6.2.}$ Проинтерпретируйте оценки коэффициентов при независимых переменных и коэффициента корреляции между случайными ошибками рассматриваемых уравнений."
   ]
  },
  {
   "cell_type": "markdown",
   "id": "6eaa8861",
   "metadata": {},
   "source": [
    "$\\bf{\\text{Мое решение:}}$ "
   ]
  },
  {
   "cell_type": "markdown",
   "id": "a71b69f6",
   "metadata": {},
   "source": [
    "Исходя из результатов оценивания, мужской пол и количество просмотренных сериалов положительно влияют на вероятность иметь подписку, коэффициент при взаимодействии этих переменных оказался незначим. Коэффициенты в линейном индексе при возрасте оказались значимыми, коэффициент при линейной частью оказался положительным, а при квадратичной $-$ отрицательным. Максимальная вероятность подписки достигается в 74 года (аналогично результатам интерпретации в пробите).\n",
    "\n",
    "В то же время возраст положительно влияет на вероятность просмотра телевизора, доля времени в интернете $-$ отрицательно (что очень жизненно понятно). Влияние брака на вероятность просмотра телевизора оказалось незначимым.\n",
    "\n",
    "Корелляция между случайными ошибками (можно сказать, во влиянии факторов, которые не учтены в модели) оказалась значимо отрицательной. Этот коэфициент можно интерпретировать как то, что невключенные факторы в противопложном направлении влияют на вероятности иметь подписку/просматривать телевизор, то есть, если эти факторы увеличивают вероятность просмотра ТВ, то в то же время они снижают вероятность подписки и наоборот (что тоже очень логично)."
   ]
  },
  {
   "cell_type": "code",
   "execution_count": 48,
   "id": "92acb612",
   "metadata": {},
   "outputs": [
    {
     "data": {
      "text/plain": [
       "73.67211440245148"
      ]
     },
     "execution_count": 48,
     "metadata": {},
     "output_type": "execute_result"
    }
   ],
   "source": [
    "-1.154e-02 / 2 / -7.832e-05"
   ]
  },
  {
   "cell_type": "markdown",
   "id": "f36ea75e",
   "metadata": {},
   "source": [
    "$\\bf{6.3.}$ При помощи LR теста проверьте, имеется ли необходимость в том, чтобы оценивать оба уравнения совместно."
   ]
  },
  {
   "cell_type": "markdown",
   "id": "9e1c5fa3",
   "metadata": {},
   "source": [
    "$\\bf{\\text{Мое решение:}}$ "
   ]
  },
  {
   "cell_type": "markdown",
   "id": "5126baa4",
   "metadata": {},
   "source": [
    "Модель, оценивающая отдельно два уравнения, является моделью с ограничением, так как в ней подразумевается, что $\\rho = 0$ (одно ограничение)"
   ]
  },
  {
   "cell_type": "markdown",
   "id": "2b32ea30",
   "metadata": {},
   "source": [
    "$$ H_0: \\rho=0 \\text{ (одно ограничение)}$$\n",
    "\n",
    "Тестовая статистика\n",
    "$$ LR = -2(l_R(\\hat{\\beta}_R) - l_{UR}(\\hat{\\beta}_{UR})) $$\n",
    "\n",
    "имеет распределение $\\chi^2(1)$ при верной нулевой гипотезе"
   ]
  },
  {
   "cell_type": "markdown",
   "id": "468fffa5",
   "metadata": {},
   "source": [
    "Полная модель $-$ оцененная нами выше система бинарный уравнений. Выполним тест:"
   ]
  },
  {
   "cell_type": "code",
   "execution_count": 49,
   "id": "799cc0d1",
   "metadata": {},
   "outputs": [
    {
     "name": "stdout",
     "output_type": "stream",
     "text": [
      "[1] 0\n"
     ]
    }
   ],
   "source": [
    "%%R\n",
    "# полная модель\n",
    "lnL_unrestricted <- logLik(model_bp)\n",
    "\n",
    "# ограниченная состоит из двух отдельных\n",
    "model.probit1 <- glm(formula = sub_formula,   \n",
    "                    data = df_r, family = binomial(link = \"probit\"))                                                            \n",
    "l1 <-  logLik(model.probit1)\n",
    "\n",
    "model.probit2 <- glm(formula = tv_formula,   \n",
    "                    data = df_r, family = binomial(link = \"probit\"))                                                           \n",
    "l2 <- logLik(model.probit2)\n",
    "\n",
    "# правдоподобие = сумма двух отдельных моделей\n",
    "lnL_restricted <- l1 + l2\n",
    "\n",
    "LR_ratio <- -2 * (lnL_restricted[1] - lnL_unrestricted[1])\n",
    "\n",
    "p.value <- as.numeric(1 - pchisq(LR_ratio, df = 1))  \n",
    "print(p.value)"
   ]
  },
  {
   "cell_type": "markdown",
   "id": "2a46b1b3",
   "metadata": {},
   "source": [
    " Так как p-value равно нулю, то нулевая гипотеза отвергается, есть статистически значимая разница между ограниченной и неограниченной моделями, поэтому необходимо оценивать модели совместно, что логично, ведь оцененный в системе коэффициент корелляции случайных ошибок был значим (сильно отличен от нуля)"
   ]
  },
  {
   "cell_type": "markdown",
   "id": "5a90869d",
   "metadata": {},
   "source": [
    "$\\bf{6.4.}$ Для индивида с произвольными характеристиками оцените:\n",
    "1. Вероятность подписки\n",
    "2. Вероятность того, что индивид смотрит телевизор по крайней мере раз в неделю\n",
    "3. Вероятность того, что индивид и имеет подписку, и смотрит телевизор не реже раза в неделю\n",
    "4. Вероятность того, что у индивида имеется подписка, при условии, что он смотрит телевизор реже раза в неделю"
   ]
  },
  {
   "cell_type": "markdown",
   "id": "d0edcc42",
   "metadata": {},
   "source": [
    "$\\bf{\\text{Мое решение:}}$ \n",
    "\n",
    "Используем характеристики индивида из пункта 3.3. Добавим, что индивид проводит 80% свободного времени в Интернете и не состоит в браке."
   ]
  },
  {
   "cell_type": "code",
   "execution_count": 50,
   "id": "2eda76de",
   "metadata": {},
   "outputs": [],
   "source": [
    "%%R\n",
    "\n",
    "Mark <- data.frame(age = 21,                             # характеристики произвольного индивида\n",
    "                    male = 1,\n",
    "                    series = 4,\n",
    "                    cat = 0, marriage = 0, internet=0.8)"
   ]
  },
  {
   "cell_type": "code",
   "execution_count": 51,
   "id": "550f3724",
   "metadata": {},
   "outputs": [
    {
     "name": "stdout",
     "output_type": "stream",
     "text": [
      "     theta \n",
      "-0.5156147 \n"
     ]
    }
   ],
   "source": [
    "%%R\n",
    "# характеристики произвольного индивида\n",
    "\n",
    "x_sub <- c(1, 21, 21 ^ 2, 1, 4, 4)\n",
    "x_tv <- c(1, 21, 0, 0.8)\n",
    "\n",
    "coefs_sub <- model_bp$coefficients[1:6]\n",
    "li_sub <- x_sub %*% coefs_sub\n",
    "\n",
    "coefs_tv <- model_bp$coefficients[7:10]\n",
    "li_tv <- x_tv %*% coefs_tv\n",
    "\n",
    "rho_est <- model_bp$theta\n",
    "\n",
    "rho_est"
   ]
  },
  {
   "cell_type": "markdown",
   "id": "e95e3518",
   "metadata": {},
   "source": [
    "1. Вероятность подписки"
   ]
  },
  {
   "cell_type": "code",
   "execution_count": 52,
   "id": "f39bc390",
   "metadata": {},
   "outputs": [
    {
     "name": "stdout",
     "output_type": "stream",
     "text": [
      "        1 \n",
      "0.5030817 \n"
     ]
    }
   ],
   "source": [
    "%%R\n",
    "p_sub <- predict(model_bp, eq = 1, type = \"response\",   # вероятность стабильной\n",
    "               newdata = Mark)\n",
    "p_sub"
   ]
  },
  {
   "cell_type": "markdown",
   "id": "54c9d750",
   "metadata": {},
   "source": [
    "Оценка вероятности подписки равна 0,5"
   ]
  },
  {
   "cell_type": "markdown",
   "id": "904fe833",
   "metadata": {},
   "source": [
    "2. Вероятность того, что индивид смотрит телевизор по крайней мере раз в неделю"
   ]
  },
  {
   "cell_type": "code",
   "execution_count": 53,
   "id": "a5d3c30a",
   "metadata": {},
   "outputs": [
    {
     "name": "stdout",
     "output_type": "stream",
     "text": [
      "       1 \n",
      "0.271698 \n"
     ]
    }
   ],
   "source": [
    "%%R\n",
    "p_TV <- predict(model_bp, eq = 2, type = \"response\",   # вероятность стабильной\n",
    "               newdata = Mark)\n",
    "p_TV"
   ]
  },
  {
   "cell_type": "markdown",
   "id": "02ed318c",
   "metadata": {},
   "source": [
    "Оценка вероятности просмотра телевизора по крайней мере раз в неделю равна 0,27"
   ]
  },
  {
   "cell_type": "markdown",
   "id": "03f35234",
   "metadata": {},
   "source": [
    "3. Вероятность того, что индивид и имеет подписку, и смотрит телевизор не реже раза в неделю"
   ]
  },
  {
   "cell_type": "code",
   "execution_count": 54,
   "id": "c30f0ab3",
   "metadata": {},
   "outputs": [
    {
     "name": "stdout",
     "output_type": "stream",
     "text": [
      "[1] 0.06634522\n"
     ]
    }
   ],
   "source": [
    "%%R\n",
    "pbivnorm(x = cbind(li_sub, li_tv), rho = rho_est)"
   ]
  },
  {
   "cell_type": "markdown",
   "id": "d28bb6e0",
   "metadata": {},
   "source": [
    "Оценка вероятности и подписки, и просмотра телевизора по крайней мере раз в неделю равна 0,07"
   ]
  },
  {
   "cell_type": "markdown",
   "id": "48837e15",
   "metadata": {},
   "source": [
    "4. Вероятность того, что у индивида имеется подписка, при условии, что он смотрит телевизор реже раза в неделю"
   ]
  },
  {
   "cell_type": "code",
   "execution_count": 55,
   "id": "4d8fac66",
   "metadata": {},
   "outputs": [
    {
     "name": "stdout",
     "output_type": "stream",
     "text": [
      "         [,1]\n",
      "[1,] 0.599664\n"
     ]
    }
   ],
   "source": [
    "%%R\n",
    "p_sub1_tv0 <- pbivnorm(x = cbind(li_sub, -li_tv), rho = -rho_est)\n",
    "p_tv0 <- 1 - pnorm(li_tv)\n",
    "\n",
    "p_sub1_tv0 / p_tv0"
   ]
  },
  {
   "cell_type": "markdown",
   "id": "311e265e",
   "metadata": {},
   "source": [
    "Оценка вероятности наличия подписки при условии того, что индивид смотрит телевизор реже раза в неделю, равна 0,6"
   ]
  },
  {
   "cell_type": "markdown",
   "id": "223a4e91",
   "metadata": {},
   "source": [
    "$\\bf{6.5.^{**}}$ Для индивида с произвольными характеристиками оцените предельный\n",
    "эффект общей для двух уравнений переменной на вероятность того, что индивид имеет подписку, при условии, что во втором уравнении зависимая бинарная переменная примет единичное значение. Запишите использовавшуюся для расчетов формулу."
   ]
  },
  {
   "cell_type": "markdown",
   "id": "af1a9e68",
   "metadata": {},
   "source": [
    "$\\bf{\\text{Мое решение:}}$ "
   ]
  },
  {
   "cell_type": "markdown",
   "id": "c8b776c9",
   "metadata": {},
   "source": [
    "Пусть $\\beta_1$, $\\beta_2$ $-$ коэффициенты в первой и второй уравнении, соответственно. Тогда для индивида с характеристиками $x$ условная вероятность будет следующей:\n",
    "\n",
    "$$\n",
    "P(Sub=1 | TV=1) = \\frac{P(Sub=1, TV=1)}{P(TV=1)} =\\frac{\\Phi(x'\\beta_1,\\, x'\\beta_2,\\, \\rho)}{\\Phi(x'\\beta_2)}\n",
    "$$\n",
    "\n",
    "Возьмем производную от этой функции по Age (обозначим $x_s$), было на лекции:\n",
    "\n",
    "$$\n",
    "A = \\frac{\\partial \\Phi(x'\\beta_1,\\, x'\\beta_2,\\, \\rho)}{\\partial x_s} = \\phi(x'\\beta_1) \\cdot \\Phi\\left(\\frac{x'\\beta_2- \\rho x'\\beta_1}{\\sqrt{1-\\rho^2}}\\right) \\cdot (\\beta_{11} + 2\\beta_{12} x_s) + \n",
    "\\phi(x'\\beta_2) \\cdot \\Phi\\left(\\frac{x'\\beta_1 - \\rho x'\\beta_2}{\\sqrt{1-\\rho^2}}\\right) \\cdot \\beta_{21}\n",
    "$$\n",
    "\n",
    "\n",
    "Тогда\n",
    "\n",
    "$$\n",
    "\\frac{\\partial P(Sub=1 | TV=1)}{\\partial x_s} = \\frac{A \\cdot \\Phi(x'\\beta_2) - \\Phi(x'\\beta_1,\\, x'\\beta_2,\\, \\rho) \\cdot \\phi(x'\\beta_2)\\cdot\\beta_{21}}{\\left( \\Phi(x'\\beta_2)  \\right) ^2}\n",
    "$$"
   ]
  },
  {
   "cell_type": "code",
   "execution_count": 56,
   "id": "916158b4",
   "metadata": {},
   "outputs": [
    {
     "name": "stdout",
     "output_type": "stream",
     "text": [
      "  (Intercept)           age      I(age^2)          male        series \n",
      "-1.997997e+00  1.153580e-02 -7.832099e-05  1.458676e+00  9.493401e-02 \n",
      "  male:series \n",
      "-1.010082e-02 \n"
     ]
    }
   ],
   "source": [
    "%%R\n",
    "\n",
    "coefs_sub"
   ]
  },
  {
   "cell_type": "code",
   "execution_count": 57,
   "id": "21955afe",
   "metadata": {},
   "outputs": [
    {
     "name": "stdout",
     "output_type": "stream",
     "text": [
      "(Intercept)         age    marriage    internet \n",
      "-0.08442822  0.01531225  0.02782288 -1.05601820 \n"
     ]
    }
   ],
   "source": [
    "%%R\n",
    "\n",
    "coefs_tv"
   ]
  },
  {
   "cell_type": "code",
   "execution_count": 58,
   "id": "6dda491d",
   "metadata": {},
   "outputs": [
    {
     "data": {
      "text/plain": [
       "0.005089713573067831"
      ]
     },
     "execution_count": 58,
     "metadata": {},
     "output_type": "execute_result"
    }
   ],
   "source": [
    "beta1 = np.array([-1.997997e+00, 1.153580e-02, -7.832099e-05, 1.458676e+00, 9.493401e-02, -1.010082e-02])\n",
    "beta2 = np.array([-0.08442822, 0.01531225, 0.02782288, -1.05601820])\n",
    "\n",
    "x1 = np.array([1, 21, 441, 1, 4, 4]) \n",
    "x2 = np.array([1, 21, 0, 0.8]) \n",
    "\n",
    "li1 = x1 @ beta1\n",
    "li2 = x2 @ beta2\n",
    "\n",
    "rho = -0.5156147\n",
    "\n",
    "Phi_li2 = scipy.stats.norm.cdf(li2)\n",
    "phi_li1 = scipy.stats.norm.pdf(li1)\n",
    "phi_li2 = scipy.stats.norm.pdf(li2)\n",
    "Phi = scipy.stats.multivariate_normal.cdf([li1, li2], cov=np.array([[1, rho],\n",
    "                                                                    [rho, 1]]))\n",
    "Phi_diff21 = scipy.stats.norm.cdf((li2 - rho* li1)/np.sqrt(1-rho**2))\n",
    "Phi_diff12 = scipy.stats.norm.cdf((li1 - rho* li2)/np.sqrt(1-rho**2))\n",
    "\n",
    "A = phi_li1 * Phi_diff21 * (beta1[1] + 2 * beta1[2] * x1[1]) + phi_li2 * Phi_diff12 * beta2[1]\n",
    "\n",
    "answer = (A * Phi_li2 - Phi * phi_li2 * beta2[1]) / (Phi_li2 ** 2)\n",
    "answer"
   ]
  },
  {
   "cell_type": "markdown",
   "id": "793dd212",
   "metadata": {},
   "source": [
    "Предельный эффект по возрасту для условной вероятности для индивида с произвольными характеристиками получился равным 0.005"
   ]
  },
  {
   "cell_type": "markdown",
   "id": "38c2822d",
   "metadata": {},
   "source": [
    "## Часть 7. Сравнение моделей"
   ]
  },
  {
   "cell_type": "markdown",
   "id": "b0280985",
   "metadata": {},
   "source": [
    "$\\bf{7.1.}$ Определите, какая из оцененных вами моделей обладает наибольшей предсказательной силой."
   ]
  },
  {
   "cell_type": "markdown",
   "id": "7a27e20e",
   "metadata": {},
   "source": [
    "$\\bf{\\text{Мое решение:}}\n",
    "$"
   ]
  },
  {
   "cell_type": "markdown",
   "id": "63deb157",
   "metadata": {},
   "source": [
    "Посчитаем accuracy на тренировочной выборке для всех моделей при пороге 0.5:"
   ]
  },
  {
   "cell_type": "code",
   "execution_count": 59,
   "id": "6fdbfb44",
   "metadata": {},
   "outputs": [
    {
     "name": "stdout",
     "output_type": "stream",
     "text": [
      "        [,1]\n",
      "naive  63.92\n",
      "linear 74.34\n",
      "probit 74.38\n",
      "logit  74.52\n",
      "system 74.14\n"
     ]
    }
   ],
   "source": [
    "%%R\n",
    "\n",
    "threshold <- 0.5\n",
    "\n",
    "pred.linear <- as.numeric(predict(model.lm) >= threshold)\n",
    "pred.probit <- as.numeric(predict(model.probit, type='response') >= threshold)\n",
    "pred.logit <- as.numeric(predict(model.logit, type='response') >= threshold)\n",
    "pred.system <- as.numeric(predict(model_bp, eq=1, type='response') >= threshold)\n",
    "\n",
    "rbind(naive = max(mean(df_r$sub), 1-mean(df_r$sub)),\n",
    "      linear = mean(pred.linear == df_r$sub),\n",
    "      probit = mean(pred.probit == df_r$sub),                             \n",
    "      logit = mean(pred.logit == df_r$sub),                             \n",
    "      system = mean(pred.system == df_r$sub)) * 100  "
   ]
  },
  {
   "cell_type": "markdown",
   "id": "76a84754",
   "metadata": {},
   "source": [
    "Наибольшее качество у логистической модели (заметим, что accuracy совпадают с Питоновскими, что мы считали ранее)"
   ]
  },
  {
   "cell_type": "markdown",
   "id": "2dd2e330",
   "metadata": {},
   "source": [
    "$\\bf{7.2.}$ Выберите лучшую из оцененных вами моделей руководствуясь информационными критериями.\n"
   ]
  },
  {
   "cell_type": "markdown",
   "id": "5d1daa69",
   "metadata": {},
   "source": [
    "$\\bf{\\text{Мое решение:}}$ "
   ]
  },
  {
   "cell_type": "markdown",
   "id": "61ea9c2b",
   "metadata": {},
   "source": [
    "Так как в системе оценивается сразу два уравнения, а значит, функция правдоподобия совершенно отличается от тех, что при всех наших других моделях, то по критериям мы можем сравнивать лишь моедли с одним уравнением:"
   ]
  },
  {
   "cell_type": "markdown",
   "id": "64db3164",
   "metadata": {},
   "source": [
    "AIC:"
   ]
  },
  {
   "cell_type": "code",
   "execution_count": 60,
   "id": "3be1a38c",
   "metadata": {},
   "outputs": [
    {
     "name": "stdout",
     "output_type": "stream",
     "text": [
      "           [,1]\n",
      "linear 5398.464\n",
      "probit 5187.128\n",
      "logit  5186.292\n"
     ]
    }
   ],
   "source": [
    "%%R\n",
    "rbind(linear = AIC(model.lm),\n",
    "      probit = AIC(model.probit),\n",
    "      logit = AIC(model.logit))"
   ]
  },
  {
   "cell_type": "markdown",
   "id": "4701ac8e",
   "metadata": {},
   "source": [
    "BIC:"
   ]
  },
  {
   "cell_type": "code",
   "execution_count": 61,
   "id": "19f8ac85",
   "metadata": {},
   "outputs": [
    {
     "name": "stdout",
     "output_type": "stream",
     "text": [
      "           [,1]\n",
      "linear 5444.084\n",
      "probit 5226.231\n",
      "logit  5225.395\n"
     ]
    }
   ],
   "source": [
    "%%R\n",
    "rbind(linear = BIC(model.lm),\n",
    "      probit = BIC(model.probit),\n",
    "      logit = BIC(model.logit))"
   ]
  },
  {
   "cell_type": "markdown",
   "id": "91dafb32",
   "metadata": {},
   "source": [
    "По обоим информационным критериям (AIC и BIC) лучшей оказалась вновь модель логистической регрессии (они наименьшие при ней)."
   ]
  },
  {
   "cell_type": "markdown",
   "id": "31a2e1ee",
   "metadata": {},
   "source": [
    "Систему можно сравнить по критериям против двух независимых моделей (Богдан Станиславович одобрил):"
   ]
  },
  {
   "cell_type": "markdown",
   "id": "a996feff",
   "metadata": {},
   "source": [
    "AIC:"
   ]
  },
  {
   "cell_type": "code",
   "execution_count": 62,
   "id": "a561db6a",
   "metadata": {},
   "outputs": [
    {
     "name": "stdout",
     "output_type": "stream",
     "text": [
      "           [,1]\n",
      "linear 11637.09\n",
      "probit 11107.15\n",
      "logit  11109.94\n",
      "system 10748.04\n"
     ]
    }
   ],
   "source": [
    "%%R\n",
    "\n",
    "model.probit1 <- glm(formula = sub_formula,   \n",
    "                    data = df_r, family = binomial(link = \"probit\"))\n",
    "\n",
    "model.probit2 <- glm(formula = tv_formula,   \n",
    "                    data = df_r, family = binomial(link = \"probit\"))\n",
    "\n",
    "AIC_probit_probit <- AIC(model.probit1) + AIC(model.probit2)\n",
    "BIC_probit_probit <- BIC(model.probit1) + BIC(model.probit2)\n",
    "\n",
    "model.linear1 <- lm(formula = sub_formula,   \n",
    "                    data = df_r)\n",
    "\n",
    "model.linear2 <- lm(formula = tv_formula,   \n",
    "                    data = df_r)\n",
    "\n",
    "AIC_linear_linear <- AIC(model.linear1) + AIC(model.linear2)\n",
    "BIC_linear_linear <- BIC(model.linear1) + BIC(model.linear2)\n",
    "\n",
    "model.logit1 <- glm(formula = sub_formula,   \n",
    "                    data = df_r, family = binomial(link = \"logit\"))\n",
    "\n",
    "model.logit2 <- glm(formula = tv_formula,   \n",
    "                    data = df_r, family = binomial(link = \"logit\"))\n",
    "\n",
    "AIC_logit_logit <- AIC(model.logit1) + AIC(model.logit2)\n",
    "BIC_logit_logit <- BIC(model.logit1) + BIC(model.logit2)\n",
    "\n",
    "rbind(linear = AIC_linear_linear,\n",
    "      probit = AIC_probit_probit ,\n",
    "      logit = AIC_logit_logit, \n",
    "      system = AIC(model_bp))"
   ]
  },
  {
   "cell_type": "markdown",
   "id": "a1b564aa",
   "metadata": {},
   "source": [
    "BIC:"
   ]
  },
  {
   "cell_type": "code",
   "execution_count": 63,
   "id": "8dc09bf9",
   "metadata": {},
   "outputs": [
    {
     "name": "stdout",
     "output_type": "stream",
     "text": [
      "           [,1]\n",
      "linear 11715.29\n",
      "probit 11172.33\n",
      "logit  11175.11\n",
      "system 10819.73\n"
     ]
    }
   ],
   "source": [
    "%%R\n",
    "\n",
    "rbind(linear = BIC_linear_linear,\n",
    "      probit = BIC_probit_probit ,\n",
    "      logit = BIC_logit_logit, \n",
    "      system = BIC(model_bp))"
   ]
  },
  {
   "cell_type": "markdown",
   "id": "60b72600",
   "metadata": {},
   "source": [
    "Получилось, что если мы хотим оценивать два уравнения (с подпиской и ТВ), то с точки зрения обоих информационных критериев лучше использовать систему (бипробит)"
   ]
  },
  {
   "cell_type": "markdown",
   "id": "c6e1a8e3",
   "metadata": {},
   "source": [
    "$\\bf{7.3.^{**}}$ Руководствуясь информационным критерием Акаике и качеством вневыборочного прогноза (разделите выборку на тестовую и тренировочную части) определите оптимальные маржинальные распределения для случайных ошибок и копулу. Укажите, совпадают ли лучшие модели, выбранные по AIC и вневыборочному прогнозу. В данном задании рассмотрите по крайней мере 5 различных копул и две различные комбинации маржинальных распределений случайных ошибок. Результат представьте в форме таблицы."
   ]
  },
  {
   "cell_type": "markdown",
   "id": "b3a6dba5",
   "metadata": {},
   "source": [
    "$\\bf{\\text{Мое решение:}}$ \n",
    "\n",
    "Судя по условию, этот пункт относится только к модели системы.\n",
    "\n",
    "Возьмем следующие комбинации маржинальных распределений: (Пробит, Пробит), (Пробит, Логит).\n",
    "Также попробуем пять видов копул: Гауссову, Фрэнка, Гумбеля, Стьюдента и Фарли-Гумбеля-Моргенштерна.\n",
    "\n",
    "Возьмем отложенную выборку размера 1000, в тренировочной будет 4000 наблюдений."
   ]
  },
  {
   "cell_type": "code",
   "execution_count": 64,
   "id": "9fd6d0fb",
   "metadata": {},
   "outputs": [],
   "source": [
    "%%R\n",
    "\n",
    "set.seed(999)                                              # для воспроизводимости\n",
    "n <- nrow(df_r)                                               # число наблюдений\n",
    "n.train <- round(0.8 * n)                                  # число наблюдений в\n",
    "                                                           # тренировочной и\n",
    "n.test <- n - n.train                                      # тестовой выборках\n",
    "ind.train <- sample(1:n, n.train)                          # индексы наблюдений, попадающих\n",
    "                                                           # в тренировочную выборку\n",
    "h.train <- df_r[ind.train, ]                                  # тренировочная выборка\n",
    "h.test <- df_r[-ind.train, ]   "
   ]
  },
  {
   "cell_type": "code",
   "execution_count": 65,
   "id": "0de87e71",
   "metadata": {},
   "outputs": [],
   "source": [
    "%%R\n",
    "\n",
    "margins <- list(c(\"probit\", \"logit\"), c(\"probit\", \"probit\"))\n",
    "copulas <- list(\"N\", 'F', 'G0', 'T', 'FGM')\n",
    "\n",
    "AICs <- list()\n",
    "accuracy_list <- list()\n",
    "\n",
    "\n",
    "for(marg in margins)                       \n",
    "{ for(copula in copulas){\n",
    "\n",
    "    # модель для подсчета Аика\n",
    "    current_model_full <- gjrm(formula = list(sub_formula,        \n",
    "                                tv_formula),        \n",
    "                 data = df_r,\n",
    "                 Model = \"B\",                                                     \n",
    "                 margins = marg,                                      \n",
    "                 BivD = copula)  \n",
    "    \n",
    "    AICs <- append(AICs, AIC(current_model_full))\n",
    "    \n",
    "    val_model <- gjrm(formula = list(sub_formula,        \n",
    "                                tv_formula),        \n",
    "                 data = h.train,\n",
    "                 Model = \"B\",                                                             \n",
    "                 margins = marg,                                        \n",
    "                 BivD = copula)\n",
    "    \n",
    "    val_preds <- as.numeric(predict(val_model, new_data=h.test, type='response', eq=1) >= 0.5)\n",
    "    val_accuracy <- mean(val_preds == h.test$sub) * 100 \n",
    "    accuracy_list <- append(accuracy_list, val_accuracy)\n",
    "}}"
   ]
  },
  {
   "cell_type": "code",
   "execution_count": 66,
   "id": "6bfb4fe1",
   "metadata": {},
   "outputs": [
    {
     "name": "stdout",
     "output_type": "stream",
     "text": [
      "[[1]]\n",
      "[1] 10750.36\n",
      "\n",
      "[[2]]\n",
      "[1] 10756.3\n",
      "\n",
      "[[3]]\n",
      "[1] 11112.77\n",
      "\n",
      "[[4]]\n",
      "[1] 10750.23\n",
      "\n",
      "[[5]]\n",
      "[1] 10800.33\n",
      "\n",
      "[[6]]\n",
      "[1] 10748.04\n",
      "\n",
      "[[7]]\n",
      "[1] 10753.89\n",
      "\n",
      "[[8]]\n",
      "[1] 11109.15\n",
      "\n",
      "[[9]]\n",
      "[1] 10747.71\n",
      "\n",
      "[[10]]\n",
      "[1] 10797.64\n",
      "\n"
     ]
    }
   ],
   "source": [
    "%%R\n",
    "AICs"
   ]
  },
  {
   "cell_type": "code",
   "execution_count": 67,
   "id": "22fb711d",
   "metadata": {},
   "outputs": [
    {
     "name": "stdout",
     "output_type": "stream",
     "text": [
      "[[1]]\n",
      "[1] 53.35\n",
      "\n",
      "[[2]]\n",
      "[1] 53.4\n",
      "\n",
      "[[3]]\n",
      "[1] 51.25\n",
      "\n",
      "[[4]]\n",
      "[1] 53.2\n",
      "\n",
      "[[5]]\n",
      "[1] 52.65\n",
      "\n",
      "[[6]]\n",
      "[1] 53.3\n",
      "\n",
      "[[7]]\n",
      "[1] 53.4\n",
      "\n",
      "[[8]]\n",
      "[1] 51.25\n",
      "\n",
      "[[9]]\n",
      "[1] 53.2\n",
      "\n",
      "[[10]]\n",
      "[1] 52.75\n",
      "\n"
     ]
    }
   ],
   "source": [
    "%%R\n",
    "accuracy_list"
   ]
  },
  {
   "cell_type": "markdown",
   "id": "db46aec1",
   "metadata": {},
   "source": [
    "Так как тут очень плохо отображаются таблицы в R, перебьем данные в Питон:"
   ]
  },
  {
   "cell_type": "code",
   "execution_count": 68,
   "id": "f7ed4c23",
   "metadata": {},
   "outputs": [
    {
     "data": {
      "text/html": [
       "<div>\n",
       "<style scoped>\n",
       "    .dataframe tbody tr th:only-of-type {\n",
       "        vertical-align: middle;\n",
       "    }\n",
       "\n",
       "    .dataframe tbody tr th {\n",
       "        vertical-align: top;\n",
       "    }\n",
       "\n",
       "    .dataframe thead th {\n",
       "        text-align: right;\n",
       "    }\n",
       "</style>\n",
       "<table border=\"1\" class=\"dataframe\">\n",
       "  <thead>\n",
       "    <tr style=\"text-align: right;\">\n",
       "      <th></th>\n",
       "      <th>Margins combo</th>\n",
       "      <th>Copula</th>\n",
       "      <th>AIC</th>\n",
       "      <th>Validation Accuracy</th>\n",
       "    </tr>\n",
       "  </thead>\n",
       "  <tbody>\n",
       "    <tr>\n",
       "      <th>0</th>\n",
       "      <td>(probit, logit)</td>\n",
       "      <td>N</td>\n",
       "      <td>10750.36</td>\n",
       "      <td>53.35</td>\n",
       "    </tr>\n",
       "    <tr>\n",
       "      <th>1</th>\n",
       "      <td>(probit, logit)</td>\n",
       "      <td>F</td>\n",
       "      <td>10756.30</td>\n",
       "      <td>53.40</td>\n",
       "    </tr>\n",
       "    <tr>\n",
       "      <th>2</th>\n",
       "      <td>(probit, logit)</td>\n",
       "      <td>G0</td>\n",
       "      <td>11112.77</td>\n",
       "      <td>51.25</td>\n",
       "    </tr>\n",
       "    <tr>\n",
       "      <th>3</th>\n",
       "      <td>(probit, logit)</td>\n",
       "      <td>T</td>\n",
       "      <td>10750.23</td>\n",
       "      <td>53.20</td>\n",
       "    </tr>\n",
       "    <tr>\n",
       "      <th>4</th>\n",
       "      <td>(probit, logit)</td>\n",
       "      <td>FGM</td>\n",
       "      <td>10800.33</td>\n",
       "      <td>52.65</td>\n",
       "    </tr>\n",
       "    <tr>\n",
       "      <th>5</th>\n",
       "      <td>(probit, probit)</td>\n",
       "      <td>N</td>\n",
       "      <td>10748.04</td>\n",
       "      <td>53.30</td>\n",
       "    </tr>\n",
       "    <tr>\n",
       "      <th>6</th>\n",
       "      <td>(probit, probit)</td>\n",
       "      <td>F</td>\n",
       "      <td>10753.89</td>\n",
       "      <td>53.40</td>\n",
       "    </tr>\n",
       "    <tr>\n",
       "      <th>7</th>\n",
       "      <td>(probit, probit)</td>\n",
       "      <td>G0</td>\n",
       "      <td>11109.15</td>\n",
       "      <td>51.25</td>\n",
       "    </tr>\n",
       "    <tr>\n",
       "      <th>8</th>\n",
       "      <td>(probit, probit)</td>\n",
       "      <td>T</td>\n",
       "      <td>10747.71</td>\n",
       "      <td>53.20</td>\n",
       "    </tr>\n",
       "    <tr>\n",
       "      <th>9</th>\n",
       "      <td>(probit, probit)</td>\n",
       "      <td>FGM</td>\n",
       "      <td>10797.64</td>\n",
       "      <td>52.75</td>\n",
       "    </tr>\n",
       "  </tbody>\n",
       "</table>\n",
       "</div>"
      ],
      "text/plain": [
       "      Margins combo Copula       AIC  Validation Accuracy\n",
       "0   (probit, logit)      N  10750.36                53.35\n",
       "1   (probit, logit)      F  10756.30                53.40\n",
       "2   (probit, logit)     G0  11112.77                51.25\n",
       "3   (probit, logit)      T  10750.23                53.20\n",
       "4   (probit, logit)    FGM  10800.33                52.65\n",
       "5  (probit, probit)      N  10748.04                53.30\n",
       "6  (probit, probit)      F  10753.89                53.40\n",
       "7  (probit, probit)     G0  11109.15                51.25\n",
       "8  (probit, probit)      T  10747.71                53.20\n",
       "9  (probit, probit)    FGM  10797.64                52.75"
      ]
     },
     "execution_count": 68,
     "metadata": {},
     "output_type": "execute_result"
    }
   ],
   "source": [
    "copulas = [\"N\", 'F', 'G0', 'T', 'FGM']\n",
    "margins = [(\"probit\", \"logit\"), (\"probit\", \"probit\")]\n",
    "\n",
    "margins_list = []\n",
    "copulas_list = []\n",
    "\n",
    "for i in margins:\n",
    "    for j in copulas:\n",
    "        margins_list.append(i)\n",
    "        copulas_list.append(j)\n",
    "        \n",
    "AICs = [ 10750.36, 10756.3, 11112.77, 10750.23, 10800.33,\n",
    " 10748.04, 10753.89, 11109.15, 10747.71, 10797.64]\n",
    "\n",
    "val_accs = [53.35, 53.4, 51.25, 53.2,\n",
    " 52.65, 53.3, 53.4, 51.25, 53.2, 52.75]\n",
    "\n",
    "pd.DataFrame(zip(margins_list, copulas_list, AICs, val_accs), columns=['Margins combo', 'Copula', \n",
    "                                                                       'AIC', 'Validation Accuracy'])"
   ]
  },
  {
   "cell_type": "markdown",
   "id": "aa706891",
   "metadata": {},
   "source": [
    "Лучшими с точки зрения прогностической силы на валидации (отложенной выборке) оказались модели c копулой Фрэнка. Обе комбинации маржинальных распределений с этой копулой показали лучшее качество в 53,4%.\n",
    "\n",
    "Лучшей с точки зрения критерия Акаике оказалась модель с копулой Стьюдента и комбинацией маржинальных (Пробит, Пробит). Значение информационного критерия при этой модели было наименьшим и равнялось 10747.71.\n",
    "\n",
    "Таким образом, лучшие по Акаике и вневыборочному прогнозу модели не совпадают.\n",
    "\n",
    "Заметим, что доля верных прогнозов на валидации значительно меньше той, что была, когда мы обучали модель на всей выборке и на ней же измеряли качество. На это есть несколько причин: 1) несбалансированность классов в трейне и тесте (в исходной выборке около 35% единиц), возможно, стоило подобрать оптимальный порог, 2) переобучение и качество в 53% является более показательным."
   ]
  },
  {
   "cell_type": "markdown",
   "id": "f3bc649d",
   "metadata": {},
   "source": [
    "## Часть 8. Модель бинарного выбора со случайными ошибками, имеющими распределение Стьюдента"
   ]
  },
  {
   "cell_type": "markdown",
   "id": "b7787584",
   "metadata": {},
   "source": [
    "Рассмотрим распределение Стьюдента с df степенями свободы, где df равняется сумме букв в ваших имени и фамилии.\n",
    "\n",
    "$\\bf{8.1.^{***}}$ Используя воображение придумайте и кратко опишите экономическую задачу, для решения которой необходимо применить модель бинарного выбора. Например, можно рассмотреть влияние различных факторов на вероятность дефолта банка. Укажите\n",
    "зависимую переменную и по крайней мере три независимых, а также кратко опишите предполагаемый механизм влияния независимых переменных на зависимую.\n"
   ]
  },
  {
   "cell_type": "markdown",
   "id": "26839783",
   "metadata": {},
   "source": [
    "$\\bf{\\text{Мое решение:}}$ "
   ]
  },
  {
   "cell_type": "markdown",
   "id": "2de36a9b",
   "metadata": {},
   "source": [
    "Определить для человека вероятность быть принятым на работу в компанию N (может быть полезно для желающих найти работу). Бинарная переменная $-$ принят или нет кандидат на работу. Объясняющие переменные: стаж (непрерывная, чем больше стаж, тем выше вероятность быть принятым на работу (работодатель воспринимает это как сигнал)), пол (бинарная, 1 $-$ мужчина, вообще должна быть незначима, но предположим, что компания N немного дискриминирует, поэтому у мужчин при прочих равных вероятность найти работу немного выше), iQ (непрерывная, чем выше iQ, тем выше вероятность быть принятым: пройти собеседование, работодатель хочет нанимать самых сообразительных)"
   ]
  },
  {
   "cell_type": "markdown",
   "id": "f7dc7ade",
   "metadata": {},
   "source": [
    "$\\bf{8.2.^{***}}$ Симулируйте процесс генерации данных, соответствующий вашей задаче в логике бинарной модели со случайными ошибками, имеющими распределение Стьюдента (по аналогии с тем, как это делалось для обычной пробит модели для дефолта на семинаре). В тексте работы этот пункт отражать не нужно, достаточно реализовать его в коде. Все дальнейшие пункты выполняются на симулированных данных из выборки объемом 5000 наблюдений. Перед началом симуляций необходимо указать set.seed(123)."
   ]
  },
  {
   "cell_type": "markdown",
   "id": "292511b3",
   "metadata": {},
   "source": [
    "$\\bf{\\text{Мое решение:}}$ "
   ]
  },
  {
   "cell_type": "code",
   "execution_count": 69,
   "id": "150e4cf8",
   "metadata": {},
   "outputs": [
    {
     "data": {
      "text/plain": [
       "0.507"
      ]
     },
     "execution_count": 69,
     "metadata": {},
     "output_type": "execute_result"
    }
   ],
   "source": [
    "np.random.seed(123)\n",
    "\n",
    "n = 5000\n",
    "degrees = len('МаркСтоляров')\n",
    "\n",
    "exper = np.random.poisson(lam=10, size=n)\n",
    "sex = np.random.choice([0, 1], size=n, p=[0.49, 0.51])\n",
    "iq = np.round(np.random.normal(loc=100, scale=10, size=n))\n",
    "\n",
    "X = np.vstack([np.ones(n), exper, sex, iq]).T\n",
    "\n",
    "eps = np.random.standard_t(degrees, size=n)\n",
    "betas = [-320, 2, 1, 3]\n",
    "\n",
    "y = (X @ betas + eps > 0) * 1\n",
    "\n",
    "y.mean()"
   ]
  },
  {
   "cell_type": "markdown",
   "id": "5502d733",
   "metadata": {},
   "source": [
    "$\\bf{8.3.^{***}}$ Оцените параметры вашей модели с использованием бинарной модели со случайными ошибками, имеющими распределение Стьюдента с df степенями свободы. Результат представьте в форме таблицы, содержащей оценки коэффициентов и p-value тестов на значимость."
   ]
  },
  {
   "cell_type": "markdown",
   "id": "74423ed9",
   "metadata": {},
   "source": [
    "$\\bf{\\text{Мое решение:}}$ "
   ]
  },
  {
   "cell_type": "markdown",
   "id": "a15f04ab",
   "metadata": {},
   "source": [
    "Как всегда в таких ситуациях будем использовать бутстрап\n",
    "\n",
    "Бутстрапом у нас не получится рассчитать p-value, однако получится рассчитать оценки, стандартные отклонения, и доверительные интервалы:"
   ]
  },
  {
   "cell_type": "code",
   "execution_count": 70,
   "id": "5b5d9bd8",
   "metadata": {},
   "outputs": [
    {
     "data": {
      "text/plain": [
       "150.02693554648573"
      ]
     },
     "execution_count": 70,
     "metadata": {},
     "output_type": "execute_result"
    }
   ],
   "source": [
    "def negloglikelihood(beta, X=X, y=y, degrees=degrees):\n",
    "    '''\n",
    "    Функция отрицательного правдоподобия\n",
    "    '''\n",
    "    probs = np.zeros(len(y))\n",
    "    probs[y == 1] = scipy.stats.t.cdf(X @ beta, df=degrees)[y == 1] \n",
    "    probs[y == 0] = (1 - scipy.stats.t.cdf(X @ beta, df=degrees))[y == 0] \n",
    "    return -np.sum(np.log(probs))\n",
    "\n",
    "negloglikelihood(betas, X=X, y=y)"
   ]
  },
  {
   "cell_type": "code",
   "execution_count": 71,
   "id": "8272b897",
   "metadata": {
    "scrolled": true
   },
   "outputs": [
    {
     "data": {
      "application/vnd.jupyter.widget-view+json": {
       "model_id": "ccedc9b1fe164e5ab53f316991876e04",
       "version_major": 2,
       "version_minor": 0
      },
      "text/plain": [
       "  0%|          | 0/200 [00:00<?, ?it/s]"
      ]
     },
     "metadata": {},
     "output_type": "display_data"
    },
    {
     "data": {
      "text/plain": [
       "array([-313.93618218,    1.89957931,    0.83364622,    2.95089485])"
      ]
     },
     "execution_count": 71,
     "metadata": {},
     "output_type": "execute_result"
    }
   ],
   "source": [
    "np.random.seed(999)\n",
    "\n",
    "# будем считать ошибки бутстрапом\n",
    "all_estimates = []\n",
    "\n",
    "for i in tqdm(range(200)):\n",
    "    sub_idx = np.random.choice(n, size=n, replace=True)\n",
    "    X_sub, y_sub = X[sub_idx], y[sub_idx]\n",
    "    coefs = scipy.optimize.minimize(negloglikelihood, [0, 0, 0, 0], args=(X_sub, y_sub),\n",
    "                                    method='Nelder-Mead').x\n",
    "    all_estimates.append(coefs)\n",
    "\n",
    "np.mean(all_estimates, axis=0)"
   ]
  },
  {
   "cell_type": "markdown",
   "id": "034e2d71",
   "metadata": {},
   "source": [
    "Оценки нашей модели получились довольно близкими, что подтверждает, что мы сделали все правильно.\n",
    "Будем использовать 5% доверительный интервал:"
   ]
  },
  {
   "cell_type": "code",
   "execution_count": 72,
   "id": "2da7b486",
   "metadata": {},
   "outputs": [
    {
     "name": "stdout",
     "output_type": "stream",
     "text": [
      "beta0\n",
      "10% CI: [-353.30467311173555, -276.6287135088204]\n",
      "5% CI: [-360.4916111970442, -273.86600644399175]\n",
      "1% CI: [-385.40646467895806, -265.5436465922739]\n",
      "\n",
      "beta1\n",
      "10% CI: [1.6709081646077557, 2.1478410895351367]\n",
      "5% CI: [1.6361613317252404, 2.1916971704881982]\n",
      "1% CI: [1.6128359066129734, 2.334012109509959]\n",
      "\n",
      "beta2\n",
      "10% CI: [0.4815024467760688, 1.200524900196057]\n",
      "5% CI: [0.39839085628961857, 1.234912619969615]\n",
      "1% CI: [0.2852780901090071, 1.282610735909954]\n",
      "\n",
      "beta3\n",
      "10% CI: [2.6022757440953233, 3.3236127692136757]\n",
      "5% CI: [2.579088180904616, 3.3962045766129836]\n",
      "1% CI: [2.4920048000069315, 3.6271684495094467]\n"
     ]
    }
   ],
   "source": [
    "print('beta0')\n",
    "get_bootstrap_ci(np.array(all_estimates)[:, 0])\n",
    "print('')\n",
    "print('beta1')\n",
    "get_bootstrap_ci(np.array(all_estimates)[:, 1])\n",
    "print('')\n",
    "print('beta2')\n",
    "get_bootstrap_ci(np.array(all_estimates)[:, 2])\n",
    "print('')\n",
    "print('beta3')\n",
    "get_bootstrap_ci(np.array(all_estimates)[:, 3])"
   ]
  },
  {
   "cell_type": "markdown",
   "id": "8899102e",
   "metadata": {},
   "source": [
    "Заметим, что на всех уровнях значимости, гипотезы о равенстве коэффициентов нулю отвергается"
   ]
  },
  {
   "cell_type": "code",
   "execution_count": 73,
   "id": "a64b8f23",
   "metadata": {},
   "outputs": [
    {
     "data": {
      "text/html": [
       "<div>\n",
       "<style scoped>\n",
       "    .dataframe tbody tr th:only-of-type {\n",
       "        vertical-align: middle;\n",
       "    }\n",
       "\n",
       "    .dataframe tbody tr th {\n",
       "        vertical-align: top;\n",
       "    }\n",
       "\n",
       "    .dataframe thead th {\n",
       "        text-align: right;\n",
       "    }\n",
       "</style>\n",
       "<table border=\"1\" class=\"dataframe\">\n",
       "  <thead>\n",
       "    <tr style=\"text-align: right;\">\n",
       "      <th></th>\n",
       "      <th>real</th>\n",
       "      <th>coef</th>\n",
       "      <th>std</th>\n",
       "      <th>5% CI</th>\n",
       "    </tr>\n",
       "  </thead>\n",
       "  <tbody>\n",
       "    <tr>\n",
       "      <th>intercept</th>\n",
       "      <td>-320</td>\n",
       "      <td>-313.936182</td>\n",
       "      <td>24.696981</td>\n",
       "      <td>[-360.492, -273.866]</td>\n",
       "    </tr>\n",
       "    <tr>\n",
       "      <th>experience</th>\n",
       "      <td>2</td>\n",
       "      <td>1.899579</td>\n",
       "      <td>0.152040</td>\n",
       "      <td>[1.636, 2.192]</td>\n",
       "    </tr>\n",
       "    <tr>\n",
       "      <th>sex</th>\n",
       "      <td>1</td>\n",
       "      <td>0.833646</td>\n",
       "      <td>0.225625</td>\n",
       "      <td>[0.398, 1.235]</td>\n",
       "    </tr>\n",
       "    <tr>\n",
       "      <th>IQ</th>\n",
       "      <td>3</td>\n",
       "      <td>2.950895</td>\n",
       "      <td>0.232137</td>\n",
       "      <td>[2.579, 3.396]</td>\n",
       "    </tr>\n",
       "  </tbody>\n",
       "</table>\n",
       "</div>"
      ],
      "text/plain": [
       "            real        coef        std                 5% CI\n",
       "intercept   -320 -313.936182  24.696981  [-360.492, -273.866]\n",
       "experience     2    1.899579   0.152040        [1.636, 2.192]\n",
       "sex            1    0.833646   0.225625        [0.398, 1.235]\n",
       "IQ             3    2.950895   0.232137        [2.579, 3.396]"
      ]
     },
     "execution_count": 73,
     "metadata": {},
     "output_type": "execute_result"
    }
   ],
   "source": [
    "cis5percent = np.round([[-360.4916111970442, -273.86600644399175], [1.6361613317252404, 2.1916971704881982], \n",
    "               [0.39839085628961857, 1.234912619969615], [2.579088180904616, 3.3962045766129836]], 3)\n",
    "\n",
    "all_estimates = np.array(all_estimates)\n",
    "\n",
    "variables = ['intercept', 'experience', 'sex', 'IQ']\n",
    "ests = np.mean(all_estimates, axis=0)\n",
    "stds = np.sqrt(np.var(all_estimates * 200 / 199, axis=0))\n",
    "\n",
    "results = pd.DataFrame(zip(betas, ests, stds, cis5percent), \n",
    "                       columns=['real', 'coef', 'std', '5% CI'], index=variables)\n",
    "results"
   ]
  },
  {
   "cell_type": "markdown",
   "id": "0b4614ea",
   "metadata": {},
   "source": [
    "Также можно сделать очень грубое предположение, что оценки в нашей бутстрапированной выборке являются слабо независимыми одинаково распределенными случайными величинами и тогда (по ЦПТ) среднее от выборки будет распределено нормально и мы сможем найти нужное p-value"
   ]
  },
  {
   "cell_type": "code",
   "execution_count": 74,
   "id": "724a8d95",
   "metadata": {},
   "outputs": [
    {
     "data": {
      "text/html": [
       "<div>\n",
       "<style scoped>\n",
       "    .dataframe tbody tr th:only-of-type {\n",
       "        vertical-align: middle;\n",
       "    }\n",
       "\n",
       "    .dataframe tbody tr th {\n",
       "        vertical-align: top;\n",
       "    }\n",
       "\n",
       "    .dataframe thead th {\n",
       "        text-align: right;\n",
       "    }\n",
       "</style>\n",
       "<table border=\"1\" class=\"dataframe\">\n",
       "  <thead>\n",
       "    <tr style=\"text-align: right;\">\n",
       "      <th></th>\n",
       "      <th>real</th>\n",
       "      <th>coef</th>\n",
       "      <th>std</th>\n",
       "      <th>p-value</th>\n",
       "    </tr>\n",
       "  </thead>\n",
       "  <tbody>\n",
       "    <tr>\n",
       "      <th>intercept</th>\n",
       "      <td>-320</td>\n",
       "      <td>-313.936182</td>\n",
       "      <td>24.696981</td>\n",
       "      <td>0.00000</td>\n",
       "    </tr>\n",
       "    <tr>\n",
       "      <th>experience</th>\n",
       "      <td>2</td>\n",
       "      <td>1.899579</td>\n",
       "      <td>0.152040</td>\n",
       "      <td>0.00000</td>\n",
       "    </tr>\n",
       "    <tr>\n",
       "      <th>sex</th>\n",
       "      <td>1</td>\n",
       "      <td>0.833646</td>\n",
       "      <td>0.225625</td>\n",
       "      <td>0.00022</td>\n",
       "    </tr>\n",
       "    <tr>\n",
       "      <th>IQ</th>\n",
       "      <td>3</td>\n",
       "      <td>2.950895</td>\n",
       "      <td>0.232137</td>\n",
       "      <td>0.00000</td>\n",
       "    </tr>\n",
       "  </tbody>\n",
       "</table>\n",
       "</div>"
      ],
      "text/plain": [
       "            real        coef        std  p-value\n",
       "intercept   -320 -313.936182  24.696981  0.00000\n",
       "experience     2    1.899579   0.152040  0.00000\n",
       "sex            1    0.833646   0.225625  0.00022\n",
       "IQ             3    2.950895   0.232137  0.00000"
      ]
     },
     "execution_count": 74,
     "metadata": {},
     "output_type": "execute_result"
    }
   ],
   "source": [
    "zs = ests / stds\n",
    "pvalues = 2 * (1 - scipy.stats.norm.cdf(np.abs(zs)))\n",
    "\n",
    "results = pd.DataFrame(zip(betas, ests, stds, pvalues), columns=['real', 'coef', 'std', 'p-value'], index=variables)\n",
    "results"
   ]
  },
  {
   "cell_type": "markdown",
   "id": "87fe1fcf",
   "metadata": {},
   "source": [
    "Все коэффициенты оказались сильно значимыми как по бутстрапированным доверительным интервалам, так и по рассчитанным нами \"p-value\""
   ]
  },
  {
   "cell_type": "markdown",
   "id": "b488ff46",
   "metadata": {},
   "source": [
    "$\\bf{8.4.^{***}}$ Напишите функцию, позволяющую рассчитывать предельный эффект на вероятность по произвольной непрерывной переменной в отношении индивида с произвольными характеристиками: для простоты переменными, входящими нелинейно, можно пренебречь. При помощи данной функции оцените предельный эффект произвольной непрерывной переменной на вероятность успеха для индивида с произвольными характеристиками."
   ]
  },
  {
   "cell_type": "markdown",
   "id": "5b29f514",
   "metadata": {},
   "source": [
    "$\\bf{\\text{Мое решение:}}$ "
   ]
  },
  {
   "cell_type": "markdown",
   "id": "a776e208",
   "metadata": {},
   "source": [
    "Посчитаем предельный эффект с помощью численных методов для индивида со стажем в 15 лет, мужского пола , имеющим IQ 90:"
   ]
  },
  {
   "cell_type": "code",
   "execution_count": 75,
   "id": "c4fd0457",
   "metadata": {},
   "outputs": [
    {
     "data": {
      "text/plain": [
       "2.2504091787904257e-10"
      ]
     },
     "execution_count": 75,
     "metadata": {},
     "output_type": "execute_result"
    }
   ],
   "source": [
    "def calculate_ME(num_variable, x):\n",
    "    '''\n",
    "    Функция считает предельный эффект по num_variable-ой переменной для индивда с характеристиками x.\n",
    "    1 - experience, 3 - IQ (переменная должна быть непрерывной)\n",
    "    '''\n",
    "    delta = 1e-6\n",
    "    \n",
    "    add_to_x = np.zeros(len(x))\n",
    "    add_to_x[num_variable] += delta\n",
    "    \n",
    "    y_latent0 = ests.T @ x\n",
    "    proba0 = scipy.stats.t.cdf(y_latent0, df=degrees)\n",
    "\n",
    "    y_latent1 = ests.T @ (x + add_to_x)\n",
    "    proba1 = scipy.stats.t.cdf(y_latent1, df=degrees)\n",
    "    \n",
    "    return (proba1 - proba0) / delta \n",
    "\n",
    "calculate_ME(3, [1, 15, 1, 90]) # предельный эффект по IQ"
   ]
  },
  {
   "cell_type": "markdown",
   "id": "813e0cd6",
   "metadata": {},
   "source": [
    "Предельный эффект для произвольного индивида по IQ равен 2.25e-10"
   ]
  },
  {
   "cell_type": "markdown",
   "id": "b3d78888",
   "metadata": {},
   "source": [
    "8.5***. Симулируйте процесс генерации данных таким образом, чтобы дисперсия случайной ошибки зависела по крайней мере от двух независимых переменных, одна из которых не входит в основное уравнение. Выполните одно задание на выбор:\n",
    "* Напишите функцию, осуществляющую LM тест на гомоскедастичность случайных ошибок в рамках вашей модели. Воспользуйтесь вашей функцией и опишите полученный результат.\n",
    "\n",
    "* Напишите функцию, при помощи которой можно оценить параметры модели бинарного выбора с гетероскедастичной случайной ошибкой, имеющей распределение Стьюдента с df степенями свободы. При помощи вашей функции и LR теста проверьте гипотезу о гомоскедастичности случайных ошибок."
   ]
  },
  {
   "cell_type": "markdown",
   "id": "c314b0d8",
   "metadata": {},
   "source": [
    "$\\bf{\\text{Мое решение:}}$ \n",
    "\n",
    "Выберем второй пункт, далее напишем функцию, считающую правдоподобие полной модели.\n",
    "\n",
    "Переделаем процесс генерации данных таким образом, чтобы ошибка $e$ зависела от стажа и фактора счастья работодателя следующим образом:\n",
    "\n",
    "$$\n",
    "e_i = \\frac{\\varepsilon_i}{(-0.01  Exp_i + 0.01  Happiness_i + 1) ^ 2 }, \n",
    "$$\n",
    "\n",
    "где $\\varepsilon_i \\sim t(df)$. В библиотеке scipy.stats это легко воспроизвести, используя параметр scale. Таким образом, будет гетероскедастичность. Будем оценивать полную модель, в которой вид гетероскедастичности полностью угадывается, кроме коэффициентов при переменных. В ограниченной модели будет предположение, что оба коэффициента в уравнении дисперсии равны нулю (то есть, дисперсия постоянна для любой ошибки, scale=1). Это и будет проверяемой нулевой гипотезой. Есть два ограничения, поэтому тестовая статистика имеет распределение $\\chi^2(2)$."
   ]
  },
  {
   "cell_type": "markdown",
   "id": "bddaf561",
   "metadata": {},
   "source": [
    "Генерируем данные:"
   ]
  },
  {
   "cell_type": "code",
   "execution_count": 76,
   "id": "de2c5dd7",
   "metadata": {},
   "outputs": [
    {
     "data": {
      "text/plain": [
       "0.5346"
      ]
     },
     "execution_count": 76,
     "metadata": {},
     "output_type": "execute_result"
    }
   ],
   "source": [
    "np.random.seed(123)\n",
    "\n",
    "n = 50000 # возьмем 50000 наблюдений\n",
    "degrees = len('МаркСтоляров')\n",
    "\n",
    "exper = np.random.poisson(lam=10, size=n)\n",
    "sex = np.random.choice([0, 1], size=n, p=[0.49, 0.51])\n",
    "iq = np.round(np.random.normal(loc=100, scale=10, size=n))\n",
    "happiness = np.round(np.random.normal(loc=20, scale=1, size=n))\n",
    "\n",
    "X = np.vstack([np.ones(n), exper, sex, iq]).T\n",
    "\n",
    "scales = (-0.01 * exper + 0.01 * happiness + 1) ** 2 \n",
    "\n",
    "eps = scipy.stats.t.rvs(df=degrees, scale=scales, size=n) # генерируем ошибки с разной дисперсией\n",
    "betas = [-3, 0.01, 1, 0.025]\n",
    "\n",
    "y = (X @ betas + eps > 0) * 1\n",
    "\n",
    "y.mean()"
   ]
  },
  {
   "cell_type": "markdown",
   "id": "b85eb326",
   "metadata": {},
   "source": [
    "Наша полная модель $-$ та, в которой scale зависит от параметров стажа и счастья работодателя. Ограниченная, соответственно, та, в которой предполагается гомоскедастичность. Функция правдоподобия полной модели:"
   ]
  },
  {
   "cell_type": "code",
   "execution_count": 77,
   "id": "bdc61918",
   "metadata": {},
   "outputs": [],
   "source": [
    "def negloglikelihood_hetero(coefs, X=X, happiness=happiness, y=y, degrees=degrees):\n",
    "    x_happy = happiness\n",
    "    x_exper = X[:, 1]\n",
    "    taus = coefs[:2]\n",
    "    \n",
    "    scale_pred = (taus[0] * x_exper + taus[1] * x_happy + 1) ** 2\n",
    "    beta = coefs[2:]\n",
    "    probs = np.zeros(len(y))\n",
    "    probs[y == 1] = scipy.stats.t.cdf(X @ beta, scale=scale_pred, df=degrees)[y == 1] \n",
    "\n",
    "    probs[y == 0] = (1 - scipy.stats.t.cdf(X @ beta, scale=scale_pred, df=degrees))[y == 0] \n",
    "    return -np.sum(np.log(probs))\n"
   ]
  },
  {
   "cell_type": "markdown",
   "id": "b1c6a6e0",
   "metadata": {},
   "source": [
    "Найдем оценки полной и ограниченной (используемой раньше) модели и проведем тест:"
   ]
  },
  {
   "cell_type": "code",
   "execution_count": 78,
   "id": "6a041250",
   "metadata": {},
   "outputs": [
    {
     "data": {
      "text/plain": [
       "1.3967140975235104e-05"
      ]
     },
     "execution_count": 78,
     "metadata": {},
     "output_type": "execute_result"
    }
   ],
   "source": [
    "coefs_r = scipy.optimize.minimize(negloglikelihood, [0, 0, 0, 0], args=(X, y, degrees),\n",
    "                                    method='Nelder-Mead').x\n",
    "\n",
    "coefs_ur = scipy.optimize.minimize(negloglikelihood_hetero, [2, 2, 1, 1, 1, 1], \n",
    "                                   args=(X, happiness, y, degrees),\n",
    "                                   method='BFGS').x\n",
    "\n",
    "l_R = -negloglikelihood_hetero(np.array([0, 0] + list(coefs_r)))\n",
    "l_UR = -negloglikelihood_hetero(coefs_ur)\n",
    "\n",
    "lr = 2 * (l_UR - l_R)\n",
    "\n",
    "1 - scipy.stats.chi2.cdf(lr, df=2)"
   ]
  },
  {
   "cell_type": "markdown",
   "id": "3a36971f",
   "metadata": {},
   "source": [
    "Так как p-value близко к нулю, то нулевая гипотеза о гомоскедастичности в моделе отвергается на всех принятых уровнях значимости (что логично, ведь именно так мы и симулировали данные). Значения логарифмов функций правдоподобия действительно отличаются:"
   ]
  },
  {
   "cell_type": "code",
   "execution_count": 79,
   "id": "4ac054de",
   "metadata": {},
   "outputs": [
    {
     "data": {
      "text/plain": [
       "(-31661.421460588204, -31672.600263648448)"
      ]
     },
     "execution_count": 79,
     "metadata": {},
     "output_type": "execute_result"
    }
   ],
   "source": [
    "l_UR, l_R"
   ]
  },
  {
   "cell_type": "markdown",
   "id": "d1f8dea7",
   "metadata": {},
   "source": [
    "Посмотрим на соотношения оценок:"
   ]
  },
  {
   "cell_type": "code",
   "execution_count": 80,
   "id": "7f6bac9a",
   "metadata": {},
   "outputs": [
    {
     "data": {
      "text/html": [
       "<div>\n",
       "<style scoped>\n",
       "    .dataframe tbody tr th:only-of-type {\n",
       "        vertical-align: middle;\n",
       "    }\n",
       "\n",
       "    .dataframe tbody tr th {\n",
       "        vertical-align: top;\n",
       "    }\n",
       "\n",
       "    .dataframe thead th {\n",
       "        text-align: right;\n",
       "    }\n",
       "</style>\n",
       "<table border=\"1\" class=\"dataframe\">\n",
       "  <thead>\n",
       "    <tr style=\"text-align: right;\">\n",
       "      <th></th>\n",
       "      <th>Coef</th>\n",
       "      <th>True</th>\n",
       "      <th>Restr</th>\n",
       "      <th>Unrestr</th>\n",
       "    </tr>\n",
       "  </thead>\n",
       "  <tbody>\n",
       "    <tr>\n",
       "      <th>0</th>\n",
       "      <td>tau_exper</td>\n",
       "      <td>-0.01</td>\n",
       "      <td>0.0000</td>\n",
       "      <td>-0.0110</td>\n",
       "    </tr>\n",
       "    <tr>\n",
       "      <th>1</th>\n",
       "      <td>tau_happiness</td>\n",
       "      <td>0.01</td>\n",
       "      <td>0.0000</td>\n",
       "      <td>0.0141</td>\n",
       "    </tr>\n",
       "    <tr>\n",
       "      <th>2</th>\n",
       "      <td>Const</td>\n",
       "      <td>-3.00</td>\n",
       "      <td>-2.4534</td>\n",
       "      <td>-3.3403</td>\n",
       "    </tr>\n",
       "    <tr>\n",
       "      <th>3</th>\n",
       "      <td>Exper</td>\n",
       "      <td>0.01</td>\n",
       "      <td>0.0067</td>\n",
       "      <td>0.0070</td>\n",
       "    </tr>\n",
       "    <tr>\n",
       "      <th>4</th>\n",
       "      <td>IQ</td>\n",
       "      <td>1.00</td>\n",
       "      <td>0.8085</td>\n",
       "      <td>1.1085</td>\n",
       "    </tr>\n",
       "  </tbody>\n",
       "</table>\n",
       "</div>"
      ],
      "text/plain": [
       "            Coef  True   Restr  Unrestr\n",
       "0      tau_exper -0.01  0.0000  -0.0110\n",
       "1  tau_happiness  0.01  0.0000   0.0141\n",
       "2          Const -3.00 -2.4534  -3.3403\n",
       "3          Exper  0.01  0.0067   0.0070\n",
       "4             IQ  1.00  0.8085   1.1085"
      ]
     },
     "execution_count": 80,
     "metadata": {},
     "output_type": "execute_result"
    }
   ],
   "source": [
    "pd.DataFrame(zip(['tau_exper', 'tau_happiness', 'Const', 'Exper', 'IQ'], [-0.01, 0.01, -3, 0.01, 1, 0.025],\n",
    "                np.round([0, 0] + list(coefs_r), 4), np.round(coefs_ur, 4)), \n",
    "             columns=['Coef', 'True', 'Restr', 'Unrestr'])"
   ]
  },
  {
   "cell_type": "markdown",
   "id": "c930fbee",
   "metadata": {},
   "source": [
    "Видно, что оценки полной модели ближе к истинным, что подтверждает, что нельзя оценивать модель в предположении гомоскедастичности"
   ]
  }
 ],
 "metadata": {
  "kernelspec": {
   "display_name": "Python 3 (ipykernel)",
   "language": "python",
   "name": "python3"
  },
  "language_info": {
   "codemirror_mode": {
    "name": "ipython",
    "version": 3
   },
   "file_extension": ".py",
   "mimetype": "text/x-python",
   "name": "python",
   "nbconvert_exporter": "python",
   "pygments_lexer": "ipython3",
   "version": "3.9.12"
  }
 },
 "nbformat": 4,
 "nbformat_minor": 5
}
